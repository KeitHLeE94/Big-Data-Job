{
 "cells": [
  {
   "cell_type": "markdown",
   "metadata": {},
   "source": [
    "전공자반 이재현"
   ]
  },
  {
   "cell_type": "markdown",
   "metadata": {},
   "source": [
    "Exercise 61: Average"
   ]
  },
  {
   "cell_type": "markdown",
   "metadata": {},
   "source": [
    "In this exercise you will create a program that computes the average of a collection of values entered by the user. The user will enter 0 as a sentinel value to indicate that no further values will be provided. Your program should display an appropriate\n",
    "error message if the first value entered by the user is 0.\n",
    "\n",
    "\n",
    "Hint: Because the 0 marks the end of the input it should not be included in the average."
   ]
  },
  {
   "cell_type": "code",
   "execution_count": 3,
   "metadata": {
    "scrolled": true
   },
   "outputs": [
    {
     "name": "stdout",
     "output_type": "stream",
     "text": [
      "8\n",
      "7\n",
      "6\n",
      "0\n",
      "[8, 7, 6]\n",
      "7.0\n"
     ]
    }
   ],
   "source": [
    "num_list = list()\n",
    "while 1:\n",
    "    try:\n",
    "        first = int(input())\n",
    "    except:\n",
    "        print('Error: Input Must be Integer')\n",
    "        continue\n",
    "        \n",
    "    if first == 0:\n",
    "        print('Error: First input should not be 0')\n",
    "        continue\n",
    "    else:\n",
    "        num_list.append(first)\n",
    "        break\n",
    "while 1:\n",
    "    try:\n",
    "        num = int(input())\n",
    "    except:\n",
    "        print('Error: Input Must be Integer')\n",
    "        continue\n",
    "    else:\n",
    "        if num == 0:\n",
    "            break\n",
    "        else:\n",
    "            num_list.append(num)\n",
    "        \n",
    "print(num_list)\n",
    "avg = sum(num_list) / len(num_list)\n",
    "print(avg)"
   ]
  },
  {
   "cell_type": "markdown",
   "metadata": {},
   "source": [
    "Exercise 63: Temperature Conversion Table"
   ]
  },
  {
   "cell_type": "markdown",
   "metadata": {},
   "source": [
    "Write a program that displays a temperature conversion table for degrees Celsius and degrees Fahrenheit. The table should include rows for all temperatures between 0 and 100 degrees Celsius that are multiples of 10 degrees Celsius. Include appropriate headings on your columns. The formula for converting between degrees Celsius and\n",
    "degrees Fahrenheit can be found on the internet."
   ]
  },
  {
   "cell_type": "code",
   "execution_count": 13,
   "metadata": {},
   "outputs": [
    {
     "name": "stdout",
     "output_type": "stream",
     "text": [
      "Celcius / Fahrenheit\n",
      "0  =>  32.0\n",
      "10  =>  50.0\n",
      "20  =>  68.0\n",
      "30  =>  86.0\n",
      "40  =>  104.0\n",
      "50  =>  122.0\n",
      "60  =>  140.0\n",
      "70  =>  158.0\n",
      "80  =>  176.0\n",
      "90  =>  194.0\n",
      "100  =>  212.0\n"
     ]
    }
   ],
   "source": [
    "conversion_list = list()\n",
    "\n",
    "print('Celcius / Fahrenheit')\n",
    "for i in range(0, 101, 10):\n",
    "    conversion_list.append((i * 1.8) + 32)\n",
    "\n",
    "for i in range(0, 11):\n",
    "    print(i*10, ' => ', conversion_list[i])"
   ]
  },
  {
   "cell_type": "markdown",
   "metadata": {},
   "source": [
    "Exercise 66: Compute a Grade Point Average"
   ]
  },
  {
   "cell_type": "markdown",
   "metadata": {},
   "source": [
    "Exercise 51 included a table that shows the conversion from letter grades to grade points at a particular academic institution. In this exercise you will compute the grade point average of an arbitrary number of letter grades entered by the user. The user will enter a blank line to indicate that all of the grades have been provided. For example, if the user enters A, followed by C+, followed by B, followed by a blank line then your program should report a grade point average of 3.1.\n",
    "\n",
    "You may find your solution to Exercise 51 helpful when completing this exercise. Your program does not need to do any error checking. It can assume that each value\n",
    "entered by the user will always be a valid letter grade or a blank line."
   ]
  },
  {
   "cell_type": "code",
   "execution_count": 27,
   "metadata": {},
   "outputs": [
    {
     "name": "stdout",
     "output_type": "stream",
     "text": [
      "A\n",
      "C+\n",
      "B\n",
      "\n",
      "3.1\n"
     ]
    }
   ],
   "source": [
    "score_list = list()\n",
    "while 1:\n",
    "    grade = input()\n",
    "    if grade == '':\n",
    "        break\n",
    "    elif grade == 'A+':\n",
    "        score_list.append(4.0)\n",
    "    elif grade == 'A':\n",
    "        score_list.append(4.0)\n",
    "    elif grade == 'A-':\n",
    "        score_list.append(3.7)\n",
    "    elif grade == 'B+':\n",
    "        score_list.append(3.3)\n",
    "    elif grade == 'B':\n",
    "        score_list.append(3.0)\n",
    "    elif grade == 'B-':\n",
    "        score_list.append(2.7)\n",
    "    elif grade == 'C+':\n",
    "        score_list.append(2.3)\n",
    "    elif grade == 'C':\n",
    "        score_list.append(2.0)\n",
    "    elif grade == 'C-':\n",
    "        score_list.append(1.7)\n",
    "    elif grade == 'D+':\n",
    "        score_list.append(1.3)\n",
    "    elif grade == 'D':\n",
    "        score_list.append(1.0)\n",
    "    elif grade == 'F':\n",
    "        score_list.append(0)\n",
    "        \n",
    "avg = sum(score_list) / len(score_list)\n",
    "print(avg)"
   ]
  },
  {
   "cell_type": "markdown",
   "metadata": {},
   "source": [
    "Exercise 67: Admission Price"
   ]
  },
  {
   "cell_type": "markdown",
   "metadata": {},
   "source": [
    "A particular zoo determines the price of admission based on the age of the guest. Guests 2 years of age and less are admitted without charge. \n",
    "\n",
    "Children between 3 and 12 years of age cost $14.00. \n",
    "\n",
    "Seniors aged 65 years and over cost $18.00. \n",
    "\n",
    "Admission for all other guests is $23.00.\n",
    "\n",
    "Create a program that begins by reading the ages of all of the guests in a group\n",
    "from the user, with one age entered on each line. The user will enter a blank line to indicate that there are no more guests in the group. Then your program should display the admission cost for the group with an appropriate message. The cost should be displayed using two decimal places."
   ]
  },
  {
   "cell_type": "code",
   "execution_count": 103,
   "metadata": {},
   "outputs": [
    {
     "name": "stdout",
     "output_type": "stream",
     "text": [
      "3\n",
      "13\n",
      "65\n",
      "\n",
      "Total fare is 55.00\n"
     ]
    }
   ],
   "source": [
    "import math\n",
    "\n",
    "age_list = list()\n",
    "fare_list = list()\n",
    "while 1:\n",
    "    temp = input()\n",
    "    if temp == '':\n",
    "        break\n",
    "    try:\n",
    "        age = int(temp)\n",
    "    except:\n",
    "        continue\n",
    "    else:\n",
    "        age_list.append(age)\n",
    "\n",
    "for i in range(len(age_list)):\n",
    "    if 3 <= age_list[i] <= 12:\n",
    "        fare_list.append(float('14.00'))\n",
    "    elif 12 < age_list[i] < 65:\n",
    "        fare_list.append(float('23.00'))\n",
    "    elif 65 <= age_list[i]:\n",
    "        fare_list.append(float('18.00'))\n",
    "        \n",
    "result = str(math.fsum(fare_list))\n",
    "print('Total fare is ', end=\"\")\n",
    "print(result, end=\"\")\n",
    "print('0')"
   ]
  },
  {
   "cell_type": "markdown",
   "metadata": {},
   "source": [
    "Exercise 72: Is a String a Palindrome?"
   ]
  },
  {
   "cell_type": "markdown",
   "metadata": {},
   "source": [
    "A string is a palindrome if it is identical forward and backward. For example “anna”, “civic”, “level” and “hannah” are all examples of palindromic words. Write a program that reads a string from the user and uses a loop to determines whether or not it is a\n",
    "palindrome. Display the result, including a meaningful output message."
   ]
  },
  {
   "cell_type": "code",
   "execution_count": 60,
   "metadata": {},
   "outputs": [
    {
     "name": "stdout",
     "output_type": "stream",
     "text": [
      "civic\n",
      "True\n"
     ]
    }
   ],
   "source": [
    "word = input()\n",
    "temp = list()\n",
    "palin = True\n",
    "\n",
    "for i in range(len(word)):\n",
    "    temp.append(word[len(word)-1-i])\n",
    "    \n",
    "for i in range(len(word)):\n",
    "    if(temp[i] != word[i]):\n",
    "        palin = False\n",
    "print(palin)"
   ]
  },
  {
   "cell_type": "markdown",
   "metadata": {},
   "source": [
    "Exercise 74: Multiplication Table"
   ]
  },
  {
   "cell_type": "markdown",
   "metadata": {},
   "source": [
    "In this exercise you will create a program that displays a multiplication table that shows the products of all combinations of integers from 1 times 1 up to and including 10 times 10. Your multiplication table should include a row of labels across the top of it containing the numbers 1 through 10. It should also include labels down the left side consisting of the numbers 1 through 10. The expected output from the program\n",
    "is shown below:\n",
    "\n",
    "When completing this exercise you will probably find it helpful to be able to print out a value without moving down to the next line. This can be accomplished by added end=\"\" as the last parameter to your print statement. For example, print(\"A\") will display the letter A and then move down to the next line. The statement print(\"A\", end=\"\") will display the letter A without moving down to the next line, causing the next print statement to display its result on the same line as the letter A."
   ]
  },
  {
   "cell_type": "code",
   "execution_count": 75,
   "metadata": {},
   "outputs": [
    {
     "name": "stdout",
     "output_type": "stream",
     "text": [
      "   1  2  3  4  5  6  7  8  9  10  \n",
      "1  1  2  3  4  5  6  7  8  9  10  \n",
      "2  2  4  6  8  10  12  14  16  18  20  \n",
      "3  3  6  9  12  15  18  21  24  27  30  \n",
      "4  4  8  12  16  20  24  28  32  36  40  \n",
      "5  5  10  15  20  25  30  35  40  45  50  \n",
      "6  6  12  18  24  30  36  42  48  54  60  \n",
      "7  7  14  21  28  35  42  49  56  63  70  \n",
      "8  8  16  24  32  40  48  56  64  72  80  \n",
      "9  9  18  27  36  45  54  63  72  81  90  \n",
      "10  10  20  30  40  50  60  70  80  90  100  \n"
     ]
    }
   ],
   "source": [
    "otot = [1, 2, 3, 4, 5, 6, 7, 8, 9, 10]\n",
    "for i in range(11):\n",
    "    if i == 0:\n",
    "        print(\"   \", end=\"\")\n",
    "    else:\n",
    "        print(i, \" \", end=\"\")\n",
    "print(\"\")\n",
    "for i in range(1, 11):\n",
    "    for j in range(11):\n",
    "        if j == 0:\n",
    "            print(i, \" \", end=\"\")\n",
    "        else:\n",
    "            print(i*otot[j-1], \" \", end=\"\")\n",
    "    print(\"\")"
   ]
  },
  {
   "cell_type": "markdown",
   "metadata": {},
   "source": [
    "Exercise 75: Greatest Common Divisor"
   ]
  },
  {
   "cell_type": "markdown",
   "metadata": {},
   "source": [
    "The greatest common divisor of two positive integers, n and m, is the largest number, d, which divides evenly into both n and m. There are several algorithms that can be\n",
    "used to solve this problem, including:\n",
    "\n",
    "Initialize d to the smaller of m and n.\n",
    "\n",
    "While d does not evenly divide m or d does not evenly divide n do\n",
    "\n",
    "    Decrease the value of d by 1\n",
    "    \n",
    "Report d as the greatest common divisor of n and m\n",
    "\n",
    "Write a program that reads two positive integers from the user and uses this algorithm to determine and report their greatest common divisor."
   ]
  },
  {
   "cell_type": "code",
   "execution_count": 82,
   "metadata": {},
   "outputs": [
    {
     "name": "stdout",
     "output_type": "stream",
     "text": [
      "100\n",
      "3\n",
      "1\n"
     ]
    }
   ],
   "source": [
    "num_list = list()\n",
    "while 1:\n",
    "    try:\n",
    "        num = int(input())\n",
    "    except:\n",
    "        continue\n",
    "    else:\n",
    "        num_list.append(num)\n",
    "        \n",
    "    if len(num_list) == 2:\n",
    "        break\n",
    "        \n",
    "small = int(num_list[0])\n",
    "big = int(num_list[1])\n",
    "\n",
    "if small > big:\n",
    "    temp = small\n",
    "    small = big\n",
    "    big = temp\n",
    "    \n",
    "std = small\n",
    "\n",
    "while 1:\n",
    "    if small%std == 0 and big%std == 0:\n",
    "        break\n",
    "    else:\n",
    "        std -= 1\n",
    "        \n",
    "print(std)"
   ]
  },
  {
   "cell_type": "markdown",
   "metadata": {},
   "source": [
    "Exercise 77: Binary to Decimal"
   ]
  },
  {
   "cell_type": "markdown",
   "metadata": {},
   "source": [
    "Write a program that converts a binary (base 2) number to decimal (base 10). Your program should begin by reading the binary number from the user as a string. Then it should compute the equivalent decimal number by processing each digit in the binary number. Finally, your program should display the equivalent decimal number\n",
    "with an appropriate message."
   ]
  },
  {
   "cell_type": "code",
   "execution_count": 91,
   "metadata": {},
   "outputs": [
    {
     "name": "stdout",
     "output_type": "stream",
     "text": [
      "1111\n",
      "15\n"
     ]
    }
   ],
   "source": [
    "bin_input = input()\n",
    "temp = list()\n",
    "result = 0\n",
    "\n",
    "for i in range(len(bin_input)):\n",
    "    temp.append(int(bin_input[len(bin_input)-i-1]))\n",
    "    \n",
    "for i in range(len(temp)):\n",
    "    result += temp[i] * pow(2, i)\n",
    "\n",
    "print(result)"
   ]
  },
  {
   "cell_type": "markdown",
   "metadata": {},
   "source": [
    "Exercise 78: Decimal to Binary"
   ]
  },
  {
   "cell_type": "markdown",
   "metadata": {},
   "source": [
    "Write a program that converts a decimal (base 10) number to binary (base 2). Read the decimal number from the user as an integer and then use the division algorithm shown below to perform the conversion. When the algorithm completes, result contains the binary representation of the number. Display the result, along with an appropriate\n",
    "message.\n",
    "\n",
    "\n",
    "Let result be an empty string\n",
    "\n",
    "Let q represent the number to convert repeat\n",
    "\n",
    "Set r equal to the remainder when q is divided by 2\n",
    "\n",
    "Convert r to a string and add it to the beginning of result\n",
    "\n",
    "Divide q by 2, discarding any remainder, and store the result back into q\n",
    "\n",
    "until q is 0"
   ]
  },
  {
   "cell_type": "code",
   "execution_count": 101,
   "metadata": {},
   "outputs": [
    {
     "name": "stdout",
     "output_type": "stream",
     "text": [
      "10\n",
      "1010"
     ]
    }
   ],
   "source": [
    "result = str()\n",
    "\n",
    "dec = int(input())\n",
    "\n",
    "while dec > 0:\n",
    "    remain = dec % 2\n",
    "    result += str(remain)\n",
    "    dec //= 2\n",
    "    \n",
    "for i in range(len(result)):\n",
    "    print(result[len(result)-1-i], end=\"\")"
   ]
  }
 ],
 "metadata": {
  "kernelspec": {
   "display_name": "Python 3",
   "language": "python",
   "name": "python3"
  },
  "language_info": {
   "codemirror_mode": {
    "name": "ipython",
    "version": 3
   },
   "file_extension": ".py",
   "mimetype": "text/x-python",
   "name": "python",
   "nbconvert_exporter": "python",
   "pygments_lexer": "ipython3",
   "version": "3.6.5"
  }
 },
 "nbformat": 4,
 "nbformat_minor": 2
}
