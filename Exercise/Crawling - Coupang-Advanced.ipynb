{
 "cells": [
  {
   "cell_type": "markdown",
   "metadata": {},
   "source": [
    "# 쿠팡 데이터 크롤링"
   ]
  },
  {
   "cell_type": "markdown",
   "metadata": {},
   "source": [
    "___"
   ]
  },
  {
   "cell_type": "markdown",
   "metadata": {},
   "source": [
    "## Global functions, parameters"
   ]
  },
  {
   "cell_type": "code",
   "execution_count": 118,
   "metadata": {},
   "outputs": [],
   "source": [
    "import requests\n",
    "import bs4\n",
    "from bs4 import BeautifulSoup\n",
    "from selenium import webdriver\n",
    "from selenium.webdriver.common.keys import Keys\n",
    "from selenium.common.exceptions import NoSuchElementException\n",
    "from selenium.common.exceptions import StaleElementReferenceException\n",
    "from selenium.webdriver.support.ui import WebDriverWait\n",
    "from selenium.common.exceptions import WebDriverException\n",
    "from selenium.common.exceptions import TimeoutException\n",
    "import time\n",
    "\n",
    "driver = webdriver.Chrome()"
   ]
  },
  {
   "cell_type": "code",
   "execution_count": 2,
   "metadata": {},
   "outputs": [],
   "source": [
    "def getURL(seed, params=None, select='a', num_retries=2):\n",
    "    html = requests.get(seed, params=params, headers=headers)\n",
    "    \n",
    "    if 500<=html.status_code<600 and num_retries>0:\n",
    "        print(html.status_code, html.reason)\n",
    "        return getURL(seed, params, num_retries-1)\n",
    "    \n",
    "    dom = BeautifulSoup(html.text, 'lxml')\n",
    "    links = dom.select(select)\n",
    "    \n",
    "    return ['http://www.coupang.com' + link['href'] for link in links if link.has_attr('href')]"
   ]
  },
  {
   "cell_type": "code",
   "execution_count": 3,
   "metadata": {},
   "outputs": [],
   "source": [
    "headers = {\n",
    "    \"user-agent\":\"Mozilla/5.0 (Macintosh; Intel Mac OS X 10_13_4) AppleWebKit/537.36 (KHTML, like Gecko) Chrome/67.0.3396.99 Safari/537.36\",\n",
    "    \"accept-encoding\":\"false\"\n",
    "}"
   ]
  },
  {
   "cell_type": "markdown",
   "metadata": {},
   "source": [
    "___"
   ]
  },
  {
   "cell_type": "markdown",
   "metadata": {},
   "source": [
    "### 과자\n",
    "1. link\n",
    "2. img\n",
    "3. brand\n",
    "4. title: 제품명(있는 그대로)\n",
    "5. product: 보여줄 제품명(브랜드 + 연령대 + 형태)\n",
    "6. price: 가격(int)\n",
    "7. rating: 평점\n",
    "8. replyCount: 상품평 갯수\n",
    "9. reply: 20개"
   ]
  },
  {
   "cell_type": "code",
   "execution_count": 4,
   "metadata": {},
   "outputs": [],
   "source": [
    "params_snack = {\n",
    "    \"listSize\": \"120\",\n",
    "    \"brand\": \"\",\n",
    "    \"offerCondition\": \"\",\n",
    "    \"filterType\": \"\",\n",
    "    \"isPriceRange\": \"false\",\n",
    "    \"minPrice\": \"\",\n",
    "    \"maxPrice\": \"\",\n",
    "    \"page\": \"1\",\n",
    "    \"channel\": \"user\",\n",
    "    \"fromComponent\": \"Y\",\n",
    "    \"selectedPlpKeepFilter\": \"\",\n",
    "    \"sorter\": \"bestAsc\",\n",
    "    \"filter\": \"\",\n",
    "    \"component\": \"221916\",\n",
    "    \"rating\": \"0\",\n",
    "}"
   ]
  },
  {
   "cell_type": "code",
   "execution_count": 5,
   "metadata": {},
   "outputs": [],
   "source": [
    "seed_snack = 'http://www.coupang.com/np/categories/222016'"
   ]
  },
  {
   "cell_type": "code",
   "execution_count": 6,
   "metadata": {
    "scrolled": true
   },
   "outputs": [],
   "source": [
    "links_snack = []\n",
    "links_snack.extend(getURL(seed_snack, params_snack, select='ul.baby-product-list a.baby-product-link'))\n",
    "links_snack = links_snack[:100]"
   ]
  },
  {
   "cell_type": "code",
   "execution_count": 32,
   "metadata": {},
   "outputs": [],
   "source": [
    "snackList = []"
   ]
  },
  {
   "cell_type": "code",
   "execution_count": 35,
   "metadata": {},
   "outputs": [],
   "source": [
    "def getInfo_snack(url, num_retries=2):\n",
    "    html = requests.get(url, headers=headers)\n",
    "    \n",
    "    if 500<=html.status_code<600 and num_retries>0:\n",
    "        print(html.status_code, html.reason)\n",
    "        return getInfo_snack(seed, params, num_retries-1)\n",
    "    \n",
    "    dom = BeautifulSoup(html.text, 'lxml')\n",
    "    if len(dom.select('div.oos-label')) == 0 and int(dom.select('a.moveAnchor span.count')[0].get_text().replace('개 상품평', '').replace(',', '')) > 0:\n",
    "        link = html.url\n",
    "        img = 'http:' + dom.select('img.prod-image__detail')[0]['src']\n",
    "        brand = dom.select('a.prod-brand-name')[0].get_text()\n",
    "        title = dom.select('h2.prod-buy-header__title')[0].get_text()\n",
    "        # product = \n",
    "        price = int(dom.select('span.total-price')[0].get_text().replace('\\n', '').replace('원', '').replace(',', ''))\n",
    "        replyCount = int(dom.select('a.moveAnchor span.count')[0].get_text().replace('개 상품평', '').replace(',', ''))\n",
    "        \n",
    "        driver.get(url)\n",
    "        body = driver.find_element_by_tag_name('body')\n",
    "        while True:\n",
    "            try:\n",
    "                driver.find_element_by_css_selector('.sdp-review__average__total-star__info-gray div')\n",
    "                break\n",
    "            except NoSuchElementException:\n",
    "                body.send_keys(Keys.PAGE_DOWN)\n",
    "                driver.implicitly_wait(0.5)\n",
    "                \n",
    "        rating = driver.find_element_by_css_selector('.sdp-review__average__total-star__info-gray div')\n",
    "        rating = rating.get_attribute('data-rating')\n",
    "        replyResult = []\n",
    "        buttonList = []\n",
    "        buttonList.extend(driver.find_elements_by_css_selector('.sdp-review__article__page__num.js_reviewArticlePageBtn'))\n",
    "        \n",
    "        def getReply(pagenum):\n",
    "            try:\n",
    "                element = WebDriverWait(driver, 5).until(lambda x: x.find_elements_by_css_selector('.js_reviewArticleListContainer article div.sdp-review__article__list__review__content.js_reviewArticleContent')) \n",
    "                replyResult.extend(reply.text.replace('\\n', ' ') for reply in element)\n",
    "                time.sleep(1)\n",
    "            except TimeoutException:\n",
    "                return None\n",
    "            \n",
    "            while True:\n",
    "                try:\n",
    "                    buttonList = []\n",
    "                    buttonList.extend(driver.find_elements_by_css_selector('.sdp-review__article__page__num.js_reviewArticlePageBtn'))\n",
    "                    break\n",
    "                except WebDriverException:\n",
    "                    body.send_keys(Keys.PAGE_DOWN)\n",
    "                    driver.implicitly_wait(0.5)\n",
    "            if len(buttonList) > 0:\n",
    "                buttonList[pagenum].click()\n",
    "            else:\n",
    "                return None\n",
    "        \n",
    "        if len(buttonList) > 0:\n",
    "            for i in range(1, 5):\n",
    "                getReply(i)\n",
    "                time.sleep(0.5)\n",
    "    \n",
    "        result = tuple([link, img, brand, title, price, replyCount, rating, replyResult])\n",
    "        snackList.append(result)\n",
    "        return 1\n",
    "    \n",
    "    else:\n",
    "        return 0"
   ]
  },
  {
   "cell_type": "code",
   "execution_count": 36,
   "metadata": {
    "scrolled": true
   },
   "outputs": [
    {
     "name": "stdout",
     "output_type": "stream",
     "text": [
      "Skip: http://www.coupang.com/vp/products/96477934?itemId=296996220&vendorItemId=3730702348\n"
     ]
    }
   ],
   "source": [
    "for i in range(100):\n",
    "    if getInfo_snack(links_snack[i]) == 0:\n",
    "        print('Skip: ' + links_snack[i])\n",
    "    time.sleep(0.3)"
   ]
  },
  {
   "cell_type": "code",
   "execution_count": 43,
   "metadata": {
    "scrolled": false
   },
   "outputs": [],
   "source": [
    "snackList = snackList[7:]"
   ]
  },
  {
   "cell_type": "code",
   "execution_count": 44,
   "metadata": {
    "scrolled": true
   },
   "outputs": [
    {
     "data": {
      "text/plain": [
       "99"
      ]
     },
     "execution_count": 44,
     "metadata": {},
     "output_type": "execute_result"
    }
   ],
   "source": [
    "len(snackList)"
   ]
  },
  {
   "cell_type": "markdown",
   "metadata": {},
   "source": [
    "평점 없는건 제외시켰음."
   ]
  },
  {
   "cell_type": "markdown",
   "metadata": {},
   "source": [
    "___"
   ]
  },
  {
   "cell_type": "markdown",
   "metadata": {},
   "source": [
    "### 분유\n",
    "1. link\n",
    "2. img\n",
    "3. brand\n",
    "4. origin: 원산지(국내 / 해외)\n",
    "5. title: 제품명(있는 그대로)\n",
    "6. product: 보여줄 제품명(브랜드 + 연령대 + 형태)\n",
    "7. stage: 분유 단계(int)\n",
    "8. type: 분말 / 액상\n",
    "9. price: 가격(int)\n",
    "10. rating: 평점\n",
    "11. replyCount: 상품평 갯수\n",
    "12. reply: 20개"
   ]
  },
  {
   "cell_type": "code",
   "execution_count": 45,
   "metadata": {},
   "outputs": [],
   "source": [
    "params_milkPowder = {\n",
    "    \"listSize\": \"120\",\n",
    "    \"brand\": \"\",\n",
    "    \"offerCondition\": \"\",\n",
    "    \"filterType\": \"\",\n",
    "    \"isPriceRange\": \"false\",\n",
    "    \"minPrice\": \"\",\n",
    "    \"maxPrice\": \"\",\n",
    "    \"page\": \"1\",\n",
    "    \"channel\": \"user\",\n",
    "    \"fromComponent\": \"N\",\n",
    "    \"selectedPlpKeepFilter\": \"\",\n",
    "    \"sorter\": \"bestAsc\",\n",
    "    \"filter\": \"\",\n",
    "    \"component\": \"221895\",\n",
    "    \"rating\": \"0\",\n",
    "}"
   ]
  },
  {
   "cell_type": "code",
   "execution_count": 46,
   "metadata": {},
   "outputs": [],
   "source": [
    "seed_milkPowder = 'http://www.coupang.com/np/categories/221995'"
   ]
  },
  {
   "cell_type": "code",
   "execution_count": 47,
   "metadata": {
    "scrolled": true
   },
   "outputs": [],
   "source": [
    "links_milkPowder = []\n",
    "links_milkPowder.extend(getURL(seed_milkPowder, params_milkPowder, select='ul.baby-product-list a.baby-product-link'))\n",
    "links_milkPowder = links_milkPowder[:100]"
   ]
  },
  {
   "cell_type": "code",
   "execution_count": 48,
   "metadata": {},
   "outputs": [],
   "source": [
    "milkPowderList = []"
   ]
  },
  {
   "cell_type": "code",
   "execution_count": 79,
   "metadata": {},
   "outputs": [],
   "source": [
    "def getInfo_milkPowder(url, num_retries=2):\n",
    "    html = requests.get(url, headers=headers)\n",
    "    \n",
    "    if 500<=html.status_code<600 and num_retries>0:\n",
    "        print(html.status_code, html.reason)\n",
    "        return getInfo_milkPowder(seed, params, num_retries-1)\n",
    "    \n",
    "    dom = BeautifulSoup(html.text, 'lxml')\n",
    "    if len(dom.select('div.oos-label')) == 0 and int(dom.select('a.moveAnchor span.count')[0].get_text().replace('개 상품평', '').replace(',', '')) > 0:\n",
    "        link = html.url\n",
    "        img = 'http:' + dom.select('img.prod-image__detail')[0]['src']\n",
    "        brand = dom.select('a.prod-brand-name')[0].get_text()\n",
    "        title = dom.select('h2.prod-buy-header__title')[0].get_text()\n",
    "        # product = \n",
    "        index = 0\n",
    "        stage = 0\n",
    "        for index in range(len(dom.select('li.prod-attr-item'))):\n",
    "            try:\n",
    "                stage = int(dom.select('li.prod-attr-item')[index].get_text().replace('\\n', '').replace('단계: ', '').replace('단계', ''))\n",
    "            except ValueError:\n",
    "                index += 1\n",
    "            \n",
    "        if stage == 0:\n",
    "            stageIndex = title.find('단계')\n",
    "            try:\n",
    "                stage = int(title[stageIndex-1])\n",
    "            except ValueError:\n",
    "                return 0\n",
    "        \n",
    "        if '액상분유' in title:\n",
    "            milkPowderType = '액상분유'\n",
    "        elif '스틱분유' in title:\n",
    "            milkPowderType = '스틱분유'\n",
    "        else:\n",
    "            milkPowderType = '원통형분유'\n",
    "        price = int(dom.select('span.total-price')[0].get_text().replace('\\n', '').replace('원', '').replace(',', ''))\n",
    "        replyCount = int(dom.select('a.moveAnchor span.count')[0].get_text().replace('개 상품평', '').replace(',', ''))\n",
    "        \n",
    "        driver.get(url)\n",
    "        body = driver.find_element_by_tag_name('body')\n",
    "        while True:\n",
    "            try:\n",
    "                driver.find_element_by_css_selector('.sdp-review__average__total-star__info-gray div')\n",
    "                break\n",
    "            except NoSuchElementException:\n",
    "                body.send_keys(Keys.PAGE_DOWN)\n",
    "                driver.implicitly_wait(0.5)\n",
    "        \n",
    "        origin = driver.find_elements_by_css_selector('.prod-delivery-return-policy-table.essential-info-table tbody tr td')[1].text\n",
    "        rating = driver.find_element_by_css_selector('.sdp-review__average__total-star__info-gray div')\n",
    "        rating = rating.get_attribute('data-rating')\n",
    "        replyResult = []\n",
    "        buttonList = []\n",
    "        buttonList.extend(driver.find_elements_by_css_selector('.sdp-review__article__page__num.js_reviewArticlePageBtn'))\n",
    "        \n",
    "        def getReply(pagenum):\n",
    "            try:\n",
    "                element = WebDriverWait(driver, 5).until(lambda x: x.find_elements_by_css_selector('.js_reviewArticleListContainer article div.sdp-review__article__list__review__content.js_reviewArticleContent')) \n",
    "                replyResult.extend(reply.text.replace('\\n', ' ') for reply in element)\n",
    "                time.sleep(1)\n",
    "            except TimeoutException:\n",
    "                return None\n",
    "            buttonList = []\n",
    "            while True:\n",
    "                try:\n",
    "                    buttonList.extend(driver.find_elements_by_css_selector('.sdp-review__article__page__num.js_reviewArticlePageBtn'))\n",
    "                    break\n",
    "                except WebDriverException:\n",
    "                    body.send_keys(Keys.PAGE_DOWN)\n",
    "                    driver.implicitly_wait(0.5)\n",
    "            if len(buttonList) > 0:\n",
    "                buttonList[pagenum].click()\n",
    "            else:\n",
    "                return None\n",
    "        \n",
    "        if len(buttonList) > 0:\n",
    "            for i in range(1, 5):\n",
    "                getReply(i)\n",
    "                time.sleep(0.5)\n",
    "    \n",
    "        result = tuple([link, img, brand, origin, title, stage, milkPowderType, price, replyCount, rating, replyResult])\n",
    "        milkPowderList.append(result)\n",
    "        return 1\n",
    "    \n",
    "    else:\n",
    "        return 0\n",
    "    \n",
    "    return None"
   ]
  },
  {
   "cell_type": "code",
   "execution_count": 82,
   "metadata": {
    "scrolled": true
   },
   "outputs": [
    {
     "name": "stdout",
     "output_type": "stream",
     "text": [
      "Skip: http://www.coupang.com/vp/products/13355297?itemId=125443118&vendorItemId=3769717414\n",
      "Skip: http://www.coupang.com/vp/products/116863081?itemId=349863063&vendorItemId=3856161600\n"
     ]
    }
   ],
   "source": [
    "for i in range(75, 100, 1):\n",
    "    if getInfo_milkPowder(links_milkPowder[i]) == 0:\n",
    "        print('Skip: ' + links_milkPowder[i])\n",
    "    time.sleep(0.3)"
   ]
  },
  {
   "cell_type": "code",
   "execution_count": 83,
   "metadata": {
    "scrolled": true
   },
   "outputs": [
    {
     "data": {
      "text/plain": [
       "98"
      ]
     },
     "execution_count": 83,
     "metadata": {},
     "output_type": "execute_result"
    }
   ],
   "source": [
    "len(milkPowderList)"
   ]
  },
  {
   "cell_type": "markdown",
   "metadata": {},
   "source": [
    "2개 스킵: 단계 이상해서, 단계 옵션으로 주어져서 스킵됨."
   ]
  },
  {
   "cell_type": "markdown",
   "metadata": {},
   "source": [
    "___"
   ]
  },
  {
   "cell_type": "markdown",
   "metadata": {},
   "source": [
    "### 장난감\n",
    "1. link\n",
    "2. img\n",
    "3. category: 감각발달완구, 아기체육관, 러닝홈/플레이매트, 아기걸음마, 모빌/딸랑이/치발기, 오뚝이\n",
    "4. title: 제품명(있는 그대로)\n",
    "5. product: 보여줄 제품명(브랜드 + 연령대 + 형태)\n",
    "6. price: 가격(int)\n",
    "7. rating: 평점\n",
    "8. replyCount: 상품평 갯수\n",
    "9. reply: 20개"
   ]
  },
  {
   "cell_type": "code",
   "execution_count": 86,
   "metadata": {},
   "outputs": [],
   "source": [
    "categoryList_toy = ['감각발달완구', '아기체육관/러닝홈', '아기걸음마', '모빌', '딸랑이', '치발기', '오뚝이']"
   ]
  },
  {
   "cell_type": "code",
   "execution_count": 87,
   "metadata": {},
   "outputs": [],
   "source": [
    "params_toy = {\n",
    "    \"listSize\": \"120\",\n",
    "    \"brand\": \"\",\n",
    "    \"offerCondition\": \"\",\n",
    "    \"filterType\": \"\",\n",
    "    \"isPriceRange\": \"false\",\n",
    "    \"minPrice\": \"\",\n",
    "    \"maxPrice\": \"\",\n",
    "    \"page\": \"1\",\n",
    "    \"channel\": \"user\",\n",
    "    \"fromComponent\": \"Y\",\n",
    "    \"selectedPlpKeepFilter\": \"\",\n",
    "    \"sorter\": \"bestAsc\",\n",
    "    \"filter\": \"\",\n",
    "    \"component\": \"\",\n",
    "    \"rating\": \"0\",\n",
    "}"
   ]
  },
  {
   "cell_type": "code",
   "execution_count": 88,
   "metadata": {},
   "outputs": [],
   "source": [
    "seed_toy_list = ['http://www.coupang.com/np/categories/349712',\n",
    "                 'http://www.coupang.com/np/categories/349704',\n",
    "                 'http://www.coupang.com/np/categories/349710',\n",
    "                 'http://www.coupang.com/np/categories/349687',\n",
    "                 'http://www.coupang.com/np/categories/349689',\n",
    "                 'http://www.coupang.com/np/categories/349690',\n",
    "                 'http://www.coupang.com/np/categories/349694']"
   ]
  },
  {
   "cell_type": "code",
   "execution_count": 89,
   "metadata": {},
   "outputs": [],
   "source": [
    "toyComponentList = [349612, 349604, 349610, 349587, 349589, 349590, 349594]"
   ]
  },
  {
   "cell_type": "code",
   "execution_count": 90,
   "metadata": {
    "scrolled": true
   },
   "outputs": [],
   "source": [
    "links_toy = {\n",
    "    categoryList_toy[0]: None,\n",
    "    categoryList_toy[1]: None,\n",
    "    categoryList_toy[2]: None,\n",
    "    categoryList_toy[3]: None,\n",
    "    categoryList_toy[4]: None,\n",
    "    categoryList_toy[5]: None,\n",
    "    categoryList_toy[6]: None\n",
    "}\n",
    "\n",
    "for i in range(7):\n",
    "    params_toy['component'] = toyComponentList[i]\n",
    "    temp = []\n",
    "    temp.extend(getURL(seed_toy_list[i], params_toy, select='ul.baby-product-list a.baby-product-link'))\n",
    "    temp = temp[:100]\n",
    "    links_toy[categoryList_toy[i]] = temp"
   ]
  },
  {
   "cell_type": "code",
   "execution_count": 91,
   "metadata": {
    "scrolled": false
   },
   "outputs": [
    {
     "name": "stdout",
     "output_type": "stream",
     "text": [
      "감각발달완구 100\n",
      "아기체육관/러닝홈 100\n",
      "아기걸음마 100\n",
      "모빌 100\n",
      "딸랑이 100\n",
      "치발기 100\n",
      "오뚝이 100\n"
     ]
    }
   ],
   "source": [
    "for (k, v) in links_toy.items():\n",
    "    print(k, len(v))"
   ]
  },
  {
   "cell_type": "code",
   "execution_count": 97,
   "metadata": {
    "scrolled": true
   },
   "outputs": [
    {
     "data": {
      "text/plain": [
       "['http://www.coupang.com/vp/products/5174059?itemId=23450011&vendorItemId=3034349958',\n",
       " 'http://www.coupang.com/vp/products/1556548?itemId=198924&vendorItemId=3000132612',\n",
       " 'http://www.coupang.com/vp/products/1526123?itemId=4398101&vendorItemId=3005327603',\n",
       " 'http://www.coupang.com/vp/products/2515277?itemId=11587748&vendorItemId=3017528256',\n",
       " 'http://www.coupang.com/vp/products/655132?itemId=2333435&vendorItemId=3000068366',\n",
       " 'http://www.coupang.com/vp/products/22958568?itemId=89183561&vendorItemId=3154013313',\n",
       " 'http://www.coupang.com/vp/products/102306?itemId=199082&vendorItemId=3000140857',\n",
       " 'http://www.coupang.com/vp/products/183499?itemId=334548&vendorItemId=3000244319',\n",
       " 'http://www.coupang.com/vp/products/392215?itemId=1010744&vendorItemId=3000925179',\n",
       " 'http://www.coupang.com/vp/products/3339629?itemId=12828011&vendorItemId=3014175068',\n",
       " 'http://www.coupang.com/vp/products/200049?itemId=369536&vendorItemId=3000275216',\n",
       " 'http://www.coupang.com/vp/products/66294953?itemId=223107921&vendorItemId=3541315526',\n",
       " 'http://www.coupang.com/vp/products/16534740?itemId=67211046&vendorItemId=3107487999',\n",
       " 'http://www.coupang.com/vp/products/90367841?itemId=281934100&vendorItemId=3690456724',\n",
       " 'http://www.coupang.com/vp/products/22122336?itemId=86097719&vendorItemId=3146477804',\n",
       " 'http://www.coupang.com/vp/products/51586163?itemId=182641443&vendorItemId=3434733143',\n",
       " 'http://www.coupang.com/vp/products/18575750?itemId=74620666&vendorItemId=3123661732',\n",
       " 'http://www.coupang.com/vp/products/2395317?itemId=11021623&vendorItemId=3016556185',\n",
       " 'http://www.coupang.com/vp/products/1061362?itemId=4557520&vendorItemId=3000698881',\n",
       " 'http://www.coupang.com/vp/products/92327424?itemId=286896016&vendorItemId=3704144388',\n",
       " 'http://www.coupang.com/vp/products/7251294?itemId=32043699&vendorItemId=3047426585',\n",
       " 'http://www.coupang.com/vp/products/1142598?itemId=4931976&vendorItemId=3038262027',\n",
       " 'http://www.coupang.com/vp/products/70935600?itemId=236915993&vendorItemId=3581396216',\n",
       " 'http://www.coupang.com/vp/products/13564876?itemId=56616506&vendorItemId=3088737629',\n",
       " 'http://www.coupang.com/vp/products/1061356?itemId=4557494&vendorItemId=3000698887',\n",
       " 'http://www.coupang.com/vp/products/2515281?itemId=103234990&vendorItemId=3017528259',\n",
       " 'http://www.coupang.com/vp/products/23721877?itemId=92397264&vendorItemId=3161659192',\n",
       " 'http://www.coupang.com/vp/products/2194918?itemId=10009210&vendorItemId=3014633157',\n",
       " 'http://www.coupang.com/vp/products/44854853?itemId=160600692&vendorItemId=3378310752',\n",
       " 'http://www.coupang.com/vp/products/13355920?itemId=55825510&vendorItemId=3020180890',\n",
       " 'http://www.coupang.com/vp/products/27698392?itemId=106981026&vendorItemId=3205675946',\n",
       " 'http://www.coupang.com/vp/products/17448726?itemId=70102865&vendorItemId=3113351945',\n",
       " 'http://www.coupang.com/vp/products/654306?itemId=2337779&vendorItemId=3000068333',\n",
       " 'http://www.coupang.com/vp/products/9312544?itemId=40870344&vendorItemId=3000139753',\n",
       " 'http://www.coupang.com/vp/products/151101?itemId=282738&vendorItemId=3000204488',\n",
       " 'http://www.coupang.com/vp/products/1589238?itemId=280655&vendorItemId=3027895083',\n",
       " 'http://www.coupang.com/vp/products/13564874?itemId=56616504&vendorItemId=3088737631',\n",
       " 'http://www.coupang.com/vp/products/50715513?itemId=178697798&vendorItemId=3427703507',\n",
       " 'http://www.coupang.com/vp/products/2515278?itemId=11587749&vendorItemId=3017528257',\n",
       " 'http://www.coupang.com/vp/products/19306691?itemId=77453469&vendorItemId=3130622831',\n",
       " 'http://www.coupang.com/vp/products/5363876?itemId=24349071&vendorItemId=3035875830',\n",
       " 'http://www.coupang.com/vp/products/6397523?itemId=8957441&vendorItemId=3012731957',\n",
       " 'http://www.coupang.com/vp/products/96773752?itemId=297755540&vendorItemId=3732498401',\n",
       " 'http://www.coupang.com/vp/products/149772?itemId=280657&vendorItemId=3000202611',\n",
       " 'http://www.coupang.com/vp/products/19313532?itemId=77480501&vendorItemId=3006593397',\n",
       " 'http://www.coupang.com/vp/products/24940715?itemId=97077833&vendorItemId=3175651364',\n",
       " 'http://www.coupang.com/vp/products/82557?itemId=169431&vendorItemId=3000094264',\n",
       " 'http://www.coupang.com/vp/products/149775?itemId=280660&vendorItemId=3000202614',\n",
       " 'http://www.coupang.com/vp/products/95831808?itemId=295432433&vendorItemId=3726769886',\n",
       " 'http://www.coupang.com/vp/products/90367829?itemId=281934087&vendorItemId=3690456624',\n",
       " 'http://www.coupang.com/vp/products/5451694?itemId=24713711&vendorItemId=3036490853',\n",
       " 'http://www.coupang.com/vp/products/2212970?itemId=72479500&vendorItemId=3014791622',\n",
       " 'http://www.coupang.com/vp/products/65771199?itemId=221904524&vendorItemId=3537675666',\n",
       " 'http://www.coupang.com/vp/products/102543700?itemId=312412480&vendorItemId=3710797320',\n",
       " 'http://www.coupang.com/vp/products/92178493?itemId=286462337&vendorItemId=3703050139',\n",
       " 'http://www.coupang.com/vp/products/83289241?itemId=264176481&vendorItemId=3641059690',\n",
       " 'http://www.coupang.com/vp/products/71570430?itemId=238712266&vendorItemId=3587682432',\n",
       " 'http://www.coupang.com/vp/products/66294950?itemId=223107914&vendorItemId=3541315523',\n",
       " 'http://www.coupang.com/vp/products/101492324?itemId=309407231&vendorItemId=3762115992',\n",
       " 'http://www.coupang.com/vp/products/44513664?itemId=159794628&vendorItemId=3119368738',\n",
       " 'http://www.coupang.com/vp/products/1745288?itemId=7615293&vendorItemId=3429139511',\n",
       " 'http://www.coupang.com/vp/products/2303948?itemId=10557535&vendorItemId=3015656263',\n",
       " 'http://www.coupang.com/vp/products/1091593?itemId=4692717&vendorItemId=3005740658',\n",
       " 'http://www.coupang.com/vp/products/102313705?itemId=311572777&vendorItemId=3359983982',\n",
       " 'http://www.coupang.com/vp/products/22827113?itemId=88620555&vendorItemId=3152563269',\n",
       " 'http://www.coupang.com/vp/products/37778969?itemId=139390901&vendorItemId=3298114050',\n",
       " 'http://www.coupang.com/vp/products/1458719?itemId=6367437&vendorItemId=3008479628',\n",
       " 'http://www.coupang.com/vp/products/24799482?itemId=96501309&vendorItemId=3173878469',\n",
       " 'http://www.coupang.com/vp/products/14556512?itemId=60138789&vendorItemId=3094090362',\n",
       " 'http://www.coupang.com/vp/products/2515280?itemId=11587750&vendorItemId=3017528258',\n",
       " 'http://www.coupang.com/vp/products/32794749?itemId=123306412&vendorItemId=3250907273',\n",
       " 'http://www.coupang.com/vp/products/149782?itemId=280667&vendorItemId=3000202621',\n",
       " 'http://www.coupang.com/vp/products/6573387?itemId=29176485&vendorItemId=3043398043',\n",
       " 'http://www.coupang.com/vp/products/1071141?itemId=4606803&vendorItemId=3000293395',\n",
       " 'http://www.coupang.com/vp/products/66294947?itemId=223107905&vendorItemId=3541315519',\n",
       " 'http://www.coupang.com/vp/products/22837364?itemId=88660664&vendorItemId=3152725059',\n",
       " 'http://www.coupang.com/vp/products/68691788?itemId=229329726&vendorItemId=3560177361',\n",
       " 'http://www.coupang.com/vp/products/92213836?itemId=286558140&vendorItemId=3703306462',\n",
       " 'http://www.coupang.com/vp/products/5522270?itemId=25031546&vendorItemId=3037018665',\n",
       " 'http://www.coupang.com/vp/products/8238479?itemId=35895017&vendorItemId=3661722770',\n",
       " 'http://www.coupang.com/vp/products/4770094?itemId=21737625&vendorItemId=3031751385',\n",
       " 'http://www.coupang.com/vp/products/2212971?itemId=10098247&vendorItemId=3014791623',\n",
       " 'http://www.coupang.com/vp/products/13704581?itemId=57170338&vendorItemId=3089576196',\n",
       " 'http://www.coupang.com/vp/products/986539?itemId=2375230&vendorItemId=3686736084',\n",
       " 'http://www.coupang.com/vp/products/1153530?itemId=4972930&vendorItemId=3030170822',\n",
       " 'http://www.coupang.com/vp/products/1067761?itemId=12443839&vendorItemId=3104552254',\n",
       " 'http://www.coupang.com/vp/products/53028072?itemId=186604049&vendorItemId=3444261511',\n",
       " 'http://www.coupang.com/vp/products/22432826?itemId=87076636&vendorItemId=3148392365',\n",
       " 'http://www.coupang.com/vp/products/663061?itemId=2378090&vendorItemId=3002471937',\n",
       " 'http://www.coupang.com/vp/products/77943455?itemId=251941135&vendorItemId=3849779310',\n",
       " 'http://www.coupang.com/vp/products/82554?itemId=169428&vendorItemId=3000094262',\n",
       " 'http://www.coupang.com/vp/products/203875?itemId=385678&vendorItemId=3000291064',\n",
       " 'http://www.coupang.com/vp/products/5255150?itemId=23821206&vendorItemId=3034961134',\n",
       " 'http://www.coupang.com/vp/products/6001492?itemId=26914005&vendorItemId=3039706553',\n",
       " 'http://www.coupang.com/vp/products/32794736?itemId=123306384&vendorItemId=3250907270',\n",
       " 'http://www.coupang.com/vp/products/425820?itemId=1123939&vendorItemId=3001092951',\n",
       " 'http://www.coupang.com/vp/products/5255145?itemId=23821201&vendorItemId=3034961121',\n",
       " 'http://www.coupang.com/vp/products/23731285?itemId=92445346&vendorItemId=3161758824',\n",
       " 'http://www.coupang.com/vp/products/88477682?itemId=276882451&vendorItemId=3623575490',\n",
       " 'http://www.coupang.com/vp/products/103542905?itemId=314583224&vendorItemId=3773186373']"
      ]
     },
     "execution_count": 97,
     "metadata": {},
     "output_type": "execute_result"
    }
   ],
   "source": [
    "links_toy[categoryList_toy[0]]"
   ]
  },
  {
   "cell_type": "code",
   "execution_count": 117,
   "metadata": {},
   "outputs": [],
   "source": [
    "toyList = []"
   ]
  },
  {
   "cell_type": "code",
   "execution_count": 111,
   "metadata": {},
   "outputs": [],
   "source": [
    "def getInfo_toy(url, category, num_retries=2):\n",
    "    html = requests.get(url, headers=headers)\n",
    "    \n",
    "    if 500<=html.status_code<600 and num_retries>0:\n",
    "        print(html.status_code, html.reason)\n",
    "        return getInfo_toy(seed, params, num_retries-1)\n",
    "    \n",
    "    dom = BeautifulSoup(html.text, 'lxml')\n",
    "    if len(dom.select('div.oos-label')) == 0 and int(dom.select('a.moveAnchor span.count')[0].get_text().replace('개 상품평', '').replace(',', '')) > 0:\n",
    "        link = html.url\n",
    "        img = 'http:' + dom.select('img.prod-image__detail')[0]['src']\n",
    "        category = category\n",
    "        title = dom.select('h2.prod-buy-header__title')[0].get_text()\n",
    "        # product = \n",
    "        price = int(dom.select('span.total-price')[0].get_text().replace('\\n', '').replace('원', '').replace(',', ''))\n",
    "        replyCount = int(dom.select('a.moveAnchor span.count')[0].get_text().replace('개 상품평', '').replace(',', ''))\n",
    "        \n",
    "        driver.get(url)\n",
    "        body = driver.find_element_by_tag_name('body')\n",
    "        while True:\n",
    "            try:\n",
    "                driver.find_element_by_css_selector('.sdp-review__average__total-star__info-gray div')\n",
    "                break\n",
    "            except NoSuchElementException:\n",
    "                body.send_keys(Keys.PAGE_DOWN)\n",
    "                driver.implicitly_wait(1)\n",
    "        \n",
    "        rating = driver.find_element_by_css_selector('.sdp-review__average__total-star__info-gray div')\n",
    "        rating = rating.get_attribute('data-rating')\n",
    "        replyResult = []\n",
    "        buttonList = []\n",
    "        buttonList.extend(driver.find_elements_by_css_selector('.sdp-review__article__page__num.js_reviewArticlePageBtn'))\n",
    "        \n",
    "        def getReply(pagenum):\n",
    "            try:\n",
    "                element = WebDriverWait(driver, 5).until(lambda x: x.find_elements_by_css_selector('.js_reviewArticleListContainer article div.sdp-review__article__list__review__content.js_reviewArticleContent')) \n",
    "                replyResult.extend(reply.text.replace('\\n', ' ') for reply in element)\n",
    "                time.sleep(1)\n",
    "            except TimeoutException:\n",
    "                return None\n",
    "            buttonList = []\n",
    "            while True:\n",
    "                try:\n",
    "                    buttonList.extend(driver.find_elements_by_css_selector('.sdp-review__article__page__num.js_reviewArticlePageBtn'))\n",
    "                    break\n",
    "                except WebDriverException:\n",
    "                    body.send_keys(Keys.PAGE_DOWN)\n",
    "                    driver.implicitly_wait(1)\n",
    "            if len(buttonList) > 0:\n",
    "                buttonList[pagenum].click()\n",
    "            else:\n",
    "                return None\n",
    "        \n",
    "        if len(buttonList) > 0:\n",
    "            for i in range(1, 5):\n",
    "                getReply(i)\n",
    "                time.sleep(0.5)\n",
    "    \n",
    "        result = tuple([link, img, category, title, price, replyCount, rating, replyResult])\n",
    "        toyList.append(result)\n",
    "        return 1\n",
    "    \n",
    "    else:\n",
    "        return 0\n",
    "    \n",
    "    return None"
   ]
  },
  {
   "cell_type": "code",
   "execution_count": 115,
   "metadata": {},
   "outputs": [
    {
     "data": {
      "text/plain": [
       "1"
      ]
     },
     "execution_count": 115,
     "metadata": {},
     "output_type": "execute_result"
    }
   ],
   "source": [
    "getInfo_toy(links_toy[categoryList_toy[0]][10], categoryList_toy[0])"
   ]
  },
  {
   "cell_type": "code",
   "execution_count": 112,
   "metadata": {
    "scrolled": true
   },
   "outputs": [
    {
     "ename": "StaleElementReferenceException",
     "evalue": "Message: stale element reference: element is not attached to the page document\n  (Session info: chrome=68.0.3440.106)\n  (Driver info: chromedriver=2.40.565386 (45a059dc425e08165f9a10324bd1380cc13ca363),platform=Mac OS X 10.13.4 x86_64)\n",
     "output_type": "error",
     "traceback": [
      "\u001b[0;31m---------------------------------------------------------------------------\u001b[0m",
      "\u001b[0;31mStaleElementReferenceException\u001b[0m            Traceback (most recent call last)",
      "\u001b[0;32m<ipython-input-112-a881337cd4e5>\u001b[0m in \u001b[0;36m<module>\u001b[0;34m()\u001b[0m\n\u001b[1;32m      1\u001b[0m \u001b[0;32mfor\u001b[0m \u001b[0mlink\u001b[0m \u001b[0;32min\u001b[0m \u001b[0mlinks_toy\u001b[0m\u001b[0;34m[\u001b[0m\u001b[0mcategoryList_toy\u001b[0m\u001b[0;34m[\u001b[0m\u001b[0;36m0\u001b[0m\u001b[0;34m]\u001b[0m\u001b[0;34m]\u001b[0m\u001b[0;34m:\u001b[0m\u001b[0;34m\u001b[0m\u001b[0m\n\u001b[0;32m----> 2\u001b[0;31m     \u001b[0mgetInfo_toy\u001b[0m\u001b[0;34m(\u001b[0m\u001b[0mlink\u001b[0m\u001b[0;34m,\u001b[0m \u001b[0mcategoryList_toy\u001b[0m\u001b[0;34m[\u001b[0m\u001b[0;36m0\u001b[0m\u001b[0;34m]\u001b[0m\u001b[0;34m)\u001b[0m\u001b[0;34m\u001b[0m\u001b[0m\n\u001b[0m",
      "\u001b[0;32m<ipython-input-111-711dfe8718b0>\u001b[0m in \u001b[0;36mgetInfo_toy\u001b[0;34m(url, category, num_retries)\u001b[0m\n\u001b[1;32m     54\u001b[0m         \u001b[0;32mif\u001b[0m \u001b[0mlen\u001b[0m\u001b[0;34m(\u001b[0m\u001b[0mbuttonList\u001b[0m\u001b[0;34m)\u001b[0m \u001b[0;34m>\u001b[0m \u001b[0;36m0\u001b[0m\u001b[0;34m:\u001b[0m\u001b[0;34m\u001b[0m\u001b[0m\n\u001b[1;32m     55\u001b[0m             \u001b[0;32mfor\u001b[0m \u001b[0mi\u001b[0m \u001b[0;32min\u001b[0m \u001b[0mrange\u001b[0m\u001b[0;34m(\u001b[0m\u001b[0;36m1\u001b[0m\u001b[0;34m,\u001b[0m \u001b[0;36m5\u001b[0m\u001b[0;34m)\u001b[0m\u001b[0;34m:\u001b[0m\u001b[0;34m\u001b[0m\u001b[0m\n\u001b[0;32m---> 56\u001b[0;31m                 \u001b[0mgetReply\u001b[0m\u001b[0;34m(\u001b[0m\u001b[0mi\u001b[0m\u001b[0;34m)\u001b[0m\u001b[0;34m\u001b[0m\u001b[0m\n\u001b[0m\u001b[1;32m     57\u001b[0m                 \u001b[0mtime\u001b[0m\u001b[0;34m.\u001b[0m\u001b[0msleep\u001b[0m\u001b[0;34m(\u001b[0m\u001b[0;36m0.5\u001b[0m\u001b[0;34m)\u001b[0m\u001b[0;34m\u001b[0m\u001b[0m\n\u001b[1;32m     58\u001b[0m \u001b[0;34m\u001b[0m\u001b[0m\n",
      "\u001b[0;32m<ipython-input-111-711dfe8718b0>\u001b[0m in \u001b[0;36mgetReply\u001b[0;34m(pagenum)\u001b[0m\n\u001b[1;32m     35\u001b[0m             \u001b[0;32mtry\u001b[0m\u001b[0;34m:\u001b[0m\u001b[0;34m\u001b[0m\u001b[0m\n\u001b[1;32m     36\u001b[0m                 \u001b[0melement\u001b[0m \u001b[0;34m=\u001b[0m \u001b[0mWebDriverWait\u001b[0m\u001b[0;34m(\u001b[0m\u001b[0mdriver\u001b[0m\u001b[0;34m,\u001b[0m \u001b[0;36m5\u001b[0m\u001b[0;34m)\u001b[0m\u001b[0;34m.\u001b[0m\u001b[0muntil\u001b[0m\u001b[0;34m(\u001b[0m\u001b[0;32mlambda\u001b[0m \u001b[0mx\u001b[0m\u001b[0;34m:\u001b[0m \u001b[0mx\u001b[0m\u001b[0;34m.\u001b[0m\u001b[0mfind_elements_by_css_selector\u001b[0m\u001b[0;34m(\u001b[0m\u001b[0;34m'.js_reviewArticleListContainer article div.sdp-review__article__list__review__content.js_reviewArticleContent'\u001b[0m\u001b[0;34m)\u001b[0m\u001b[0;34m)\u001b[0m\u001b[0;34m\u001b[0m\u001b[0m\n\u001b[0;32m---> 37\u001b[0;31m                 \u001b[0mreplyResult\u001b[0m\u001b[0;34m.\u001b[0m\u001b[0mextend\u001b[0m\u001b[0;34m(\u001b[0m\u001b[0mreply\u001b[0m\u001b[0;34m.\u001b[0m\u001b[0mtext\u001b[0m\u001b[0;34m.\u001b[0m\u001b[0mreplace\u001b[0m\u001b[0;34m(\u001b[0m\u001b[0;34m'\\n'\u001b[0m\u001b[0;34m,\u001b[0m \u001b[0;34m' '\u001b[0m\u001b[0;34m)\u001b[0m \u001b[0;32mfor\u001b[0m \u001b[0mreply\u001b[0m \u001b[0;32min\u001b[0m \u001b[0melement\u001b[0m\u001b[0;34m)\u001b[0m\u001b[0;34m\u001b[0m\u001b[0m\n\u001b[0m\u001b[1;32m     38\u001b[0m                 \u001b[0mtime\u001b[0m\u001b[0;34m.\u001b[0m\u001b[0msleep\u001b[0m\u001b[0;34m(\u001b[0m\u001b[0;36m1\u001b[0m\u001b[0;34m)\u001b[0m\u001b[0;34m\u001b[0m\u001b[0m\n\u001b[1;32m     39\u001b[0m             \u001b[0;32mexcept\u001b[0m \u001b[0mTimeoutException\u001b[0m\u001b[0;34m:\u001b[0m\u001b[0;34m\u001b[0m\u001b[0m\n",
      "\u001b[0;32m<ipython-input-111-711dfe8718b0>\u001b[0m in \u001b[0;36m<genexpr>\u001b[0;34m(.0)\u001b[0m\n\u001b[1;32m     35\u001b[0m             \u001b[0;32mtry\u001b[0m\u001b[0;34m:\u001b[0m\u001b[0;34m\u001b[0m\u001b[0m\n\u001b[1;32m     36\u001b[0m                 \u001b[0melement\u001b[0m \u001b[0;34m=\u001b[0m \u001b[0mWebDriverWait\u001b[0m\u001b[0;34m(\u001b[0m\u001b[0mdriver\u001b[0m\u001b[0;34m,\u001b[0m \u001b[0;36m5\u001b[0m\u001b[0;34m)\u001b[0m\u001b[0;34m.\u001b[0m\u001b[0muntil\u001b[0m\u001b[0;34m(\u001b[0m\u001b[0;32mlambda\u001b[0m \u001b[0mx\u001b[0m\u001b[0;34m:\u001b[0m \u001b[0mx\u001b[0m\u001b[0;34m.\u001b[0m\u001b[0mfind_elements_by_css_selector\u001b[0m\u001b[0;34m(\u001b[0m\u001b[0;34m'.js_reviewArticleListContainer article div.sdp-review__article__list__review__content.js_reviewArticleContent'\u001b[0m\u001b[0;34m)\u001b[0m\u001b[0;34m)\u001b[0m\u001b[0;34m\u001b[0m\u001b[0m\n\u001b[0;32m---> 37\u001b[0;31m                 \u001b[0mreplyResult\u001b[0m\u001b[0;34m.\u001b[0m\u001b[0mextend\u001b[0m\u001b[0;34m(\u001b[0m\u001b[0mreply\u001b[0m\u001b[0;34m.\u001b[0m\u001b[0mtext\u001b[0m\u001b[0;34m.\u001b[0m\u001b[0mreplace\u001b[0m\u001b[0;34m(\u001b[0m\u001b[0;34m'\\n'\u001b[0m\u001b[0;34m,\u001b[0m \u001b[0;34m' '\u001b[0m\u001b[0;34m)\u001b[0m \u001b[0;32mfor\u001b[0m \u001b[0mreply\u001b[0m \u001b[0;32min\u001b[0m \u001b[0melement\u001b[0m\u001b[0;34m)\u001b[0m\u001b[0;34m\u001b[0m\u001b[0m\n\u001b[0m\u001b[1;32m     38\u001b[0m                 \u001b[0mtime\u001b[0m\u001b[0;34m.\u001b[0m\u001b[0msleep\u001b[0m\u001b[0;34m(\u001b[0m\u001b[0;36m1\u001b[0m\u001b[0;34m)\u001b[0m\u001b[0;34m\u001b[0m\u001b[0m\n\u001b[1;32m     39\u001b[0m             \u001b[0;32mexcept\u001b[0m \u001b[0mTimeoutException\u001b[0m\u001b[0;34m:\u001b[0m\u001b[0;34m\u001b[0m\u001b[0m\n",
      "\u001b[0;32m~/anaconda3/lib/python3.6/site-packages/selenium/webdriver/remote/webelement.py\u001b[0m in \u001b[0;36mtext\u001b[0;34m(self)\u001b[0m\n\u001b[1;32m     74\u001b[0m     \u001b[0;32mdef\u001b[0m \u001b[0mtext\u001b[0m\u001b[0;34m(\u001b[0m\u001b[0mself\u001b[0m\u001b[0;34m)\u001b[0m\u001b[0;34m:\u001b[0m\u001b[0;34m\u001b[0m\u001b[0m\n\u001b[1;32m     75\u001b[0m         \u001b[0;34m\"\"\"The text of the element.\"\"\"\u001b[0m\u001b[0;34m\u001b[0m\u001b[0m\n\u001b[0;32m---> 76\u001b[0;31m         \u001b[0;32mreturn\u001b[0m \u001b[0mself\u001b[0m\u001b[0;34m.\u001b[0m\u001b[0m_execute\u001b[0m\u001b[0;34m(\u001b[0m\u001b[0mCommand\u001b[0m\u001b[0;34m.\u001b[0m\u001b[0mGET_ELEMENT_TEXT\u001b[0m\u001b[0;34m)\u001b[0m\u001b[0;34m[\u001b[0m\u001b[0;34m'value'\u001b[0m\u001b[0;34m]\u001b[0m\u001b[0;34m\u001b[0m\u001b[0m\n\u001b[0m\u001b[1;32m     77\u001b[0m \u001b[0;34m\u001b[0m\u001b[0m\n\u001b[1;32m     78\u001b[0m     \u001b[0;32mdef\u001b[0m \u001b[0mclick\u001b[0m\u001b[0;34m(\u001b[0m\u001b[0mself\u001b[0m\u001b[0;34m)\u001b[0m\u001b[0;34m:\u001b[0m\u001b[0;34m\u001b[0m\u001b[0m\n",
      "\u001b[0;32m~/anaconda3/lib/python3.6/site-packages/selenium/webdriver/remote/webelement.py\u001b[0m in \u001b[0;36m_execute\u001b[0;34m(self, command, params)\u001b[0m\n\u001b[1;32m    626\u001b[0m             \u001b[0mparams\u001b[0m \u001b[0;34m=\u001b[0m \u001b[0;34m{\u001b[0m\u001b[0;34m}\u001b[0m\u001b[0;34m\u001b[0m\u001b[0m\n\u001b[1;32m    627\u001b[0m         \u001b[0mparams\u001b[0m\u001b[0;34m[\u001b[0m\u001b[0;34m'id'\u001b[0m\u001b[0;34m]\u001b[0m \u001b[0;34m=\u001b[0m \u001b[0mself\u001b[0m\u001b[0;34m.\u001b[0m\u001b[0m_id\u001b[0m\u001b[0;34m\u001b[0m\u001b[0m\n\u001b[0;32m--> 628\u001b[0;31m         \u001b[0;32mreturn\u001b[0m \u001b[0mself\u001b[0m\u001b[0;34m.\u001b[0m\u001b[0m_parent\u001b[0m\u001b[0;34m.\u001b[0m\u001b[0mexecute\u001b[0m\u001b[0;34m(\u001b[0m\u001b[0mcommand\u001b[0m\u001b[0;34m,\u001b[0m \u001b[0mparams\u001b[0m\u001b[0;34m)\u001b[0m\u001b[0;34m\u001b[0m\u001b[0m\n\u001b[0m\u001b[1;32m    629\u001b[0m \u001b[0;34m\u001b[0m\u001b[0m\n\u001b[1;32m    630\u001b[0m     \u001b[0;32mdef\u001b[0m \u001b[0mfind_element\u001b[0m\u001b[0;34m(\u001b[0m\u001b[0mself\u001b[0m\u001b[0;34m,\u001b[0m \u001b[0mby\u001b[0m\u001b[0;34m=\u001b[0m\u001b[0mBy\u001b[0m\u001b[0;34m.\u001b[0m\u001b[0mID\u001b[0m\u001b[0;34m,\u001b[0m \u001b[0mvalue\u001b[0m\u001b[0;34m=\u001b[0m\u001b[0;32mNone\u001b[0m\u001b[0;34m)\u001b[0m\u001b[0;34m:\u001b[0m\u001b[0;34m\u001b[0m\u001b[0m\n",
      "\u001b[0;32m~/anaconda3/lib/python3.6/site-packages/selenium/webdriver/remote/webdriver.py\u001b[0m in \u001b[0;36mexecute\u001b[0;34m(self, driver_command, params)\u001b[0m\n\u001b[1;32m    318\u001b[0m         \u001b[0mresponse\u001b[0m \u001b[0;34m=\u001b[0m \u001b[0mself\u001b[0m\u001b[0;34m.\u001b[0m\u001b[0mcommand_executor\u001b[0m\u001b[0;34m.\u001b[0m\u001b[0mexecute\u001b[0m\u001b[0;34m(\u001b[0m\u001b[0mdriver_command\u001b[0m\u001b[0;34m,\u001b[0m \u001b[0mparams\u001b[0m\u001b[0;34m)\u001b[0m\u001b[0;34m\u001b[0m\u001b[0m\n\u001b[1;32m    319\u001b[0m         \u001b[0;32mif\u001b[0m \u001b[0mresponse\u001b[0m\u001b[0;34m:\u001b[0m\u001b[0;34m\u001b[0m\u001b[0m\n\u001b[0;32m--> 320\u001b[0;31m             \u001b[0mself\u001b[0m\u001b[0;34m.\u001b[0m\u001b[0merror_handler\u001b[0m\u001b[0;34m.\u001b[0m\u001b[0mcheck_response\u001b[0m\u001b[0;34m(\u001b[0m\u001b[0mresponse\u001b[0m\u001b[0;34m)\u001b[0m\u001b[0;34m\u001b[0m\u001b[0m\n\u001b[0m\u001b[1;32m    321\u001b[0m             response['value'] = self._unwrap_value(\n\u001b[1;32m    322\u001b[0m                 response.get('value', None))\n",
      "\u001b[0;32m~/anaconda3/lib/python3.6/site-packages/selenium/webdriver/remote/errorhandler.py\u001b[0m in \u001b[0;36mcheck_response\u001b[0;34m(self, response)\u001b[0m\n\u001b[1;32m    240\u001b[0m                 \u001b[0malert_text\u001b[0m \u001b[0;34m=\u001b[0m \u001b[0mvalue\u001b[0m\u001b[0;34m[\u001b[0m\u001b[0;34m'alert'\u001b[0m\u001b[0;34m]\u001b[0m\u001b[0;34m.\u001b[0m\u001b[0mget\u001b[0m\u001b[0;34m(\u001b[0m\u001b[0;34m'text'\u001b[0m\u001b[0;34m)\u001b[0m\u001b[0;34m\u001b[0m\u001b[0m\n\u001b[1;32m    241\u001b[0m             \u001b[0;32mraise\u001b[0m \u001b[0mexception_class\u001b[0m\u001b[0;34m(\u001b[0m\u001b[0mmessage\u001b[0m\u001b[0;34m,\u001b[0m \u001b[0mscreen\u001b[0m\u001b[0;34m,\u001b[0m \u001b[0mstacktrace\u001b[0m\u001b[0;34m,\u001b[0m \u001b[0malert_text\u001b[0m\u001b[0;34m)\u001b[0m\u001b[0;34m\u001b[0m\u001b[0m\n\u001b[0;32m--> 242\u001b[0;31m         \u001b[0;32mraise\u001b[0m \u001b[0mexception_class\u001b[0m\u001b[0;34m(\u001b[0m\u001b[0mmessage\u001b[0m\u001b[0;34m,\u001b[0m \u001b[0mscreen\u001b[0m\u001b[0;34m,\u001b[0m \u001b[0mstacktrace\u001b[0m\u001b[0;34m)\u001b[0m\u001b[0;34m\u001b[0m\u001b[0m\n\u001b[0m\u001b[1;32m    243\u001b[0m \u001b[0;34m\u001b[0m\u001b[0m\n\u001b[1;32m    244\u001b[0m     \u001b[0;32mdef\u001b[0m \u001b[0m_value_or_default\u001b[0m\u001b[0;34m(\u001b[0m\u001b[0mself\u001b[0m\u001b[0;34m,\u001b[0m \u001b[0mobj\u001b[0m\u001b[0;34m,\u001b[0m \u001b[0mkey\u001b[0m\u001b[0;34m,\u001b[0m \u001b[0mdefault\u001b[0m\u001b[0;34m)\u001b[0m\u001b[0;34m:\u001b[0m\u001b[0;34m\u001b[0m\u001b[0m\n",
      "\u001b[0;31mStaleElementReferenceException\u001b[0m: Message: stale element reference: element is not attached to the page document\n  (Session info: chrome=68.0.3440.106)\n  (Driver info: chromedriver=2.40.565386 (45a059dc425e08165f9a10324bd1380cc13ca363),platform=Mac OS X 10.13.4 x86_64)\n"
     ]
    }
   ],
   "source": [
    "for link in links_toy[categoryList_toy[0]]:\n",
    "    getInfo_toy(link, categoryList_toy[0])"
   ]
  },
  {
   "cell_type": "code",
   "execution_count": 120,
   "metadata": {
    "scrolled": true
   },
   "outputs": [
    {
     "ename": "WebDriverException",
     "evalue": "Message: unknown error: Element <button class=\"sdp-review__article__page__num  js_reviewArticlePageBtn\" data-page=\"...\">3</button> is not clickable at point (516, 644). Other element would receive the click: <div class=\"sdp-review__white-dimmed js_reviewWhiteBgDimmed sdp-review__white-dimmed-active\"></div>\n  (Session info: chrome=68.0.3440.106)\n  (Driver info: chromedriver=2.40.565386 (45a059dc425e08165f9a10324bd1380cc13ca363),platform=Mac OS X 10.13.4 x86_64)\n",
     "output_type": "error",
     "traceback": [
      "\u001b[0;31m---------------------------------------------------------------------------\u001b[0m",
      "\u001b[0;31mWebDriverException\u001b[0m                        Traceback (most recent call last)",
      "\u001b[0;32m<ipython-input-120-1e7156f80f99>\u001b[0m in \u001b[0;36m<module>\u001b[0;34m()\u001b[0m\n\u001b[1;32m      1\u001b[0m \u001b[0;32mfor\u001b[0m \u001b[0mi\u001b[0m \u001b[0;32min\u001b[0m \u001b[0mrange\u001b[0m\u001b[0;34m(\u001b[0m\u001b[0;36m7\u001b[0m\u001b[0;34m)\u001b[0m\u001b[0;34m:\u001b[0m\u001b[0;34m\u001b[0m\u001b[0m\n\u001b[1;32m      2\u001b[0m     \u001b[0;32mfor\u001b[0m \u001b[0mlink\u001b[0m \u001b[0;32min\u001b[0m \u001b[0mlinks_toy\u001b[0m\u001b[0;34m[\u001b[0m\u001b[0mcategoryList_toy\u001b[0m\u001b[0;34m[\u001b[0m\u001b[0mi\u001b[0m\u001b[0;34m]\u001b[0m\u001b[0;34m]\u001b[0m\u001b[0;34m:\u001b[0m\u001b[0;34m\u001b[0m\u001b[0m\n\u001b[0;32m----> 3\u001b[0;31m         \u001b[0mgetInfo_toy\u001b[0m\u001b[0;34m(\u001b[0m\u001b[0mlink\u001b[0m\u001b[0;34m,\u001b[0m \u001b[0mcategoryList_toy\u001b[0m\u001b[0;34m[\u001b[0m\u001b[0mi\u001b[0m\u001b[0;34m]\u001b[0m\u001b[0;34m)\u001b[0m\u001b[0;34m\u001b[0m\u001b[0m\n\u001b[0m",
      "\u001b[0;32m<ipython-input-111-711dfe8718b0>\u001b[0m in \u001b[0;36mgetInfo_toy\u001b[0;34m(url, category, num_retries)\u001b[0m\n\u001b[1;32m     54\u001b[0m         \u001b[0;32mif\u001b[0m \u001b[0mlen\u001b[0m\u001b[0;34m(\u001b[0m\u001b[0mbuttonList\u001b[0m\u001b[0;34m)\u001b[0m \u001b[0;34m>\u001b[0m \u001b[0;36m0\u001b[0m\u001b[0;34m:\u001b[0m\u001b[0;34m\u001b[0m\u001b[0m\n\u001b[1;32m     55\u001b[0m             \u001b[0;32mfor\u001b[0m \u001b[0mi\u001b[0m \u001b[0;32min\u001b[0m \u001b[0mrange\u001b[0m\u001b[0;34m(\u001b[0m\u001b[0;36m1\u001b[0m\u001b[0;34m,\u001b[0m \u001b[0;36m5\u001b[0m\u001b[0;34m)\u001b[0m\u001b[0;34m:\u001b[0m\u001b[0;34m\u001b[0m\u001b[0m\n\u001b[0;32m---> 56\u001b[0;31m                 \u001b[0mgetReply\u001b[0m\u001b[0;34m(\u001b[0m\u001b[0mi\u001b[0m\u001b[0;34m)\u001b[0m\u001b[0;34m\u001b[0m\u001b[0m\n\u001b[0m\u001b[1;32m     57\u001b[0m                 \u001b[0mtime\u001b[0m\u001b[0;34m.\u001b[0m\u001b[0msleep\u001b[0m\u001b[0;34m(\u001b[0m\u001b[0;36m0.5\u001b[0m\u001b[0;34m)\u001b[0m\u001b[0;34m\u001b[0m\u001b[0m\n\u001b[1;32m     58\u001b[0m \u001b[0;34m\u001b[0m\u001b[0m\n",
      "\u001b[0;32m<ipython-input-111-711dfe8718b0>\u001b[0m in \u001b[0;36mgetReply\u001b[0;34m(pagenum)\u001b[0m\n\u001b[1;32m     48\u001b[0m                     \u001b[0mdriver\u001b[0m\u001b[0;34m.\u001b[0m\u001b[0mimplicitly_wait\u001b[0m\u001b[0;34m(\u001b[0m\u001b[0;36m1\u001b[0m\u001b[0;34m)\u001b[0m\u001b[0;34m\u001b[0m\u001b[0m\n\u001b[1;32m     49\u001b[0m             \u001b[0;32mif\u001b[0m \u001b[0mlen\u001b[0m\u001b[0;34m(\u001b[0m\u001b[0mbuttonList\u001b[0m\u001b[0;34m)\u001b[0m \u001b[0;34m>\u001b[0m \u001b[0;36m0\u001b[0m\u001b[0;34m:\u001b[0m\u001b[0;34m\u001b[0m\u001b[0m\n\u001b[0;32m---> 50\u001b[0;31m                 \u001b[0mbuttonList\u001b[0m\u001b[0;34m[\u001b[0m\u001b[0mpagenum\u001b[0m\u001b[0;34m]\u001b[0m\u001b[0;34m.\u001b[0m\u001b[0mclick\u001b[0m\u001b[0;34m(\u001b[0m\u001b[0;34m)\u001b[0m\u001b[0;34m\u001b[0m\u001b[0m\n\u001b[0m\u001b[1;32m     51\u001b[0m             \u001b[0;32melse\u001b[0m\u001b[0;34m:\u001b[0m\u001b[0;34m\u001b[0m\u001b[0m\n\u001b[1;32m     52\u001b[0m                 \u001b[0;32mreturn\u001b[0m \u001b[0;32mNone\u001b[0m\u001b[0;34m\u001b[0m\u001b[0m\n",
      "\u001b[0;32m~/anaconda3/lib/python3.6/site-packages/selenium/webdriver/remote/webelement.py\u001b[0m in \u001b[0;36mclick\u001b[0;34m(self)\u001b[0m\n\u001b[1;32m     78\u001b[0m     \u001b[0;32mdef\u001b[0m \u001b[0mclick\u001b[0m\u001b[0;34m(\u001b[0m\u001b[0mself\u001b[0m\u001b[0;34m)\u001b[0m\u001b[0;34m:\u001b[0m\u001b[0;34m\u001b[0m\u001b[0m\n\u001b[1;32m     79\u001b[0m         \u001b[0;34m\"\"\"Clicks the element.\"\"\"\u001b[0m\u001b[0;34m\u001b[0m\u001b[0m\n\u001b[0;32m---> 80\u001b[0;31m         \u001b[0mself\u001b[0m\u001b[0;34m.\u001b[0m\u001b[0m_execute\u001b[0m\u001b[0;34m(\u001b[0m\u001b[0mCommand\u001b[0m\u001b[0;34m.\u001b[0m\u001b[0mCLICK_ELEMENT\u001b[0m\u001b[0;34m)\u001b[0m\u001b[0;34m\u001b[0m\u001b[0m\n\u001b[0m\u001b[1;32m     81\u001b[0m \u001b[0;34m\u001b[0m\u001b[0m\n\u001b[1;32m     82\u001b[0m     \u001b[0;32mdef\u001b[0m \u001b[0msubmit\u001b[0m\u001b[0;34m(\u001b[0m\u001b[0mself\u001b[0m\u001b[0;34m)\u001b[0m\u001b[0;34m:\u001b[0m\u001b[0;34m\u001b[0m\u001b[0m\n",
      "\u001b[0;32m~/anaconda3/lib/python3.6/site-packages/selenium/webdriver/remote/webelement.py\u001b[0m in \u001b[0;36m_execute\u001b[0;34m(self, command, params)\u001b[0m\n\u001b[1;32m    626\u001b[0m             \u001b[0mparams\u001b[0m \u001b[0;34m=\u001b[0m \u001b[0;34m{\u001b[0m\u001b[0;34m}\u001b[0m\u001b[0;34m\u001b[0m\u001b[0m\n\u001b[1;32m    627\u001b[0m         \u001b[0mparams\u001b[0m\u001b[0;34m[\u001b[0m\u001b[0;34m'id'\u001b[0m\u001b[0;34m]\u001b[0m \u001b[0;34m=\u001b[0m \u001b[0mself\u001b[0m\u001b[0;34m.\u001b[0m\u001b[0m_id\u001b[0m\u001b[0;34m\u001b[0m\u001b[0m\n\u001b[0;32m--> 628\u001b[0;31m         \u001b[0;32mreturn\u001b[0m \u001b[0mself\u001b[0m\u001b[0;34m.\u001b[0m\u001b[0m_parent\u001b[0m\u001b[0;34m.\u001b[0m\u001b[0mexecute\u001b[0m\u001b[0;34m(\u001b[0m\u001b[0mcommand\u001b[0m\u001b[0;34m,\u001b[0m \u001b[0mparams\u001b[0m\u001b[0;34m)\u001b[0m\u001b[0;34m\u001b[0m\u001b[0m\n\u001b[0m\u001b[1;32m    629\u001b[0m \u001b[0;34m\u001b[0m\u001b[0m\n\u001b[1;32m    630\u001b[0m     \u001b[0;32mdef\u001b[0m \u001b[0mfind_element\u001b[0m\u001b[0;34m(\u001b[0m\u001b[0mself\u001b[0m\u001b[0;34m,\u001b[0m \u001b[0mby\u001b[0m\u001b[0;34m=\u001b[0m\u001b[0mBy\u001b[0m\u001b[0;34m.\u001b[0m\u001b[0mID\u001b[0m\u001b[0;34m,\u001b[0m \u001b[0mvalue\u001b[0m\u001b[0;34m=\u001b[0m\u001b[0;32mNone\u001b[0m\u001b[0;34m)\u001b[0m\u001b[0;34m:\u001b[0m\u001b[0;34m\u001b[0m\u001b[0m\n",
      "\u001b[0;32m~/anaconda3/lib/python3.6/site-packages/selenium/webdriver/remote/webdriver.py\u001b[0m in \u001b[0;36mexecute\u001b[0;34m(self, driver_command, params)\u001b[0m\n\u001b[1;32m    318\u001b[0m         \u001b[0mresponse\u001b[0m \u001b[0;34m=\u001b[0m \u001b[0mself\u001b[0m\u001b[0;34m.\u001b[0m\u001b[0mcommand_executor\u001b[0m\u001b[0;34m.\u001b[0m\u001b[0mexecute\u001b[0m\u001b[0;34m(\u001b[0m\u001b[0mdriver_command\u001b[0m\u001b[0;34m,\u001b[0m \u001b[0mparams\u001b[0m\u001b[0;34m)\u001b[0m\u001b[0;34m\u001b[0m\u001b[0m\n\u001b[1;32m    319\u001b[0m         \u001b[0;32mif\u001b[0m \u001b[0mresponse\u001b[0m\u001b[0;34m:\u001b[0m\u001b[0;34m\u001b[0m\u001b[0m\n\u001b[0;32m--> 320\u001b[0;31m             \u001b[0mself\u001b[0m\u001b[0;34m.\u001b[0m\u001b[0merror_handler\u001b[0m\u001b[0;34m.\u001b[0m\u001b[0mcheck_response\u001b[0m\u001b[0;34m(\u001b[0m\u001b[0mresponse\u001b[0m\u001b[0;34m)\u001b[0m\u001b[0;34m\u001b[0m\u001b[0m\n\u001b[0m\u001b[1;32m    321\u001b[0m             response['value'] = self._unwrap_value(\n\u001b[1;32m    322\u001b[0m                 response.get('value', None))\n",
      "\u001b[0;32m~/anaconda3/lib/python3.6/site-packages/selenium/webdriver/remote/errorhandler.py\u001b[0m in \u001b[0;36mcheck_response\u001b[0;34m(self, response)\u001b[0m\n\u001b[1;32m    240\u001b[0m                 \u001b[0malert_text\u001b[0m \u001b[0;34m=\u001b[0m \u001b[0mvalue\u001b[0m\u001b[0;34m[\u001b[0m\u001b[0;34m'alert'\u001b[0m\u001b[0;34m]\u001b[0m\u001b[0;34m.\u001b[0m\u001b[0mget\u001b[0m\u001b[0;34m(\u001b[0m\u001b[0;34m'text'\u001b[0m\u001b[0;34m)\u001b[0m\u001b[0;34m\u001b[0m\u001b[0m\n\u001b[1;32m    241\u001b[0m             \u001b[0;32mraise\u001b[0m \u001b[0mexception_class\u001b[0m\u001b[0;34m(\u001b[0m\u001b[0mmessage\u001b[0m\u001b[0;34m,\u001b[0m \u001b[0mscreen\u001b[0m\u001b[0;34m,\u001b[0m \u001b[0mstacktrace\u001b[0m\u001b[0;34m,\u001b[0m \u001b[0malert_text\u001b[0m\u001b[0;34m)\u001b[0m\u001b[0;34m\u001b[0m\u001b[0m\n\u001b[0;32m--> 242\u001b[0;31m         \u001b[0;32mraise\u001b[0m \u001b[0mexception_class\u001b[0m\u001b[0;34m(\u001b[0m\u001b[0mmessage\u001b[0m\u001b[0;34m,\u001b[0m \u001b[0mscreen\u001b[0m\u001b[0;34m,\u001b[0m \u001b[0mstacktrace\u001b[0m\u001b[0;34m)\u001b[0m\u001b[0;34m\u001b[0m\u001b[0m\n\u001b[0m\u001b[1;32m    243\u001b[0m \u001b[0;34m\u001b[0m\u001b[0m\n\u001b[1;32m    244\u001b[0m     \u001b[0;32mdef\u001b[0m \u001b[0m_value_or_default\u001b[0m\u001b[0;34m(\u001b[0m\u001b[0mself\u001b[0m\u001b[0;34m,\u001b[0m \u001b[0mobj\u001b[0m\u001b[0;34m,\u001b[0m \u001b[0mkey\u001b[0m\u001b[0;34m,\u001b[0m \u001b[0mdefault\u001b[0m\u001b[0;34m)\u001b[0m\u001b[0;34m:\u001b[0m\u001b[0;34m\u001b[0m\u001b[0m\n",
      "\u001b[0;31mWebDriverException\u001b[0m: Message: unknown error: Element <button class=\"sdp-review__article__page__num  js_reviewArticlePageBtn\" data-page=\"...\">3</button> is not clickable at point (516, 644). Other element would receive the click: <div class=\"sdp-review__white-dimmed js_reviewWhiteBgDimmed sdp-review__white-dimmed-active\"></div>\n  (Session info: chrome=68.0.3440.106)\n  (Driver info: chromedriver=2.40.565386 (45a059dc425e08165f9a10324bd1380cc13ca363),platform=Mac OS X 10.13.4 x86_64)\n"
     ]
    }
   ],
   "source": [
    "for i in range(7):\n",
    "    for link in links_toy[categoryList_toy[i]]:\n",
    "        getInfo_toy(link, categoryList_toy[i])"
   ]
  },
  {
   "cell_type": "code",
   "execution_count": 121,
   "metadata": {
    "scrolled": false
   },
   "outputs": [
    {
     "data": {
      "text/plain": [
       "20"
      ]
     },
     "execution_count": 121,
     "metadata": {},
     "output_type": "execute_result"
    }
   ],
   "source": [
    "len(toyList)"
   ]
  },
  {
   "cell_type": "markdown",
   "metadata": {},
   "source": [
    "___"
   ]
  },
  {
   "cell_type": "markdown",
   "metadata": {},
   "source": [
    "## 기저귀\n",
    "1. link\n",
    "2. img\n",
    "3. brand\n",
    "4. origin: 원산지(국내 / 해외)\n",
    "5. title: 제품명(있는 그대로)\n",
    "6. product: 보여줄 제품명(브랜드 + 연령대 + 형태)\n",
    "7. stage: {“신생아”:1,  “소형”:2, “중형”:3, “대형”:4, “특대형”:5, “점보”:6}\n",
    "8. type: 밴드 / 팬티\n",
    "9. price: 가격(int)\n",
    "10. rating: 평점\n",
    "11. replyCount: 상품평 갯수\n",
    "12. reply: 20개"
   ]
  },
  {
   "cell_type": "code",
   "execution_count": 89,
   "metadata": {},
   "outputs": [],
   "source": [
    "size_filter_diaper_boy = {\n",
    "    '신생아': '1%23attr_11880%244488attr_41%242%40DEFAULT',\n",
    "    '소형': '1%23attr_11880%244489attr_41%242%40DEFAULT',\n",
    "    '중형': '1%23attr_11880%244490attr_41%242%40DEFAULT',\n",
    "    '대형': '1%23attr_11880%244491attr_41%242%40DEFAULT',\n",
    "    '특대': '1%23attr_11880%244492attr_41%242%40DEFAULT',\n",
    "    '점보': '1%23attr_11880%244493attr_41%242%40DEFAULT'\n",
    "}"
   ]
  },
  {
   "cell_type": "code",
   "execution_count": 90,
   "metadata": {},
   "outputs": [],
   "source": [
    "size_filter_diaper_girl = {\n",
    "    '신생아': '1%23attr_11880%244488attr_41%241%40DEFAULT',\n",
    "    '소형': '1%23attr_11880%244489attr_41%241%40DEFAULT',\n",
    "    '중형': '1%23attr_11880%244490attr_41%241%40DEFAULT',\n",
    "    '대형': '1%23attr_11880%244491attr_41%241%40DEFAULT',\n",
    "    '특대': '1%23attr_11880%244492attr_41%241%40DEFAULT',\n",
    "    '점보': '1%23attr_11880%244493attr_41%241%40DEFAULT'\n",
    "}"
   ]
  },
  {
   "cell_type": "code",
   "execution_count": 91,
   "metadata": {},
   "outputs": [],
   "source": [
    "size_filter_diaper_uni = {\n",
    "    '신생아': '1%23attr_11880%244488attr_41%246%40DEFAULT',\n",
    "    '소형': '1%23attr_11880%244489attr_41%246%40DEFAULT',\n",
    "    '중형': '1%23attr_11880%244490attr_41%246%40DEFAULT',\n",
    "    '대형': '1%23attr_11880%244491attr_41%246%40DEFAULT',\n",
    "    '특대': '1%23attr_11880%244492attr_41%246%40DEFAULT',\n",
    "    '점보': '1%23attr_11880%244493attr_41%246%40DEFAULT'\n",
    "}"
   ]
  },
  {
   "cell_type": "code",
   "execution_count": 92,
   "metadata": {},
   "outputs": [],
   "source": [
    "sizeList_diaper = ['신생아', '소형', '중형', '대형', '특대', '점보']"
   ]
  },
  {
   "cell_type": "code",
   "execution_count": 93,
   "metadata": {},
   "outputs": [],
   "source": [
    "params_diaper = {\n",
    "    \"listSize\": \"60\",\n",
    "    \"brand\": \"\",\n",
    "    \"offerCondition\": \"\",\n",
    "    \"filterType\": \"\",\n",
    "    \"isPriceRange\": \"false\",\n",
    "    \"minPrice\": \"\",\n",
    "    \"maxPrice\": \"\",\n",
    "    \"page\": \"\",\n",
    "    \"channel\": \"user\",\n",
    "    \"fromComponent\": \"N\",\n",
    "    \"selectedPlpKeepFilter\": \"\",\n",
    "    \"sorter\": \"bestAsc\",\n",
    "    \"filter\": \"\",\n",
    "    \"component\": \"221863\",\n",
    "    \"rating\": \"0\",\n",
    "}"
   ]
  },
  {
   "cell_type": "code",
   "execution_count": 94,
   "metadata": {},
   "outputs": [],
   "source": [
    "seed_diaper = 'http://www.coupang.com/np/categories/221963'"
   ]
  },
  {
   "cell_type": "code",
   "execution_count": 95,
   "metadata": {
    "scrolled": true
   },
   "outputs": [
    {
     "name": "stdout",
     "output_type": "stream",
     "text": [
      "1%23attr_11880%244488attr_41%242%40DEFAULT\n",
      "http://www.coupang.com/np/categories/221963?listSize=60&brand=&offerCondition=&filterType=&isPriceRange=false&minPrice=&maxPrice=&page=1&channel=user&fromComponent=N&selectedPlpKeepFilter=&sorter=bestAsc&filter=1%23attr_11880%244488attr_41%242%40DEFAULT&component=221863&rating=0\n",
      "1\n",
      "1%23attr_11880%244488attr_41%242%40DEFAULT\n",
      "http://www.coupang.com/np/categories/221963?listSize=60&brand=&offerCondition=&filterType=&isPriceRange=false&minPrice=&maxPrice=&page=2&channel=user&fromComponent=N&selectedPlpKeepFilter=&sorter=bestAsc&filter=1%23attr_11880%244488attr_41%242%40DEFAULT&component=221863&rating=0\n",
      "1%23attr_11880%244489attr_41%242%40DEFAULT\n",
      "http://www.coupang.com/np/categories/221963?listSize=60&brand=&offerCondition=&filterType=&isPriceRange=false&minPrice=&maxPrice=&page=1&channel=user&fromComponent=N&selectedPlpKeepFilter=&sorter=bestAsc&filter=1%23attr_11880%244489attr_41%242%40DEFAULT&component=221863&rating=0\n",
      "1\n",
      "1%23attr_11880%244489attr_41%242%40DEFAULT\n",
      "http://www.coupang.com/np/categories/221963?listSize=60&brand=&offerCondition=&filterType=&isPriceRange=false&minPrice=&maxPrice=&page=2&channel=user&fromComponent=N&selectedPlpKeepFilter=&sorter=bestAsc&filter=1%23attr_11880%244489attr_41%242%40DEFAULT&component=221863&rating=0\n",
      "2\n",
      "1%23attr_11880%244489attr_41%242%40DEFAULT\n",
      "http://www.coupang.com/np/categories/221963?listSize=60&brand=&offerCondition=&filterType=&isPriceRange=false&minPrice=&maxPrice=&page=3&channel=user&fromComponent=N&selectedPlpKeepFilter=&sorter=bestAsc&filter=1%23attr_11880%244489attr_41%242%40DEFAULT&component=221863&rating=0\n",
      "1%23attr_11880%244490attr_41%242%40DEFAULT\n",
      "http://www.coupang.com/np/categories/221963?listSize=60&brand=&offerCondition=&filterType=&isPriceRange=false&minPrice=&maxPrice=&page=1&channel=user&fromComponent=N&selectedPlpKeepFilter=&sorter=bestAsc&filter=1%23attr_11880%244490attr_41%242%40DEFAULT&component=221863&rating=0\n",
      "1\n",
      "1%23attr_11880%244490attr_41%242%40DEFAULT\n",
      "http://www.coupang.com/np/categories/221963?listSize=60&brand=&offerCondition=&filterType=&isPriceRange=false&minPrice=&maxPrice=&page=2&channel=user&fromComponent=N&selectedPlpKeepFilter=&sorter=bestAsc&filter=1%23attr_11880%244490attr_41%242%40DEFAULT&component=221863&rating=0\n",
      "2\n",
      "1%23attr_11880%244490attr_41%242%40DEFAULT\n",
      "http://www.coupang.com/np/categories/221963?listSize=60&brand=&offerCondition=&filterType=&isPriceRange=false&minPrice=&maxPrice=&page=3&channel=user&fromComponent=N&selectedPlpKeepFilter=&sorter=bestAsc&filter=1%23attr_11880%244490attr_41%242%40DEFAULT&component=221863&rating=0\n",
      "3\n",
      "1%23attr_11880%244490attr_41%242%40DEFAULT\n",
      "http://www.coupang.com/np/categories/221963?listSize=60&brand=&offerCondition=&filterType=&isPriceRange=false&minPrice=&maxPrice=&page=4&channel=user&fromComponent=N&selectedPlpKeepFilter=&sorter=bestAsc&filter=1%23attr_11880%244490attr_41%242%40DEFAULT&component=221863&rating=0\n",
      "1%23attr_11880%244491attr_41%242%40DEFAULT\n",
      "http://www.coupang.com/np/categories/221963?listSize=60&brand=&offerCondition=&filterType=&isPriceRange=false&minPrice=&maxPrice=&page=1&channel=user&fromComponent=N&selectedPlpKeepFilter=&sorter=bestAsc&filter=1%23attr_11880%244491attr_41%242%40DEFAULT&component=221863&rating=0\n",
      "1\n",
      "1%23attr_11880%244491attr_41%242%40DEFAULT\n",
      "http://www.coupang.com/np/categories/221963?listSize=60&brand=&offerCondition=&filterType=&isPriceRange=false&minPrice=&maxPrice=&page=2&channel=user&fromComponent=N&selectedPlpKeepFilter=&sorter=bestAsc&filter=1%23attr_11880%244491attr_41%242%40DEFAULT&component=221863&rating=0\n",
      "2\n",
      "1%23attr_11880%244491attr_41%242%40DEFAULT\n",
      "http://www.coupang.com/np/categories/221963?listSize=60&brand=&offerCondition=&filterType=&isPriceRange=false&minPrice=&maxPrice=&page=3&channel=user&fromComponent=N&selectedPlpKeepFilter=&sorter=bestAsc&filter=1%23attr_11880%244491attr_41%242%40DEFAULT&component=221863&rating=0\n",
      "3\n",
      "1%23attr_11880%244491attr_41%242%40DEFAULT\n",
      "http://www.coupang.com/np/categories/221963?listSize=60&brand=&offerCondition=&filterType=&isPriceRange=false&minPrice=&maxPrice=&page=4&channel=user&fromComponent=N&selectedPlpKeepFilter=&sorter=bestAsc&filter=1%23attr_11880%244491attr_41%242%40DEFAULT&component=221863&rating=0\n",
      "4\n",
      "1%23attr_11880%244491attr_41%242%40DEFAULT\n",
      "http://www.coupang.com/np/categories/221963?listSize=60&brand=&offerCondition=&filterType=&isPriceRange=false&minPrice=&maxPrice=&page=5&channel=user&fromComponent=N&selectedPlpKeepFilter=&sorter=bestAsc&filter=1%23attr_11880%244491attr_41%242%40DEFAULT&component=221863&rating=0\n",
      "5\n",
      "1%23attr_11880%244491attr_41%242%40DEFAULT\n",
      "http://www.coupang.com/np/categories/221963?listSize=60&brand=&offerCondition=&filterType=&isPriceRange=false&minPrice=&maxPrice=&page=6&channel=user&fromComponent=N&selectedPlpKeepFilter=&sorter=bestAsc&filter=1%23attr_11880%244491attr_41%242%40DEFAULT&component=221863&rating=0\n",
      "6\n",
      "1%23attr_11880%244491attr_41%242%40DEFAULT\n",
      "http://www.coupang.com/np/categories/221963?listSize=60&brand=&offerCondition=&filterType=&isPriceRange=false&minPrice=&maxPrice=&page=7&channel=user&fromComponent=N&selectedPlpKeepFilter=&sorter=bestAsc&filter=1%23attr_11880%244491attr_41%242%40DEFAULT&component=221863&rating=0\n",
      "7\n",
      "1%23attr_11880%244491attr_41%242%40DEFAULT\n",
      "http://www.coupang.com/np/categories/221963?listSize=60&brand=&offerCondition=&filterType=&isPriceRange=false&minPrice=&maxPrice=&page=8&channel=user&fromComponent=N&selectedPlpKeepFilter=&sorter=bestAsc&filter=1%23attr_11880%244491attr_41%242%40DEFAULT&component=221863&rating=0\n",
      "1%23attr_11880%244492attr_41%242%40DEFAULT\n",
      "http://www.coupang.com/np/categories/221963?listSize=60&brand=&offerCondition=&filterType=&isPriceRange=false&minPrice=&maxPrice=&page=1&channel=user&fromComponent=N&selectedPlpKeepFilter=&sorter=bestAsc&filter=1%23attr_11880%244492attr_41%242%40DEFAULT&component=221863&rating=0\n",
      "1\n",
      "1%23attr_11880%244492attr_41%242%40DEFAULT\n",
      "http://www.coupang.com/np/categories/221963?listSize=60&brand=&offerCondition=&filterType=&isPriceRange=false&minPrice=&maxPrice=&page=2&channel=user&fromComponent=N&selectedPlpKeepFilter=&sorter=bestAsc&filter=1%23attr_11880%244492attr_41%242%40DEFAULT&component=221863&rating=0\n",
      "2\n",
      "1%23attr_11880%244492attr_41%242%40DEFAULT\n",
      "http://www.coupang.com/np/categories/221963?listSize=60&brand=&offerCondition=&filterType=&isPriceRange=false&minPrice=&maxPrice=&page=3&channel=user&fromComponent=N&selectedPlpKeepFilter=&sorter=bestAsc&filter=1%23attr_11880%244492attr_41%242%40DEFAULT&component=221863&rating=0\n",
      "3\n",
      "1%23attr_11880%244492attr_41%242%40DEFAULT\n",
      "http://www.coupang.com/np/categories/221963?listSize=60&brand=&offerCondition=&filterType=&isPriceRange=false&minPrice=&maxPrice=&page=4&channel=user&fromComponent=N&selectedPlpKeepFilter=&sorter=bestAsc&filter=1%23attr_11880%244492attr_41%242%40DEFAULT&component=221863&rating=0\n",
      "4\n",
      "1%23attr_11880%244492attr_41%242%40DEFAULT\n",
      "http://www.coupang.com/np/categories/221963?listSize=60&brand=&offerCondition=&filterType=&isPriceRange=false&minPrice=&maxPrice=&page=5&channel=user&fromComponent=N&selectedPlpKeepFilter=&sorter=bestAsc&filter=1%23attr_11880%244492attr_41%242%40DEFAULT&component=221863&rating=0\n",
      "5\n",
      "1%23attr_11880%244492attr_41%242%40DEFAULT\n",
      "http://www.coupang.com/np/categories/221963?listSize=60&brand=&offerCondition=&filterType=&isPriceRange=false&minPrice=&maxPrice=&page=6&channel=user&fromComponent=N&selectedPlpKeepFilter=&sorter=bestAsc&filter=1%23attr_11880%244492attr_41%242%40DEFAULT&component=221863&rating=0\n",
      "1%23attr_11880%244493attr_41%242%40DEFAULT\n",
      "http://www.coupang.com/np/categories/221963?listSize=60&brand=&offerCondition=&filterType=&isPriceRange=false&minPrice=&maxPrice=&page=1&channel=user&fromComponent=N&selectedPlpKeepFilter=&sorter=bestAsc&filter=1%23attr_11880%244493attr_41%242%40DEFAULT&component=221863&rating=0\n",
      "1\n",
      "1%23attr_11880%244493attr_41%242%40DEFAULT\n",
      "http://www.coupang.com/np/categories/221963?listSize=60&brand=&offerCondition=&filterType=&isPriceRange=false&minPrice=&maxPrice=&page=2&channel=user&fromComponent=N&selectedPlpKeepFilter=&sorter=bestAsc&filter=1%23attr_11880%244493attr_41%242%40DEFAULT&component=221863&rating=0\n",
      "2\n",
      "1%23attr_11880%244493attr_41%242%40DEFAULT\n",
      "http://www.coupang.com/np/categories/221963?listSize=60&brand=&offerCondition=&filterType=&isPriceRange=false&minPrice=&maxPrice=&page=3&channel=user&fromComponent=N&selectedPlpKeepFilter=&sorter=bestAsc&filter=1%23attr_11880%244493attr_41%242%40DEFAULT&component=221863&rating=0\n"
     ]
    }
   ],
   "source": [
    "result_diaper_boy = {\n",
    "    sizeList_diaper[0]: None,\n",
    "    sizeList_diaper[1]: None,\n",
    "    sizeList_diaper[2]: None,\n",
    "    sizeList_diaper[3]: None,\n",
    "    sizeList_diaper[4]: None,\n",
    "    sizeList_diaper[5]: None\n",
    "}\n",
    "\n",
    "for i in range(6):\n",
    "    currentpage = 1\n",
    "    params_diaper['filter'] = size_filter_diaper_boy[sizeList_diaper[i]]\n",
    "    temp = []\n",
    "    \n",
    "    while True:\n",
    "        params_diaper['page'] = str(currentpage)\n",
    "        print(params_diaper['filter'])\n",
    "        if len(getItemNum(seed_diaper, params_diaper)) == 0:\n",
    "            break\n",
    "        print(params_diaper['page'])\n",
    "        temp.extend(getURL(seed_diaper, params_diaper, select='ul.baby-product-list a.baby-product-link'))\n",
    "        currentpage += 1\n",
    "        \n",
    "    result_diaper_boy[sizeList_diaper[i]] = temp"
   ]
  },
  {
   "cell_type": "code",
   "execution_count": 96,
   "metadata": {},
   "outputs": [
    {
     "name": "stdout",
     "output_type": "stream",
     "text": [
      "신생아 60\n",
      "소형 120\n",
      "중형 180\n",
      "대형 420\n",
      "특대 300\n",
      "점보 120\n"
     ]
    }
   ],
   "source": [
    "for (k, v) in result_diaper_boy.items():\n",
    "    print(k, len(v))"
   ]
  },
  {
   "cell_type": "code",
   "execution_count": 97,
   "metadata": {
    "scrolled": true
   },
   "outputs": [
    {
     "name": "stdout",
     "output_type": "stream",
     "text": [
      "1%23attr_11880%244488attr_41%241%40DEFAULT\n",
      "http://www.coupang.com/np/categories/221963?listSize=60&brand=&offerCondition=&filterType=&isPriceRange=false&minPrice=&maxPrice=&page=1&channel=user&fromComponent=N&selectedPlpKeepFilter=&sorter=bestAsc&filter=1%23attr_11880%244488attr_41%241%40DEFAULT&component=221863&rating=0\n",
      "1\n",
      "1%23attr_11880%244488attr_41%241%40DEFAULT\n",
      "http://www.coupang.com/np/categories/221963?listSize=60&brand=&offerCondition=&filterType=&isPriceRange=false&minPrice=&maxPrice=&page=2&channel=user&fromComponent=N&selectedPlpKeepFilter=&sorter=bestAsc&filter=1%23attr_11880%244488attr_41%241%40DEFAULT&component=221863&rating=0\n",
      "1%23attr_11880%244489attr_41%241%40DEFAULT\n",
      "http://www.coupang.com/np/categories/221963?listSize=60&brand=&offerCondition=&filterType=&isPriceRange=false&minPrice=&maxPrice=&page=1&channel=user&fromComponent=N&selectedPlpKeepFilter=&sorter=bestAsc&filter=1%23attr_11880%244489attr_41%241%40DEFAULT&component=221863&rating=0\n",
      "1\n",
      "1%23attr_11880%244489attr_41%241%40DEFAULT\n",
      "http://www.coupang.com/np/categories/221963?listSize=60&brand=&offerCondition=&filterType=&isPriceRange=false&minPrice=&maxPrice=&page=2&channel=user&fromComponent=N&selectedPlpKeepFilter=&sorter=bestAsc&filter=1%23attr_11880%244489attr_41%241%40DEFAULT&component=221863&rating=0\n",
      "2\n",
      "1%23attr_11880%244489attr_41%241%40DEFAULT\n",
      "http://www.coupang.com/np/categories/221963?listSize=60&brand=&offerCondition=&filterType=&isPriceRange=false&minPrice=&maxPrice=&page=3&channel=user&fromComponent=N&selectedPlpKeepFilter=&sorter=bestAsc&filter=1%23attr_11880%244489attr_41%241%40DEFAULT&component=221863&rating=0\n",
      "1%23attr_11880%244490attr_41%241%40DEFAULT\n",
      "http://www.coupang.com/np/categories/221963?listSize=60&brand=&offerCondition=&filterType=&isPriceRange=false&minPrice=&maxPrice=&page=1&channel=user&fromComponent=N&selectedPlpKeepFilter=&sorter=bestAsc&filter=1%23attr_11880%244490attr_41%241%40DEFAULT&component=221863&rating=0\n",
      "1\n",
      "1%23attr_11880%244490attr_41%241%40DEFAULT\n",
      "http://www.coupang.com/np/categories/221963?listSize=60&brand=&offerCondition=&filterType=&isPriceRange=false&minPrice=&maxPrice=&page=2&channel=user&fromComponent=N&selectedPlpKeepFilter=&sorter=bestAsc&filter=1%23attr_11880%244490attr_41%241%40DEFAULT&component=221863&rating=0\n",
      "2\n",
      "1%23attr_11880%244490attr_41%241%40DEFAULT\n",
      "http://www.coupang.com/np/categories/221963?listSize=60&brand=&offerCondition=&filterType=&isPriceRange=false&minPrice=&maxPrice=&page=3&channel=user&fromComponent=N&selectedPlpKeepFilter=&sorter=bestAsc&filter=1%23attr_11880%244490attr_41%241%40DEFAULT&component=221863&rating=0\n",
      "3\n",
      "1%23attr_11880%244490attr_41%241%40DEFAULT\n",
      "http://www.coupang.com/np/categories/221963?listSize=60&brand=&offerCondition=&filterType=&isPriceRange=false&minPrice=&maxPrice=&page=4&channel=user&fromComponent=N&selectedPlpKeepFilter=&sorter=bestAsc&filter=1%23attr_11880%244490attr_41%241%40DEFAULT&component=221863&rating=0\n",
      "1%23attr_11880%244491attr_41%241%40DEFAULT\n",
      "http://www.coupang.com/np/categories/221963?listSize=60&brand=&offerCondition=&filterType=&isPriceRange=false&minPrice=&maxPrice=&page=1&channel=user&fromComponent=N&selectedPlpKeepFilter=&sorter=bestAsc&filter=1%23attr_11880%244491attr_41%241%40DEFAULT&component=221863&rating=0\n",
      "1\n",
      "1%23attr_11880%244491attr_41%241%40DEFAULT\n",
      "http://www.coupang.com/np/categories/221963?listSize=60&brand=&offerCondition=&filterType=&isPriceRange=false&minPrice=&maxPrice=&page=2&channel=user&fromComponent=N&selectedPlpKeepFilter=&sorter=bestAsc&filter=1%23attr_11880%244491attr_41%241%40DEFAULT&component=221863&rating=0\n",
      "2\n",
      "1%23attr_11880%244491attr_41%241%40DEFAULT\n",
      "http://www.coupang.com/np/categories/221963?listSize=60&brand=&offerCondition=&filterType=&isPriceRange=false&minPrice=&maxPrice=&page=3&channel=user&fromComponent=N&selectedPlpKeepFilter=&sorter=bestAsc&filter=1%23attr_11880%244491attr_41%241%40DEFAULT&component=221863&rating=0\n",
      "3\n",
      "1%23attr_11880%244491attr_41%241%40DEFAULT\n",
      "http://www.coupang.com/np/categories/221963?listSize=60&brand=&offerCondition=&filterType=&isPriceRange=false&minPrice=&maxPrice=&page=4&channel=user&fromComponent=N&selectedPlpKeepFilter=&sorter=bestAsc&filter=1%23attr_11880%244491attr_41%241%40DEFAULT&component=221863&rating=0\n",
      "4\n",
      "1%23attr_11880%244491attr_41%241%40DEFAULT\n",
      "http://www.coupang.com/np/categories/221963?listSize=60&brand=&offerCondition=&filterType=&isPriceRange=false&minPrice=&maxPrice=&page=5&channel=user&fromComponent=N&selectedPlpKeepFilter=&sorter=bestAsc&filter=1%23attr_11880%244491attr_41%241%40DEFAULT&component=221863&rating=0\n",
      "5\n",
      "1%23attr_11880%244491attr_41%241%40DEFAULT\n",
      "http://www.coupang.com/np/categories/221963?listSize=60&brand=&offerCondition=&filterType=&isPriceRange=false&minPrice=&maxPrice=&page=6&channel=user&fromComponent=N&selectedPlpKeepFilter=&sorter=bestAsc&filter=1%23attr_11880%244491attr_41%241%40DEFAULT&component=221863&rating=0\n",
      "6\n",
      "1%23attr_11880%244491attr_41%241%40DEFAULT\n",
      "http://www.coupang.com/np/categories/221963?listSize=60&brand=&offerCondition=&filterType=&isPriceRange=false&minPrice=&maxPrice=&page=7&channel=user&fromComponent=N&selectedPlpKeepFilter=&sorter=bestAsc&filter=1%23attr_11880%244491attr_41%241%40DEFAULT&component=221863&rating=0\n",
      "1%23attr_11880%244492attr_41%241%40DEFAULT\n",
      "http://www.coupang.com/np/categories/221963?listSize=60&brand=&offerCondition=&filterType=&isPriceRange=false&minPrice=&maxPrice=&page=1&channel=user&fromComponent=N&selectedPlpKeepFilter=&sorter=bestAsc&filter=1%23attr_11880%244492attr_41%241%40DEFAULT&component=221863&rating=0\n",
      "1\n",
      "1%23attr_11880%244492attr_41%241%40DEFAULT\n",
      "http://www.coupang.com/np/categories/221963?listSize=60&brand=&offerCondition=&filterType=&isPriceRange=false&minPrice=&maxPrice=&page=2&channel=user&fromComponent=N&selectedPlpKeepFilter=&sorter=bestAsc&filter=1%23attr_11880%244492attr_41%241%40DEFAULT&component=221863&rating=0\n",
      "2\n",
      "1%23attr_11880%244492attr_41%241%40DEFAULT\n",
      "http://www.coupang.com/np/categories/221963?listSize=60&brand=&offerCondition=&filterType=&isPriceRange=false&minPrice=&maxPrice=&page=3&channel=user&fromComponent=N&selectedPlpKeepFilter=&sorter=bestAsc&filter=1%23attr_11880%244492attr_41%241%40DEFAULT&component=221863&rating=0\n",
      "3\n",
      "1%23attr_11880%244492attr_41%241%40DEFAULT\n",
      "http://www.coupang.com/np/categories/221963?listSize=60&brand=&offerCondition=&filterType=&isPriceRange=false&minPrice=&maxPrice=&page=4&channel=user&fromComponent=N&selectedPlpKeepFilter=&sorter=bestAsc&filter=1%23attr_11880%244492attr_41%241%40DEFAULT&component=221863&rating=0\n",
      "4\n",
      "1%23attr_11880%244492attr_41%241%40DEFAULT\n",
      "http://www.coupang.com/np/categories/221963?listSize=60&brand=&offerCondition=&filterType=&isPriceRange=false&minPrice=&maxPrice=&page=5&channel=user&fromComponent=N&selectedPlpKeepFilter=&sorter=bestAsc&filter=1%23attr_11880%244492attr_41%241%40DEFAULT&component=221863&rating=0\n",
      "5\n",
      "1%23attr_11880%244492attr_41%241%40DEFAULT\n",
      "http://www.coupang.com/np/categories/221963?listSize=60&brand=&offerCondition=&filterType=&isPriceRange=false&minPrice=&maxPrice=&page=6&channel=user&fromComponent=N&selectedPlpKeepFilter=&sorter=bestAsc&filter=1%23attr_11880%244492attr_41%241%40DEFAULT&component=221863&rating=0\n",
      "6\n",
      "1%23attr_11880%244492attr_41%241%40DEFAULT\n",
      "http://www.coupang.com/np/categories/221963?listSize=60&brand=&offerCondition=&filterType=&isPriceRange=false&minPrice=&maxPrice=&page=7&channel=user&fromComponent=N&selectedPlpKeepFilter=&sorter=bestAsc&filter=1%23attr_11880%244492attr_41%241%40DEFAULT&component=221863&rating=0\n",
      "1%23attr_11880%244493attr_41%241%40DEFAULT\n",
      "http://www.coupang.com/np/categories/221963?listSize=60&brand=&offerCondition=&filterType=&isPriceRange=false&minPrice=&maxPrice=&page=1&channel=user&fromComponent=N&selectedPlpKeepFilter=&sorter=bestAsc&filter=1%23attr_11880%244493attr_41%241%40DEFAULT&component=221863&rating=0\n",
      "1\n",
      "1%23attr_11880%244493attr_41%241%40DEFAULT\n",
      "http://www.coupang.com/np/categories/221963?listSize=60&brand=&offerCondition=&filterType=&isPriceRange=false&minPrice=&maxPrice=&page=2&channel=user&fromComponent=N&selectedPlpKeepFilter=&sorter=bestAsc&filter=1%23attr_11880%244493attr_41%241%40DEFAULT&component=221863&rating=0\n",
      "2\n",
      "1%23attr_11880%244493attr_41%241%40DEFAULT\n",
      "http://www.coupang.com/np/categories/221963?listSize=60&brand=&offerCondition=&filterType=&isPriceRange=false&minPrice=&maxPrice=&page=3&channel=user&fromComponent=N&selectedPlpKeepFilter=&sorter=bestAsc&filter=1%23attr_11880%244493attr_41%241%40DEFAULT&component=221863&rating=0\n"
     ]
    }
   ],
   "source": [
    "result_diaper_girl = {\n",
    "    sizeList_diaper[0]: None,\n",
    "    sizeList_diaper[1]: None,\n",
    "    sizeList_diaper[2]: None,\n",
    "    sizeList_diaper[3]: None,\n",
    "    sizeList_diaper[4]: None,\n",
    "    sizeList_diaper[5]: None\n",
    "}\n",
    "\n",
    "for i in range(6):\n",
    "    currentpage = 1\n",
    "    params_diaper['filter'] = size_filter_diaper_girl[sizeList_diaper[i]]\n",
    "    temp = []\n",
    "    \n",
    "    while True:\n",
    "        params_diaper['page'] = str(currentpage)\n",
    "        print(params_diaper['filter'])\n",
    "        if len(getItemNum(seed_diaper, params_diaper)) == 0:\n",
    "            break\n",
    "        print(params_diaper['page'])\n",
    "        temp.extend(getURL(seed_diaper, params_diaper, select='ul.baby-product-list a.baby-product-link'))\n",
    "        currentpage += 1\n",
    "        \n",
    "    result_diaper_girl[sizeList_diaper[i]] = temp"
   ]
  },
  {
   "cell_type": "code",
   "execution_count": 98,
   "metadata": {},
   "outputs": [
    {
     "name": "stdout",
     "output_type": "stream",
     "text": [
      "신생아 60\n",
      "소형 120\n",
      "중형 180\n",
      "대형 360\n",
      "특대 360\n",
      "점보 120\n"
     ]
    }
   ],
   "source": [
    "for (k, v) in result_diaper_girl.items():\n",
    "    print(k, len(v))"
   ]
  },
  {
   "cell_type": "code",
   "execution_count": 99,
   "metadata": {
    "scrolled": true
   },
   "outputs": [
    {
     "name": "stdout",
     "output_type": "stream",
     "text": [
      "1%23attr_11880%244488attr_41%246%40DEFAULT\n",
      "http://www.coupang.com/np/categories/221963?listSize=60&brand=&offerCondition=&filterType=&isPriceRange=false&minPrice=&maxPrice=&page=1&channel=user&fromComponent=N&selectedPlpKeepFilter=&sorter=bestAsc&filter=1%23attr_11880%244488attr_41%246%40DEFAULT&component=221863&rating=0\n",
      "1\n",
      "1%23attr_11880%244488attr_41%246%40DEFAULT\n",
      "http://www.coupang.com/np/categories/221963?listSize=60&brand=&offerCondition=&filterType=&isPriceRange=false&minPrice=&maxPrice=&page=2&channel=user&fromComponent=N&selectedPlpKeepFilter=&sorter=bestAsc&filter=1%23attr_11880%244488attr_41%246%40DEFAULT&component=221863&rating=0\n",
      "2\n",
      "1%23attr_11880%244488attr_41%246%40DEFAULT\n",
      "http://www.coupang.com/np/categories/221963?listSize=60&brand=&offerCondition=&filterType=&isPriceRange=false&minPrice=&maxPrice=&page=3&channel=user&fromComponent=N&selectedPlpKeepFilter=&sorter=bestAsc&filter=1%23attr_11880%244488attr_41%246%40DEFAULT&component=221863&rating=0\n",
      "3\n",
      "1%23attr_11880%244488attr_41%246%40DEFAULT\n",
      "http://www.coupang.com/np/categories/221963?listSize=60&brand=&offerCondition=&filterType=&isPriceRange=false&minPrice=&maxPrice=&page=4&channel=user&fromComponent=N&selectedPlpKeepFilter=&sorter=bestAsc&filter=1%23attr_11880%244488attr_41%246%40DEFAULT&component=221863&rating=0\n",
      "4\n",
      "1%23attr_11880%244488attr_41%246%40DEFAULT\n",
      "http://www.coupang.com/np/categories/221963?listSize=60&brand=&offerCondition=&filterType=&isPriceRange=false&minPrice=&maxPrice=&page=5&channel=user&fromComponent=N&selectedPlpKeepFilter=&sorter=bestAsc&filter=1%23attr_11880%244488attr_41%246%40DEFAULT&component=221863&rating=0\n",
      "5\n",
      "1%23attr_11880%244488attr_41%246%40DEFAULT\n",
      "http://www.coupang.com/np/categories/221963?listSize=60&brand=&offerCondition=&filterType=&isPriceRange=false&minPrice=&maxPrice=&page=6&channel=user&fromComponent=N&selectedPlpKeepFilter=&sorter=bestAsc&filter=1%23attr_11880%244488attr_41%246%40DEFAULT&component=221863&rating=0\n",
      "6\n",
      "1%23attr_11880%244488attr_41%246%40DEFAULT\n",
      "http://www.coupang.com/np/categories/221963?listSize=60&brand=&offerCondition=&filterType=&isPriceRange=false&minPrice=&maxPrice=&page=7&channel=user&fromComponent=N&selectedPlpKeepFilter=&sorter=bestAsc&filter=1%23attr_11880%244488attr_41%246%40DEFAULT&component=221863&rating=0\n",
      "1%23attr_11880%244489attr_41%246%40DEFAULT\n",
      "http://www.coupang.com/np/categories/221963?listSize=60&brand=&offerCondition=&filterType=&isPriceRange=false&minPrice=&maxPrice=&page=1&channel=user&fromComponent=N&selectedPlpKeepFilter=&sorter=bestAsc&filter=1%23attr_11880%244489attr_41%246%40DEFAULT&component=221863&rating=0\n",
      "1\n",
      "1%23attr_11880%244489attr_41%246%40DEFAULT\n",
      "http://www.coupang.com/np/categories/221963?listSize=60&brand=&offerCondition=&filterType=&isPriceRange=false&minPrice=&maxPrice=&page=2&channel=user&fromComponent=N&selectedPlpKeepFilter=&sorter=bestAsc&filter=1%23attr_11880%244489attr_41%246%40DEFAULT&component=221863&rating=0\n",
      "2\n",
      "1%23attr_11880%244489attr_41%246%40DEFAULT\n",
      "http://www.coupang.com/np/categories/221963?listSize=60&brand=&offerCondition=&filterType=&isPriceRange=false&minPrice=&maxPrice=&page=3&channel=user&fromComponent=N&selectedPlpKeepFilter=&sorter=bestAsc&filter=1%23attr_11880%244489attr_41%246%40DEFAULT&component=221863&rating=0\n",
      "3\n",
      "1%23attr_11880%244489attr_41%246%40DEFAULT\n",
      "http://www.coupang.com/np/categories/221963?listSize=60&brand=&offerCondition=&filterType=&isPriceRange=false&minPrice=&maxPrice=&page=4&channel=user&fromComponent=N&selectedPlpKeepFilter=&sorter=bestAsc&filter=1%23attr_11880%244489attr_41%246%40DEFAULT&component=221863&rating=0\n",
      "4\n",
      "1%23attr_11880%244489attr_41%246%40DEFAULT\n",
      "http://www.coupang.com/np/categories/221963?listSize=60&brand=&offerCondition=&filterType=&isPriceRange=false&minPrice=&maxPrice=&page=5&channel=user&fromComponent=N&selectedPlpKeepFilter=&sorter=bestAsc&filter=1%23attr_11880%244489attr_41%246%40DEFAULT&component=221863&rating=0\n",
      "5\n",
      "1%23attr_11880%244489attr_41%246%40DEFAULT\n",
      "http://www.coupang.com/np/categories/221963?listSize=60&brand=&offerCondition=&filterType=&isPriceRange=false&minPrice=&maxPrice=&page=6&channel=user&fromComponent=N&selectedPlpKeepFilter=&sorter=bestAsc&filter=1%23attr_11880%244489attr_41%246%40DEFAULT&component=221863&rating=0\n",
      "6\n",
      "1%23attr_11880%244489attr_41%246%40DEFAULT\n",
      "http://www.coupang.com/np/categories/221963?listSize=60&brand=&offerCondition=&filterType=&isPriceRange=false&minPrice=&maxPrice=&page=7&channel=user&fromComponent=N&selectedPlpKeepFilter=&sorter=bestAsc&filter=1%23attr_11880%244489attr_41%246%40DEFAULT&component=221863&rating=0\n",
      "7\n",
      "1%23attr_11880%244489attr_41%246%40DEFAULT\n",
      "http://www.coupang.com/np/categories/221963?listSize=60&brand=&offerCondition=&filterType=&isPriceRange=false&minPrice=&maxPrice=&page=8&channel=user&fromComponent=N&selectedPlpKeepFilter=&sorter=bestAsc&filter=1%23attr_11880%244489attr_41%246%40DEFAULT&component=221863&rating=0\n",
      "1%23attr_11880%244490attr_41%246%40DEFAULT\n",
      "http://www.coupang.com/np/categories/221963?listSize=60&brand=&offerCondition=&filterType=&isPriceRange=false&minPrice=&maxPrice=&page=1&channel=user&fromComponent=N&selectedPlpKeepFilter=&sorter=bestAsc&filter=1%23attr_11880%244490attr_41%246%40DEFAULT&component=221863&rating=0\n",
      "1\n",
      "1%23attr_11880%244490attr_41%246%40DEFAULT\n",
      "http://www.coupang.com/np/categories/221963?listSize=60&brand=&offerCondition=&filterType=&isPriceRange=false&minPrice=&maxPrice=&page=2&channel=user&fromComponent=N&selectedPlpKeepFilter=&sorter=bestAsc&filter=1%23attr_11880%244490attr_41%246%40DEFAULT&component=221863&rating=0\n",
      "2\n",
      "1%23attr_11880%244490attr_41%246%40DEFAULT\n",
      "http://www.coupang.com/np/categories/221963?listSize=60&brand=&offerCondition=&filterType=&isPriceRange=false&minPrice=&maxPrice=&page=3&channel=user&fromComponent=N&selectedPlpKeepFilter=&sorter=bestAsc&filter=1%23attr_11880%244490attr_41%246%40DEFAULT&component=221863&rating=0\n",
      "3\n",
      "1%23attr_11880%244490attr_41%246%40DEFAULT\n",
      "http://www.coupang.com/np/categories/221963?listSize=60&brand=&offerCondition=&filterType=&isPriceRange=false&minPrice=&maxPrice=&page=4&channel=user&fromComponent=N&selectedPlpKeepFilter=&sorter=bestAsc&filter=1%23attr_11880%244490attr_41%246%40DEFAULT&component=221863&rating=0\n",
      "4\n",
      "1%23attr_11880%244490attr_41%246%40DEFAULT\n",
      "http://www.coupang.com/np/categories/221963?listSize=60&brand=&offerCondition=&filterType=&isPriceRange=false&minPrice=&maxPrice=&page=5&channel=user&fromComponent=N&selectedPlpKeepFilter=&sorter=bestAsc&filter=1%23attr_11880%244490attr_41%246%40DEFAULT&component=221863&rating=0\n",
      "5\n",
      "1%23attr_11880%244490attr_41%246%40DEFAULT\n",
      "http://www.coupang.com/np/categories/221963?listSize=60&brand=&offerCondition=&filterType=&isPriceRange=false&minPrice=&maxPrice=&page=6&channel=user&fromComponent=N&selectedPlpKeepFilter=&sorter=bestAsc&filter=1%23attr_11880%244490attr_41%246%40DEFAULT&component=221863&rating=0\n",
      "6\n",
      "1%23attr_11880%244490attr_41%246%40DEFAULT\n",
      "http://www.coupang.com/np/categories/221963?listSize=60&brand=&offerCondition=&filterType=&isPriceRange=false&minPrice=&maxPrice=&page=7&channel=user&fromComponent=N&selectedPlpKeepFilter=&sorter=bestAsc&filter=1%23attr_11880%244490attr_41%246%40DEFAULT&component=221863&rating=0\n",
      "7\n",
      "1%23attr_11880%244490attr_41%246%40DEFAULT\n",
      "http://www.coupang.com/np/categories/221963?listSize=60&brand=&offerCondition=&filterType=&isPriceRange=false&minPrice=&maxPrice=&page=8&channel=user&fromComponent=N&selectedPlpKeepFilter=&sorter=bestAsc&filter=1%23attr_11880%244490attr_41%246%40DEFAULT&component=221863&rating=0\n",
      "8\n",
      "1%23attr_11880%244490attr_41%246%40DEFAULT\n",
      "http://www.coupang.com/np/categories/221963?listSize=60&brand=&offerCondition=&filterType=&isPriceRange=false&minPrice=&maxPrice=&page=9&channel=user&fromComponent=N&selectedPlpKeepFilter=&sorter=bestAsc&filter=1%23attr_11880%244490attr_41%246%40DEFAULT&component=221863&rating=0\n",
      "9\n",
      "1%23attr_11880%244490attr_41%246%40DEFAULT\n",
      "http://www.coupang.com/np/categories/221963?listSize=60&brand=&offerCondition=&filterType=&isPriceRange=false&minPrice=&maxPrice=&page=10&channel=user&fromComponent=N&selectedPlpKeepFilter=&sorter=bestAsc&filter=1%23attr_11880%244490attr_41%246%40DEFAULT&component=221863&rating=0\n",
      "1%23attr_11880%244491attr_41%246%40DEFAULT\n",
      "http://www.coupang.com/np/categories/221963?listSize=60&brand=&offerCondition=&filterType=&isPriceRange=false&minPrice=&maxPrice=&page=1&channel=user&fromComponent=N&selectedPlpKeepFilter=&sorter=bestAsc&filter=1%23attr_11880%244491attr_41%246%40DEFAULT&component=221863&rating=0\n"
     ]
    },
    {
     "name": "stdout",
     "output_type": "stream",
     "text": [
      "1\n",
      "1%23attr_11880%244491attr_41%246%40DEFAULT\n",
      "http://www.coupang.com/np/categories/221963?listSize=60&brand=&offerCondition=&filterType=&isPriceRange=false&minPrice=&maxPrice=&page=2&channel=user&fromComponent=N&selectedPlpKeepFilter=&sorter=bestAsc&filter=1%23attr_11880%244491attr_41%246%40DEFAULT&component=221863&rating=0\n",
      "2\n",
      "1%23attr_11880%244491attr_41%246%40DEFAULT\n",
      "http://www.coupang.com/np/categories/221963?listSize=60&brand=&offerCondition=&filterType=&isPriceRange=false&minPrice=&maxPrice=&page=3&channel=user&fromComponent=N&selectedPlpKeepFilter=&sorter=bestAsc&filter=1%23attr_11880%244491attr_41%246%40DEFAULT&component=221863&rating=0\n",
      "3\n",
      "1%23attr_11880%244491attr_41%246%40DEFAULT\n",
      "http://www.coupang.com/np/categories/221963?listSize=60&brand=&offerCondition=&filterType=&isPriceRange=false&minPrice=&maxPrice=&page=4&channel=user&fromComponent=N&selectedPlpKeepFilter=&sorter=bestAsc&filter=1%23attr_11880%244491attr_41%246%40DEFAULT&component=221863&rating=0\n",
      "4\n",
      "1%23attr_11880%244491attr_41%246%40DEFAULT\n",
      "http://www.coupang.com/np/categories/221963?listSize=60&brand=&offerCondition=&filterType=&isPriceRange=false&minPrice=&maxPrice=&page=5&channel=user&fromComponent=N&selectedPlpKeepFilter=&sorter=bestAsc&filter=1%23attr_11880%244491attr_41%246%40DEFAULT&component=221863&rating=0\n",
      "5\n",
      "1%23attr_11880%244491attr_41%246%40DEFAULT\n",
      "http://www.coupang.com/np/categories/221963?listSize=60&brand=&offerCondition=&filterType=&isPriceRange=false&minPrice=&maxPrice=&page=6&channel=user&fromComponent=N&selectedPlpKeepFilter=&sorter=bestAsc&filter=1%23attr_11880%244491attr_41%246%40DEFAULT&component=221863&rating=0\n",
      "6\n",
      "1%23attr_11880%244491attr_41%246%40DEFAULT\n",
      "http://www.coupang.com/np/categories/221963?listSize=60&brand=&offerCondition=&filterType=&isPriceRange=false&minPrice=&maxPrice=&page=7&channel=user&fromComponent=N&selectedPlpKeepFilter=&sorter=bestAsc&filter=1%23attr_11880%244491attr_41%246%40DEFAULT&component=221863&rating=0\n",
      "7\n",
      "1%23attr_11880%244491attr_41%246%40DEFAULT\n",
      "http://www.coupang.com/np/categories/221963?listSize=60&brand=&offerCondition=&filterType=&isPriceRange=false&minPrice=&maxPrice=&page=8&channel=user&fromComponent=N&selectedPlpKeepFilter=&sorter=bestAsc&filter=1%23attr_11880%244491attr_41%246%40DEFAULT&component=221863&rating=0\n",
      "8\n",
      "1%23attr_11880%244491attr_41%246%40DEFAULT\n",
      "http://www.coupang.com/np/categories/221963?listSize=60&brand=&offerCondition=&filterType=&isPriceRange=false&minPrice=&maxPrice=&page=9&channel=user&fromComponent=N&selectedPlpKeepFilter=&sorter=bestAsc&filter=1%23attr_11880%244491attr_41%246%40DEFAULT&component=221863&rating=0\n",
      "9\n",
      "1%23attr_11880%244491attr_41%246%40DEFAULT\n",
      "http://www.coupang.com/np/categories/221963?listSize=60&brand=&offerCondition=&filterType=&isPriceRange=false&minPrice=&maxPrice=&page=10&channel=user&fromComponent=N&selectedPlpKeepFilter=&sorter=bestAsc&filter=1%23attr_11880%244491attr_41%246%40DEFAULT&component=221863&rating=0\n",
      "10\n",
      "1%23attr_11880%244491attr_41%246%40DEFAULT\n",
      "http://www.coupang.com/np/categories/221963?listSize=60&brand=&offerCondition=&filterType=&isPriceRange=false&minPrice=&maxPrice=&page=11&channel=user&fromComponent=N&selectedPlpKeepFilter=&sorter=bestAsc&filter=1%23attr_11880%244491attr_41%246%40DEFAULT&component=221863&rating=0\n",
      "11\n",
      "1%23attr_11880%244491attr_41%246%40DEFAULT\n",
      "http://www.coupang.com/np/categories/221963?listSize=60&brand=&offerCondition=&filterType=&isPriceRange=false&minPrice=&maxPrice=&page=12&channel=user&fromComponent=N&selectedPlpKeepFilter=&sorter=bestAsc&filter=1%23attr_11880%244491attr_41%246%40DEFAULT&component=221863&rating=0\n",
      "12\n",
      "1%23attr_11880%244491attr_41%246%40DEFAULT\n",
      "http://www.coupang.com/np/categories/221963?listSize=60&brand=&offerCondition=&filterType=&isPriceRange=false&minPrice=&maxPrice=&page=13&channel=user&fromComponent=N&selectedPlpKeepFilter=&sorter=bestAsc&filter=1%23attr_11880%244491attr_41%246%40DEFAULT&component=221863&rating=0\n",
      "1%23attr_11880%244492attr_41%246%40DEFAULT\n",
      "http://www.coupang.com/np/categories/221963?listSize=60&brand=&offerCondition=&filterType=&isPriceRange=false&minPrice=&maxPrice=&page=1&channel=user&fromComponent=N&selectedPlpKeepFilter=&sorter=bestAsc&filter=1%23attr_11880%244492attr_41%246%40DEFAULT&component=221863&rating=0\n",
      "1\n",
      "1%23attr_11880%244492attr_41%246%40DEFAULT\n",
      "http://www.coupang.com/np/categories/221963?listSize=60&brand=&offerCondition=&filterType=&isPriceRange=false&minPrice=&maxPrice=&page=2&channel=user&fromComponent=N&selectedPlpKeepFilter=&sorter=bestAsc&filter=1%23attr_11880%244492attr_41%246%40DEFAULT&component=221863&rating=0\n",
      "2\n",
      "1%23attr_11880%244492attr_41%246%40DEFAULT\n",
      "http://www.coupang.com/np/categories/221963?listSize=60&brand=&offerCondition=&filterType=&isPriceRange=false&minPrice=&maxPrice=&page=3&channel=user&fromComponent=N&selectedPlpKeepFilter=&sorter=bestAsc&filter=1%23attr_11880%244492attr_41%246%40DEFAULT&component=221863&rating=0\n",
      "3\n",
      "1%23attr_11880%244492attr_41%246%40DEFAULT\n",
      "http://www.coupang.com/np/categories/221963?listSize=60&brand=&offerCondition=&filterType=&isPriceRange=false&minPrice=&maxPrice=&page=4&channel=user&fromComponent=N&selectedPlpKeepFilter=&sorter=bestAsc&filter=1%23attr_11880%244492attr_41%246%40DEFAULT&component=221863&rating=0\n",
      "4\n",
      "1%23attr_11880%244492attr_41%246%40DEFAULT\n",
      "http://www.coupang.com/np/categories/221963?listSize=60&brand=&offerCondition=&filterType=&isPriceRange=false&minPrice=&maxPrice=&page=5&channel=user&fromComponent=N&selectedPlpKeepFilter=&sorter=bestAsc&filter=1%23attr_11880%244492attr_41%246%40DEFAULT&component=221863&rating=0\n",
      "5\n",
      "1%23attr_11880%244492attr_41%246%40DEFAULT\n",
      "http://www.coupang.com/np/categories/221963?listSize=60&brand=&offerCondition=&filterType=&isPriceRange=false&minPrice=&maxPrice=&page=6&channel=user&fromComponent=N&selectedPlpKeepFilter=&sorter=bestAsc&filter=1%23attr_11880%244492attr_41%246%40DEFAULT&component=221863&rating=0\n",
      "6\n",
      "1%23attr_11880%244492attr_41%246%40DEFAULT\n",
      "http://www.coupang.com/np/categories/221963?listSize=60&brand=&offerCondition=&filterType=&isPriceRange=false&minPrice=&maxPrice=&page=7&channel=user&fromComponent=N&selectedPlpKeepFilter=&sorter=bestAsc&filter=1%23attr_11880%244492attr_41%246%40DEFAULT&component=221863&rating=0\n",
      "7\n",
      "1%23attr_11880%244492attr_41%246%40DEFAULT\n",
      "http://www.coupang.com/np/categories/221963?listSize=60&brand=&offerCondition=&filterType=&isPriceRange=false&minPrice=&maxPrice=&page=8&channel=user&fromComponent=N&selectedPlpKeepFilter=&sorter=bestAsc&filter=1%23attr_11880%244492attr_41%246%40DEFAULT&component=221863&rating=0\n",
      "8\n",
      "1%23attr_11880%244492attr_41%246%40DEFAULT\n",
      "http://www.coupang.com/np/categories/221963?listSize=60&brand=&offerCondition=&filterType=&isPriceRange=false&minPrice=&maxPrice=&page=9&channel=user&fromComponent=N&selectedPlpKeepFilter=&sorter=bestAsc&filter=1%23attr_11880%244492attr_41%246%40DEFAULT&component=221863&rating=0\n",
      "9\n",
      "1%23attr_11880%244492attr_41%246%40DEFAULT\n",
      "http://www.coupang.com/np/categories/221963?listSize=60&brand=&offerCondition=&filterType=&isPriceRange=false&minPrice=&maxPrice=&page=10&channel=user&fromComponent=N&selectedPlpKeepFilter=&sorter=bestAsc&filter=1%23attr_11880%244492attr_41%246%40DEFAULT&component=221863&rating=0\n",
      "10\n",
      "1%23attr_11880%244492attr_41%246%40DEFAULT\n",
      "http://www.coupang.com/np/categories/221963?listSize=60&brand=&offerCondition=&filterType=&isPriceRange=false&minPrice=&maxPrice=&page=11&channel=user&fromComponent=N&selectedPlpKeepFilter=&sorter=bestAsc&filter=1%23attr_11880%244492attr_41%246%40DEFAULT&component=221863&rating=0\n",
      "1%23attr_11880%244493attr_41%246%40DEFAULT\n",
      "http://www.coupang.com/np/categories/221963?listSize=60&brand=&offerCondition=&filterType=&isPriceRange=false&minPrice=&maxPrice=&page=1&channel=user&fromComponent=N&selectedPlpKeepFilter=&sorter=bestAsc&filter=1%23attr_11880%244493attr_41%246%40DEFAULT&component=221863&rating=0\n",
      "1\n",
      "1%23attr_11880%244493attr_41%246%40DEFAULT\n",
      "http://www.coupang.com/np/categories/221963?listSize=60&brand=&offerCondition=&filterType=&isPriceRange=false&minPrice=&maxPrice=&page=2&channel=user&fromComponent=N&selectedPlpKeepFilter=&sorter=bestAsc&filter=1%23attr_11880%244493attr_41%246%40DEFAULT&component=221863&rating=0\n",
      "2\n",
      "1%23attr_11880%244493attr_41%246%40DEFAULT\n",
      "http://www.coupang.com/np/categories/221963?listSize=60&brand=&offerCondition=&filterType=&isPriceRange=false&minPrice=&maxPrice=&page=3&channel=user&fromComponent=N&selectedPlpKeepFilter=&sorter=bestAsc&filter=1%23attr_11880%244493attr_41%246%40DEFAULT&component=221863&rating=0\n"
     ]
    },
    {
     "name": "stdout",
     "output_type": "stream",
     "text": [
      "3\n",
      "1%23attr_11880%244493attr_41%246%40DEFAULT\n",
      "http://www.coupang.com/np/categories/221963?listSize=60&brand=&offerCondition=&filterType=&isPriceRange=false&minPrice=&maxPrice=&page=4&channel=user&fromComponent=N&selectedPlpKeepFilter=&sorter=bestAsc&filter=1%23attr_11880%244493attr_41%246%40DEFAULT&component=221863&rating=0\n"
     ]
    }
   ],
   "source": [
    "result_diaper_uni = {\n",
    "    sizeList_diaper[0]: None,\n",
    "    sizeList_diaper[1]: None,\n",
    "    sizeList_diaper[2]: None,\n",
    "    sizeList_diaper[3]: None,\n",
    "    sizeList_diaper[4]: None,\n",
    "    sizeList_diaper[5]: None\n",
    "}\n",
    "\n",
    "for i in range(6):\n",
    "    currentpage = 1\n",
    "    params_diaper['filter'] = size_filter_diaper_uni[sizeList_diaper[i]]\n",
    "    temp = []\n",
    "    \n",
    "    while True:\n",
    "        params_diaper['page'] = str(currentpage)\n",
    "        print(params_diaper['filter'])\n",
    "        if len(getItemNum(seed_diaper, params_diaper)) == 0:\n",
    "            break\n",
    "        print(params_diaper['page'])\n",
    "        temp.extend(getURL(seed_diaper, params_diaper, select='ul.baby-product-list a.baby-product-link'))\n",
    "        currentpage += 1\n",
    "        \n",
    "    result_diaper_uni[sizeList_diaper[i]] = temp"
   ]
  },
  {
   "cell_type": "code",
   "execution_count": 100,
   "metadata": {},
   "outputs": [
    {
     "name": "stdout",
     "output_type": "stream",
     "text": [
      "신생아 360\n",
      "소형 420\n",
      "중형 540\n",
      "대형 720\n",
      "특대 600\n",
      "점보 180\n"
     ]
    }
   ],
   "source": [
    "for (k, v) in result_diaper_uni.items():\n",
    "    print(k, len(v))"
   ]
  },
  {
   "cell_type": "code",
   "execution_count": 202,
   "metadata": {},
   "outputs": [],
   "source": [
    "diaperList = []"
   ]
  },
  {
   "cell_type": "code",
   "execution_count": 102,
   "metadata": {},
   "outputs": [],
   "source": [
    "def getInfo_diaper(url, sizeInfo, gender, num_retries=2):\n",
    "    html = requests.get(url, headers=headers)\n",
    "    \n",
    "    if 500<=html.status_code<600 and num_retries>0:\n",
    "        print(html.status_code, html.reason)\n",
    "        return getInfo_diaper(seed, params, num_retries-1)\n",
    "    \n",
    "    dom = BeautifulSoup(html.text, 'lxml')\n",
    "    if len(dom.select('div.oos-label')) == 0 and len(dom.select('span.total-price strong')) > 0:\n",
    "        name = dom.select('h2.prod-buy-header__title')[0].get_text()\n",
    "        brand = dom.select('a.prod-brand-name')[0].get_text()\n",
    "        price = int(dom.select('span.total-price strong')[0].get_text().replace('\\n', '').replace('원', '').replace(',', ''))\n",
    "        url = html.url\n",
    "        img = 'http:' + dom.select('img.prod-image__detail')[0]['src']\n",
    "        diaperList.append(tuple([name, gender, brand, sizeInfo, price, url, img]))\n",
    "    \n",
    "    return None"
   ]
  },
  {
   "cell_type": "code",
   "execution_count": 163,
   "metadata": {},
   "outputs": [],
   "source": [
    "def getall_diaper_boy():\n",
    "    startTime = time.time()\n",
    "    for i in range(6):\n",
    "        for url in result_diaper_boy[sizeList_diaper[i]]:\n",
    "            getInfo_diaper(url, sizeList_diaper[i], gender_list[1])\n",
    "    \n",
    "    print('Done-boy')\n",
    "    print(time.time() - startTime)\n",
    "    return None\n",
    "\n",
    "def getall_diaper_girl():\n",
    "    startTime = time.time()\n",
    "    for i in range(6):\n",
    "        for url in result_diaper_girl[sizeList_diaper[i]]:\n",
    "            getInfo_diaper(url, sizeList_diaper[i], gender_list[0])\n",
    "    \n",
    "    print('Done-girl')\n",
    "    print(time.time() - startTime)\n",
    "    return None\n",
    "\n",
    "def getall_diaper_uni():\n",
    "    startTime = time.time()\n",
    "    for i in range(6):\n",
    "        for url in result_diaper_uni[sizeList_diaper[i]]:\n",
    "            getInfo_diaper(url, sizeList_diaper[i], gender_list[2])\n",
    "    \n",
    "    print('Done-uni')\n",
    "    print(time.time() - startTime)\n",
    "    return None"
   ]
  },
  {
   "cell_type": "code",
   "execution_count": 203,
   "metadata": {
    "scrolled": true
   },
   "outputs": [],
   "source": [
    "import threading\n",
    " \n",
    "thread_boy = threading.Thread(target=getall_diaper_boy)\n",
    "thread_girl = threading.Thread(target=getall_diaper_girl)\n",
    "thread_uni = threading.Thread(target=getall_diaper_uni)\n",
    "\n",
    "thread_boy.start()\n",
    "thread_girl.start()\n",
    "thread_uni.start()"
   ]
  },
  {
   "cell_type": "code",
   "execution_count": 227,
   "metadata": {},
   "outputs": [],
   "source": [
    "import sqlite3 as sql"
   ]
  },
  {
   "cell_type": "code",
   "execution_count": 230,
   "metadata": {},
   "outputs": [],
   "source": [
    "con = sql.connect('coupang-bulk.db')\n",
    "\n",
    "with con:\n",
    "    cur = con.cursor()\n",
    "    cur.execute(\"DROP TABLE IF EXISTS Snack\")\n",
    "    cur.execute(\"CREATE TABLE Snack(Brand TEXT, Name TEXT, Price INT, url TEXT, img TEXT, Monthinfo TEXT)\")\n",
    "    cur.executemany(\"INSERT INTO Snack VALUES (?, ?, ?, ?, ?, ?)\", snackList)\n",
    "    \n",
    "    cur.execute(\"DROP TABLE IF EXISTS Milkpowder\")\n",
    "    cur.execute(\"CREATE TABLE Milkpowder(Brand TEXT, Name TEXT, Price INT, url TEXT, img TEXT, Monthinfo TEXT)\")\n",
    "    cur.executemany(\"INSERT INTO Milkpowder VALUES (?, ?, ?, ?, ?, ?)\", milkPowderList)\n",
    "    \n",
    "    cur.execute(\"DROP TABLE IF EXISTS Clothes\")\n",
    "    cur.execute(\"CREATE TABLE Clothes(Name TEXT, Gender TEXT, Price INT, url TEXT, img TEXT, Monthinfo TEXT)\")\n",
    "    cur.executemany(\"INSERT INTO Clothes VALUES (?, ?, ?, ?, ?, ?)\", clothesList)\n",
    "    \n",
    "    cur.execute(\"DROP TABLE IF EXISTS Toy\")\n",
    "    cur.execute(\"CREATE TABLE Toy(Name TEXT, Gender TEXT, Price INT, url TEXT, img TEXT, Monthinfo TEXT)\")\n",
    "    cur.executemany(\"INSERT INTO Toy VALUES (?, ?, ?, ?, ?, ?)\", toyList)\n",
    "    \n",
    "    cur.execute(\"DROP TABLE IF EXISTS Diaper\")\n",
    "    cur.execute(\"CREATE TABLE Diaper(Name TEXT, Gender TEXT, Brand TEXT, Sizeinfo TEXT, Price INT, url TEXT, img TEXT)\")\n",
    "    cur.executemany(\"INSERT INTO Diaper VALUES (?, ?, ?, ?, ?, ?, ?)\", diaperList)"
   ]
  }
 ],
 "metadata": {
  "kernelspec": {
   "display_name": "Python 3",
   "language": "python",
   "name": "python3"
  },
  "language_info": {
   "codemirror_mode": {
    "name": "ipython",
    "version": 3
   },
   "file_extension": ".py",
   "mimetype": "text/x-python",
   "name": "python",
   "nbconvert_exporter": "python",
   "pygments_lexer": "ipython3",
   "version": "3.6.5"
  }
 },
 "nbformat": 4,
 "nbformat_minor": 2
}
