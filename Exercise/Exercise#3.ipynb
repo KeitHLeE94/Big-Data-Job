{
 "cells": [
  {
   "cell_type": "markdown",
   "metadata": {},
   "source": [
    "전공자반 이재현"
   ]
  },
  {
   "cell_type": "markdown",
   "metadata": {},
   "source": [
    "___"
   ]
  },
  {
   "cell_type": "markdown",
   "metadata": {},
   "source": [
    "Exercise 82: Taxi Fare"
   ]
  },
  {
   "cell_type": "markdown",
   "metadata": {},
   "source": [
    "In a particular jurisdiction, taxi fares consist of a base fare of $4.00, plus $0.25 for every 140 meters traveled. Write a function that takes the distance traveled (in kilometers) as its only parameter and returns the total fare as its only result. Write a\n",
    "main program that demonstrates the function.\n",
    "\n",
    "Hint: Taxi fares change over time. Use constants to represent the base fare and the variable portion of the fare so that the program can be updated easily when the rates increase."
   ]
  },
  {
   "cell_type": "code",
   "execution_count": 7,
   "metadata": {},
   "outputs": [
    {
     "name": "stdout",
     "output_type": "stream",
     "text": [
      "1.5\n",
      "6.75\n"
     ]
    }
   ],
   "source": [
    "def fare(kilo):\n",
    "    total = 4.00 + (0.25 * (((kilo * 1000) // 140) + 1))\n",
    "    return total\n",
    "\n",
    "try:\n",
    "    travel = float(input())\n",
    "except:\n",
    "    print('Input must be number')\n",
    "else:\n",
    "    print(fare(travel))"
   ]
  },
  {
   "cell_type": "markdown",
   "metadata": {},
   "source": [
    "Exercise 84: Median of Three Values"
   ]
  },
  {
   "cell_type": "markdown",
   "metadata": {},
   "source": [
    "Write a function that takes three numbers as parameters, and returns the median value of those parameters as its result. Include a main program that reads three values from\n",
    "the user and displays their median.\n",
    "\n",
    "Hint: The median value is the middle of the three values when they are sorted into ascending order. It can be found using if statements, or with a little bit of mathematical creativity."
   ]
  },
  {
   "cell_type": "code",
   "execution_count": 4,
   "metadata": {
    "scrolled": true
   },
   "outputs": [
    {
     "name": "stdout",
     "output_type": "stream",
     "text": [
      "10\n",
      "6\n",
      "8\n",
      "8\n"
     ]
    }
   ],
   "source": [
    "input_list = list()\n",
    "\n",
    "def med(num1, num2, num3):\n",
    "    temp = list()\n",
    "    temp.append(num1)\n",
    "    temp.append(num2)\n",
    "    temp.append(num3)\n",
    "    temp.sort()\n",
    "    return temp[1]\n",
    "\n",
    "while len(input_list) < 3:\n",
    "    try:\n",
    "        num = int(input())\n",
    "    except:\n",
    "        continue\n",
    "    else:\n",
    "        input_list.append(num)\n",
    "    \n",
    "print(med(input_list[0], input_list[1], input_list[2]))"
   ]
  },
  {
   "cell_type": "markdown",
   "metadata": {},
   "source": [
    "Exercise 85: Convert an Integer to its Ordinal Number"
   ]
  },
  {
   "cell_type": "markdown",
   "metadata": {},
   "source": [
    "Words like first, second and third are referred to as ordinal numbers. In this exercise, you will write a function that takes an integer as its only parameter and returns a string containing the appropriate English ordinal number as its only result. Your function must handle the integers between 1 and 12 (inclusive). It should return an empty string if a value outside of this range is provided as a parameter. Include a main program that demonstrates your function by displaying each integer from 1 to 12 and its ordinal number. Your main program should only run when your file has\n",
    "not been imported into another program."
   ]
  },
  {
   "cell_type": "code",
   "execution_count": 9,
   "metadata": {},
   "outputs": [
    {
     "name": "stdout",
     "output_type": "stream",
     "text": [
      "k\n",
      "Input must be integer\n",
      "None\n"
     ]
    }
   ],
   "source": [
    "def ordinal(num):\n",
    "    ordinal_list = ['first', 'second', 'third', 'fourth', 'fifth', 'sixth', 'seventh', 'eighth', 'ninth', 'tenth', 'eleventh', 'twelfth']\n",
    "    try:\n",
    "        temp = int(num)\n",
    "    except:\n",
    "        print('Input must be integer')\n",
    "    else:\n",
    "        if 1 <= temp <= 12:\n",
    "            return ordinal_list[temp-1]\n",
    "        else:\n",
    "            return ''\n",
    "        \n",
    "print(ordinal(input()))"
   ]
  },
  {
   "cell_type": "markdown",
   "metadata": {},
   "source": [
    "Exercise 88: Is it a Valid Triangle?"
   ]
  },
  {
   "cell_type": "markdown",
   "metadata": {},
   "source": [
    "If you have 3 straws, possibly of differing lengths, it may or may not be possible to lay them down so that they form a triangle when their ends are touching. For example, if all of the straws have a length of 6 inches. then one can easily construct an equilateral triangle using them. However, if one straw is 6 inches. long, while the other two are each only 2 inches. long, then a triangle cannot be formed. In general, if any one length is greater than or equal to the sum of the other two then the lengths cannot be used to form a triangle. Otherwise they can form a triangle.\n",
    "\n",
    "Write a function that determines whether or not three lengths can form a triangle. The function will take 3 parameters and return a Boolean result. In addition, write a program that reads 3 lengths from the user and demonstrates the behaviour of this function."
   ]
  },
  {
   "cell_type": "code",
   "execution_count": 21,
   "metadata": {},
   "outputs": [
    {
     "name": "stdout",
     "output_type": "stream",
     "text": [
      "1.1\n",
      "3.3\n",
      "2\n",
      "\n",
      "3\n",
      "3\n",
      "True\n"
     ]
    }
   ],
   "source": [
    "import math\n",
    "\n",
    "length_list = list()\n",
    "\n",
    "def tri_judge(num1, num2, num3):\n",
    "    num_list = list()\n",
    "    num_list.append(num1)\n",
    "    num_list.append(num2)\n",
    "    num_list.append(num3)\n",
    "    if (num1 >= num2 + num3) or (num2 >= num1 + num3) or (num3 >= num1 + num2):\n",
    "        return False\n",
    "    else:\n",
    "        return True\n",
    "    \n",
    "while len(length_list) < 3:\n",
    "    temp = input()\n",
    "    try:\n",
    "        length = int(temp)\n",
    "    except:\n",
    "        continue\n",
    "    else:\n",
    "        length_list.append(length)\n",
    "        \n",
    "print(tri_judge(length_list[0], length_list[1], length_list[2]))"
   ]
  },
  {
   "cell_type": "markdown",
   "metadata": {},
   "source": [
    "Exercise 92: Is a Number Prime?"
   ]
  },
  {
   "cell_type": "markdown",
   "metadata": {},
   "source": [
    "A prime number is an integer greater than 1 that is only divisible by one and itself. Write a function that determines whether or not its parameter is prime, returning True if it is, and False otherwise. Write a main program that reads an integer from the user and displays a message indicating whether or not it is prime. Ensure that the main program will not run if the file containing your solution is imported\n",
    "into another program."
   ]
  },
  {
   "cell_type": "code",
   "execution_count": 29,
   "metadata": {},
   "outputs": [
    {
     "name": "stdout",
     "output_type": "stream",
     "text": [
      "113\n",
      "True\n"
     ]
    }
   ],
   "source": [
    "def prime_judge(num):\n",
    "    flag = True\n",
    "    if num <= 1:\n",
    "        flag = False\n",
    "    elif num == 2:\n",
    "        flag = True\n",
    "    elif num%2 == 0:\n",
    "        flag = False\n",
    "    else:\n",
    "        for i in range(2, num//2):\n",
    "            if num%i == 0:\n",
    "                flag = False\n",
    "                \n",
    "    return flag\n",
    "\n",
    "temp = input()\n",
    "try:\n",
    "    numb = int(temp)\n",
    "except:\n",
    "    print('Input must be Integer')\n",
    "else:\n",
    "    print(prime_judge(numb))"
   ]
  },
  {
   "cell_type": "markdown",
   "metadata": {},
   "source": [
    "___"
   ]
  },
  {
   "cell_type": "markdown",
   "metadata": {},
   "source": [
    "Exercise 86: The Twelve Days of Christmas"
   ]
  },
  {
   "cell_type": "markdown",
   "metadata": {},
   "source": [
    "The Twelve Days of Christmas is a repetitive song that describes an increasingly long list of gifts sent to one’s true love on each of 12 days. A single gift is sent on the first day. A new gift is added to the collection on each additional day, and then the complete collection is sent. The first three verses of the song are shown below.\n",
    "The complete lyrics are available on the internet.\n",
    "\n",
    "On the first day of Christmas my true love sent to me:\n",
    "A partridge in a pear tree.\n",
    "\n",
    "On the second day of Christmas my true love sent to me:\n",
    "Two turtle doves,\n",
    "And a partridge in a pear tree.\n",
    "\n",
    "On the third day of Christmas my true love sent to me: Three French hens,\n",
    "Two turtle doves,\n",
    "And a partridge in a pear tree.\n",
    "\n",
    "Your task is to write a program that displays the complete lyrics for The Twelve Days of Christmas. Write a function that takes the verse number as its only parameter and displays the specified verse of the song. Then call that function 12 times with integers that increase from 1 to 12.\n",
    "\n",
    "Each item that is sent to the recipient in the song should only appear once in your program, with the possible exception of the partridge. It may appear twice if that helps you handle the difference between “A partridge in a pear tree” in the first verse and “And a partridge in a pear tree” in the subsequent verses. Import your solution to Exercise 85 to help you complete this exercise."
   ]
  },
  {
   "cell_type": "code",
   "execution_count": 38,
   "metadata": {},
   "outputs": [
    {
     "name": "stdout",
     "output_type": "stream",
     "text": [
      "On the first day of Christmas my true love sent to me: A partridge in a pear tree.\n",
      "On the second day of Christmas my true love sent to me: Two turtle doves, And a partridge in a pear tree.\n",
      "On the third day of Christmas my true love sent to me: Three French hens, Two turtle doves, And a partridge in a pear tree.\n",
      "On the fourth day of Christmas my true love sent to me: Four Calling birds, Three French hens, Two turtle doves, And a partridge in a pear tree.\n",
      "On the fifth day of Christmas my true love sent to me: Five gold rings, Four Calling birds, Three French hens, Two turtle doves, And a partridge in a pear tree.\n",
      "On the sixth day of Christmas my true love sent to me: Six Geese a-Lying, Five gold rings, Four Calling birds, Three French hens, Two turtle doves, And a partridge in a pear tree.\n",
      "On the seventh day of Christmas my true love sent to me: Seven Swans a-Swimming, Six Geese a-Lying, Five gold rings, Four Calling birds, Three French hens, Two turtle doves, And a partridge in a pear tree.\n",
      "On the eighth day of Christmas my true love sent to me: Eight Maids a-Milking, Seven Swans a-Swimming, Six Geese a-Lying, Five gold rings, Four Calling birds, Three French hens, Two turtle doves, And a partridge in a pear tree.\n",
      "On the ninth day of Christmas my true love sent to me: Nine Ladies Dancing, Eight Maids a-Milking, Seven Swans a-Swimming, Six Geese a-Lying, Five gold rings, Four Calling birds, Three French hens, Two turtle doves, And a partridge in a pear tree.\n",
      "On the tenth day of Christmas my true love sent to me: Ten Lords a-Leaping, Nine Ladies Dancing, Eight Maids a-Milking, Seven Swans a-Swimming, Six Geese a-Lying, Five gold rings, Four Calling birds, Three French hens, Two turtle doves, And a partridge in a pear tree.\n",
      "On the eleventh day of Christmas my true love sent to me: Eleven Pipers piping, Ten Lords a-Leaping, Nine Ladies Dancing, Eight Maids a-Milking, Seven Swans a-Swimming, Six Geese a-Lying, Five gold rings, Four Calling birds, Three French hens, Two turtle doves, And a partridge in a pear tree.\n",
      "On the twelfth day of Christmas my true love sent to me: Twelve Drummers Drumming, Eleven Pipers piping, Ten Lords a-Leaping, Nine Ladies Dancing, Eight Maids a-Milking, Seven Swans a-Swimming, Six Geese a-Lying, Five gold rings, Four Calling birds, Three French hens, Two turtle doves, And a partridge in a pear tree.\n"
     ]
    }
   ],
   "source": [
    "ordinal_list = ['first', 'second', 'third', 'fourth', 'fifth', 'sixth', 'seventh', 'eighth', 'ninth', 'tenth', 'eleventh', 'twelfth']\n",
    "gift_list = ['partridge in a pear tree', 'Two turtle doves', 'Three French hens', 'Four Calling birds', 'Five gold rings', 'Six Geese a-Lying', 'Seven Swans a-Swimming', 'Eight Maids a-Milking', 'Nine Ladies Dancing', 'Ten Lords a-Leaping', 'Eleven Pipers piping', 'Twelve Drummers Drumming']\n",
    "\n",
    "def lyrics(day):\n",
    "    try:\n",
    "        temp = int(day)\n",
    "    except:\n",
    "        print('Input must be Integer')\n",
    "    else:\n",
    "        if temp == 1:\n",
    "            print('On the', ordinal_list[temp-1], 'day of Christmas my true love sent to me: A', gift_list[temp-1], end='.')\n",
    "            print('')\n",
    "        elif 2 <= temp <= 12:\n",
    "            print('On the', ordinal_list[temp-1], 'day of Christmas my true love sent to me: ', end='')\n",
    "            for i in range(temp, 1, -1):\n",
    "                print(gift_list[i-1], end=', ')\n",
    "            print('And a', gift_list[0], end='.')\n",
    "            print('')\n",
    "\n",
    "for i in range(1, 13):\n",
    "    lyrics(i)"
   ]
  },
  {
   "cell_type": "markdown",
   "metadata": {},
   "source": [
    "Exercise 89: Capitalize It"
   ]
  },
  {
   "cell_type": "markdown",
   "metadata": {},
   "source": [
    "Many people do not use capital letters correctly, especially when typing on small devices like smart phones. In this exercise, you will write a function that capitalizes the appropriate characters in a string. A lowercase “i” should be replaced with an uppercase “I” if it is both preceded and followed by a space. The first character in the string should also be capitalized, as well as the first non-space character after a “.”, “!” or “?”. For example, if the function is provided with the string “what time do i have to be there? what’s the address?” then it should return the string “What time do I have to be there? What’s the address?”. Include a main program that reads a string from the user, capitalizes it using your function, and displays the result."
   ]
  },
  {
   "cell_type": "code",
   "execution_count": 46,
   "metadata": {},
   "outputs": [
    {
     "name": "stdout",
     "output_type": "stream",
     "text": [
      "what time do i have to be there? what's the address?\n",
      "What time do I have to be there? what's the address?\n"
     ]
    }
   ],
   "source": [
    "def capitalizer(string):\n",
    "    temp = str()\n",
    "    temp = string.capitalize().replace(' i ', ' I ')\n",
    "    return temp\n",
    "\n",
    "print(capitalizer(input()))"
   ]
  }
 ],
 "metadata": {
  "kernelspec": {
   "display_name": "Python 3",
   "language": "python",
   "name": "python3"
  },
  "language_info": {
   "codemirror_mode": {
    "name": "ipython",
    "version": 3
   },
   "file_extension": ".py",
   "mimetype": "text/x-python",
   "name": "python",
   "nbconvert_exporter": "python",
   "pygments_lexer": "ipython3",
   "version": "3.6.5"
  }
 },
 "nbformat": 4,
 "nbformat_minor": 2
}
