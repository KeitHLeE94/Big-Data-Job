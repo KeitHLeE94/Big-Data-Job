{
 "cells": [
  {
   "cell_type": "markdown",
   "metadata": {},
   "source": [
    "과제: 이미지 크롤링\n",
    "\n",
    "르누아르, 샤갈, 모딜리아니 등 유명 화가 작품 + 관련 데이터베이스 MongoDB로 만들어 올것. (이미지 태그로 이미지 저장, base64로 변환.)\n",
    "\n",
    "데이터 200개."
   ]
  },
  {
   "cell_type": "code",
   "execution_count": 195,
   "metadata": {},
   "outputs": [],
   "source": [
    "import base64\n",
    "from pymongo import MongoClient"
   ]
  },
  {
   "cell_type": "code",
   "execution_count": 196,
   "metadata": {},
   "outputs": [],
   "source": [
    "client = MongoClient('localhost', 27017)"
   ]
  },
  {
   "cell_type": "code",
   "execution_count": 197,
   "metadata": {},
   "outputs": [],
   "source": [
    "import requests\n",
    "from selenium import webdriver\n",
    "from selenium.common.exceptions import ElementNotVisibleException\n",
    "from selenium.common.exceptions import NoSuchElementException\n",
    "from selenium.common.exceptions import WebDriverException"
   ]
  },
  {
   "cell_type": "code",
   "execution_count": 98,
   "metadata": {},
   "outputs": [],
   "source": [
    "driver = webdriver.Chrome()"
   ]
  },
  {
   "cell_type": "code",
   "execution_count": 219,
   "metadata": {
    "scrolled": true
   },
   "outputs": [],
   "source": [
    "def get_image(name):\n",
    "    driver.get(\"https://artsandculture.google.com/?hl=ko\")\n",
    "    driver.find_element_by_css_selector(\".sHnYxd > div\").click()\n",
    "    driver.implicitly_wait(3)\n",
    "    driver.find_element_by_css_selector(\".GmJoc\").send_keys(name, \"\\n\")\n",
    "    driver.implicitly_wait(3)\n",
    "    driver.find_element_by_css_selector(\".FJEtJb > a\").click()\n",
    "    \n",
    "    while True:\n",
    "        try:\n",
    "            driver.find_element_by_css_selector(\".fe4pJf .bYeTje.CMCEae.BcYSHe\").click()\n",
    "        except WebDriverException as e:\n",
    "            break\n",
    "        except ElementNotVisibleException as e:\n",
    "            break\n",
    "            \n",
    "    linksList = driver.find_elements_by_css_selector(\".mqAyNe.p6VWJb.dm7raf.DYZP6e.uv3XYb.dOskXb a\")\n",
    "    images = client.get_database('images')\n",
    "    collection = images.get_collection(name)\n",
    "    for link in linksList:\n",
    "        title = link.get_attribute('title')\n",
    "        url = 'http://'+link.get_attribute('data-bgsrc')[2:]\n",
    "        image = base64.encodebytes(requests.get(url).content)\n",
    "        newitem = {\n",
    "            'Title':title,\n",
    "            'Image':image\n",
    "        }\n",
    "        collection.insert_one(newitem)"
   ]
  },
  {
   "cell_type": "code",
   "execution_count": 208,
   "metadata": {
    "scrolled": false
   },
   "outputs": [],
   "source": [
    "get_image(\"Vincent Van Gogh\")"
   ]
  },
  {
   "cell_type": "code",
   "execution_count": 209,
   "metadata": {},
   "outputs": [],
   "source": [
    "get_image(\"Gustav Klimt\")"
   ]
  },
  {
   "cell_type": "code",
   "execution_count": 220,
   "metadata": {},
   "outputs": [],
   "source": [
    "get_image(\"이중섭\")"
   ]
  },
  {
   "cell_type": "markdown",
   "metadata": {},
   "source": [
    "이중섭, Lee Jung Seob으로 함수 실행시 driver 작업은 정상적으로 실행되나 MongoDB collection 생성, 삽입 작업 안됨."
   ]
  }
 ],
 "metadata": {
  "kernelspec": {
   "display_name": "Python 3",
   "language": "python",
   "name": "python3"
  },
  "language_info": {
   "codemirror_mode": {
    "name": "ipython",
    "version": 3
   },
   "file_extension": ".py",
   "mimetype": "text/x-python",
   "name": "python",
   "nbconvert_exporter": "python",
   "pygments_lexer": "ipython3",
   "version": "3.6.5"
  }
 },
 "nbformat": 4,
 "nbformat_minor": 2
}
