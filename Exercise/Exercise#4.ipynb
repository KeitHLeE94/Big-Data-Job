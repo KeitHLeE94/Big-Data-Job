{
 "cells": [
  {
   "cell_type": "markdown",
   "metadata": {},
   "source": [
    "Exercise 129: Two Dice Simulation"
   ]
  },
  {
   "cell_type": "markdown",
   "metadata": {},
   "source": [
    "In this exercise you will simulate 1,000 rolls of two dice. Begin by writing a func- tion that simulates rolling a pair of six-sided dice. Your function will not take any\n",
    "parameters. It will return the total that was rolled on two dice as its only result. Write a main program that uses your function to simulate rolling two six-sided dice 1,000 times. As your program runs, it should count the number of times that each total occurs. Then it should display a table that summarizes this data. Express the frequency for each total as a percentage of the total number of rolls. Your program should also display the percentage expected by probability theory for each total.\n",
    "Sample output is shown below."
   ]
  },
  {
   "cell_type": "code",
   "execution_count": 96,
   "metadata": {
    "scrolled": true
   },
   "outputs": [
    {
     "name": "stdout",
     "output_type": "stream",
     "text": [
      "Total\tSimulated\tExpected\n",
      "     \tPercent\t        Percent\n",
      "2       4.6\t\t2.78\n",
      "3       5.5\t\t5.56\n",
      "4       8.6\t\t8.33\n",
      "5       12.0\t\t11.11\n",
      "6       11.4\t\t13.89\n",
      "7       17.0\t\t16.67\n",
      "8       13.1\t\t13.89\n",
      "9       12.6\t\t11.11\n",
      "10       7.4\t\t8.33\n",
      "11       4.9\t\t5.56\n",
      "12       2.9\t\t2.78"
     ]
    }
   ],
   "source": [
    "import random\n",
    "\n",
    "result = dict(count2=0, count3=0, count4=0, count5=0, count6=0, count7=0, count8=0, count9=0, count10=0, count11=0, count12=0)\n",
    "\n",
    "def roll():\n",
    "    for i in range(1000):\n",
    "        d1 = random.randint(1, 6)\n",
    "        d2 = random.randint(1, 6)\n",
    "        if d1 + d2 == 2:\n",
    "            result.__setitem__('count2', result.get('count2')+1)\n",
    "        elif d1 + d2 == 3:\n",
    "            result.__setitem__('count3', result.get('count3')+1)\n",
    "        elif d1 + d2 == 4:\n",
    "            result.__setitem__('count4', result.get('count4')+1)\n",
    "        elif d1 + d2 == 5:\n",
    "            result.__setitem__('count5', result.get('count5')+1)\n",
    "        elif d1 + d2 == 6:\n",
    "            result.__setitem__('count6', result.get('count6')+1)\n",
    "        elif d1 + d2 == 7:\n",
    "            result.__setitem__('count7', result.get('count7')+1)\n",
    "        elif d1 + d2 == 8:\n",
    "            result.__setitem__('count8', result.get('count8')+1)\n",
    "        elif d1 + d2 == 9:\n",
    "            result.__setitem__('count9', result.get('count9')+1)\n",
    "        elif d1 + d2 == 10:\n",
    "            result.__setitem__('count10', result.get('count10')+1)\n",
    "        elif d1 + d2 == 11:\n",
    "            result.__setitem__('count11', result.get('count11')+1)\n",
    "        elif d1 + d2 == 12:\n",
    "            result.__setitem__('count12', result.get('count12')+1)\n",
    "        \n",
    "roll()\n",
    "\n",
    "print('Total' + '\\t' + 'Simulated' + '\\t' + 'Expected')\n",
    "print('     ' + '\\t' + 'Percent' + '\\t' + '        Percent')\n",
    "print('2       ' + str(((result.get('count2')/1000)*100).__round__(2)) + '\\t\\t' + '2.78', end='')\n",
    "print('')\n",
    "print('3       ' + str(((result.get('count3')/1000)*100).__round__(2)) + '\\t\\t' + '5.56', end='')\n",
    "print('')\n",
    "print('4       ' + str(((result.get('count4')/1000)*100).__round__(2)) + '\\t\\t' + '8.33', end='')\n",
    "print('')\n",
    "print('5       ' + str(((result.get('count5')/1000)*100).__round__(2)) + '\\t\\t' + '11.11', end='')\n",
    "print('')\n",
    "print('6       ' + str(((result.get('count6')/1000)*100).__round__(2)) + '\\t\\t' + '13.89', end='')\n",
    "print('')\n",
    "print('7       ' + str(((result.get('count7')/1000)*100).__round__(2)) + '\\t\\t' + '16.67', end='')\n",
    "print('')\n",
    "print('8       ' + str(((result.get('count8')/1000)*100).__round__(2)) + '\\t\\t' + '13.89', end='')\n",
    "print('')\n",
    "print('9       ' + str(((result.get('count9')/1000)*100).__round__(2)) + '\\t\\t' + '11.11', end='')\n",
    "print('')\n",
    "print('10       ' + str(((result.get('count10')/1000)*100).__round__(2)) + '\\t\\t' + '8.33', end='')\n",
    "print('')\n",
    "print('11       ' + str(((result.get('count11')/1000)*100).__round__(2)) + '\\t\\t' + '5.56', end='')\n",
    "print('')\n",
    "print('12       ' + str(((result.get('count12')/1000)*100).__round__(2)) + '\\t\\t' + '2.78', end='')"
   ]
  },
  {
   "cell_type": "markdown",
   "metadata": {},
   "source": [
    "Exercise 130: Text Messaging"
   ]
  },
  {
   "cell_type": "markdown",
   "metadata": {},
   "source": [
    "On some basic cell phones, text messages can be sent using the numeric keypad. Because each key has multiple letters associated with it, multiple key presses are needed for most letters. Pressing the number once generates the first letter on the key. Pressing the number 2, 3, 4 or 5 times generates the second, third, fourth or fifth\n",
    "character listed for that key.\n",
    "\n",
    "Write a program that displays the key presses that must be made to enter a text message read from the user. Construct a dictionary that maps from each letter or symbol to the key presses. Then use the dictionary to generate and display the presses for the user’s message. For example, if the user enters Hello, World! then your program should output 4433555555666110966677755531111. Ensure that your program handles both uppercase and lowercase letters. Ignore any characters that aren’t listed in the table above such as semicolons and brackets.\n"
   ]
  },
  {
   "cell_type": "code",
   "execution_count": 119,
   "metadata": {},
   "outputs": [
    {
     "name": "stdout",
     "output_type": "stream",
     "text": [
      "Hello, World!\n",
      "4433555555666110966677755531111\n"
     ]
    }
   ],
   "source": [
    "keydict = dict(A=2, B=22, C=222, D=3, E=33, F=333, G=4, H=44, I=444, J=5, K=55, L=555, M=6, N=66, O=666, P=7, Q=77, R=777, S=7777, T=8, U=88, V=888, W=9, X=99, Y=999, Z=9999, a=2, b=22, c=222, d=3, e=33, f=333, g=4, h=44, i=444, j=5, k=55, l=555, m=6, n=66, o=666, p=7, q=77, r=777, s=7777, t=8, u=88, v=888, w=9, x=99, y=999, z=9999)\n",
    "\n",
    "def mapping(string):\n",
    "    result = str()\n",
    "    for i in string:\n",
    "        if i == '.':\n",
    "            result += '1'\n",
    "        elif i == ',':\n",
    "            result += '11'\n",
    "        elif i == '?':\n",
    "            result += '111'\n",
    "        elif i == '!':\n",
    "            result += '1111'\n",
    "        elif i == ':':\n",
    "            result += '11111'\n",
    "        elif i == ' ':\n",
    "            result += '0'\n",
    "        else:\n",
    "            result += str(keydict.get(i))\n",
    "    \n",
    "    return result\n",
    "\n",
    "print(mapping(input()))"
   ]
  },
  {
   "cell_type": "markdown",
   "metadata": {},
   "source": [
    "Exercise 131: Morse Code"
   ]
  },
  {
   "cell_type": "markdown",
   "metadata": {},
   "source": [
    "Morse code is an encoding scheme that uses dashes and dots to represent numbers and letters. In this exercise, you will write a program that uses a dictionary to store the mapping from letters and numbers to Morse code. Use a period to represent a dot, and a hyphen to represent a dash. The mapping from letters and numbers to dashes\n",
    "and dots is shown in Table 6.1.\n",
    "\n",
    "Your program should read a message from the user. Then it should translate each\n",
    "letter and number in the message to Morse code, leaving a space between each sequence of dashes and dots. Your program should ignore any characters that are not letters or numbers. The Morse code for Hello, World! is shown below:"
   ]
  },
  {
   "cell_type": "code",
   "execution_count": 137,
   "metadata": {},
   "outputs": [
    {
     "name": "stdout",
     "output_type": "stream",
     "text": [
      "Hello, World!\n",
      ".... . .-.. .-.. --- .-- --- .-. .-.. -.. \n"
     ]
    }
   ],
   "source": [
    "morsemap = list()\n",
    "morsemap.append('.-')#A\n",
    "morsemap.append('-...')#B\n",
    "morsemap.append('-.-.')#C\n",
    "morsemap.append('-..')#D\n",
    "morsemap.append('.')#E\n",
    "morsemap.append('..-.')#F\n",
    "morsemap.append('--.')#G\n",
    "morsemap.append('....')#H\n",
    "morsemap.append('..')#I\n",
    "morsemap.append('.---')#J\n",
    "morsemap.append('-.-')#K\n",
    "morsemap.append('.-..')#L\n",
    "morsemap.append('--')#M\n",
    "morsemap.append('-.')#N\n",
    "morsemap.append('---')#O\n",
    "morsemap.append('.--.')#P\n",
    "morsemap.append('--.-')#Q\n",
    "morsemap.append('.-.')#R\n",
    "morsemap.append('...')#S\n",
    "morsemap.append('-')#T\n",
    "morsemap.append('..-')#U\n",
    "morsemap.append('...-')#V\n",
    "morsemap.append('.--')#W\n",
    "morsemap.append('-..-')#X\n",
    "morsemap.append('-.--')#Y\n",
    "morsemap.append('--..')#Z 25\n",
    "morsemap.append('-----')#0 26\n",
    "morsemap.append('.----')#1 27\n",
    "morsemap.append('..---')#2 28\n",
    "morsemap.append('...--')#3 29\n",
    "morsemap.append('....-')#4 30\n",
    "morsemap.append('.....')#5 31\n",
    "morsemap.append('-....')#6 32\n",
    "morsemap.append('--...')#7 33\n",
    "morsemap.append('---..')#8 34\n",
    "morsemap.append('----.')#9 35\n",
    "\n",
    "morsedict = dict(A=0, B=1, C=2, D=3, E=4, F=5, G=6, H=7, I=8, J=9, K=10, L=11, M=12, N=13, O=14, P=15, Q=16, R=17, S=18, T=19, U=20, V=21, W=22, X=23, Y=24, Z=25)\n",
    "\n",
    "def morse_mapping(string):\n",
    "    result = str()\n",
    "    temp = string.upper()\n",
    "    for i in temp:\n",
    "        if i.isalpha() == False and i.isdigit() == False:\n",
    "            continue\n",
    "        else:\n",
    "            if i == '0':\n",
    "                result += morsemap[26]\n",
    "                result += ' '\n",
    "            elif i == '1':\n",
    "                result += morsemap[27]\n",
    "                result += ' '\n",
    "            elif i == '2':\n",
    "                result += morsemap[28]\n",
    "                result += ' '\n",
    "            elif i == '3':\n",
    "                result += morsemap[29]\n",
    "                result += ' '\n",
    "            elif i == '4':\n",
    "                result += morsemap[30]\n",
    "                result += ' '\n",
    "            elif i == '5':\n",
    "                result += morsemap[31]\n",
    "                result += ' '\n",
    "            elif i == '6':\n",
    "                result += morsemap[32]\n",
    "                result += ' '\n",
    "            elif i == '7':\n",
    "                result += morsemap[33]\n",
    "                result += ' '\n",
    "            elif i == '8':\n",
    "                result += morsemap[34]\n",
    "                result += ' '\n",
    "            elif i == '9':\n",
    "                result += morsemap[35]\n",
    "                result += ' '\n",
    "            else:\n",
    "                result += morsemap[morsedict.get(i)]\n",
    "                result += ' '\n",
    "                \n",
    "    return result\n",
    "\n",
    "print(morse_mapping(input()))"
   ]
  },
  {
   "cell_type": "markdown",
   "metadata": {},
   "source": [
    "Exercise 132: Postal Codes"
   ]
  },
  {
   "cell_type": "markdown",
   "metadata": {},
   "source": [
    "In a Canadian postal code, the first, third and fifth characters are letters while the second, fourth and sixth characters are numbers. The province can be determined from the first character of a postal code, as shown in the following table. No valid\n",
    "postal codes currently begin with D, F, I, O, Q, U, W, or Z.\n",
    "\n",
    "\n",
    "The second character in a postal code identifies whether the address is rural or urban. If that character is a 0 then the address is rural. Otherwise it is urban.\n",
    "Create a program that reads a postal code from the user and displays the province associated with it, along with whether the address is urban or rural. For example, if the user enters T2N 1N4 then your program should indicate that the postal code is for an urban address in Alberta. If the user enters X0A 1B2 then your program should indicate that the postal code is for a rural address in Nunavut or Northwest Territories. Use a dictionary to map from the first character of the postal code to the province name. Display a meaningful error message if the postal code begins with an invalid character."
   ]
  },
  {
   "cell_type": "code",
   "execution_count": 151,
   "metadata": {},
   "outputs": [
    {
     "name": "stdout",
     "output_type": "stream",
     "text": [
      "X0A 1B2\n",
      "Rural address in Nunavut or Northwest Territories\n"
     ]
    }
   ],
   "source": [
    "provincemap = dict(A='Newfoundland', B='Nova Scotia', C='Prince Edward Island', E='New Brunswick', F='Quebec', G='Quebec', H='Quebec', J='Quebec', K='Ontario', L='Ontario', M='Ontario', N='Ontario', P='Ontario', R='Manitoba', S='Saskatchewan', T='Alberta', V='British Columbia', X='Northwest Territories', Y='Yukon')\n",
    "\n",
    "def post_map(string):\n",
    "    result = str()\n",
    "    if string[1] == '0':\n",
    "        result += 'Rural address in '\n",
    "    elif string[1] is not '0' and string[1].isdigit() == True:\n",
    "        result += 'Urban address in '\n",
    "        \n",
    "    if string[0] == 'X':\n",
    "        result += 'Nunavut or '\n",
    "        result += provincemap.get(string[0])\n",
    "    elif string[0].isalpha() == True:\n",
    "        result += provincemap.get(string[0])\n",
    "    return result\n",
    "\n",
    "print(post_map(input()))"
   ]
  }
 ],
 "metadata": {
  "kernelspec": {
   "display_name": "Python 3",
   "language": "python",
   "name": "python3"
  },
  "language_info": {
   "codemirror_mode": {
    "name": "ipython",
    "version": 3
   },
   "file_extension": ".py",
   "mimetype": "text/x-python",
   "name": "python",
   "nbconvert_exporter": "python",
   "pygments_lexer": "ipython3",
   "version": "3.6.5"
  }
 },
 "nbformat": 4,
 "nbformat_minor": 2
}
