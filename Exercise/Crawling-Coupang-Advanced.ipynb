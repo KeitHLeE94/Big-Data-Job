{
 "cells": [
  {
   "cell_type": "markdown",
   "metadata": {},
   "source": [
    "# 쿠팡 데이터 크롤링"
   ]
  },
  {
   "cell_type": "markdown",
   "metadata": {},
   "source": [
    "___"
   ]
  },
  {
   "cell_type": "markdown",
   "metadata": {},
   "source": [
    "## Global functions, parameters"
   ]
  },
  {
   "cell_type": "code",
   "execution_count": 1,
   "metadata": {},
   "outputs": [],
   "source": [
    "import requests\n",
    "import bs4\n",
    "from bs4 import BeautifulSoup\n",
    "from selenium import webdriver\n",
    "from selenium.webdriver.common.keys import Keys\n",
    "from selenium.common.exceptions import NoSuchElementException\n",
    "from selenium.common.exceptions import StaleElementReferenceException\n",
    "from selenium.webdriver.support.ui import WebDriverWait\n",
    "from selenium.common.exceptions import WebDriverException\n",
    "from selenium.common.exceptions import TimeoutException\n",
    "import time\n",
    "\n",
    "driver = webdriver.Chrome()"
   ]
  },
  {
   "cell_type": "code",
   "execution_count": 2,
   "metadata": {},
   "outputs": [],
   "source": [
    "def getURL(seed, params=None, select='a', num_retries=2):\n",
    "    html = requests.get(seed, params=params, headers=headers)\n",
    "    \n",
    "    if 500<=html.status_code<600 and num_retries>0:\n",
    "        print(html.status_code, html.reason)\n",
    "        return getURL(seed, params, num_retries-1)\n",
    "    \n",
    "    dom = BeautifulSoup(html.text, 'lxml')\n",
    "    links = dom.select(select)\n",
    "    \n",
    "    return ['http://www.coupang.com' + link['href'] for link in links if link.has_attr('href')]"
   ]
  },
  {
   "cell_type": "code",
   "execution_count": 3,
   "metadata": {},
   "outputs": [],
   "source": [
    "headers = {\n",
    "    \"user-agent\":\"Mozilla/5.0 (Macintosh; Intel Mac OS X 10_13_4) AppleWebKit/537.36 (KHTML, like Gecko) Chrome/67.0.3396.99 Safari/537.36\",\n",
    "    \"accept-encoding\":\"false\"\n",
    "}"
   ]
  },
  {
   "cell_type": "markdown",
   "metadata": {},
   "source": [
    "___"
   ]
  },
  {
   "cell_type": "markdown",
   "metadata": {},
   "source": [
    "### 과자\n",
    "1. link\n",
    "2. img\n",
    "3. brand\n",
    "4. title: 제품명(있는 그대로)\n",
    "5. product: 보여줄 제품명(브랜드 + 연령대 + 형태)\n",
    "6. price: 가격(int)\n",
    "7. rating: 평점\n",
    "8. replyCount: 상품평 갯수\n",
    "9. reply: 20개"
   ]
  },
  {
   "cell_type": "code",
   "execution_count": 4,
   "metadata": {},
   "outputs": [],
   "source": [
    "params_snack = {\n",
    "    \"listSize\": \"120\",\n",
    "    \"brand\": \"\",\n",
    "    \"offerCondition\": \"\",\n",
    "    \"filterType\": \"\",\n",
    "    \"isPriceRange\": \"false\",\n",
    "    \"minPrice\": \"\",\n",
    "    \"maxPrice\": \"\",\n",
    "    \"page\": \"1\",\n",
    "    \"channel\": \"user\",\n",
    "    \"fromComponent\": \"Y\",\n",
    "    \"selectedPlpKeepFilter\": \"\",\n",
    "    \"sorter\": \"bestAsc\",\n",
    "    \"filter\": \"\",\n",
    "    \"component\": \"221916\",\n",
    "    \"rating\": \"0\",\n",
    "}"
   ]
  },
  {
   "cell_type": "code",
   "execution_count": 5,
   "metadata": {},
   "outputs": [],
   "source": [
    "seed_snack = 'http://www.coupang.com/np/categories/222016'"
   ]
  },
  {
   "cell_type": "code",
   "execution_count": 6,
   "metadata": {
    "scrolled": true
   },
   "outputs": [],
   "source": [
    "links_snack = []\n",
    "links_snack.extend(getURL(seed_snack, params_snack, select='ul.baby-product-list a.baby-product-link'))\n",
    "links_snack = links_snack[:100]"
   ]
  },
  {
   "cell_type": "code",
   "execution_count": 236,
   "metadata": {},
   "outputs": [],
   "source": [
    "snackList = []"
   ]
  },
  {
   "cell_type": "code",
   "execution_count": 237,
   "metadata": {},
   "outputs": [],
   "source": [
    "def getInfo_snack(url, num_retries=2):\n",
    "    html = requests.get(url, headers=headers)\n",
    "    \n",
    "    if 500<=html.status_code<600 and num_retries>0:\n",
    "        print(html.status_code, html.reason)\n",
    "        return getInfo_snack(seed, params, num_retries-1)\n",
    "    \n",
    "    dom = BeautifulSoup(html.text, 'lxml')\n",
    "    if len(dom.select('div.oos-label')) == 0 and int(dom.select('a.moveAnchor span.count')[0].get_text().replace('개 상품평', '').replace(',', '')) > 0:\n",
    "        link = html.url\n",
    "        img = 'http:' + dom.select('img.prod-image__detail')[0]['src']\n",
    "        brand = dom.select('a.prod-brand-name')[0].get_text()\n",
    "        title = dom.select('h2.prod-buy-header__title')[0].get_text()\n",
    "        # product = \n",
    "        price = int(dom.select('span.total-price')[0].get_text().replace('\\n', '').replace('원', '').replace(',', ''))\n",
    "        replyCount = int(dom.select('a.moveAnchor span.count')[0].get_text().replace('개 상품평', '').replace(',', ''))\n",
    "        \n",
    "        driver.get(url)\n",
    "        body = driver.find_element_by_tag_name('body')\n",
    "        while True:\n",
    "            try:\n",
    "                driver.find_element_by_css_selector('.sdp-review__average__total-star__info-gray div')\n",
    "                break\n",
    "            except NoSuchElementException:\n",
    "                body.send_keys(Keys.PAGE_DOWN)\n",
    "                driver.implicitly_wait(0.5)\n",
    "                \n",
    "        rating = driver.find_element_by_css_selector('.sdp-review__average__total-star__info-gray div')\n",
    "        rating = rating.get_attribute('data-rating')\n",
    "        replyResult = []\n",
    "        buttonList = []\n",
    "        buttonList.extend(driver.find_elements_by_css_selector('.sdp-review__article__page__num.js_reviewArticlePageBtn'))\n",
    "        \n",
    "        def getReply(pagenum):\n",
    "            try:\n",
    "                element = WebDriverWait(driver, 5).until(lambda x: x.find_elements_by_css_selector('.js_reviewArticleListContainer article div.sdp-review__article__list__review__content.js_reviewArticleContent')) \n",
    "                replyResult.extend(reply.text.replace('\\n', ' ') for reply in element)\n",
    "                time.sleep(1)\n",
    "            except TimeoutException:\n",
    "                return None\n",
    "            \n",
    "            while True:\n",
    "                try:\n",
    "                    buttonList = []\n",
    "                    buttonList.extend(driver.find_elements_by_css_selector('.sdp-review__article__page__num.js_reviewArticlePageBtn'))\n",
    "                    break\n",
    "                except WebDriverException:\n",
    "                    body.send_keys(Keys.PAGE_DOWN)\n",
    "                    driver.implicitly_wait(0.5)\n",
    "            if len(buttonList) > 0:\n",
    "                buttonList[pagenum].click()\n",
    "            else:\n",
    "                return None\n",
    "        \n",
    "        if len(buttonList) > 0:\n",
    "            for i in range(1, 5):\n",
    "                getReply(i)\n",
    "                time.sleep(0.5)\n",
    "    \n",
    "        result = {\n",
    "            'link': link, \n",
    "            'img': img, \n",
    "            'brand': brand, \n",
    "            'title': title, \n",
    "            'price': price, \n",
    "            'rating': rating, \n",
    "            'optionTitle': None,\n",
    "            'optionPrice': None,\n",
    "            'replyCount': replyCount, \n",
    "            'replyResult': replyResult\n",
    "        }\n",
    "        snackList.append(result)\n",
    "        return 1\n",
    "    \n",
    "    else:\n",
    "        return 0"
   ]
  },
  {
   "cell_type": "code",
   "execution_count": 238,
   "metadata": {
    "scrolled": false
   },
   "outputs": [
    {
     "name": "stdout",
     "output_type": "stream",
     "text": [
      "Skip: http://www.coupang.com/vp/products/13705765?itemId=57173218&vendorItemId=3089582979\n",
      "Skip: http://www.coupang.com/vp/products/36807682?itemId=135730618&vendorItemId=3289389004\n",
      "Skip: http://www.coupang.com/vp/products/18274522?itemId=73563189&vendorItemId=3120782803\n",
      "Skip: http://www.coupang.com/vp/products/17623945?itemId=70623827&vendorItemId=3114223534\n",
      "Skip: http://www.coupang.com/vp/products/2400458?itemId=3998892&vendorItemId=3004797294\n",
      "Skip: http://www.coupang.com/vp/products/96477934?itemId=296996220&vendorItemId=3730702348\n",
      "Skip: http://www.coupang.com/vp/products/42593455?itemId=154271433&vendorItemId=3359501206\n"
     ]
    }
   ],
   "source": [
    "for i in range(100):\n",
    "    if getInfo_snack(links_snack[i]) == 0:\n",
    "        print('Skip: ' + links_snack[i])\n",
    "    time.sleep(0.3)"
   ]
  },
  {
   "cell_type": "code",
   "execution_count": 283,
   "metadata": {
    "scrolled": false
   },
   "outputs": [
    {
     "data": {
      "text/plain": [
       "93"
      ]
     },
     "execution_count": 283,
     "metadata": {},
     "output_type": "execute_result"
    }
   ],
   "source": [
    "len(snackList)"
   ]
  },
  {
   "cell_type": "markdown",
   "metadata": {},
   "source": [
    "평점 없는것, 품절인것 제외."
   ]
  },
  {
   "cell_type": "markdown",
   "metadata": {},
   "source": [
    "___"
   ]
  },
  {
   "cell_type": "markdown",
   "metadata": {},
   "source": [
    "### 분유\n",
    "1. link\n",
    "2. img\n",
    "3. brand\n",
    "4. origin: 원산지(국내 / 해외)\n",
    "5. title: 제품명(있는 그대로)\n",
    "6. product: 보여줄 제품명(브랜드 + 연령대 + 형태)\n",
    "7. stage: 분유 단계(int)\n",
    "8. type: 분말 / 액상\n",
    "9. price: 가격(int)\n",
    "10. rating: 평점\n",
    "11. replyCount: 상품평 갯수\n",
    "12. reply: 20개"
   ]
  },
  {
   "cell_type": "code",
   "execution_count": 45,
   "metadata": {},
   "outputs": [],
   "source": [
    "params_milkPowder = {\n",
    "    \"listSize\": \"120\",\n",
    "    \"brand\": \"\",\n",
    "    \"offerCondition\": \"\",\n",
    "    \"filterType\": \"\",\n",
    "    \"isPriceRange\": \"false\",\n",
    "    \"minPrice\": \"\",\n",
    "    \"maxPrice\": \"\",\n",
    "    \"page\": \"1\",\n",
    "    \"channel\": \"user\",\n",
    "    \"fromComponent\": \"N\",\n",
    "    \"selectedPlpKeepFilter\": \"\",\n",
    "    \"sorter\": \"bestAsc\",\n",
    "    \"filter\": \"\",\n",
    "    \"component\": \"221895\",\n",
    "    \"rating\": \"0\",\n",
    "}"
   ]
  },
  {
   "cell_type": "code",
   "execution_count": 46,
   "metadata": {},
   "outputs": [],
   "source": [
    "seed_milkPowder = 'http://www.coupang.com/np/categories/221995'"
   ]
  },
  {
   "cell_type": "code",
   "execution_count": 259,
   "metadata": {
    "scrolled": true
   },
   "outputs": [],
   "source": [
    "links_milkPowder = []\n",
    "links_milkPowder.extend(getURL(seed_milkPowder, params_milkPowder, select='ul.baby-product-list a.baby-product-link'))\n",
    "links_milkPowder = links_milkPowder[:100]"
   ]
  },
  {
   "cell_type": "code",
   "execution_count": 266,
   "metadata": {},
   "outputs": [],
   "source": [
    "milkPowderList = []"
   ]
  },
  {
   "cell_type": "code",
   "execution_count": 261,
   "metadata": {},
   "outputs": [],
   "source": [
    "def getInfo_milkPowder(url, num_retries=2):\n",
    "    html = requests.get(url, headers=headers)\n",
    "    \n",
    "    if 500<=html.status_code<600 and num_retries>0:\n",
    "        print(html.status_code, html.reason)\n",
    "        return getInfo_milkPowder(seed, params, num_retries-1)\n",
    "    \n",
    "    dom = BeautifulSoup(html.text, 'lxml')\n",
    "    if len(dom.select('div.oos-label')) == 0 and int(dom.select('a.moveAnchor span.count')[0].get_text().replace('개 상품평', '').replace(',', '')) > 0:\n",
    "        link = html.url\n",
    "        img = 'http:' + dom.select('img.prod-image__detail')[0]['src']\n",
    "        brand = dom.select('a.prod-brand-name')[0].get_text()\n",
    "        title = dom.select('h2.prod-buy-header__title')[0].get_text()\n",
    "        # product = \n",
    "        index = 0\n",
    "        stage = 0\n",
    "        for index in range(len(dom.select('li.prod-attr-item'))):\n",
    "            try:\n",
    "                stage = int(dom.select('li.prod-attr-item')[index].get_text().replace('\\n', '').replace('단계: ', '').replace('단계', ''))\n",
    "            except ValueError:\n",
    "                index += 1\n",
    "            \n",
    "        if stage == 0:\n",
    "            stageIndex = title.find('단계')\n",
    "            try:\n",
    "                stage = int(title[stageIndex-1])\n",
    "            except ValueError:\n",
    "                return 0\n",
    "        \n",
    "        if '액상분유' in title:\n",
    "            milkPowderType = '액상분유'\n",
    "        elif '스틱분유' in title:\n",
    "            milkPowderType = '스틱분유'\n",
    "        else:\n",
    "            milkPowderType = '원통형분유'\n",
    "        price = int(dom.select('span.total-price')[0].get_text().replace('\\n', '').replace('원', '').replace(',', ''))\n",
    "        replyCount = int(dom.select('a.moveAnchor span.count')[0].get_text().replace('개 상품평', '').replace(',', ''))\n",
    "        \n",
    "        driver.get(url)\n",
    "        body = driver.find_element_by_tag_name('body')\n",
    "        while True:\n",
    "            try:\n",
    "                driver.find_element_by_css_selector('.sdp-review__average__total-star__info-gray div')\n",
    "                break\n",
    "            except NoSuchElementException:\n",
    "                body.send_keys(Keys.PAGE_DOWN)\n",
    "                driver.implicitly_wait(0.5)\n",
    "        \n",
    "        origin = driver.find_elements_by_css_selector('.prod-delivery-return-policy-table.essential-info-table tbody tr td')[1].text\n",
    "        rating = driver.find_element_by_css_selector('.sdp-review__average__total-star__info-gray div')\n",
    "        rating = rating.get_attribute('data-rating')\n",
    "        replyResult = []\n",
    "        buttonList = []\n",
    "        buttonList.extend(driver.find_elements_by_css_selector('.sdp-review__article__page__num.js_reviewArticlePageBtn'))\n",
    "        \n",
    "        def getReply(pagenum):\n",
    "            try:\n",
    "                element = WebDriverWait(driver, 5).until(lambda x: x.find_elements_by_css_selector('.js_reviewArticleListContainer article div.sdp-review__article__list__review__content.js_reviewArticleContent')) \n",
    "                replyResult.extend(reply.text.replace('\\n', ' ') for reply in element)\n",
    "                time.sleep(1)\n",
    "            except TimeoutException:\n",
    "                return None\n",
    "            buttonList = []\n",
    "            while True:\n",
    "                try:\n",
    "                    buttonList.extend(driver.find_elements_by_css_selector('.sdp-review__article__page__num.js_reviewArticlePageBtn'))\n",
    "                    break\n",
    "                except WebDriverException:\n",
    "                    body.send_keys(Keys.PAGE_DOWN)\n",
    "                    driver.implicitly_wait(0.5)\n",
    "            if len(buttonList) > 0:\n",
    "                buttonList[pagenum].click()\n",
    "            else:\n",
    "                return None\n",
    "        \n",
    "        if len(buttonList) > 0:\n",
    "            for i in range(1, 5):\n",
    "                getReply(i)\n",
    "                time.sleep(0.5)\n",
    "    \n",
    "        result = {\n",
    "            'link': link, \n",
    "            'img': img, \n",
    "            'brand': brand, \n",
    "            'origin': origin,\n",
    "            'title': title, \n",
    "            'stage': stage,\n",
    "            'type': milkPowderType,\n",
    "            'price': price, \n",
    "            'rating': rating, \n",
    "            'optionTitle': None,\n",
    "            'optionPrice': None,\n",
    "            'replyCount': replyCount, \n",
    "            'replyResult': replyResult\n",
    "        }\n",
    "        milkPowderList.append(result)\n",
    "        return 1\n",
    "    \n",
    "    else:\n",
    "        return 0\n",
    "    \n",
    "    return None"
   ]
  },
  {
   "cell_type": "code",
   "execution_count": 269,
   "metadata": {
    "scrolled": true
   },
   "outputs": [
    {
     "name": "stdout",
     "output_type": "stream",
     "text": [
      "Skip: http://www.coupang.com/vp/products/108994041?itemId=329738403&vendorItemId=3808867816\n",
      "Skip: http://www.coupang.com/vp/products/854046?itemId=1963928&vendorItemId=3001924247\n"
     ]
    }
   ],
   "source": [
    "for i in range(78, 100, 1):\n",
    "    if getInfo_milkPowder(links_milkPowder[i]) == 0:\n",
    "        print('Skip: ' + links_milkPowder[i])\n",
    "    time.sleep(0.3)"
   ]
  },
  {
   "cell_type": "code",
   "execution_count": 284,
   "metadata": {
    "scrolled": false
   },
   "outputs": [
    {
     "data": {
      "text/plain": [
       "98"
      ]
     },
     "execution_count": 284,
     "metadata": {},
     "output_type": "execute_result"
    }
   ],
   "source": [
    "len(milkPowderList)"
   ]
  },
  {
   "cell_type": "markdown",
   "metadata": {},
   "source": [
    "2개 스킵: 단계 이상해서, 단계 옵션으로 주어져서 스킵됨."
   ]
  },
  {
   "cell_type": "markdown",
   "metadata": {},
   "source": [
    "___"
   ]
  },
  {
   "cell_type": "markdown",
   "metadata": {},
   "source": [
    "### 장난감\n",
    "1. link\n",
    "2. img\n",
    "3. category: 감각발달완구, 아기체육관, 러닝홈/플레이매트, 아기걸음마, 모빌/딸랑이/치발기, 오뚝이\n",
    "4. title: 제품명(있는 그대로)\n",
    "5. product: 보여줄 제품명(브랜드 + 연령대 + 형태)\n",
    "6. price: 가격(int)\n",
    "7. rating: 평점\n",
    "8. replyCount: 상품평 갯수\n",
    "9. reply: 20개"
   ]
  },
  {
   "cell_type": "code",
   "execution_count": 4,
   "metadata": {},
   "outputs": [],
   "source": [
    "categoryList_toy = ['감각발달완구', '아기체육관/러닝홈', '아기걸음마', '모빌', '딸랑이', '치발기', '오뚝이']"
   ]
  },
  {
   "cell_type": "code",
   "execution_count": 5,
   "metadata": {},
   "outputs": [],
   "source": [
    "params_toy = {\n",
    "    \"listSize\": \"120\",\n",
    "    \"brand\": \"\",\n",
    "    \"offerCondition\": \"\",\n",
    "    \"filterType\": \"\",\n",
    "    \"isPriceRange\": \"false\",\n",
    "    \"minPrice\": \"\",\n",
    "    \"maxPrice\": \"\",\n",
    "    \"page\": \"1\",\n",
    "    \"channel\": \"user\",\n",
    "    \"fromComponent\": \"Y\",\n",
    "    \"selectedPlpKeepFilter\": \"\",\n",
    "    \"sorter\": \"bestAsc\",\n",
    "    \"filter\": \"\",\n",
    "    \"component\": \"\",\n",
    "    \"rating\": \"0\",\n",
    "}"
   ]
  },
  {
   "cell_type": "code",
   "execution_count": 6,
   "metadata": {},
   "outputs": [],
   "source": [
    "seed_toy_list = ['http://www.coupang.com/np/categories/349712',\n",
    "                 'http://www.coupang.com/np/categories/349704',\n",
    "                 'http://www.coupang.com/np/categories/349710',\n",
    "                 'http://www.coupang.com/np/categories/349687',\n",
    "                 'http://www.coupang.com/np/categories/349689',\n",
    "                 'http://www.coupang.com/np/categories/349690',\n",
    "                 'http://www.coupang.com/np/categories/349694']"
   ]
  },
  {
   "cell_type": "code",
   "execution_count": 7,
   "metadata": {},
   "outputs": [],
   "source": [
    "toyComponentList = [349612, 349604, 349610, 349587, 349589, 349590, 349594]"
   ]
  },
  {
   "cell_type": "code",
   "execution_count": 8,
   "metadata": {
    "scrolled": true
   },
   "outputs": [],
   "source": [
    "links_toy = {\n",
    "    categoryList_toy[0]: None,\n",
    "    categoryList_toy[1]: None,\n",
    "    categoryList_toy[2]: None,\n",
    "    categoryList_toy[3]: None,\n",
    "    categoryList_toy[4]: None,\n",
    "    categoryList_toy[5]: None,\n",
    "    categoryList_toy[6]: None\n",
    "}\n",
    "\n",
    "for i in range(7):\n",
    "    params_toy['component'] = toyComponentList[i]\n",
    "    temp = []\n",
    "    temp.extend(getURL(seed_toy_list[i], params_toy, select='ul.baby-product-list a.baby-product-link'))\n",
    "    temp = temp[:100]\n",
    "    links_toy[categoryList_toy[i]] = temp"
   ]
  },
  {
   "cell_type": "code",
   "execution_count": 9,
   "metadata": {
    "scrolled": false
   },
   "outputs": [
    {
     "name": "stdout",
     "output_type": "stream",
     "text": [
      "감각발달완구 100\n",
      "아기체육관/러닝홈 100\n",
      "아기걸음마 100\n",
      "모빌 100\n",
      "딸랑이 100\n",
      "치발기 100\n",
      "오뚝이 100\n"
     ]
    }
   ],
   "source": [
    "for (k, v) in links_toy.items():\n",
    "    print(k, len(v))"
   ]
  },
  {
   "cell_type": "code",
   "execution_count": 12,
   "metadata": {
    "scrolled": true
   },
   "outputs": [
    {
     "data": {
      "text/plain": [
       "'http://www.coupang.com/vp/products/5174059?itemId=23450011&vendorItemId=3034349958'"
      ]
     },
     "execution_count": 12,
     "metadata": {},
     "output_type": "execute_result"
    }
   ],
   "source": [
    "links_toy['감각발달완구'][0]"
   ]
  },
  {
   "cell_type": "code",
   "execution_count": 13,
   "metadata": {},
   "outputs": [
    {
     "data": {
      "text/plain": [
       "'http://www.coupang.com/vp/products/18534606?itemId=74488762&vendorItemId=3153259364'"
      ]
     },
     "execution_count": 13,
     "metadata": {},
     "output_type": "execute_result"
    }
   ],
   "source": [
    "links_toy['아기체육관/러닝홈'][0]"
   ]
  },
  {
   "cell_type": "code",
   "execution_count": 10,
   "metadata": {},
   "outputs": [],
   "source": [
    "toyList = []"
   ]
  },
  {
   "cell_type": "code",
   "execution_count": 274,
   "metadata": {},
   "outputs": [],
   "source": [
    "def getInfo_toy(url, category, num_retries=2):\n",
    "    html = requests.get(url, headers=headers)\n",
    "    \n",
    "    if 500<=html.status_code<600 and num_retries>0:\n",
    "        print(html.status_code, html.reason)\n",
    "        return getInfo_toy(seed, params, num_retries-1)\n",
    "    \n",
    "    dom = BeautifulSoup(html.text, 'lxml')\n",
    "    if len(dom.select('div.oos-label')) == 0 and int(dom.select('a.moveAnchor span.count')[0].get_text().replace('개 상품평', '').replace(',', '')) > 0:\n",
    "        link = html.url\n",
    "        img = 'http:' + dom.select('img.prod-image__detail')[0]['src']\n",
    "        category = category\n",
    "        title = dom.select('h2.prod-buy-header__title')[0].get_text()\n",
    "        # product = \n",
    "        price = int(dom.select('span.total-price strong')[0].get_text().replace('\\n', '').replace('원', '').replace(',', ''))\n",
    "        replyCount = int(dom.select('a.moveAnchor span.count')[0].get_text().replace('개 상품평', '').replace(',', ''))\n",
    "        \n",
    "        driver.get(url)\n",
    "        body = driver.find_element_by_tag_name('body')\n",
    "        while True:\n",
    "            try:\n",
    "                driver.find_element_by_css_selector('.sdp-review__average__total-star__info-gray div')\n",
    "                break\n",
    "            except NoSuchElementException:\n",
    "                body.send_keys(Keys.PAGE_DOWN)\n",
    "                driver.implicitly_wait(0.5)\n",
    "        \n",
    "        rating = driver.find_element_by_css_selector('.sdp-review__average__total-star__info-gray div')\n",
    "        rating = rating.get_attribute('data-rating')\n",
    "        replyResult = []\n",
    "        buttonList = []\n",
    "        buttonList.extend(driver.find_elements_by_css_selector('.sdp-review__article__page__num.js_reviewArticlePageBtn'))\n",
    "        \n",
    "        def getReply(pagenum):\n",
    "            try:\n",
    "                element = WebDriverWait(driver, 5).until(lambda x: x.find_elements_by_css_selector('.js_reviewArticleListContainer article div.sdp-review__article__list__review__content.js_reviewArticleContent')) \n",
    "                replyResult.extend(reply.text.replace('\\n', ' ') for reply in element)\n",
    "                time.sleep(1)\n",
    "            except TimeoutException:\n",
    "                return None\n",
    "            buttonList = []\n",
    "            while True:\n",
    "                try:\n",
    "                    buttonList.extend(driver.find_elements_by_css_selector('.sdp-review__article__page__num.js_reviewArticlePageBtn'))\n",
    "                    break\n",
    "                except WebDriverException:\n",
    "                    body.send_keys(Keys.PAGE_DOWN)\n",
    "                    driver.implicitly_wait(0.5)\n",
    "            if len(buttonList) > 0:\n",
    "                buttonList[pagenum].click()\n",
    "            else:\n",
    "                return None\n",
    "        \n",
    "        if len(buttonList) > 0:\n",
    "            end = len(buttonList)\n",
    "            if end > 5:\n",
    "                end = 5\n",
    "            for i in range(1, end):\n",
    "                getReply(i)\n",
    "                time.sleep(0.5)\n",
    "    \n",
    "        result = {\n",
    "            'link': link, \n",
    "            'img': img, \n",
    "            'category': category,\n",
    "            'title': title, \n",
    "            'price': price, \n",
    "            'rating': rating, \n",
    "            'optionTitle': None,\n",
    "            'optionPrice': None,\n",
    "            'replyCount': replyCount, \n",
    "            'replyResult': replyResult\n",
    "        }\n",
    "        toyList.append(result)\n",
    "        return 1\n",
    "    \n",
    "    else:\n",
    "        return 0\n",
    "    \n",
    "    return None"
   ]
  },
  {
   "cell_type": "code",
   "execution_count": 286,
   "metadata": {
    "scrolled": true
   },
   "outputs": [],
   "source": [
    "for link in links_toy[categoryList_toy[0]]:\n",
    "    getInfo_toy(link, categoryList_toy[0])"
   ]
  },
  {
   "cell_type": "code",
   "execution_count": 288,
   "metadata": {},
   "outputs": [],
   "source": [
    "for link in links_toy[categoryList_toy[1]]:\n",
    "    getInfo_toy(link, categoryList_toy[1])"
   ]
  },
  {
   "cell_type": "code",
   "execution_count": 291,
   "metadata": {},
   "outputs": [],
   "source": [
    "for link in links_toy[categoryList_toy[2]]:\n",
    "    getInfo_toy(link, categoryList_toy[2])"
   ]
  },
  {
   "cell_type": "code",
   "execution_count": 293,
   "metadata": {},
   "outputs": [],
   "source": [
    "for link in links_toy[categoryList_toy[3]]:\n",
    "    getInfo_toy(link, categoryList_toy[3])"
   ]
  },
  {
   "cell_type": "code",
   "execution_count": 295,
   "metadata": {},
   "outputs": [],
   "source": [
    "for link in links_toy[categoryList_toy[4]]:\n",
    "    getInfo_toy(link, categoryList_toy[4])"
   ]
  },
  {
   "cell_type": "code",
   "execution_count": 297,
   "metadata": {},
   "outputs": [],
   "source": [
    "for link in links_toy[categoryList_toy[5]]:\n",
    "    getInfo_toy(link, categoryList_toy[5])"
   ]
  },
  {
   "cell_type": "code",
   "execution_count": 298,
   "metadata": {},
   "outputs": [],
   "source": [
    "for link in links_toy[categoryList_toy[6]]:\n",
    "    getInfo_toy(link, categoryList_toy[6])"
   ]
  },
  {
   "cell_type": "code",
   "execution_count": 299,
   "metadata": {
    "scrolled": false
   },
   "outputs": [
    {
     "data": {
      "text/plain": [
       "441"
      ]
     },
     "execution_count": 299,
     "metadata": {},
     "output_type": "execute_result"
    }
   ],
   "source": [
    "len(toyList)"
   ]
  },
  {
   "cell_type": "markdown",
   "metadata": {},
   "source": [
    "___"
   ]
  },
  {
   "cell_type": "markdown",
   "metadata": {},
   "source": [
    "## 기저귀\n",
    "1. link\n",
    "2. img\n",
    "3. brand\n",
    "4. origin: 원산지(국내 / 해외)\n",
    "5. title: 제품명(있는 그대로)\n",
    "6. product: 보여줄 제품명(브랜드 + 연령대 + 형태)\n",
    "7. stage: {“신생아”:1,  “소형”:2, “중형”:3, “대형”:4, “특대형”:5, “점보”:6}\n",
    "8. type: 밴드 / 팬티\n",
    "9. price: 가격(int)\n",
    "10. rating: 평점\n",
    "11. replyCount: 상품평 갯수\n",
    "12. reply: 20개"
   ]
  },
  {
   "cell_type": "code",
   "execution_count": 36,
   "metadata": {},
   "outputs": [],
   "source": [
    "size_diaper = {\n",
    "    '1': 'http://www.coupang.com/np/categories/221963?listSize=60&brand=&offerCondition=&filterType=&isPriceRange=false&minPrice=&maxPrice=&page=1&channel=user&fromComponent=N&selectedPlpKeepFilter=&sorter=bestAsc&filter=1%23attr_11880%244488%40DEFAULT&component=221863&rating=0',\n",
    "    '2': 'http://www.coupang.com/np/categories/221963?listSize=60&brand=&offerCondition=&filterType=&isPriceRange=false&minPrice=&maxPrice=&page=1&channel=user&fromComponent=N&selectedPlpKeepFilter=&sorter=bestAsc&filter=1%23attr_11880%244489%40DEFAULT&component=221863&rating=0',\n",
    "    '3': 'http://www.coupang.com/np/categories/221963?listSize=60&brand=&offerCondition=&filterType=&isPriceRange=false&minPrice=&maxPrice=&page=1&channel=user&fromComponent=N&selectedPlpKeepFilter=&sorter=bestAsc&filter=1%23attr_11880%244490%40DEFAULT&component=221863&rating=0',\n",
    "    '4': 'http://www.coupang.com/np/categories/221963?listSize=60&brand=&offerCondition=&filterType=&isPriceRange=false&minPrice=&maxPrice=&page=1&channel=user&fromComponent=N&selectedPlpKeepFilter=&sorter=bestAsc&filter=1%23attr_11880%244491%40DEFAULT&component=221863&rating=0',\n",
    "    '5': 'http://www.coupang.com/np/categories/221963?listSize=60&brand=&offerCondition=&filterType=&isPriceRange=false&minPrice=&maxPrice=&page=1&channel=user&fromComponent=N&selectedPlpKeepFilter=&sorter=bestAsc&filter=1%23attr_11880%244492%40DEFAULT&component=221863&rating=0',\n",
    "    '6': 'http://www.coupang.com/np/categories/221963?listSize=60&brand=&offerCondition=&filterType=&isPriceRange=false&minPrice=&maxPrice=&page=1&channel=user&fromComponent=N&selectedPlpKeepFilter=&sorter=bestAsc&filter=1%23attr_11880%244493%40DEFAULT&component=221863&rating=0'\n",
    "}"
   ]
  },
  {
   "cell_type": "code",
   "execution_count": 38,
   "metadata": {
    "scrolled": true
   },
   "outputs": [
    {
     "name": "stdout",
     "output_type": "stream",
     "text": [
      "['http://www.coupang.com/vp/products/85604303?itemId=270702790&vendorItemId=3655707093', 'http://www.coupang.com/vp/products/99298423?itemId=303913110&vendorItemId=3749461407', 'http://www.coupang.com/vp/products/59817328?itemId=205901638&vendorItemId=3488670486', 'http://www.coupang.com/vp/products/33247691?itemId=124880500&vendorItemId=3254565792', 'http://www.coupang.com/vp/products/24421767?itemId=95089650&vendorItemId=3169935702', 'http://www.coupang.com/vp/products/70040853?itemId=234305214&vendorItemId=3572950022', 'http://www.coupang.com/vp/products/34829455?itemId=129631216&vendorItemId=3270753056', 'http://www.coupang.com/vp/products/22253971?itemId=86595282&vendorItemId=3201932407', 'http://www.coupang.com/vp/products/24026944?itemId=93556955&vendorItemId=3164946783', 'http://www.coupang.com/vp/products/65722204?itemId=221777229&vendorItemId=3537317780', 'http://www.coupang.com/vp/products/1399012?itemId=2926856&vendorItemId=3015429797', 'http://www.coupang.com/vp/products/1393714?itemId=1423772&vendorItemId=3062325746', 'http://www.coupang.com/vp/products/24026941?itemId=93556952&vendorItemId=3164946780', 'http://www.coupang.com/vp/products/1396074?itemId=619965&vendorItemId=3000477749', 'http://www.coupang.com/vp/products/10747027?itemId=46578515&vendorItemId=3072799517', 'http://www.coupang.com/vp/products/1393933?itemId=2764231&vendorItemId=3065795648', 'http://www.coupang.com/vp/products/61117273?itemId=209552050&vendorItemId=3496823006', 'http://www.coupang.com/vp/products/92334378?itemId=286921214&vendorItemId=3704187682', 'http://www.coupang.com/vp/products/99412334?itemId=304163434&vendorItemId=3749911638', 'http://www.coupang.com/vp/products/1392354?itemId=423937&vendorItemId=3061930204', 'http://www.coupang.com/vp/products/42701288?itemId=154731965&vendorItemId=3361319511', 'http://www.coupang.com/vp/products/26116659?itemId=101451371&vendorItemId=3201932173', 'http://www.coupang.com/vp/products/66018156?itemId=222349534&vendorItemId=3539182403', 'http://www.coupang.com/vp/products/102738480?itemId=312971140&vendorItemId=3769245934', 'http://www.coupang.com/vp/products/1393543?itemId=4161674&vendorItemId=3062082116', 'http://www.coupang.com/vp/products/1392939?itemId=27805862&vendorItemId=3062193413', 'http://www.coupang.com/vp/products/99413440?itemId=304165228&vendorItemId=3749914493', 'http://www.coupang.com/vp/products/42019073?itemId=152702461&vendorItemId=3352382933', 'http://www.coupang.com/vp/products/8397000?itemId=36620726&vendorItemId=3102145643', 'http://www.coupang.com/vp/products/90094547?itemId=281120010&vendorItemId=3687769046', 'http://www.coupang.com/vp/products/1393515?itemId=424007&vendorItemId=3061551332', 'http://www.coupang.com/vp/products/53097811?itemId=186796867&vendorItemId=3444822228', 'http://www.coupang.com/vp/products/22162757?itemId=86220369&vendorItemId=3146673335', 'http://www.coupang.com/vp/products/88523838?itemId=276992491&vendorItemId=3672375372', 'http://www.coupang.com/vp/products/175935?itemId=3199457&vendorItemId=3059678206', 'http://www.coupang.com/vp/products/7733864?itemId=39616360&vendorItemId=3059622584', 'http://www.coupang.com/vp/products/1398880?itemId=2926529&vendorItemId=3015428983', 'http://www.coupang.com/vp/products/1395807?itemId=1948447&vendorItemId=3008886785', 'http://www.coupang.com/vp/products/71172014?itemId=237558499&vendorItemId=3583292035', 'http://www.coupang.com/vp/products/17293895?itemId=68498861&vendorItemId=3517943317', 'http://www.coupang.com/vp/products/102577874?itemId=312487739&vendorItemId=3710152108', 'http://www.coupang.com/vp/products/53329371?itemId=187319731&vendorItemId=3445845897', 'http://www.coupang.com/vp/products/14095208?itemId=58305665&vendorItemId=3091441286', 'http://www.coupang.com/vp/products/90095912?itemId=281126020&vendorItemId=3687781827', 'http://www.coupang.com/vp/products/2481813?itemId=12310410&vendorItemId=3083639248', 'http://www.coupang.com/vp/products/120082172?itemId=357659871&vendorItemId=3870465104', 'http://www.coupang.com/vp/products/112286995?itemId=337709752&vendorItemId=3829380979', 'http://www.coupang.com/vp/products/110331276?itemId=332851506&vendorItemId=3817063899', 'http://www.coupang.com/vp/products/1398877?itemId=15520912&vendorItemId=3023347419', 'http://www.coupang.com/vp/products/4085916?itemId=19964328&vendorItemId=3029219477', 'http://www.coupang.com/vp/products/9779677?itemId=43221407&vendorItemId=3067492466', 'http://www.coupang.com/vp/products/88269773?itemId=276335947&vendorItemId=3670437471', 'http://www.coupang.com/vp/products/18579061?itemId=74633126&vendorItemId=3123697040', 'http://www.coupang.com/vp/products/14030981?itemId=58043820&vendorItemId=3091033284', 'http://www.coupang.com/vp/products/1393574?itemId=258785&vendorItemId=3019638928', 'http://www.coupang.com/vp/products/117417157?itemId=351083578&vendorItemId=3855594960', 'http://www.coupang.com/vp/products/47242497?itemId=167318681&vendorItemId=3396861944', 'http://www.coupang.com/vp/products/2781603?itemId=12852883&vendorItemId=3019638933', 'http://www.coupang.com/vp/products/121896026?itemId=362281385&vendorItemId=3881023700', 'http://www.coupang.com/vp/products/80671954?itemId=257735235&vendorItemId=3626763989']\n",
      "['http://www.coupang.com/vp/products/85604300?itemId=270702779&vendorItemId=3655707073', 'http://www.coupang.com/vp/products/99298427?itemId=303913116&vendorItemId=3749461430', 'http://www.coupang.com/vp/products/99298414?itemId=303913089&vendorItemId=3749461367', 'http://www.coupang.com/vp/products/92517387?itemId=287362788&vendorItemId=3705465002', 'http://www.coupang.com/vp/products/33247695?itemId=124880517&vendorItemId=3254565793', 'http://www.coupang.com/vp/products/12601730?itemId=53452551&vendorItemId=3083555576', 'http://www.coupang.com/vp/products/34829459?itemId=129631220&vendorItemId=3270753059', 'http://www.coupang.com/vp/products/21959461?itemId=85565372&vendorItemId=3145433109', 'http://www.coupang.com/vp/products/21959460?itemId=85565371&vendorItemId=3145433104', 'http://www.coupang.com/vp/products/9336718?itemId=418376&vendorItemId=3060525449', 'http://www.coupang.com/vp/products/69951657?itemId=234042440&vendorItemId=3572116212', 'http://www.coupang.com/vp/products/34829456?itemId=129631217&vendorItemId=3270753055', 'http://www.coupang.com/vp/products/24421769?itemId=95089655&vendorItemId=3169935698', 'http://www.coupang.com/vp/products/65722205?itemId=221777241&vendorItemId=3537317777', 'http://www.coupang.com/vp/products/9275712?itemId=69629343&vendorItemId=3061868411', 'http://www.coupang.com/vp/products/65722212?itemId=221777275&vendorItemId=3537317783', 'http://www.coupang.com/vp/products/24421770?itemId=95089656&vendorItemId=3169935700', 'http://www.coupang.com/vp/products/85604276?itemId=270702709&vendorItemId=3655706933', 'http://www.coupang.com/vp/products/2973993?itemId=132117&vendorItemId=3000249600', 'http://www.coupang.com/vp/products/189906?itemId=423986&vendorItemId=3061867485', 'http://www.coupang.com/vp/products/70040855?itemId=234305227&vendorItemId=3572950021', 'http://www.coupang.com/vp/products/70411693?itemId=235381688&vendorItemId=3576829065', 'http://www.coupang.com/vp/products/85213433?itemId=269630709&vendorItemId=3653393071', 'http://www.coupang.com/vp/products/69951658?itemId=234042446&vendorItemId=3572116220', 'http://www.coupang.com/vp/products/107029372?itemId=323579918&vendorItemId=3792241338', 'http://www.coupang.com/vp/products/58716749?itemId=203586117&vendorItemId=3487761634', 'http://www.coupang.com/vp/products/11842836?itemId=50910585&vendorItemId=3079293298', 'http://www.coupang.com/vp/products/99298408?itemId=303913073&vendorItemId=3749461341', 'http://www.coupang.com/vp/products/10747028?itemId=46578522&vendorItemId=3072799524', 'http://www.coupang.com/vp/products/1392342?itemId=429037&vendorItemId=3061545511', 'http://www.coupang.com/vp/products/1394110?itemId=5544325&vendorItemId=3063610178', 'http://www.coupang.com/vp/products/4868089?itemId=22179589&vendorItemId=3061901745', 'http://www.coupang.com/vp/products/37618290?itemId=138591526&vendorItemId=3297479183', 'http://www.coupang.com/vp/products/4244774?itemId=20382275&vendorItemId=3061974227', 'http://www.coupang.com/vp/products/490305?itemId=1423773&vendorItemId=3062026742', 'http://www.coupang.com/vp/products/1486486?itemId=423949&vendorItemId=3061930464', 'http://www.coupang.com/vp/products/99417462?itemId=304170774&vendorItemId=3749929287', 'http://www.coupang.com/vp/products/18557340?itemId=74545230&vendorItemId=3123506855', 'http://www.coupang.com/vp/products/16491597?itemId=67085165&vendorItemId=3107182796', 'http://www.coupang.com/vp/products/8343599?itemId=36431064&vendorItemId=3834393256', 'http://www.coupang.com/vp/products/53097812?itemId=186796869&vendorItemId=3444822232', 'http://www.coupang.com/vp/products/1392476?itemId=424000&vendorItemId=3059974686', 'http://www.coupang.com/vp/products/1396075?itemId=619984&vendorItemId=3000477928', 'http://www.coupang.com/vp/products/29771759?itemId=113817243&vendorItemId=3224796740', 'http://www.coupang.com/vp/products/106685780?itemId=322458261&vendorItemId=3789548833', 'http://www.coupang.com/vp/products/1392940?itemId=27808652&vendorItemId=3061907578', 'http://www.coupang.com/vp/products/1366115?itemId=424009&vendorItemId=3059689276', 'http://www.coupang.com/vp/products/19145049?itemId=76852630&vendorItemId=3146344896', 'http://www.coupang.com/vp/products/54900919?itemId=191381931&vendorItemId=3453570712', 'http://www.coupang.com/vp/products/1556369?itemId=3324995&vendorItemId=3062020205', 'http://www.coupang.com/vp/products/7733868?itemId=33848814&vendorItemId=3059618384', 'http://www.coupang.com/vp/products/11842835?itemId=50910584&vendorItemId=3146673360', 'http://www.coupang.com/vp/products/53138259?itemId=186914676&vendorItemId=3485969484', 'http://www.coupang.com/vp/products/99416407?itemId=304169506&vendorItemId=3749924968', 'http://www.coupang.com/vp/products/84921162?itemId=268906026&vendorItemId=3651492960', 'http://www.coupang.com/vp/products/1393796?itemId=423714&vendorItemId=3059800147', 'http://www.coupang.com/vp/products/2693129?itemId=12408613&vendorItemId=3061958108', 'http://www.coupang.com/vp/products/1394737?itemId=10146607&vendorItemId=3015542004', 'http://www.coupang.com/vp/products/88523852?itemId=276992545&vendorItemId=3672375571', 'http://www.coupang.com/vp/products/59817329?itemId=205901639&vendorItemId=3488670485']\n"
     ]
    },
    {
     "name": "stdout",
     "output_type": "stream",
     "text": [
      "['http://www.coupang.com/vp/products/85604243?itemId=270702627&vendorItemId=3655706775', 'http://www.coupang.com/vp/products/85604295?itemId=270702771&vendorItemId=3655707061', 'http://www.coupang.com/vp/products/95879139?itemId=287362791&vendorItemId=3705465021', 'http://www.coupang.com/vp/products/59817330?itemId=205901640&vendorItemId=3488670488', 'http://www.coupang.com/vp/products/99298424?itemId=303913112&vendorItemId=3749461405', 'http://www.coupang.com/vp/products/85604241?itemId=270702626&vendorItemId=3655706774', 'http://www.coupang.com/vp/products/99298442?itemId=303913131&vendorItemId=3749461506', 'http://www.coupang.com/vp/products/99298403?itemId=303913068&vendorItemId=3749461322', 'http://www.coupang.com/vp/products/6154565?itemId=27518782&vendorItemId=3040811564', 'http://www.coupang.com/vp/products/12601732?itemId=53452555&vendorItemId=3083555577', 'http://www.coupang.com/vp/products/21959462?itemId=85565373&vendorItemId=3145433102', 'http://www.coupang.com/vp/products/85604272?itemId=270702699&vendorItemId=3655706920', 'http://www.coupang.com/vp/products/85604294?itemId=270702769&vendorItemId=3655707052', 'http://www.coupang.com/vp/products/99298447?itemId=303913139&vendorItemId=3749461531', 'http://www.coupang.com/vp/products/85213419?itemId=269630671&vendorItemId=3653392973', 'http://www.coupang.com/vp/products/97538595?itemId=299449766&vendorItemId=3736966542', 'http://www.coupang.com/vp/products/34829463?itemId=129631224&vendorItemId=3270753058', 'http://www.coupang.com/vp/products/1392365?itemId=347864&vendorItemId=3000255671', 'http://www.coupang.com/vp/products/70411694?itemId=235381691&vendorItemId=3576829061', 'http://www.coupang.com/vp/products/69951663?itemId=234042459&vendorItemId=3572116215', 'http://www.coupang.com/vp/products/1365156?itemId=3267940&vendorItemId=3060266353', 'http://www.coupang.com/vp/products/11842837?itemId=50910586&vendorItemId=3079293297', 'http://www.coupang.com/vp/products/85604319?itemId=270702848&vendorItemId=3655707185', 'http://www.coupang.com/vp/products/34829460?itemId=129631221&vendorItemId=3270753057', 'http://www.coupang.com/vp/products/65722215?itemId=221777283&vendorItemId=3537317781', 'http://www.coupang.com/vp/products/24421771?itemId=95089657&vendorItemId=3169935697', 'http://www.coupang.com/vp/products/22986903?itemId=89299795&vendorItemId=3154334832', 'http://www.coupang.com/vp/products/29771763?itemId=113817252&vendorItemId=3224796743', 'http://www.coupang.com/vp/products/69951660?itemId=234042452&vendorItemId=3572116219', 'http://www.coupang.com/vp/products/2331919?itemId=17882542&vendorItemId=3062348979', 'http://www.coupang.com/vp/products/6103817?itemId=15382631&vendorItemId=3061907272', 'http://www.coupang.com/vp/products/1392355?itemId=423722&vendorItemId=3061480317', 'http://www.coupang.com/vp/products/21959472?itemId=85565383&vendorItemId=3072553056', 'http://www.coupang.com/vp/products/15908624?itemId=65050567&vendorItemId=3103018370', 'http://www.coupang.com/vp/products/10747030?itemId=46578527&vendorItemId=3072799530', 'http://www.coupang.com/vp/products/70040856?itemId=234305232&vendorItemId=3572950014', 'http://www.coupang.com/vp/products/22142901?itemId=86150139&vendorItemId=3223900394', 'http://www.coupang.com/vp/products/1474384?itemId=6449086&vendorItemId=3059916771', 'http://www.coupang.com/vp/products/9702302?itemId=42865756&vendorItemId=3066817375', 'http://www.coupang.com/vp/products/3891102?itemId=16132409&vendorItemId=3024148238', 'http://www.coupang.com/vp/products/15343835?itemId=63113687&vendorItemId=3135538342', 'http://www.coupang.com/vp/products/1394109?itemId=5544326&vendorItemId=3060748441', 'http://www.coupang.com/vp/products/2331846?itemId=17322822&vendorItemId=3003268638', 'http://www.coupang.com/vp/products/9293480?itemId=45065281&vendorItemId=3062020559', 'http://www.coupang.com/vp/products/19145050?itemId=92495232&vendorItemId=3161891460', 'http://www.coupang.com/vp/products/9702301?itemId=42865755&vendorItemId=3066817381', 'http://www.coupang.com/vp/products/50403689?itemId=177672815&vendorItemId=3424572148', 'http://www.coupang.com/vp/products/1486487?itemId=423745&vendorItemId=3060475232', 'http://www.coupang.com/vp/products/49225817?itemId=174402031&vendorItemId=3417082486', 'http://www.coupang.com/vp/products/1393963?itemId=418377&vendorItemId=3060862431', 'http://www.coupang.com/vp/products/1366114?itemId=423947&vendorItemId=3059741515', 'http://www.coupang.com/vp/products/53097815?itemId=186796873&vendorItemId=3444822229', 'http://www.coupang.com/vp/products/4244775?itemId=20382277&vendorItemId=3060872042', 'http://www.coupang.com/vp/products/36310135?itemId=134360572&vendorItemId=3284611972', 'http://www.coupang.com/vp/products/29771767?itemId=113817299&vendorItemId=3224796744', 'http://www.coupang.com/vp/products/21959471?itemId=85565382&vendorItemId=3193344217', 'http://www.coupang.com/vp/products/61117248?itemId=209551984&vendorItemId=3496823008', 'http://www.coupang.com/vp/products/1392343?itemId=429028&vendorItemId=3060523954', 'http://www.coupang.com/vp/products/1394589?itemId=5577928&vendorItemId=3061806384', 'http://www.coupang.com/vp/products/14380160?itemId=59485507&vendorItemId=3093148297']\n",
      "['http://www.coupang.com/vp/products/85604263?itemId=270702661&vendorItemId=3655706896', 'http://www.coupang.com/vp/products/85604228?itemId=270702579&vendorItemId=3655706711', 'http://www.coupang.com/vp/products/85604237?itemId=270702612&vendorItemId=3655706744', 'http://www.coupang.com/vp/products/92517389?itemId=287362795&vendorItemId=3705465007', 'http://www.coupang.com/vp/products/85604289?itemId=270702753&vendorItemId=3655706992', 'http://www.coupang.com/vp/products/70221920?itemId=234779925&vendorItemId=3575015717', 'http://www.coupang.com/vp/products/85213420?itemId=269630672&vendorItemId=3653392975', 'http://www.coupang.com/vp/products/92334407?itemId=286921271&vendorItemId=3704187763', 'http://www.coupang.com/vp/products/85604268?itemId=270702679&vendorItemId=3655706911', 'http://www.coupang.com/vp/products/70221923?itemId=234779935&vendorItemId=3575015718', 'http://www.coupang.com/vp/products/70411696?itemId=235381698&vendorItemId=3576829064', 'http://www.coupang.com/vp/products/92517405?itemId=287362835&vendorItemId=3705465166', 'http://www.coupang.com/vp/products/24421759?itemId=95089638&vendorItemId=3169935691', 'http://www.coupang.com/vp/products/85604245?itemId=270702630&vendorItemId=3655706777', 'http://www.coupang.com/vp/products/24421758?itemId=95089637&vendorItemId=3169935694', 'http://www.coupang.com/vp/products/9096501?itemId=39910810&vendorItemId=3060266875', 'http://www.coupang.com/vp/products/19144392?itemId=76851175&vendorItemId=3129388630', 'http://www.coupang.com/vp/products/59817331?itemId=205901641&vendorItemId=3488670487', 'http://www.coupang.com/vp/products/13060953?itemId=54807659&vendorItemId=3085806400', 'http://www.coupang.com/vp/products/12601734?itemId=53452561&vendorItemId=3083555580', 'http://www.coupang.com/vp/products/1400035?itemId=423699&vendorItemId=3060338835', 'http://www.coupang.com/vp/products/1474385?itemId=6449087&vendorItemId=3059913794', 'http://www.coupang.com/vp/products/29771774?itemId=113817388&vendorItemId=3224796742', 'http://www.coupang.com/vp/products/99298410?itemId=303913076&vendorItemId=3749461352', 'http://www.coupang.com/vp/products/99298415?itemId=303913093&vendorItemId=3749461379', 'http://www.coupang.com/vp/products/92334384?itemId=286921233&vendorItemId=3704187695', 'http://www.coupang.com/vp/products/53097819?itemId=186796889&vendorItemId=3444822234', 'http://www.coupang.com/vp/products/2974647?itemId=177781761&vendorItemId=3000204637', 'http://www.coupang.com/vp/products/99298440?itemId=303913129&vendorItemId=3749461487', 'http://www.coupang.com/vp/products/22142931?itemId=86150281&vendorItemId=3698919268', 'http://www.coupang.com/vp/products/110858871?itemId=334088957&vendorItemId=3819822272', 'http://www.coupang.com/vp/products/2149070?itemId=406209&vendorItemId=3060406374', 'http://www.coupang.com/vp/products/97538594?itemId=299449764&vendorItemId=3736966522', 'http://www.coupang.com/vp/products/2148814?itemId=406208&vendorItemId=3060415421', 'http://www.coupang.com/vp/products/85604250?itemId=270702639&vendorItemId=3655706809', 'http://www.coupang.com/vp/products/97538607?itemId=299449812&vendorItemId=3736966623', 'http://www.coupang.com/vp/products/1393217?itemId=423782&vendorItemId=3060473305', 'http://www.coupang.com/vp/products/1392482?itemId=423734&vendorItemId=3061486694', 'http://www.coupang.com/vp/products/21959473?itemId=85565384&vendorItemId=3145433125', 'http://www.coupang.com/vp/products/1392366?itemId=347873&vendorItemId=3000255672', 'http://www.coupang.com/vp/products/50403691?itemId=177672828&vendorItemId=3424572146', 'http://www.coupang.com/vp/products/2331847?itemId=17882547&vendorItemId=3062357126', 'http://www.coupang.com/vp/products/1435446?itemId=3199926&vendorItemId=3059718816', 'http://www.coupang.com/vp/products/37611629?itemId=138559313&vendorItemId=3297381124', 'http://www.coupang.com/vp/products/15343836?itemId=63113688&vendorItemId=3099013567', 'http://www.coupang.com/vp/products/21959459?itemId=85565370&vendorItemId=3145433105', 'http://www.coupang.com/vp/products/97538588?itemId=299449754&vendorItemId=3736966471', 'http://www.coupang.com/vp/products/2331921?itemId=17882544&vendorItemId=3062343469', 'http://www.coupang.com/vp/products/9108677?itemId=70276283&vendorItemId=3060431580', 'http://www.coupang.com/vp/products/22524511?itemId=87458224&vendorItemId=3149335121', 'http://www.coupang.com/vp/products/34829466?itemId=129631230&vendorItemId=3270753060', 'http://www.coupang.com/vp/products/99298409?itemId=303913072&vendorItemId=3749461335', 'http://www.coupang.com/vp/products/26428787?itemId=102317081&vendorItemId=3193517096', 'http://www.coupang.com/vp/products/1393809?itemId=2760719&vendorItemId=3059794993', 'http://www.coupang.com/vp/products/99298417?itemId=303913095&vendorItemId=3749461376', 'http://www.coupang.com/vp/products/15157055?itemId=62372894&vendorItemId=3097638683', 'http://www.coupang.com/vp/products/21959474?itemId=85565385&vendorItemId=3145433133', 'http://www.coupang.com/vp/products/34829465?itemId=129631226&vendorItemId=3270753061', 'http://www.coupang.com/vp/products/6154566?itemId=27518783&vendorItemId=3040811565', 'http://www.coupang.com/vp/products/139502?itemId=418379&vendorItemId=3060869477']\n"
     ]
    },
    {
     "name": "stdout",
     "output_type": "stream",
     "text": [
      "['http://www.coupang.com/vp/products/85604230?itemId=270702591&vendorItemId=3655706723', 'http://www.coupang.com/vp/products/92517388?itemId=287362790&vendorItemId=3705464996', 'http://www.coupang.com/vp/products/85604271?itemId=270702687&vendorItemId=3655706906', 'http://www.coupang.com/vp/products/85213422?itemId=269630675&vendorItemId=3653392987', 'http://www.coupang.com/vp/products/70221925?itemId=328078117&vendorItemId=3575015719', 'http://www.coupang.com/vp/products/85604255?itemId=270702647&vendorItemId=3655706833', 'http://www.coupang.com/vp/products/85604269?itemId=270702681&vendorItemId=3655706909', 'http://www.coupang.com/vp/products/70221927?itemId=234779974&vendorItemId=3575015720', 'http://www.coupang.com/vp/products/9699615?itemId=42854833&vendorItemId=3060297242', 'http://www.coupang.com/vp/products/19144393?itemId=76851176&vendorItemId=3129388632', 'http://www.coupang.com/vp/products/13060955?itemId=54807667&vendorItemId=3085806437', 'http://www.coupang.com/vp/products/1474386?itemId=6449088&vendorItemId=3059920503', 'http://www.coupang.com/vp/products/9275224?itemId=94873636&vendorItemId=3060316015', 'http://www.coupang.com/vp/products/92334396?itemId=286921252&vendorItemId=3704187728', 'http://www.coupang.com/vp/products/97538609?itemId=299449821&vendorItemId=3736966639', 'http://www.coupang.com/vp/products/92334374?itemId=286921210&vendorItemId=3704187670', 'http://www.coupang.com/vp/products/99298425?itemId=303913113&vendorItemId=3749461426', 'http://www.coupang.com/vp/products/99298441?itemId=303913130&vendorItemId=3749461493', 'http://www.coupang.com/vp/products/31819688?itemId=119739941&vendorItemId=3242137214', 'http://www.coupang.com/vp/products/24421761?itemId=95089641&vendorItemId=3169935695', 'http://www.coupang.com/vp/products/70411697?itemId=235381699&vendorItemId=3576829062', 'http://www.coupang.com/vp/products/1393218?itemId=423766&vendorItemId=3060451758', 'http://www.coupang.com/vp/products/99298429?itemId=303913117&vendorItemId=3749461435', 'http://www.coupang.com/vp/products/92517381?itemId=287362776&vendorItemId=3705464932', 'http://www.coupang.com/vp/products/85604248?itemId=270702634&vendorItemId=3655706792', 'http://www.coupang.com/vp/products/31819693?itemId=119739965&vendorItemId=3242137231', 'http://www.coupang.com/vp/products/24421760?itemId=95089639&vendorItemId=3169935693', 'http://www.coupang.com/vp/products/59817332?itemId=205901642&vendorItemId=3488670489', 'http://www.coupang.com/vp/products/97538591?itemId=299449760&vendorItemId=3736966492', 'http://www.coupang.com/vp/products/1400036?itemId=423736&vendorItemId=3060308138', 'http://www.coupang.com/vp/products/96552094?itemId=297165041&vendorItemId=3731113470', 'http://www.coupang.com/vp/products/37611630?itemId=138559314&vendorItemId=3297381123', 'http://www.coupang.com/vp/products/15157063?itemId=62372913&vendorItemId=3097638696', 'http://www.coupang.com/vp/products/22986908?itemId=89299812&vendorItemId=3154334830', 'http://www.coupang.com/vp/products/9559885?itemId=42086839&vendorItemId=3059792192', 'http://www.coupang.com/vp/products/4868087?itemId=22179587&vendorItemId=3060413825', 'http://www.coupang.com/vp/products/65722220?itemId=221777309&vendorItemId=3537317784', 'http://www.coupang.com/vp/products/21959467?itemId=85565378&vendorItemId=3145433115', 'http://www.coupang.com/vp/products/13336039?itemId=22261975&vendorItemId=3000250633', 'http://www.coupang.com/vp/products/99298433?itemId=303913121&vendorItemId=3749461460', 'http://www.coupang.com/vp/products/761932?itemId=17882546&vendorItemId=3062352993', 'http://www.coupang.com/vp/products/9587112?itemId=42271713&vendorItemId=3060713204', 'http://www.coupang.com/vp/products/21959466?itemId=85565377&vendorItemId=3145433116', 'http://www.coupang.com/vp/products/16039147?itemId=64819562&vendorItemId=3102396607', 'http://www.coupang.com/vp/products/448068?itemId=3308324&vendorItemId=3060525938', 'http://www.coupang.com/vp/products/189981?itemId=347957&vendorItemId=3000255673', 'http://www.coupang.com/vp/products/1394151?itemId=5544323&vendorItemId=3060449866', 'http://www.coupang.com/vp/products/15157057?itemId=62372898&vendorItemId=3808164899', 'http://www.coupang.com/vp/products/13334967?itemId=55698771&vendorItemId=3087469561', 'http://www.coupang.com/vp/products/12601735?itemId=53452562&vendorItemId=3083555583', 'http://www.coupang.com/vp/products/111269566?itemId=335165688&vendorItemId=3822335285', 'http://www.coupang.com/vp/products/114992130?itemId=344780463&vendorItemId=3843046658', 'http://www.coupang.com/vp/products/615359?itemId=370308&vendorItemId=3000275812', 'http://www.coupang.com/vp/products/1392480?itemId=423725&vendorItemId=3060523822', 'http://www.coupang.com/vp/products/36846096?itemId=135825786&vendorItemId=3752920483', 'http://www.coupang.com/vp/products/50403694?itemId=177672834&vendorItemId=3424572147', 'http://www.coupang.com/vp/products/29716325?itemId=113534993&vendorItemId=3224144827', 'http://www.coupang.com/vp/products/60991993?itemId=209131571&vendorItemId=3495700518', 'http://www.coupang.com/vp/products/1485989?itemId=423696&vendorItemId=3060320168', 'http://www.coupang.com/vp/products/22986910?itemId=105757438&vendorItemId=3203383185']\n",
      "['http://www.coupang.com/vp/products/92517379?itemId=287362774&vendorItemId=3705464905', 'http://www.coupang.com/vp/products/85604236?itemId=270702608&vendorItemId=3655706747', 'http://www.coupang.com/vp/products/2387028?itemId=10975373&vendorItemId=3059892535', 'http://www.coupang.com/vp/products/85604223?itemId=270702557&vendorItemId=3655706680', 'http://www.coupang.com/vp/products/1392423?itemId=3233420&vendorItemId=3060324077', 'http://www.coupang.com/vp/products/24421763?itemId=95089643&vendorItemId=3169935696', 'http://www.coupang.com/vp/products/99298426?itemId=303913114&vendorItemId=3749461420', 'http://www.coupang.com/vp/products/70233746?itemId=234816616&vendorItemId=3575153011', 'http://www.coupang.com/vp/products/101308273?itemId=308876292&vendorItemId=3761089522', 'http://www.coupang.com/vp/products/24421764?itemId=95089644&vendorItemId=3169935692', 'http://www.coupang.com/vp/products/4868088?itemId=22179588&vendorItemId=3060523989', 'http://www.coupang.com/vp/products/99298418?itemId=303913098&vendorItemId=3749461387', 'http://www.coupang.com/vp/products/1393216?itemId=423919&vendorItemId=3060903744', 'http://www.coupang.com/vp/products/189469?itemId=406212&vendorItemId=3060754361', 'http://www.coupang.com/vp/products/2050520?itemId=9045183&vendorItemId=3012883678', 'http://www.coupang.com/vp/products/1393812?itemId=2760721&vendorItemId=3059899564', 'http://www.coupang.com/vp/products/1392483?itemId=423763&vendorItemId=3061541047', 'http://www.coupang.com/vp/products/101308297?itemId=308876406&vendorItemId=3761089597', 'http://www.coupang.com/vp/products/1395868?itemId=2259244&vendorItemId=3059987437', 'http://www.coupang.com/vp/products/1392373?itemId=423776&vendorItemId=3060541681', 'http://www.coupang.com/vp/products/3975511?itemId=19442217&vendorItemId=3061689096', 'http://www.coupang.com/vp/products/2331849?itemId=17328438&vendorItemId=3003268641', 'http://www.coupang.com/vp/products/22250713?itemId=86577259&vendorItemId=3147331982', 'http://www.coupang.com/vp/products/2976101?itemId=283787&vendorItemId=3006604139', 'http://www.coupang.com/vp/products/31819703?itemId=119740006&vendorItemId=3242137237', 'http://www.coupang.com/vp/products/1394950?itemId=3308325&vendorItemId=3060810480', 'http://www.coupang.com/vp/products/6230302?itemId=27851401&vendorItemId=3062210100', 'http://www.coupang.com/vp/products/46117173?itemId=164128565&vendorItemId=3388330951', 'http://www.coupang.com/vp/products/1365382?itemId=406213&vendorItemId=3061548154', 'http://www.coupang.com/vp/products/29716326?itemId=113534995&vendorItemId=3224144826', 'http://www.coupang.com/vp/products/2072055?itemId=26671520&vendorItemId=3012883677', 'http://www.coupang.com/vp/products/31819698?itemId=119739995&vendorItemId=3242137234', 'http://www.coupang.com/vp/products/22250733?itemId=86577315&vendorItemId=3147331989', 'http://www.coupang.com/vp/products/81018490?itemId=258611786&vendorItemId=3628647643', 'http://www.coupang.com/vp/products/1556248?itemId=5238608&vendorItemId=3060868594', 'http://www.coupang.com/vp/products/2693128?itemId=12408612&vendorItemId=3061833666', 'http://www.coupang.com/vp/products/10755133?itemId=46602885&vendorItemId=3072849525', 'http://www.coupang.com/vp/products/32811052?itemId=123357091&vendorItemId=3251154715', 'http://www.coupang.com/vp/products/19486296?itemId=78144961&vendorItemId=3131916794', 'http://www.coupang.com/vp/products/69611613?itemId=233148261&vendorItemId=3589512225', 'http://www.coupang.com/vp/products/1209000?itemId=5238607&vendorItemId=3060752376', 'http://www.coupang.com/vp/products/14560364?itemId=60155837&vendorItemId=3094123038', 'http://www.coupang.com/vp/products/1486372?itemId=132127&vendorItemId=3000249601', 'http://www.coupang.com/vp/products/1392428?itemId=3233744&vendorItemId=3061569645', 'http://www.coupang.com/vp/products/9700720?itemId=42859637&vendorItemId=3066797394', 'http://www.coupang.com/vp/products/26659260?itemId=103139441&vendorItemId=3195893705', 'http://www.coupang.com/vp/products/18461749?itemId=74227695&vendorItemId=3122811006', 'http://www.coupang.com/vp/products/22142956?itemId=86150327&vendorItemId=3704103479', 'http://www.coupang.com/vp/products/5218115?itemId=23642163&vendorItemId=3061490180', 'http://www.coupang.com/vp/products/18378921?itemId=73917814&vendorItemId=3122042405', 'http://www.coupang.com/vp/products/88523807?itemId=276992409&vendorItemId=3672374831', 'http://www.coupang.com/vp/products/22142960?itemId=86150330&vendorItemId=3704106603', 'http://www.coupang.com/vp/products/24797966?itemId=96499294&vendorItemId=3265161597', 'http://www.coupang.com/vp/products/69625505?itemId=233182458&vendorItemId=3591482972', 'http://www.coupang.com/vp/products/28359553?itemId=109054856&vendorItemId=3212197104', 'http://www.coupang.com/vp/products/108694341?itemId=329018960&vendorItemId=3401935876', 'http://www.coupang.com/vp/products/80671894?itemId=257735030&vendorItemId=3626763626', 'http://www.coupang.com/vp/products/1395719?itemId=5603612&vendorItemId=3061706655', 'http://www.coupang.com/vp/products/42019079?itemId=152702467&vendorItemId=3352382943', 'http://www.coupang.com/vp/products/23416669?itemId=91081770&vendorItemId=3158299502']\n"
     ]
    }
   ],
   "source": [
    "links_diaper = {\n",
    "    '1': None,\n",
    "    '2': None,\n",
    "    '3': None,\n",
    "    '4': None,\n",
    "    '5': None,\n",
    "    '6': None\n",
    "}\n",
    "\n",
    "for i in range(1, 7, 1):\n",
    "    temp = []\n",
    "    temp.extend(getURL(size_diaper[str(i)], select='ul.baby-product-list a.baby-product-link'))\n",
    "    temp = temp[:100]\n",
    "    links_diaper[i] = temp\n",
    "    print(links_diaper[i])"
   ]
  },
  {
   "cell_type": "code",
   "execution_count": 40,
   "metadata": {
    "scrolled": true
   },
   "outputs": [
    {
     "data": {
      "text/plain": [
       "'http://www.coupang.com/vp/products/85604303?itemId=270702790&vendorItemId=3655707093'"
      ]
     },
     "execution_count": 40,
     "metadata": {},
     "output_type": "execute_result"
    }
   ],
   "source": [
    "links_diaper[1][0]"
   ]
  },
  {
   "cell_type": "code",
   "execution_count": 41,
   "metadata": {
    "scrolled": false
   },
   "outputs": [
    {
     "data": {
      "text/plain": [
       "'http://www.coupang.com/vp/products/85604300?itemId=270702779&vendorItemId=3655707073'"
      ]
     },
     "execution_count": 41,
     "metadata": {},
     "output_type": "execute_result"
    }
   ],
   "source": [
    "links_diaper[2][0]"
   ]
  },
  {
   "cell_type": "code",
   "execution_count": 42,
   "metadata": {},
   "outputs": [
    {
     "data": {
      "text/plain": [
       "'http://www.coupang.com/vp/products/85604243?itemId=270702627&vendorItemId=3655706775'"
      ]
     },
     "execution_count": 42,
     "metadata": {},
     "output_type": "execute_result"
    }
   ],
   "source": [
    "links_diaper[3][0]"
   ]
  },
  {
   "cell_type": "code",
   "execution_count": 44,
   "metadata": {},
   "outputs": [],
   "source": [
    "diaperList = []"
   ]
  },
  {
   "cell_type": "code",
   "execution_count": 45,
   "metadata": {},
   "outputs": [],
   "source": [
    "def getInfo_diaper(url, stage, num_retries=2):\n",
    "    html = requests.get(url, headers=headers)\n",
    "    \n",
    "    if 500<=html.status_code<600 and num_retries>0:\n",
    "        print(html.status_code, html.reason)\n",
    "        return getInfo_diaper(seed, params, num_retries-1)\n",
    "    \n",
    "    dom = BeautifulSoup(html.text, 'lxml')\n",
    "    if len(dom.select('div.oos-label')) == 0 and int(dom.select('a.moveAnchor span.count')[0].get_text().replace('개 상품평', '').replace(',', '')) > 0:\n",
    "        link = html.url\n",
    "        img = 'http:' + dom.select('img.prod-image__detail')[0]['src']\n",
    "        brand = dom.select('a.prod-brand-name')[0].get_text()\n",
    "        title = dom.select('h2.prod-buy-header__title')[0].get_text()\n",
    "        # product = \n",
    "        origin = 'unknown'\n",
    "        for i in range(len(dom.select('ul.prod-description-attribute li'))):\n",
    "            if '제조국' in dom.select('ul.prod-description-attribute li')[i].get_text():\n",
    "                origin = dom.select('ul.prod-description-attribute li')[i].get_text().replace('제조국: ', '')\n",
    "        stage = stage\n",
    "        if '밴드형' in title:\n",
    "            diaperType = '밴드형'\n",
    "        elif '팬티형' in title:\n",
    "            diaperType = '팬티형'\n",
    "        elif '일자형' in title:\n",
    "            diaperType = '일자형'\n",
    "        else:\n",
    "            return 0\n",
    "        price = int(dom.select('span.total-price strong')[0].get_text().replace('\\n', '').replace('원', '').replace(',', ''))\n",
    "        replyCount = int(dom.select('a.moveAnchor span.count')[0].get_text().replace('개 상품평', '').replace(',', ''))\n",
    "        \n",
    "        driver.get(url)\n",
    "        body = driver.find_element_by_tag_name('body')\n",
    "        while True:\n",
    "            try:\n",
    "                driver.find_element_by_css_selector('.sdp-review__average__total-star__info-gray div')\n",
    "                break\n",
    "            except NoSuchElementException:\n",
    "                body.send_keys(Keys.PAGE_DOWN)\n",
    "                driver.implicitly_wait(0.5)\n",
    "        \n",
    "        rating = driver.find_element_by_css_selector('.sdp-review__average__total-star__info-gray div')\n",
    "        rating = rating.get_attribute('data-rating')\n",
    "        replyResult = []\n",
    "        buttonList = []\n",
    "        buttonList.extend(driver.find_elements_by_css_selector('.sdp-review__article__page__num.js_reviewArticlePageBtn'))\n",
    "        \n",
    "        def getReply(pagenum):\n",
    "            try:\n",
    "                element = WebDriverWait(driver, 5).until(lambda x: x.find_elements_by_css_selector('.js_reviewArticleListContainer article div.sdp-review__article__list__review__content.js_reviewArticleContent')) \n",
    "                replyResult.extend(reply.text.replace('\\n', ' ') for reply in element)\n",
    "                time.sleep(1)\n",
    "            except TimeoutException:\n",
    "                return None\n",
    "            buttonList = []\n",
    "            while True:\n",
    "                try:\n",
    "                    buttonList.extend(driver.find_elements_by_css_selector('.sdp-review__article__page__num.js_reviewArticlePageBtn'))\n",
    "                    break\n",
    "                except WebDriverException:\n",
    "                    body.send_keys(Keys.PAGE_DOWN)\n",
    "                    driver.implicitly_wait(0.5)\n",
    "            if len(buttonList) > 0:\n",
    "                buttonList[pagenum].click()\n",
    "            else:\n",
    "                return None\n",
    "        \n",
    "        if len(buttonList) > 0:\n",
    "            end = len(buttonList)\n",
    "            if end > 5:\n",
    "                end = 5\n",
    "            for i in range(1, end):\n",
    "                getReply(i)\n",
    "                time.sleep(0.5)\n",
    "                \n",
    "        #origin = driver.find_elements_by_css_selector('.prod-delivery-return-policy-table.essential-info-table tbody tr td')[1].text\n",
    "    \n",
    "        result = {\n",
    "            'link': link, \n",
    "            'img': img, \n",
    "            'brand': brand,\n",
    "            'origin': origin,\n",
    "            'title': title,\n",
    "            'stage': stage,\n",
    "            'type': diaperType, \n",
    "            'price': price, \n",
    "            'rating': rating, \n",
    "            'optionTitle': None,\n",
    "            'optionPrice': None,\n",
    "            'replyCount': replyCount, \n",
    "            'replyResult': replyResult\n",
    "        }\n",
    "        diaperList.append(result)\n",
    "        return 1\n",
    "    \n",
    "    else:\n",
    "        return 0\n",
    "    \n",
    "    return None"
   ]
  },
  {
   "cell_type": "code",
   "execution_count": 46,
   "metadata": {
    "scrolled": false
   },
   "outputs": [
    {
     "name": "stdout",
     "output_type": "stream",
     "text": [
      "37\n"
     ]
    }
   ],
   "source": [
    "for link in links_diaper[sizeList_diaper[sizeCategory[0]]]:\n",
    "    getInfo_diaper(link, sizeList_diaper[sizeCategory[0]])\n",
    "print(len(diaperList))"
   ]
  },
  {
   "cell_type": "code",
   "execution_count": 47,
   "metadata": {},
   "outputs": [
    {
     "name": "stdout",
     "output_type": "stream",
     "text": [
      "94\n"
     ]
    }
   ],
   "source": [
    "for link in links_diaper[sizeList_diaper[sizeCategory[1]]]:\n",
    "    getInfo_diaper(link, sizeList_diaper[sizeCategory[1]])\n",
    "print(len(diaperList))"
   ]
  },
  {
   "cell_type": "code",
   "execution_count": 48,
   "metadata": {},
   "outputs": [
    {
     "name": "stdout",
     "output_type": "stream",
     "text": [
      "154\n"
     ]
    }
   ],
   "source": [
    "for link in links_diaper[sizeList_diaper[sizeCategory[2]]]:\n",
    "    getInfo_diaper(link, sizeList_diaper[sizeCategory[2]])\n",
    "print(len(diaperList))"
   ]
  },
  {
   "cell_type": "code",
   "execution_count": 49,
   "metadata": {
    "scrolled": true
   },
   "outputs": [
    {
     "name": "stdout",
     "output_type": "stream",
     "text": [
      "212\n"
     ]
    }
   ],
   "source": [
    "for link in links_diaper[sizeList_diaper[sizeCategory[3]]]:\n",
    "    getInfo_diaper(link, sizeList_diaper[sizeCategory[3]])\n",
    "print(len(diaperList))"
   ]
  },
  {
   "cell_type": "code",
   "execution_count": 57,
   "metadata": {
    "scrolled": false
   },
   "outputs": [
    {
     "name": "stdout",
     "output_type": "stream",
     "text": [
      "267\n"
     ]
    }
   ],
   "source": [
    "for link in links_diaper[sizeList_diaper[sizeCategory[4]]]:\n",
    "    getInfo_diaper(link, sizeList_diaper[sizeCategory[4]])\n",
    "print(len(diaperList))"
   ]
  },
  {
   "cell_type": "code",
   "execution_count": 62,
   "metadata": {},
   "outputs": [
    {
     "name": "stdout",
     "output_type": "stream",
     "text": [
      "321\n"
     ]
    }
   ],
   "source": [
    "for link in links_diaper[sizeList_diaper[sizeCategory[5]]]:\n",
    "    getInfo_diaper(link, sizeList_diaper[sizeCategory[5]])\n",
    "print(len(diaperList))"
   ]
  },
  {
   "cell_type": "code",
   "execution_count": 63,
   "metadata": {
    "scrolled": false
   },
   "outputs": [
    {
     "data": {
      "text/plain": [
       "321"
      ]
     },
     "execution_count": 63,
     "metadata": {},
     "output_type": "execute_result"
    }
   ],
   "source": [
    "len(diaperList)"
   ]
  },
  {
   "cell_type": "markdown",
   "metadata": {},
   "source": [
    "___"
   ]
  },
  {
   "cell_type": "markdown",
   "metadata": {},
   "source": [
    "데이터 형식 수정 완료. 다시 가져올것.(과자는 완료함)"
   ]
  },
  {
   "cell_type": "code",
   "execution_count": 64,
   "metadata": {},
   "outputs": [],
   "source": [
    "from pymongo import MongoClient\n",
    "\n",
    "client = MongoClient('localhost', 27017)"
   ]
  },
  {
   "cell_type": "code",
   "execution_count": 65,
   "metadata": {},
   "outputs": [],
   "source": [
    "coupang_db = client.get_database('coupang_db')\n",
    "\n",
    "diaper_collection = coupang_db.get_collection('Diaper')"
   ]
  },
  {
   "cell_type": "code",
   "execution_count": 66,
   "metadata": {},
   "outputs": [
    {
     "data": {
      "text/plain": [
       "<pymongo.results.InsertManyResult at 0x1152070c8>"
      ]
     },
     "execution_count": 66,
     "metadata": {},
     "output_type": "execute_result"
    }
   ],
   "source": [
    "diaper_collection.insert_many([\n",
    "    diaperList[i] for i in range(len(diaperList))\n",
    "])"
   ]
  },
  {
   "cell_type": "code",
   "execution_count": null,
   "metadata": {},
   "outputs": [],
   "source": []
  }
 ],
 "metadata": {
  "kernelspec": {
   "display_name": "Python 3",
   "language": "python",
   "name": "python3"
  },
  "language_info": {
   "codemirror_mode": {
    "name": "ipython",
    "version": 3
   },
   "file_extension": ".py",
   "mimetype": "text/x-python",
   "name": "python",
   "nbconvert_exporter": "python",
   "pygments_lexer": "ipython3",
   "version": "3.6.5"
  }
 },
 "nbformat": 4,
 "nbformat_minor": 2
}
