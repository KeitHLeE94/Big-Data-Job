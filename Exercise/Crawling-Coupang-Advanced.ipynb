{
 "cells": [
  {
   "cell_type": "markdown",
   "metadata": {},
   "source": [
    "# 쿠팡 데이터 크롤링"
   ]
  },
  {
   "cell_type": "markdown",
   "metadata": {},
   "source": [
    "___"
   ]
  },
  {
   "cell_type": "markdown",
   "metadata": {},
   "source": [
    "## Global functions, parameters"
   ]
  },
  {
   "cell_type": "code",
   "execution_count": 340,
   "metadata": {},
   "outputs": [],
   "source": [
    "import requests\n",
    "import bs4\n",
    "from bs4 import BeautifulSoup\n",
    "from selenium import webdriver\n",
    "from selenium.webdriver.common.keys import Keys\n",
    "from selenium.common.exceptions import NoSuchElementException\n",
    "from selenium.common.exceptions import StaleElementReferenceException\n",
    "from selenium.webdriver.support.ui import WebDriverWait\n",
    "from selenium.common.exceptions import WebDriverException\n",
    "from selenium.common.exceptions import TimeoutException\n",
    "import time\n",
    "\n",
    "driver = webdriver.Chrome()"
   ]
  },
  {
   "cell_type": "code",
   "execution_count": 2,
   "metadata": {},
   "outputs": [],
   "source": [
    "def getURL(seed, params=None, select='a', num_retries=2):\n",
    "    html = requests.get(seed, params=params, headers=headers)\n",
    "    \n",
    "    if 500<=html.status_code<600 and num_retries>0:\n",
    "        print(html.status_code, html.reason)\n",
    "        return getURL(seed, params, num_retries-1)\n",
    "    \n",
    "    dom = BeautifulSoup(html.text, 'lxml')\n",
    "    links = dom.select(select)\n",
    "    \n",
    "    return ['http://www.coupang.com' + link['href'] for link in links if link.has_attr('href')]"
   ]
  },
  {
   "cell_type": "code",
   "execution_count": 3,
   "metadata": {},
   "outputs": [],
   "source": [
    "headers = {\n",
    "    \"user-agent\":\"Mozilla/5.0 (Macintosh; Intel Mac OS X 10_13_4) AppleWebKit/537.36 (KHTML, like Gecko) Chrome/67.0.3396.99 Safari/537.36\",\n",
    "    \"accept-encoding\":\"false\"\n",
    "}"
   ]
  },
  {
   "cell_type": "markdown",
   "metadata": {},
   "source": [
    "___"
   ]
  },
  {
   "cell_type": "markdown",
   "metadata": {},
   "source": [
    "### 과자\n",
    "1. link\n",
    "2. img\n",
    "3. brand\n",
    "4. title: 제품명(있는 그대로)\n",
    "5. product: 보여줄 제품명(브랜드 + 연령대 + 형태)\n",
    "6. price: 가격(int)\n",
    "7. rating: 평점\n",
    "8. replyCount: 상품평 갯수\n",
    "9. reply: 20개"
   ]
  },
  {
   "cell_type": "code",
   "execution_count": 4,
   "metadata": {},
   "outputs": [],
   "source": [
    "params_snack = {\n",
    "    \"listSize\": \"120\",\n",
    "    \"brand\": \"\",\n",
    "    \"offerCondition\": \"\",\n",
    "    \"filterType\": \"\",\n",
    "    \"isPriceRange\": \"false\",\n",
    "    \"minPrice\": \"\",\n",
    "    \"maxPrice\": \"\",\n",
    "    \"page\": \"1\",\n",
    "    \"channel\": \"user\",\n",
    "    \"fromComponent\": \"Y\",\n",
    "    \"selectedPlpKeepFilter\": \"\",\n",
    "    \"sorter\": \"bestAsc\",\n",
    "    \"filter\": \"\",\n",
    "    \"component\": \"221916\",\n",
    "    \"rating\": \"0\",\n",
    "}"
   ]
  },
  {
   "cell_type": "code",
   "execution_count": 5,
   "metadata": {},
   "outputs": [],
   "source": [
    "seed_snack = 'http://www.coupang.com/np/categories/222016'"
   ]
  },
  {
   "cell_type": "code",
   "execution_count": 6,
   "metadata": {
    "scrolled": true
   },
   "outputs": [],
   "source": [
    "links_snack = []\n",
    "links_snack.extend(getURL(seed_snack, params_snack, select='ul.baby-product-list a.baby-product-link'))\n",
    "links_snack = links_snack[:100]"
   ]
  },
  {
   "cell_type": "code",
   "execution_count": 236,
   "metadata": {},
   "outputs": [],
   "source": [
    "snackList = []"
   ]
  },
  {
   "cell_type": "code",
   "execution_count": 237,
   "metadata": {},
   "outputs": [],
   "source": [
    "def getInfo_snack(url, num_retries=2):\n",
    "    html = requests.get(url, headers=headers)\n",
    "    \n",
    "    if 500<=html.status_code<600 and num_retries>0:\n",
    "        print(html.status_code, html.reason)\n",
    "        return getInfo_snack(seed, params, num_retries-1)\n",
    "    \n",
    "    dom = BeautifulSoup(html.text, 'lxml')\n",
    "    if len(dom.select('div.oos-label')) == 0 and int(dom.select('a.moveAnchor span.count')[0].get_text().replace('개 상품평', '').replace(',', '')) > 0:\n",
    "        link = html.url\n",
    "        img = 'http:' + dom.select('img.prod-image__detail')[0]['src']\n",
    "        brand = dom.select('a.prod-brand-name')[0].get_text()\n",
    "        title = dom.select('h2.prod-buy-header__title')[0].get_text()\n",
    "        # product = \n",
    "        price = int(dom.select('span.total-price')[0].get_text().replace('\\n', '').replace('원', '').replace(',', ''))\n",
    "        replyCount = int(dom.select('a.moveAnchor span.count')[0].get_text().replace('개 상품평', '').replace(',', ''))\n",
    "        \n",
    "        driver.get(url)\n",
    "        body = driver.find_element_by_tag_name('body')\n",
    "        while True:\n",
    "            try:\n",
    "                driver.find_element_by_css_selector('.sdp-review__average__total-star__info-gray div')\n",
    "                break\n",
    "            except NoSuchElementException:\n",
    "                body.send_keys(Keys.PAGE_DOWN)\n",
    "                driver.implicitly_wait(0.5)\n",
    "                \n",
    "        rating = driver.find_element_by_css_selector('.sdp-review__average__total-star__info-gray div')\n",
    "        rating = rating.get_attribute('data-rating')\n",
    "        replyResult = []\n",
    "        buttonList = []\n",
    "        buttonList.extend(driver.find_elements_by_css_selector('.sdp-review__article__page__num.js_reviewArticlePageBtn'))\n",
    "        \n",
    "        def getReply(pagenum):\n",
    "            try:\n",
    "                element = WebDriverWait(driver, 5).until(lambda x: x.find_elements_by_css_selector('.js_reviewArticleListContainer article div.sdp-review__article__list__review__content.js_reviewArticleContent')) \n",
    "                replyResult.extend(reply.text.replace('\\n', ' ') for reply in element)\n",
    "                time.sleep(1)\n",
    "            except TimeoutException:\n",
    "                return None\n",
    "            \n",
    "            while True:\n",
    "                try:\n",
    "                    buttonList = []\n",
    "                    buttonList.extend(driver.find_elements_by_css_selector('.sdp-review__article__page__num.js_reviewArticlePageBtn'))\n",
    "                    break\n",
    "                except WebDriverException:\n",
    "                    body.send_keys(Keys.PAGE_DOWN)\n",
    "                    driver.implicitly_wait(0.5)\n",
    "            if len(buttonList) > 0:\n",
    "                buttonList[pagenum].click()\n",
    "            else:\n",
    "                return None\n",
    "        \n",
    "        if len(buttonList) > 0:\n",
    "            for i in range(1, 5):\n",
    "                getReply(i)\n",
    "                time.sleep(0.5)\n",
    "    \n",
    "        result = {\n",
    "            'link': link, \n",
    "            'img': img, \n",
    "            'brand': brand, \n",
    "            'title': title, \n",
    "            'price': price, \n",
    "            'rating': rating, \n",
    "            'optionTitle': None,\n",
    "            'optionPrice': None,\n",
    "            'replyCount': replyCount, \n",
    "            'replyResult': replyResult\n",
    "        }\n",
    "        snackList.append(result)\n",
    "        return 1\n",
    "    \n",
    "    else:\n",
    "        return 0"
   ]
  },
  {
   "cell_type": "code",
   "execution_count": 238,
   "metadata": {
    "scrolled": false
   },
   "outputs": [
    {
     "name": "stdout",
     "output_type": "stream",
     "text": [
      "Skip: http://www.coupang.com/vp/products/13705765?itemId=57173218&vendorItemId=3089582979\n",
      "Skip: http://www.coupang.com/vp/products/36807682?itemId=135730618&vendorItemId=3289389004\n",
      "Skip: http://www.coupang.com/vp/products/18274522?itemId=73563189&vendorItemId=3120782803\n",
      "Skip: http://www.coupang.com/vp/products/17623945?itemId=70623827&vendorItemId=3114223534\n",
      "Skip: http://www.coupang.com/vp/products/2400458?itemId=3998892&vendorItemId=3004797294\n",
      "Skip: http://www.coupang.com/vp/products/96477934?itemId=296996220&vendorItemId=3730702348\n",
      "Skip: http://www.coupang.com/vp/products/42593455?itemId=154271433&vendorItemId=3359501206\n"
     ]
    }
   ],
   "source": [
    "for i in range(100):\n",
    "    if getInfo_snack(links_snack[i]) == 0:\n",
    "        print('Skip: ' + links_snack[i])\n",
    "    time.sleep(0.3)"
   ]
  },
  {
   "cell_type": "code",
   "execution_count": 283,
   "metadata": {
    "scrolled": false
   },
   "outputs": [
    {
     "data": {
      "text/plain": [
       "93"
      ]
     },
     "execution_count": 283,
     "metadata": {},
     "output_type": "execute_result"
    }
   ],
   "source": [
    "len(snackList)"
   ]
  },
  {
   "cell_type": "markdown",
   "metadata": {},
   "source": [
    "평점 없는것, 품절인것 제외."
   ]
  },
  {
   "cell_type": "markdown",
   "metadata": {},
   "source": [
    "___"
   ]
  },
  {
   "cell_type": "markdown",
   "metadata": {},
   "source": [
    "### 분유\n",
    "1. link\n",
    "2. img\n",
    "3. brand\n",
    "4. origin: 원산지(국내 / 해외)\n",
    "5. title: 제품명(있는 그대로)\n",
    "6. product: 보여줄 제품명(브랜드 + 연령대 + 형태)\n",
    "7. stage: 분유 단계(int)\n",
    "8. type: 분말 / 액상\n",
    "9. price: 가격(int)\n",
    "10. rating: 평점\n",
    "11. replyCount: 상품평 갯수\n",
    "12. reply: 20개"
   ]
  },
  {
   "cell_type": "code",
   "execution_count": 45,
   "metadata": {},
   "outputs": [],
   "source": [
    "params_milkPowder = {\n",
    "    \"listSize\": \"120\",\n",
    "    \"brand\": \"\",\n",
    "    \"offerCondition\": \"\",\n",
    "    \"filterType\": \"\",\n",
    "    \"isPriceRange\": \"false\",\n",
    "    \"minPrice\": \"\",\n",
    "    \"maxPrice\": \"\",\n",
    "    \"page\": \"1\",\n",
    "    \"channel\": \"user\",\n",
    "    \"fromComponent\": \"N\",\n",
    "    \"selectedPlpKeepFilter\": \"\",\n",
    "    \"sorter\": \"bestAsc\",\n",
    "    \"filter\": \"\",\n",
    "    \"component\": \"221895\",\n",
    "    \"rating\": \"0\",\n",
    "}"
   ]
  },
  {
   "cell_type": "code",
   "execution_count": 46,
   "metadata": {},
   "outputs": [],
   "source": [
    "seed_milkPowder = 'http://www.coupang.com/np/categories/221995'"
   ]
  },
  {
   "cell_type": "code",
   "execution_count": 259,
   "metadata": {
    "scrolled": true
   },
   "outputs": [],
   "source": [
    "links_milkPowder = []\n",
    "links_milkPowder.extend(getURL(seed_milkPowder, params_milkPowder, select='ul.baby-product-list a.baby-product-link'))\n",
    "links_milkPowder = links_milkPowder[:100]"
   ]
  },
  {
   "cell_type": "code",
   "execution_count": 266,
   "metadata": {},
   "outputs": [],
   "source": [
    "milkPowderList = []"
   ]
  },
  {
   "cell_type": "code",
   "execution_count": 261,
   "metadata": {},
   "outputs": [],
   "source": [
    "def getInfo_milkPowder(url, num_retries=2):\n",
    "    html = requests.get(url, headers=headers)\n",
    "    \n",
    "    if 500<=html.status_code<600 and num_retries>0:\n",
    "        print(html.status_code, html.reason)\n",
    "        return getInfo_milkPowder(seed, params, num_retries-1)\n",
    "    \n",
    "    dom = BeautifulSoup(html.text, 'lxml')\n",
    "    if len(dom.select('div.oos-label')) == 0 and int(dom.select('a.moveAnchor span.count')[0].get_text().replace('개 상품평', '').replace(',', '')) > 0:\n",
    "        link = html.url\n",
    "        img = 'http:' + dom.select('img.prod-image__detail')[0]['src']\n",
    "        brand = dom.select('a.prod-brand-name')[0].get_text()\n",
    "        title = dom.select('h2.prod-buy-header__title')[0].get_text()\n",
    "        # product = \n",
    "        index = 0\n",
    "        stage = 0\n",
    "        for index in range(len(dom.select('li.prod-attr-item'))):\n",
    "            try:\n",
    "                stage = int(dom.select('li.prod-attr-item')[index].get_text().replace('\\n', '').replace('단계: ', '').replace('단계', ''))\n",
    "            except ValueError:\n",
    "                index += 1\n",
    "            \n",
    "        if stage == 0:\n",
    "            stageIndex = title.find('단계')\n",
    "            try:\n",
    "                stage = int(title[stageIndex-1])\n",
    "            except ValueError:\n",
    "                return 0\n",
    "        \n",
    "        if '액상분유' in title:\n",
    "            milkPowderType = '액상분유'\n",
    "        elif '스틱분유' in title:\n",
    "            milkPowderType = '스틱분유'\n",
    "        else:\n",
    "            milkPowderType = '원통형분유'\n",
    "        price = int(dom.select('span.total-price')[0].get_text().replace('\\n', '').replace('원', '').replace(',', ''))\n",
    "        replyCount = int(dom.select('a.moveAnchor span.count')[0].get_text().replace('개 상품평', '').replace(',', ''))\n",
    "        \n",
    "        driver.get(url)\n",
    "        body = driver.find_element_by_tag_name('body')\n",
    "        while True:\n",
    "            try:\n",
    "                driver.find_element_by_css_selector('.sdp-review__average__total-star__info-gray div')\n",
    "                break\n",
    "            except NoSuchElementException:\n",
    "                body.send_keys(Keys.PAGE_DOWN)\n",
    "                driver.implicitly_wait(0.5)\n",
    "        \n",
    "        origin = driver.find_elements_by_css_selector('.prod-delivery-return-policy-table.essential-info-table tbody tr td')[1].text\n",
    "        rating = driver.find_element_by_css_selector('.sdp-review__average__total-star__info-gray div')\n",
    "        rating = rating.get_attribute('data-rating')\n",
    "        replyResult = []\n",
    "        buttonList = []\n",
    "        buttonList.extend(driver.find_elements_by_css_selector('.sdp-review__article__page__num.js_reviewArticlePageBtn'))\n",
    "        \n",
    "        def getReply(pagenum):\n",
    "            try:\n",
    "                element = WebDriverWait(driver, 5).until(lambda x: x.find_elements_by_css_selector('.js_reviewArticleListContainer article div.sdp-review__article__list__review__content.js_reviewArticleContent')) \n",
    "                replyResult.extend(reply.text.replace('\\n', ' ') for reply in element)\n",
    "                time.sleep(1)\n",
    "            except TimeoutException:\n",
    "                return None\n",
    "            buttonList = []\n",
    "            while True:\n",
    "                try:\n",
    "                    buttonList.extend(driver.find_elements_by_css_selector('.sdp-review__article__page__num.js_reviewArticlePageBtn'))\n",
    "                    break\n",
    "                except WebDriverException:\n",
    "                    body.send_keys(Keys.PAGE_DOWN)\n",
    "                    driver.implicitly_wait(0.5)\n",
    "            if len(buttonList) > 0:\n",
    "                buttonList[pagenum].click()\n",
    "            else:\n",
    "                return None\n",
    "        \n",
    "        if len(buttonList) > 0:\n",
    "            for i in range(1, 5):\n",
    "                getReply(i)\n",
    "                time.sleep(0.5)\n",
    "    \n",
    "        result = {\n",
    "            'link': link, \n",
    "            'img': img, \n",
    "            'brand': brand, \n",
    "            'origin': origin,\n",
    "            'title': title, \n",
    "            'stage': stage,\n",
    "            'type': milkPowderType,\n",
    "            'price': price, \n",
    "            'rating': rating, \n",
    "            'optionTitle': None,\n",
    "            'optionPrice': None,\n",
    "            'replyCount': replyCount, \n",
    "            'replyResult': replyResult\n",
    "        }\n",
    "        milkPowderList.append(result)\n",
    "        return 1\n",
    "    \n",
    "    else:\n",
    "        return 0\n",
    "    \n",
    "    return None"
   ]
  },
  {
   "cell_type": "code",
   "execution_count": 269,
   "metadata": {
    "scrolled": true
   },
   "outputs": [
    {
     "name": "stdout",
     "output_type": "stream",
     "text": [
      "Skip: http://www.coupang.com/vp/products/108994041?itemId=329738403&vendorItemId=3808867816\n",
      "Skip: http://www.coupang.com/vp/products/854046?itemId=1963928&vendorItemId=3001924247\n"
     ]
    }
   ],
   "source": [
    "for i in range(78, 100, 1):\n",
    "    if getInfo_milkPowder(links_milkPowder[i]) == 0:\n",
    "        print('Skip: ' + links_milkPowder[i])\n",
    "    time.sleep(0.3)"
   ]
  },
  {
   "cell_type": "code",
   "execution_count": 284,
   "metadata": {
    "scrolled": false
   },
   "outputs": [
    {
     "data": {
      "text/plain": [
       "98"
      ]
     },
     "execution_count": 284,
     "metadata": {},
     "output_type": "execute_result"
    }
   ],
   "source": [
    "len(milkPowderList)"
   ]
  },
  {
   "cell_type": "markdown",
   "metadata": {},
   "source": [
    "2개 스킵: 단계 이상해서, 단계 옵션으로 주어져서 스킵됨."
   ]
  },
  {
   "cell_type": "markdown",
   "metadata": {},
   "source": [
    "___"
   ]
  },
  {
   "cell_type": "markdown",
   "metadata": {},
   "source": [
    "### 장난감\n",
    "1. link\n",
    "2. img\n",
    "3. category: 감각발달완구, 아기체육관, 러닝홈/플레이매트, 아기걸음마, 모빌/딸랑이/치발기, 오뚝이\n",
    "4. title: 제품명(있는 그대로)\n",
    "5. product: 보여줄 제품명(브랜드 + 연령대 + 형태)\n",
    "6. price: 가격(int)\n",
    "7. rating: 평점\n",
    "8. replyCount: 상품평 갯수\n",
    "9. reply: 20개"
   ]
  },
  {
   "cell_type": "code",
   "execution_count": 86,
   "metadata": {},
   "outputs": [],
   "source": [
    "categoryList_toy = ['감각발달완구', '아기체육관/러닝홈', '아기걸음마', '모빌', '딸랑이', '치발기', '오뚝이']"
   ]
  },
  {
   "cell_type": "code",
   "execution_count": 87,
   "metadata": {},
   "outputs": [],
   "source": [
    "params_toy = {\n",
    "    \"listSize\": \"120\",\n",
    "    \"brand\": \"\",\n",
    "    \"offerCondition\": \"\",\n",
    "    \"filterType\": \"\",\n",
    "    \"isPriceRange\": \"false\",\n",
    "    \"minPrice\": \"\",\n",
    "    \"maxPrice\": \"\",\n",
    "    \"page\": \"1\",\n",
    "    \"channel\": \"user\",\n",
    "    \"fromComponent\": \"Y\",\n",
    "    \"selectedPlpKeepFilter\": \"\",\n",
    "    \"sorter\": \"bestAsc\",\n",
    "    \"filter\": \"\",\n",
    "    \"component\": \"\",\n",
    "    \"rating\": \"0\",\n",
    "}"
   ]
  },
  {
   "cell_type": "code",
   "execution_count": 88,
   "metadata": {},
   "outputs": [],
   "source": [
    "seed_toy_list = ['http://www.coupang.com/np/categories/349712',\n",
    "                 'http://www.coupang.com/np/categories/349704',\n",
    "                 'http://www.coupang.com/np/categories/349710',\n",
    "                 'http://www.coupang.com/np/categories/349687',\n",
    "                 'http://www.coupang.com/np/categories/349689',\n",
    "                 'http://www.coupang.com/np/categories/349690',\n",
    "                 'http://www.coupang.com/np/categories/349694']"
   ]
  },
  {
   "cell_type": "code",
   "execution_count": 89,
   "metadata": {},
   "outputs": [],
   "source": [
    "toyComponentList = [349612, 349604, 349610, 349587, 349589, 349590, 349594]"
   ]
  },
  {
   "cell_type": "code",
   "execution_count": 271,
   "metadata": {
    "scrolled": true
   },
   "outputs": [],
   "source": [
    "links_toy = {\n",
    "    categoryList_toy[0]: None,\n",
    "    categoryList_toy[1]: None,\n",
    "    categoryList_toy[2]: None,\n",
    "    categoryList_toy[3]: None,\n",
    "    categoryList_toy[4]: None,\n",
    "    categoryList_toy[5]: None,\n",
    "    categoryList_toy[6]: None\n",
    "}\n",
    "\n",
    "for i in range(7):\n",
    "    params_toy['component'] = toyComponentList[i]\n",
    "    temp = []\n",
    "    temp.extend(getURL(seed_toy_list[i], params_toy, select='ul.baby-product-list a.baby-product-link'))\n",
    "    temp = temp[:100]\n",
    "    links_toy[categoryList_toy[i]] = temp"
   ]
  },
  {
   "cell_type": "code",
   "execution_count": 272,
   "metadata": {
    "scrolled": false
   },
   "outputs": [
    {
     "name": "stdout",
     "output_type": "stream",
     "text": [
      "감각발달완구 100\n",
      "아기체육관/러닝홈 100\n",
      "아기걸음마 100\n",
      "모빌 100\n",
      "딸랑이 100\n",
      "치발기 100\n",
      "오뚝이 100\n"
     ]
    }
   ],
   "source": [
    "for (k, v) in links_toy.items():\n",
    "    print(k, len(v))"
   ]
  },
  {
   "cell_type": "code",
   "execution_count": 285,
   "metadata": {},
   "outputs": [],
   "source": [
    "toyList = []"
   ]
  },
  {
   "cell_type": "code",
   "execution_count": 274,
   "metadata": {},
   "outputs": [],
   "source": [
    "def getInfo_toy(url, category, num_retries=2):\n",
    "    html = requests.get(url, headers=headers)\n",
    "    \n",
    "    if 500<=html.status_code<600 and num_retries>0:\n",
    "        print(html.status_code, html.reason)\n",
    "        return getInfo_toy(seed, params, num_retries-1)\n",
    "    \n",
    "    dom = BeautifulSoup(html.text, 'lxml')\n",
    "    if len(dom.select('div.oos-label')) == 0 and int(dom.select('a.moveAnchor span.count')[0].get_text().replace('개 상품평', '').replace(',', '')) > 0:\n",
    "        link = html.url\n",
    "        img = 'http:' + dom.select('img.prod-image__detail')[0]['src']\n",
    "        category = category\n",
    "        title = dom.select('h2.prod-buy-header__title')[0].get_text()\n",
    "        # product = \n",
    "        price = int(dom.select('span.total-price strong')[0].get_text().replace('\\n', '').replace('원', '').replace(',', ''))\n",
    "        replyCount = int(dom.select('a.moveAnchor span.count')[0].get_text().replace('개 상품평', '').replace(',', ''))\n",
    "        \n",
    "        driver.get(url)\n",
    "        body = driver.find_element_by_tag_name('body')\n",
    "        while True:\n",
    "            try:\n",
    "                driver.find_element_by_css_selector('.sdp-review__average__total-star__info-gray div')\n",
    "                break\n",
    "            except NoSuchElementException:\n",
    "                body.send_keys(Keys.PAGE_DOWN)\n",
    "                driver.implicitly_wait(0.5)\n",
    "        \n",
    "        rating = driver.find_element_by_css_selector('.sdp-review__average__total-star__info-gray div')\n",
    "        rating = rating.get_attribute('data-rating')\n",
    "        replyResult = []\n",
    "        buttonList = []\n",
    "        buttonList.extend(driver.find_elements_by_css_selector('.sdp-review__article__page__num.js_reviewArticlePageBtn'))\n",
    "        \n",
    "        def getReply(pagenum):\n",
    "            try:\n",
    "                element = WebDriverWait(driver, 5).until(lambda x: x.find_elements_by_css_selector('.js_reviewArticleListContainer article div.sdp-review__article__list__review__content.js_reviewArticleContent')) \n",
    "                replyResult.extend(reply.text.replace('\\n', ' ') for reply in element)\n",
    "                time.sleep(1)\n",
    "            except TimeoutException:\n",
    "                return None\n",
    "            buttonList = []\n",
    "            while True:\n",
    "                try:\n",
    "                    buttonList.extend(driver.find_elements_by_css_selector('.sdp-review__article__page__num.js_reviewArticlePageBtn'))\n",
    "                    break\n",
    "                except WebDriverException:\n",
    "                    body.send_keys(Keys.PAGE_DOWN)\n",
    "                    driver.implicitly_wait(0.5)\n",
    "            if len(buttonList) > 0:\n",
    "                buttonList[pagenum].click()\n",
    "            else:\n",
    "                return None\n",
    "        \n",
    "        if len(buttonList) > 0:\n",
    "            end = len(buttonList)\n",
    "            if end > 5:\n",
    "                end = 5\n",
    "            for i in range(1, end):\n",
    "                getReply(i)\n",
    "                time.sleep(0.5)\n",
    "    \n",
    "        result = {\n",
    "            'link': link, \n",
    "            'img': img, \n",
    "            'category': category,\n",
    "            'title': title, \n",
    "            'price': price, \n",
    "            'rating': rating, \n",
    "            'optionTitle': None,\n",
    "            'optionPrice': None,\n",
    "            'replyCount': replyCount, \n",
    "            'replyResult': replyResult\n",
    "        }\n",
    "        toyList.append(result)\n",
    "        return 1\n",
    "    \n",
    "    else:\n",
    "        return 0\n",
    "    \n",
    "    return None"
   ]
  },
  {
   "cell_type": "code",
   "execution_count": 286,
   "metadata": {
    "scrolled": true
   },
   "outputs": [],
   "source": [
    "for link in links_toy[categoryList_toy[0]]:\n",
    "    getInfo_toy(link, categoryList_toy[0])"
   ]
  },
  {
   "cell_type": "code",
   "execution_count": 288,
   "metadata": {},
   "outputs": [],
   "source": [
    "for link in links_toy[categoryList_toy[1]]:\n",
    "    getInfo_toy(link, categoryList_toy[1])"
   ]
  },
  {
   "cell_type": "code",
   "execution_count": 291,
   "metadata": {},
   "outputs": [],
   "source": [
    "for link in links_toy[categoryList_toy[2]]:\n",
    "    getInfo_toy(link, categoryList_toy[2])"
   ]
  },
  {
   "cell_type": "code",
   "execution_count": 293,
   "metadata": {},
   "outputs": [],
   "source": [
    "for link in links_toy[categoryList_toy[3]]:\n",
    "    getInfo_toy(link, categoryList_toy[3])"
   ]
  },
  {
   "cell_type": "code",
   "execution_count": 295,
   "metadata": {},
   "outputs": [],
   "source": [
    "for link in links_toy[categoryList_toy[4]]:\n",
    "    getInfo_toy(link, categoryList_toy[4])"
   ]
  },
  {
   "cell_type": "code",
   "execution_count": 297,
   "metadata": {},
   "outputs": [],
   "source": [
    "for link in links_toy[categoryList_toy[5]]:\n",
    "    getInfo_toy(link, categoryList_toy[5])"
   ]
  },
  {
   "cell_type": "code",
   "execution_count": 298,
   "metadata": {},
   "outputs": [],
   "source": [
    "for link in links_toy[categoryList_toy[6]]:\n",
    "    getInfo_toy(link, categoryList_toy[6])"
   ]
  },
  {
   "cell_type": "code",
   "execution_count": 299,
   "metadata": {
    "scrolled": false
   },
   "outputs": [
    {
     "data": {
      "text/plain": [
       "441"
      ]
     },
     "execution_count": 299,
     "metadata": {},
     "output_type": "execute_result"
    }
   ],
   "source": [
    "len(toyList)"
   ]
  },
  {
   "cell_type": "markdown",
   "metadata": {},
   "source": [
    "___"
   ]
  },
  {
   "cell_type": "markdown",
   "metadata": {},
   "source": [
    "## 기저귀\n",
    "1. link\n",
    "2. img\n",
    "3. brand\n",
    "4. origin: 원산지(국내 / 해외)\n",
    "5. title: 제품명(있는 그대로)\n",
    "6. product: 보여줄 제품명(브랜드 + 연령대 + 형태)\n",
    "7. stage: {“신생아”:1,  “소형”:2, “중형”:3, “대형”:4, “특대형”:5, “점보”:6}\n",
    "8. type: 밴드 / 팬티\n",
    "9. price: 가격(int)\n",
    "10. rating: 평점\n",
    "11. replyCount: 상품평 갯수\n",
    "12. reply: 20개"
   ]
  },
  {
   "cell_type": "code",
   "execution_count": 171,
   "metadata": {},
   "outputs": [],
   "source": [
    "size_filter_diaper = {\n",
    "    '신생아': '1%23attr_11880%244488%40DEFAULT',\n",
    "    '소형': '1%23attr_11880%244489%40DEFAULT',\n",
    "    '중형': '1%23attr_11880%244490%40DEFAULT',\n",
    "    '대형': '1%23attr_11880%244491%40DEFAULT',\n",
    "    '특대': '1%23attr_11880%244492%40DEFAULT',\n",
    "    '점보': '1%23attr_11880%244493%40DEFAULT'\n",
    "}"
   ]
  },
  {
   "cell_type": "code",
   "execution_count": 185,
   "metadata": {},
   "outputs": [],
   "source": [
    "sizeList_diaper = {'신생아': 1, '소형':2 , '중형': 3, '대형': 4, '특대': 5, '점보': 6}"
   ]
  },
  {
   "cell_type": "code",
   "execution_count": 180,
   "metadata": {},
   "outputs": [],
   "source": [
    "sizeCategory = ['신생아', '소형', '중형', '대형', '특대', '점보']"
   ]
  },
  {
   "cell_type": "code",
   "execution_count": 173,
   "metadata": {},
   "outputs": [],
   "source": [
    "params_diaper = {\n",
    "    \"listSize\": \"120\",\n",
    "    \"brand\": \"\",\n",
    "    \"offerCondition\": \"\",\n",
    "    \"filterType\": \"\",\n",
    "    \"isPriceRange\": \"false\",\n",
    "    \"minPrice\": \"\",\n",
    "    \"maxPrice\": \"\",\n",
    "    \"page\": \"\",\n",
    "    \"channel\": \"user\",\n",
    "    \"fromComponent\": \"N\",\n",
    "    \"selectedPlpKeepFilter\": \"\",\n",
    "    \"sorter\": \"bestAsc\",\n",
    "    \"filter\": \"\",\n",
    "    \"component\": \"221863\",\n",
    "    \"rating\": \"0\",\n",
    "}"
   ]
  },
  {
   "cell_type": "code",
   "execution_count": 174,
   "metadata": {},
   "outputs": [],
   "source": [
    "seed_diaper = 'http://www.coupang.com/np/categories/221963'"
   ]
  },
  {
   "cell_type": "code",
   "execution_count": 189,
   "metadata": {
    "scrolled": true
   },
   "outputs": [],
   "source": [
    "links_diaper = {\n",
    "    sizeList_diaper[sizeCategory[0]]: None,\n",
    "    sizeList_diaper[sizeCategory[1]]: None,\n",
    "    sizeList_diaper[sizeCategory[2]]: None,\n",
    "    sizeList_diaper[sizeCategory[3]]: None,\n",
    "    sizeList_diaper[sizeCategory[4]]: None,\n",
    "    sizeList_diaper[sizeCategory[5]]: None\n",
    "}\n",
    "\n",
    "for i in range(6):\n",
    "    params_diaper['filter'] = size_filter_diaper[sizeCategory[i]]\n",
    "    temp = []\n",
    "    temp.extend(getURL(seed_diaper, params_diaper, select='ul.baby-product-list a.baby-product-link'))\n",
    "    temp = temp[:100]\n",
    "    links_diaper[sizeList_diaper[sizeCategory[i]]] = temp"
   ]
  },
  {
   "cell_type": "code",
   "execution_count": 199,
   "metadata": {
    "scrolled": true
   },
   "outputs": [
    {
     "name": "stdout",
     "output_type": "stream",
     "text": [
      "1 100\n",
      "2 100\n",
      "3 100\n",
      "4 100\n",
      "5 100\n",
      "6 100\n"
     ]
    }
   ],
   "source": [
    "for (k, v) in links_diaper.items():\n",
    "    print(k, len(v))"
   ]
  },
  {
   "cell_type": "code",
   "execution_count": 316,
   "metadata": {},
   "outputs": [],
   "source": [
    "diaperList = []"
   ]
  },
  {
   "cell_type": "code",
   "execution_count": 301,
   "metadata": {},
   "outputs": [],
   "source": [
    "def getInfo_diaper(url, stage, num_retries=2):\n",
    "    html = requests.get(url, headers=headers)\n",
    "    \n",
    "    if 500<=html.status_code<600 and num_retries>0:\n",
    "        print(html.status_code, html.reason)\n",
    "        return getInfo_diaper(seed, params, num_retries-1)\n",
    "    \n",
    "    dom = BeautifulSoup(html.text, 'lxml')\n",
    "    if len(dom.select('div.oos-label')) == 0 and int(dom.select('a.moveAnchor span.count')[0].get_text().replace('개 상품평', '').replace(',', '')) > 0:\n",
    "        link = html.url\n",
    "        img = 'http:' + dom.select('img.prod-image__detail')[0]['src']\n",
    "        brand = dom.select('a.prod-brand-name')[0].get_text()\n",
    "        title = dom.select('h2.prod-buy-header__title')[0].get_text()\n",
    "        # product = \n",
    "        origin = 'unknown'\n",
    "        for i in range(len(dom.select('ul.prod-description-attribute li'))):\n",
    "            if '제조국' in dom.select('ul.prod-description-attribute li')[i].get_text():\n",
    "                origin = dom.select('ul.prod-description-attribute li')[i].get_text().replace('제조국: ', '')\n",
    "        stage = stage\n",
    "        if '밴드형' in title:\n",
    "            diaperType = '밴드형'\n",
    "        elif '팬티형' in title:\n",
    "            diaperType = '팬티형'\n",
    "        elif '일자형' in title:\n",
    "            diaperType = '일자형'\n",
    "        else:\n",
    "            return 0\n",
    "        price = int(dom.select('span.total-price strong')[0].get_text().replace('\\n', '').replace('원', '').replace(',', ''))\n",
    "        replyCount = int(dom.select('a.moveAnchor span.count')[0].get_text().replace('개 상품평', '').replace(',', ''))\n",
    "        \n",
    "        driver.get(url)\n",
    "        body = driver.find_element_by_tag_name('body')\n",
    "        while True:\n",
    "            try:\n",
    "                driver.find_element_by_css_selector('.sdp-review__average__total-star__info-gray div')\n",
    "                break\n",
    "            except NoSuchElementException:\n",
    "                body.send_keys(Keys.PAGE_DOWN)\n",
    "                driver.implicitly_wait(0.5)\n",
    "        \n",
    "        rating = driver.find_element_by_css_selector('.sdp-review__average__total-star__info-gray div')\n",
    "        rating = rating.get_attribute('data-rating')\n",
    "        replyResult = []\n",
    "        buttonList = []\n",
    "        buttonList.extend(driver.find_elements_by_css_selector('.sdp-review__article__page__num.js_reviewArticlePageBtn'))\n",
    "        \n",
    "        def getReply(pagenum):\n",
    "            try:\n",
    "                element = WebDriverWait(driver, 5).until(lambda x: x.find_elements_by_css_selector('.js_reviewArticleListContainer article div.sdp-review__article__list__review__content.js_reviewArticleContent')) \n",
    "                replyResult.extend(reply.text.replace('\\n', ' ') for reply in element)\n",
    "                time.sleep(1)\n",
    "            except TimeoutException:\n",
    "                return None\n",
    "            buttonList = []\n",
    "            while True:\n",
    "                try:\n",
    "                    buttonList.extend(driver.find_elements_by_css_selector('.sdp-review__article__page__num.js_reviewArticlePageBtn'))\n",
    "                    break\n",
    "                except WebDriverException:\n",
    "                    body.send_keys(Keys.PAGE_DOWN)\n",
    "                    driver.implicitly_wait(0.5)\n",
    "            if len(buttonList) > 0:\n",
    "                buttonList[pagenum].click()\n",
    "            else:\n",
    "                return None\n",
    "        \n",
    "        if len(buttonList) > 0:\n",
    "            end = len(buttonList)\n",
    "            if end > 5:\n",
    "                end = 5\n",
    "            for i in range(1, end):\n",
    "                getReply(i)\n",
    "                time.sleep(0.5)\n",
    "                \n",
    "        #origin = driver.find_elements_by_css_selector('.prod-delivery-return-policy-table.essential-info-table tbody tr td')[1].text\n",
    "    \n",
    "        result = {\n",
    "            'link': link, \n",
    "            'img': img, \n",
    "            'brand': brand,\n",
    "            'origin': origin,\n",
    "            'title': title,\n",
    "            'stage': stage,\n",
    "            'type': diaperType, \n",
    "            'price': price, \n",
    "            'rating': rating, \n",
    "            'optionTitle': None,\n",
    "            'optionPrice': None,\n",
    "            'replyCount': replyCount, \n",
    "            'replyResult': replyResult\n",
    "        }\n",
    "        diaperList.append(result)\n",
    "        return 1\n",
    "    \n",
    "    else:\n",
    "        return 0\n",
    "    \n",
    "    return None"
   ]
  },
  {
   "cell_type": "code",
   "execution_count": 317,
   "metadata": {
    "scrolled": false
   },
   "outputs": [
    {
     "name": "stdout",
     "output_type": "stream",
     "text": [
      "91\n"
     ]
    }
   ],
   "source": [
    "for link in links_diaper[sizeList_diaper[sizeCategory[0]]]:\n",
    "    getInfo_diaper(link, sizeList_diaper[sizeCategory[0]])\n",
    "print(len(diaperList))"
   ]
  },
  {
   "cell_type": "code",
   "execution_count": 329,
   "metadata": {},
   "outputs": [
    {
     "name": "stdout",
     "output_type": "stream",
     "text": [
      "182\n"
     ]
    }
   ],
   "source": [
    "for link in links_diaper[sizeList_diaper[sizeCategory[1]]]:\n",
    "    getInfo_diaper(link, sizeList_diaper[sizeCategory[1]])\n",
    "print(len(diaperList))"
   ]
  },
  {
   "cell_type": "code",
   "execution_count": 331,
   "metadata": {},
   "outputs": [
    {
     "name": "stdout",
     "output_type": "stream",
     "text": [
      "273\n"
     ]
    }
   ],
   "source": [
    "for link in links_diaper[sizeList_diaper[sizeCategory[2]]]:\n",
    "    getInfo_diaper(link, sizeList_diaper[sizeCategory[2]])\n",
    "print(len(diaperList))"
   ]
  },
  {
   "cell_type": "code",
   "execution_count": 332,
   "metadata": {},
   "outputs": [],
   "source": [
    "for link in links_diaper[sizeList_diaper[sizeCategory[3]]]:\n",
    "    getInfo_diaper(link, sizeList_diaper[sizeCategory[3]])"
   ]
  },
  {
   "cell_type": "code",
   "execution_count": 333,
   "metadata": {
    "scrolled": true
   },
   "outputs": [
    {
     "name": "stdout",
     "output_type": "stream",
     "text": [
      "364\n"
     ]
    }
   ],
   "source": [
    "print(len(diaperList))"
   ]
  },
  {
   "cell_type": "code",
   "execution_count": 336,
   "metadata": {
    "scrolled": true
   },
   "outputs": [
    {
     "ename": "NoSuchWindowException",
     "evalue": "Message: no such window: target window already closed\nfrom unknown error: web view not found\n  (Session info: chrome=68.0.3440.106)\n  (Driver info: chromedriver=2.40.565386 (45a059dc425e08165f9a10324bd1380cc13ca363),platform=Mac OS X 10.13.4 x86_64)\n",
     "output_type": "error",
     "traceback": [
      "\u001b[0;31m---------------------------------------------------------------------------\u001b[0m",
      "\u001b[0;31mNoSuchWindowException\u001b[0m                     Traceback (most recent call last)",
      "\u001b[0;32m<ipython-input-336-81bb1346b9b5>\u001b[0m in \u001b[0;36m<module>\u001b[0;34m()\u001b[0m\n\u001b[1;32m      1\u001b[0m \u001b[0;32mfor\u001b[0m \u001b[0mlink\u001b[0m \u001b[0;32min\u001b[0m \u001b[0mlinks_diaper\u001b[0m\u001b[0;34m[\u001b[0m\u001b[0msizeList_diaper\u001b[0m\u001b[0;34m[\u001b[0m\u001b[0msizeCategory\u001b[0m\u001b[0;34m[\u001b[0m\u001b[0;36m4\u001b[0m\u001b[0;34m]\u001b[0m\u001b[0;34m]\u001b[0m\u001b[0;34m]\u001b[0m\u001b[0;34m:\u001b[0m\u001b[0;34m\u001b[0m\u001b[0m\n\u001b[0;32m----> 2\u001b[0;31m     \u001b[0mgetInfo_diaper\u001b[0m\u001b[0;34m(\u001b[0m\u001b[0mlink\u001b[0m\u001b[0;34m,\u001b[0m \u001b[0msizeList_diaper\u001b[0m\u001b[0;34m[\u001b[0m\u001b[0msizeCategory\u001b[0m\u001b[0;34m[\u001b[0m\u001b[0;36m4\u001b[0m\u001b[0;34m]\u001b[0m\u001b[0;34m]\u001b[0m\u001b[0;34m)\u001b[0m\u001b[0;34m\u001b[0m\u001b[0m\n\u001b[0m\u001b[1;32m      3\u001b[0m \u001b[0mprint\u001b[0m\u001b[0;34m(\u001b[0m\u001b[0mlen\u001b[0m\u001b[0;34m(\u001b[0m\u001b[0mdiaperList\u001b[0m\u001b[0;34m)\u001b[0m\u001b[0;34m)\u001b[0m\u001b[0;34m\u001b[0m\u001b[0m\n",
      "\u001b[0;32m<ipython-input-301-6136a01a6140>\u001b[0m in \u001b[0;36mgetInfo_diaper\u001b[0;34m(url, stage, num_retries)\u001b[0m\n\u001b[1;32m     39\u001b[0m                 \u001b[0mdriver\u001b[0m\u001b[0;34m.\u001b[0m\u001b[0mimplicitly_wait\u001b[0m\u001b[0;34m(\u001b[0m\u001b[0;36m0.5\u001b[0m\u001b[0;34m)\u001b[0m\u001b[0;34m\u001b[0m\u001b[0m\n\u001b[1;32m     40\u001b[0m \u001b[0;34m\u001b[0m\u001b[0m\n\u001b[0;32m---> 41\u001b[0;31m         \u001b[0mrating\u001b[0m \u001b[0;34m=\u001b[0m \u001b[0mdriver\u001b[0m\u001b[0;34m.\u001b[0m\u001b[0mfind_element_by_css_selector\u001b[0m\u001b[0;34m(\u001b[0m\u001b[0;34m'.sdp-review__average__total-star__info-gray div'\u001b[0m\u001b[0;34m)\u001b[0m\u001b[0;34m\u001b[0m\u001b[0m\n\u001b[0m\u001b[1;32m     42\u001b[0m         \u001b[0mrating\u001b[0m \u001b[0;34m=\u001b[0m \u001b[0mrating\u001b[0m\u001b[0;34m.\u001b[0m\u001b[0mget_attribute\u001b[0m\u001b[0;34m(\u001b[0m\u001b[0;34m'data-rating'\u001b[0m\u001b[0;34m)\u001b[0m\u001b[0;34m\u001b[0m\u001b[0m\n\u001b[1;32m     43\u001b[0m         \u001b[0mreplyResult\u001b[0m \u001b[0;34m=\u001b[0m \u001b[0;34m[\u001b[0m\u001b[0;34m]\u001b[0m\u001b[0;34m\u001b[0m\u001b[0m\n",
      "\u001b[0;32m~/anaconda3/lib/python3.6/site-packages/selenium/webdriver/remote/webdriver.py\u001b[0m in \u001b[0;36mfind_element_by_css_selector\u001b[0;34m(self, css_selector)\u001b[0m\n\u001b[1;32m    595\u001b[0m             \u001b[0melement\u001b[0m \u001b[0;34m=\u001b[0m \u001b[0mdriver\u001b[0m\u001b[0;34m.\u001b[0m\u001b[0mfind_element_by_css_selector\u001b[0m\u001b[0;34m(\u001b[0m\u001b[0;34m'#foo'\u001b[0m\u001b[0;34m)\u001b[0m\u001b[0;34m\u001b[0m\u001b[0m\n\u001b[1;32m    596\u001b[0m         \"\"\"\n\u001b[0;32m--> 597\u001b[0;31m         \u001b[0;32mreturn\u001b[0m \u001b[0mself\u001b[0m\u001b[0;34m.\u001b[0m\u001b[0mfind_element\u001b[0m\u001b[0;34m(\u001b[0m\u001b[0mby\u001b[0m\u001b[0;34m=\u001b[0m\u001b[0mBy\u001b[0m\u001b[0;34m.\u001b[0m\u001b[0mCSS_SELECTOR\u001b[0m\u001b[0;34m,\u001b[0m \u001b[0mvalue\u001b[0m\u001b[0;34m=\u001b[0m\u001b[0mcss_selector\u001b[0m\u001b[0;34m)\u001b[0m\u001b[0;34m\u001b[0m\u001b[0m\n\u001b[0m\u001b[1;32m    598\u001b[0m \u001b[0;34m\u001b[0m\u001b[0m\n\u001b[1;32m    599\u001b[0m     \u001b[0;32mdef\u001b[0m \u001b[0mfind_elements_by_css_selector\u001b[0m\u001b[0;34m(\u001b[0m\u001b[0mself\u001b[0m\u001b[0;34m,\u001b[0m \u001b[0mcss_selector\u001b[0m\u001b[0;34m)\u001b[0m\u001b[0;34m:\u001b[0m\u001b[0;34m\u001b[0m\u001b[0m\n",
      "\u001b[0;32m~/anaconda3/lib/python3.6/site-packages/selenium/webdriver/remote/webdriver.py\u001b[0m in \u001b[0;36mfind_element\u001b[0;34m(self, by, value)\u001b[0m\n\u001b[1;32m    964\u001b[0m         return self.execute(Command.FIND_ELEMENT, {\n\u001b[1;32m    965\u001b[0m             \u001b[0;34m'using'\u001b[0m\u001b[0;34m:\u001b[0m \u001b[0mby\u001b[0m\u001b[0;34m,\u001b[0m\u001b[0;34m\u001b[0m\u001b[0m\n\u001b[0;32m--> 966\u001b[0;31m             'value': value})['value']\n\u001b[0m\u001b[1;32m    967\u001b[0m \u001b[0;34m\u001b[0m\u001b[0m\n\u001b[1;32m    968\u001b[0m     \u001b[0;32mdef\u001b[0m \u001b[0mfind_elements\u001b[0m\u001b[0;34m(\u001b[0m\u001b[0mself\u001b[0m\u001b[0;34m,\u001b[0m \u001b[0mby\u001b[0m\u001b[0;34m=\u001b[0m\u001b[0mBy\u001b[0m\u001b[0;34m.\u001b[0m\u001b[0mID\u001b[0m\u001b[0;34m,\u001b[0m \u001b[0mvalue\u001b[0m\u001b[0;34m=\u001b[0m\u001b[0;32mNone\u001b[0m\u001b[0;34m)\u001b[0m\u001b[0;34m:\u001b[0m\u001b[0;34m\u001b[0m\u001b[0m\n",
      "\u001b[0;32m~/anaconda3/lib/python3.6/site-packages/selenium/webdriver/remote/webdriver.py\u001b[0m in \u001b[0;36mexecute\u001b[0;34m(self, driver_command, params)\u001b[0m\n\u001b[1;32m    318\u001b[0m         \u001b[0mresponse\u001b[0m \u001b[0;34m=\u001b[0m \u001b[0mself\u001b[0m\u001b[0;34m.\u001b[0m\u001b[0mcommand_executor\u001b[0m\u001b[0;34m.\u001b[0m\u001b[0mexecute\u001b[0m\u001b[0;34m(\u001b[0m\u001b[0mdriver_command\u001b[0m\u001b[0;34m,\u001b[0m \u001b[0mparams\u001b[0m\u001b[0;34m)\u001b[0m\u001b[0;34m\u001b[0m\u001b[0m\n\u001b[1;32m    319\u001b[0m         \u001b[0;32mif\u001b[0m \u001b[0mresponse\u001b[0m\u001b[0;34m:\u001b[0m\u001b[0;34m\u001b[0m\u001b[0m\n\u001b[0;32m--> 320\u001b[0;31m             \u001b[0mself\u001b[0m\u001b[0;34m.\u001b[0m\u001b[0merror_handler\u001b[0m\u001b[0;34m.\u001b[0m\u001b[0mcheck_response\u001b[0m\u001b[0;34m(\u001b[0m\u001b[0mresponse\u001b[0m\u001b[0;34m)\u001b[0m\u001b[0;34m\u001b[0m\u001b[0m\n\u001b[0m\u001b[1;32m    321\u001b[0m             response['value'] = self._unwrap_value(\n\u001b[1;32m    322\u001b[0m                 response.get('value', None))\n",
      "\u001b[0;32m~/anaconda3/lib/python3.6/site-packages/selenium/webdriver/remote/errorhandler.py\u001b[0m in \u001b[0;36mcheck_response\u001b[0;34m(self, response)\u001b[0m\n\u001b[1;32m    240\u001b[0m                 \u001b[0malert_text\u001b[0m \u001b[0;34m=\u001b[0m \u001b[0mvalue\u001b[0m\u001b[0;34m[\u001b[0m\u001b[0;34m'alert'\u001b[0m\u001b[0;34m]\u001b[0m\u001b[0;34m.\u001b[0m\u001b[0mget\u001b[0m\u001b[0;34m(\u001b[0m\u001b[0;34m'text'\u001b[0m\u001b[0;34m)\u001b[0m\u001b[0;34m\u001b[0m\u001b[0m\n\u001b[1;32m    241\u001b[0m             \u001b[0;32mraise\u001b[0m \u001b[0mexception_class\u001b[0m\u001b[0;34m(\u001b[0m\u001b[0mmessage\u001b[0m\u001b[0;34m,\u001b[0m \u001b[0mscreen\u001b[0m\u001b[0;34m,\u001b[0m \u001b[0mstacktrace\u001b[0m\u001b[0;34m,\u001b[0m \u001b[0malert_text\u001b[0m\u001b[0;34m)\u001b[0m\u001b[0;34m\u001b[0m\u001b[0m\n\u001b[0;32m--> 242\u001b[0;31m         \u001b[0;32mraise\u001b[0m \u001b[0mexception_class\u001b[0m\u001b[0;34m(\u001b[0m\u001b[0mmessage\u001b[0m\u001b[0;34m,\u001b[0m \u001b[0mscreen\u001b[0m\u001b[0;34m,\u001b[0m \u001b[0mstacktrace\u001b[0m\u001b[0;34m)\u001b[0m\u001b[0;34m\u001b[0m\u001b[0m\n\u001b[0m\u001b[1;32m    243\u001b[0m \u001b[0;34m\u001b[0m\u001b[0m\n\u001b[1;32m    244\u001b[0m     \u001b[0;32mdef\u001b[0m \u001b[0m_value_or_default\u001b[0m\u001b[0;34m(\u001b[0m\u001b[0mself\u001b[0m\u001b[0;34m,\u001b[0m \u001b[0mobj\u001b[0m\u001b[0;34m,\u001b[0m \u001b[0mkey\u001b[0m\u001b[0;34m,\u001b[0m \u001b[0mdefault\u001b[0m\u001b[0;34m)\u001b[0m\u001b[0;34m:\u001b[0m\u001b[0;34m\u001b[0m\u001b[0m\n",
      "\u001b[0;31mNoSuchWindowException\u001b[0m: Message: no such window: target window already closed\nfrom unknown error: web view not found\n  (Session info: chrome=68.0.3440.106)\n  (Driver info: chromedriver=2.40.565386 (45a059dc425e08165f9a10324bd1380cc13ca363),platform=Mac OS X 10.13.4 x86_64)\n"
     ]
    }
   ],
   "source": [
    "for link in links_diaper[sizeList_diaper[sizeCategory[4]]]:\n",
    "    getInfo_diaper(link, sizeList_diaper[sizeCategory[4]])\n",
    "print(len(diaperList))"
   ]
  },
  {
   "cell_type": "code",
   "execution_count": 339,
   "metadata": {
    "scrolled": false
   },
   "outputs": [
    {
     "data": {
      "text/plain": [
       "455"
      ]
     },
     "execution_count": 339,
     "metadata": {},
     "output_type": "execute_result"
    }
   ],
   "source": [
    "len(diaperList)"
   ]
  },
  {
   "cell_type": "code",
   "execution_count": 341,
   "metadata": {},
   "outputs": [
    {
     "name": "stdout",
     "output_type": "stream",
     "text": [
      "546\n"
     ]
    }
   ],
   "source": [
    "for link in links_diaper[sizeList_diaper[sizeCategory[5]]]:\n",
    "    getInfo_diaper(link, sizeList_diaper[sizeCategory[5]])\n",
    "print(len(diaperList))"
   ]
  },
  {
   "cell_type": "code",
   "execution_count": 342,
   "metadata": {
    "scrolled": false
   },
   "outputs": [
    {
     "data": {
      "text/plain": [
       "546"
      ]
     },
     "execution_count": 342,
     "metadata": {},
     "output_type": "execute_result"
    }
   ],
   "source": [
    "len(diaperList)"
   ]
  },
  {
   "cell_type": "markdown",
   "metadata": {},
   "source": [
    "___"
   ]
  },
  {
   "cell_type": "markdown",
   "metadata": {},
   "source": [
    "데이터 형식 수정 완료. 다시 가져올것.(과자는 완료함)"
   ]
  },
  {
   "cell_type": "code",
   "execution_count": 343,
   "metadata": {},
   "outputs": [],
   "source": [
    "from pymongo import MongoClient\n",
    "\n",
    "client = MongoClient('localhost', 27017)"
   ]
  },
  {
   "cell_type": "code",
   "execution_count": 344,
   "metadata": {},
   "outputs": [],
   "source": [
    "coupang_db = client.get_database('coupang_db')\n",
    "\n",
    "snack_collection = coupang_db.get_collection('Snack')\n",
    "milkPowder_collection = coupang_db.get_collection('Milkpowder')\n",
    "toy_collection = coupang_db.get_collection('Toy')\n",
    "diaper_collection = coupang_db.get_collection('Diaper')"
   ]
  },
  {
   "cell_type": "code",
   "execution_count": 345,
   "metadata": {},
   "outputs": [
    {
     "data": {
      "text/plain": [
       "<pymongo.results.InsertManyResult at 0x102edf048>"
      ]
     },
     "execution_count": 345,
     "metadata": {},
     "output_type": "execute_result"
    }
   ],
   "source": [
    "snack_collection.insert_many([\n",
    "    snackList[i] for i in range(len(snackList))\n",
    "])\n",
    "\n",
    "milkPowder_collection.insert_many([\n",
    "    milkPowderList[i] for i in range(len(milkPowderList))\n",
    "])\n",
    "\n",
    "toy_collection.insert_many([\n",
    "    toyList[i] for i in range(len(toyList))\n",
    "])\n",
    "\n",
    "diaper_collection.insert_many([\n",
    "    diaperList[i] for i in range(len(diaperList))\n",
    "])"
   ]
  }
 ],
 "metadata": {
  "kernelspec": {
   "display_name": "Python 3",
   "language": "python",
   "name": "python3"
  },
  "language_info": {
   "codemirror_mode": {
    "name": "ipython",
    "version": 3
   },
   "file_extension": ".py",
   "mimetype": "text/x-python",
   "name": "python",
   "nbconvert_exporter": "python",
   "pygments_lexer": "ipython3",
   "version": "3.6.5"
  }
 },
 "nbformat": 4,
 "nbformat_minor": 2
}
