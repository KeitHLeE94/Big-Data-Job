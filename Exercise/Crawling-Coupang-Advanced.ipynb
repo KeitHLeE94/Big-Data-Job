{
 "cells": [
  {
   "cell_type": "markdown",
   "metadata": {},
   "source": [
    "# 쿠팡 데이터 크롤링"
   ]
  },
  {
   "cell_type": "markdown",
   "metadata": {},
   "source": [
    "___"
   ]
  },
  {
   "cell_type": "markdown",
   "metadata": {},
   "source": [
    "## Global functions, parameters"
   ]
  },
  {
   "cell_type": "code",
   "execution_count": 118,
   "metadata": {},
   "outputs": [],
   "source": [
    "import requests\n",
    "import bs4\n",
    "from bs4 import BeautifulSoup\n",
    "from selenium import webdriver\n",
    "from selenium.webdriver.common.keys import Keys\n",
    "from selenium.common.exceptions import NoSuchElementException\n",
    "from selenium.common.exceptions import StaleElementReferenceException\n",
    "from selenium.webdriver.support.ui import WebDriverWait\n",
    "from selenium.common.exceptions import WebDriverException\n",
    "from selenium.common.exceptions import TimeoutException\n",
    "import time\n",
    "\n",
    "driver = webdriver.Chrome()"
   ]
  },
  {
   "cell_type": "code",
   "execution_count": 2,
   "metadata": {},
   "outputs": [],
   "source": [
    "def getURL(seed, params=None, select='a', num_retries=2):\n",
    "    html = requests.get(seed, params=params, headers=headers)\n",
    "    \n",
    "    if 500<=html.status_code<600 and num_retries>0:\n",
    "        print(html.status_code, html.reason)\n",
    "        return getURL(seed, params, num_retries-1)\n",
    "    \n",
    "    dom = BeautifulSoup(html.text, 'lxml')\n",
    "    links = dom.select(select)\n",
    "    \n",
    "    return ['http://www.coupang.com' + link['href'] for link in links if link.has_attr('href')]"
   ]
  },
  {
   "cell_type": "code",
   "execution_count": 3,
   "metadata": {},
   "outputs": [],
   "source": [
    "headers = {\n",
    "    \"user-agent\":\"Mozilla/5.0 (Macintosh; Intel Mac OS X 10_13_4) AppleWebKit/537.36 (KHTML, like Gecko) Chrome/67.0.3396.99 Safari/537.36\",\n",
    "    \"accept-encoding\":\"false\"\n",
    "}"
   ]
  },
  {
   "cell_type": "markdown",
   "metadata": {},
   "source": [
    "___"
   ]
  },
  {
   "cell_type": "markdown",
   "metadata": {},
   "source": [
    "### 과자\n",
    "1. link\n",
    "2. img\n",
    "3. brand\n",
    "4. title: 제품명(있는 그대로)\n",
    "5. product: 보여줄 제품명(브랜드 + 연령대 + 형태)\n",
    "6. price: 가격(int)\n",
    "7. rating: 평점\n",
    "8. replyCount: 상품평 갯수\n",
    "9. reply: 20개"
   ]
  },
  {
   "cell_type": "code",
   "execution_count": 4,
   "metadata": {},
   "outputs": [],
   "source": [
    "params_snack = {\n",
    "    \"listSize\": \"120\",\n",
    "    \"brand\": \"\",\n",
    "    \"offerCondition\": \"\",\n",
    "    \"filterType\": \"\",\n",
    "    \"isPriceRange\": \"false\",\n",
    "    \"minPrice\": \"\",\n",
    "    \"maxPrice\": \"\",\n",
    "    \"page\": \"1\",\n",
    "    \"channel\": \"user\",\n",
    "    \"fromComponent\": \"Y\",\n",
    "    \"selectedPlpKeepFilter\": \"\",\n",
    "    \"sorter\": \"bestAsc\",\n",
    "    \"filter\": \"\",\n",
    "    \"component\": \"221916\",\n",
    "    \"rating\": \"0\",\n",
    "}"
   ]
  },
  {
   "cell_type": "code",
   "execution_count": 5,
   "metadata": {},
   "outputs": [],
   "source": [
    "seed_snack = 'http://www.coupang.com/np/categories/222016'"
   ]
  },
  {
   "cell_type": "code",
   "execution_count": 6,
   "metadata": {
    "scrolled": true
   },
   "outputs": [],
   "source": [
    "links_snack = []\n",
    "links_snack.extend(getURL(seed_snack, params_snack, select='ul.baby-product-list a.baby-product-link'))\n",
    "links_snack = links_snack[:100]"
   ]
  },
  {
   "cell_type": "code",
   "execution_count": 32,
   "metadata": {},
   "outputs": [],
   "source": [
    "snackList = []"
   ]
  },
  {
   "cell_type": "code",
   "execution_count": 35,
   "metadata": {},
   "outputs": [],
   "source": [
    "def getInfo_snack(url, num_retries=2):\n",
    "    html = requests.get(url, headers=headers)\n",
    "    \n",
    "    if 500<=html.status_code<600 and num_retries>0:\n",
    "        print(html.status_code, html.reason)\n",
    "        return getInfo_snack(seed, params, num_retries-1)\n",
    "    \n",
    "    dom = BeautifulSoup(html.text, 'lxml')\n",
    "    if len(dom.select('div.oos-label')) == 0 and int(dom.select('a.moveAnchor span.count')[0].get_text().replace('개 상품평', '').replace(',', '')) > 0:\n",
    "        link = html.url\n",
    "        img = 'http:' + dom.select('img.prod-image__detail')[0]['src']\n",
    "        brand = dom.select('a.prod-brand-name')[0].get_text()\n",
    "        title = dom.select('h2.prod-buy-header__title')[0].get_text()\n",
    "        # product = \n",
    "        price = int(dom.select('span.total-price')[0].get_text().replace('\\n', '').replace('원', '').replace(',', ''))\n",
    "        replyCount = int(dom.select('a.moveAnchor span.count')[0].get_text().replace('개 상품평', '').replace(',', ''))\n",
    "        \n",
    "        driver.get(url)\n",
    "        body = driver.find_element_by_tag_name('body')\n",
    "        while True:\n",
    "            try:\n",
    "                driver.find_element_by_css_selector('.sdp-review__average__total-star__info-gray div')\n",
    "                break\n",
    "            except NoSuchElementException:\n",
    "                body.send_keys(Keys.PAGE_DOWN)\n",
    "                driver.implicitly_wait(0.5)\n",
    "                \n",
    "        rating = driver.find_element_by_css_selector('.sdp-review__average__total-star__info-gray div')\n",
    "        rating = rating.get_attribute('data-rating')\n",
    "        replyResult = []\n",
    "        buttonList = []\n",
    "        buttonList.extend(driver.find_elements_by_css_selector('.sdp-review__article__page__num.js_reviewArticlePageBtn'))\n",
    "        \n",
    "        def getReply(pagenum):\n",
    "            try:\n",
    "                element = WebDriverWait(driver, 5).until(lambda x: x.find_elements_by_css_selector('.js_reviewArticleListContainer article div.sdp-review__article__list__review__content.js_reviewArticleContent')) \n",
    "                replyResult.extend(reply.text.replace('\\n', ' ') for reply in element)\n",
    "                time.sleep(1)\n",
    "            except TimeoutException:\n",
    "                return None\n",
    "            \n",
    "            while True:\n",
    "                try:\n",
    "                    buttonList = []\n",
    "                    buttonList.extend(driver.find_elements_by_css_selector('.sdp-review__article__page__num.js_reviewArticlePageBtn'))\n",
    "                    break\n",
    "                except WebDriverException:\n",
    "                    body.send_keys(Keys.PAGE_DOWN)\n",
    "                    driver.implicitly_wait(0.5)\n",
    "            if len(buttonList) > 0:\n",
    "                buttonList[pagenum].click()\n",
    "            else:\n",
    "                return None\n",
    "        \n",
    "        if len(buttonList) > 0:\n",
    "            for i in range(1, 5):\n",
    "                getReply(i)\n",
    "                time.sleep(0.5)\n",
    "    \n",
    "        result = tuple([link, img, brand, title, price, replyCount, rating, replyResult])\n",
    "        snackList.append(result)\n",
    "        return 1\n",
    "    \n",
    "    else:\n",
    "        return 0"
   ]
  },
  {
   "cell_type": "code",
   "execution_count": 36,
   "metadata": {
    "scrolled": true
   },
   "outputs": [
    {
     "name": "stdout",
     "output_type": "stream",
     "text": [
      "Skip: http://www.coupang.com/vp/products/96477934?itemId=296996220&vendorItemId=3730702348\n"
     ]
    }
   ],
   "source": [
    "for i in range(100):\n",
    "    if getInfo_snack(links_snack[i]) == 0:\n",
    "        print('Skip: ' + links_snack[i])\n",
    "    time.sleep(0.3)"
   ]
  },
  {
   "cell_type": "code",
   "execution_count": 43,
   "metadata": {
    "scrolled": false
   },
   "outputs": [],
   "source": [
    "snackList = snackList[7:]"
   ]
  },
  {
   "cell_type": "code",
   "execution_count": 44,
   "metadata": {
    "scrolled": true
   },
   "outputs": [
    {
     "data": {
      "text/plain": [
       "99"
      ]
     },
     "execution_count": 44,
     "metadata": {},
     "output_type": "execute_result"
    }
   ],
   "source": [
    "len(snackList)"
   ]
  },
  {
   "cell_type": "markdown",
   "metadata": {},
   "source": [
    "평점 없는건 제외시켰음."
   ]
  },
  {
   "cell_type": "markdown",
   "metadata": {},
   "source": [
    "___"
   ]
  },
  {
   "cell_type": "markdown",
   "metadata": {},
   "source": [
    "### 분유\n",
    "1. link\n",
    "2. img\n",
    "3. brand\n",
    "4. origin: 원산지(국내 / 해외)\n",
    "5. title: 제품명(있는 그대로)\n",
    "6. product: 보여줄 제품명(브랜드 + 연령대 + 형태)\n",
    "7. stage: 분유 단계(int)\n",
    "8. type: 분말 / 액상\n",
    "9. price: 가격(int)\n",
    "10. rating: 평점\n",
    "11. replyCount: 상품평 갯수\n",
    "12. reply: 20개"
   ]
  },
  {
   "cell_type": "code",
   "execution_count": 45,
   "metadata": {},
   "outputs": [],
   "source": [
    "params_milkPowder = {\n",
    "    \"listSize\": \"120\",\n",
    "    \"brand\": \"\",\n",
    "    \"offerCondition\": \"\",\n",
    "    \"filterType\": \"\",\n",
    "    \"isPriceRange\": \"false\",\n",
    "    \"minPrice\": \"\",\n",
    "    \"maxPrice\": \"\",\n",
    "    \"page\": \"1\",\n",
    "    \"channel\": \"user\",\n",
    "    \"fromComponent\": \"N\",\n",
    "    \"selectedPlpKeepFilter\": \"\",\n",
    "    \"sorter\": \"bestAsc\",\n",
    "    \"filter\": \"\",\n",
    "    \"component\": \"221895\",\n",
    "    \"rating\": \"0\",\n",
    "}"
   ]
  },
  {
   "cell_type": "code",
   "execution_count": 46,
   "metadata": {},
   "outputs": [],
   "source": [
    "seed_milkPowder = 'http://www.coupang.com/np/categories/221995'"
   ]
  },
  {
   "cell_type": "code",
   "execution_count": 47,
   "metadata": {
    "scrolled": true
   },
   "outputs": [],
   "source": [
    "links_milkPowder = []\n",
    "links_milkPowder.extend(getURL(seed_milkPowder, params_milkPowder, select='ul.baby-product-list a.baby-product-link'))\n",
    "links_milkPowder = links_milkPowder[:100]"
   ]
  },
  {
   "cell_type": "code",
   "execution_count": 48,
   "metadata": {},
   "outputs": [],
   "source": [
    "milkPowderList = []"
   ]
  },
  {
   "cell_type": "code",
   "execution_count": 79,
   "metadata": {},
   "outputs": [],
   "source": [
    "def getInfo_milkPowder(url, num_retries=2):\n",
    "    html = requests.get(url, headers=headers)\n",
    "    \n",
    "    if 500<=html.status_code<600 and num_retries>0:\n",
    "        print(html.status_code, html.reason)\n",
    "        return getInfo_milkPowder(seed, params, num_retries-1)\n",
    "    \n",
    "    dom = BeautifulSoup(html.text, 'lxml')\n",
    "    if len(dom.select('div.oos-label')) == 0 and int(dom.select('a.moveAnchor span.count')[0].get_text().replace('개 상품평', '').replace(',', '')) > 0:\n",
    "        link = html.url\n",
    "        img = 'http:' + dom.select('img.prod-image__detail')[0]['src']\n",
    "        brand = dom.select('a.prod-brand-name')[0].get_text()\n",
    "        title = dom.select('h2.prod-buy-header__title')[0].get_text()\n",
    "        # product = \n",
    "        index = 0\n",
    "        stage = 0\n",
    "        for index in range(len(dom.select('li.prod-attr-item'))):\n",
    "            try:\n",
    "                stage = int(dom.select('li.prod-attr-item')[index].get_text().replace('\\n', '').replace('단계: ', '').replace('단계', ''))\n",
    "            except ValueError:\n",
    "                index += 1\n",
    "            \n",
    "        if stage == 0:\n",
    "            stageIndex = title.find('단계')\n",
    "            try:\n",
    "                stage = int(title[stageIndex-1])\n",
    "            except ValueError:\n",
    "                return 0\n",
    "        \n",
    "        if '액상분유' in title:\n",
    "            milkPowderType = '액상분유'\n",
    "        elif '스틱분유' in title:\n",
    "            milkPowderType = '스틱분유'\n",
    "        else:\n",
    "            milkPowderType = '원통형분유'\n",
    "        price = int(dom.select('span.total-price')[0].get_text().replace('\\n', '').replace('원', '').replace(',', ''))\n",
    "        replyCount = int(dom.select('a.moveAnchor span.count')[0].get_text().replace('개 상품평', '').replace(',', ''))\n",
    "        \n",
    "        driver.get(url)\n",
    "        body = driver.find_element_by_tag_name('body')\n",
    "        while True:\n",
    "            try:\n",
    "                driver.find_element_by_css_selector('.sdp-review__average__total-star__info-gray div')\n",
    "                break\n",
    "            except NoSuchElementException:\n",
    "                body.send_keys(Keys.PAGE_DOWN)\n",
    "                driver.implicitly_wait(0.5)\n",
    "        \n",
    "        origin = driver.find_elements_by_css_selector('.prod-delivery-return-policy-table.essential-info-table tbody tr td')[1].text\n",
    "        rating = driver.find_element_by_css_selector('.sdp-review__average__total-star__info-gray div')\n",
    "        rating = rating.get_attribute('data-rating')\n",
    "        replyResult = []\n",
    "        buttonList = []\n",
    "        buttonList.extend(driver.find_elements_by_css_selector('.sdp-review__article__page__num.js_reviewArticlePageBtn'))\n",
    "        \n",
    "        def getReply(pagenum):\n",
    "            try:\n",
    "                element = WebDriverWait(driver, 5).until(lambda x: x.find_elements_by_css_selector('.js_reviewArticleListContainer article div.sdp-review__article__list__review__content.js_reviewArticleContent')) \n",
    "                replyResult.extend(reply.text.replace('\\n', ' ') for reply in element)\n",
    "                time.sleep(1)\n",
    "            except TimeoutException:\n",
    "                return None\n",
    "            buttonList = []\n",
    "            while True:\n",
    "                try:\n",
    "                    buttonList.extend(driver.find_elements_by_css_selector('.sdp-review__article__page__num.js_reviewArticlePageBtn'))\n",
    "                    break\n",
    "                except WebDriverException:\n",
    "                    body.send_keys(Keys.PAGE_DOWN)\n",
    "                    driver.implicitly_wait(0.5)\n",
    "            if len(buttonList) > 0:\n",
    "                buttonList[pagenum].click()\n",
    "            else:\n",
    "                return None\n",
    "        \n",
    "        if len(buttonList) > 0:\n",
    "            for i in range(1, 5):\n",
    "                getReply(i)\n",
    "                time.sleep(0.5)\n",
    "    \n",
    "        result = tuple([link, img, brand, origin, title, stage, milkPowderType, price, replyCount, rating, replyResult])\n",
    "        milkPowderList.append(result)\n",
    "        return 1\n",
    "    \n",
    "    else:\n",
    "        return 0\n",
    "    \n",
    "    return None"
   ]
  },
  {
   "cell_type": "code",
   "execution_count": 82,
   "metadata": {
    "scrolled": true
   },
   "outputs": [
    {
     "name": "stdout",
     "output_type": "stream",
     "text": [
      "Skip: http://www.coupang.com/vp/products/13355297?itemId=125443118&vendorItemId=3769717414\n",
      "Skip: http://www.coupang.com/vp/products/116863081?itemId=349863063&vendorItemId=3856161600\n"
     ]
    }
   ],
   "source": [
    "for i in range(75, 100, 1):\n",
    "    if getInfo_milkPowder(links_milkPowder[i]) == 0:\n",
    "        print('Skip: ' + links_milkPowder[i])\n",
    "    time.sleep(0.3)"
   ]
  },
  {
   "cell_type": "code",
   "execution_count": 83,
   "metadata": {
    "scrolled": true
   },
   "outputs": [
    {
     "data": {
      "text/plain": [
       "98"
      ]
     },
     "execution_count": 83,
     "metadata": {},
     "output_type": "execute_result"
    }
   ],
   "source": [
    "len(milkPowderList)"
   ]
  },
  {
   "cell_type": "markdown",
   "metadata": {},
   "source": [
    "2개 스킵: 단계 이상해서, 단계 옵션으로 주어져서 스킵됨."
   ]
  },
  {
   "cell_type": "markdown",
   "metadata": {},
   "source": [
    "___"
   ]
  },
  {
   "cell_type": "markdown",
   "metadata": {},
   "source": [
    "### 장난감\n",
    "1. link\n",
    "2. img\n",
    "3. category: 감각발달완구, 아기체육관, 러닝홈/플레이매트, 아기걸음마, 모빌/딸랑이/치발기, 오뚝이\n",
    "4. title: 제품명(있는 그대로)\n",
    "5. product: 보여줄 제품명(브랜드 + 연령대 + 형태)\n",
    "6. price: 가격(int)\n",
    "7. rating: 평점\n",
    "8. replyCount: 상품평 갯수\n",
    "9. reply: 20개"
   ]
  },
  {
   "cell_type": "code",
   "execution_count": 86,
   "metadata": {},
   "outputs": [],
   "source": [
    "categoryList_toy = ['감각발달완구', '아기체육관/러닝홈', '아기걸음마', '모빌', '딸랑이', '치발기', '오뚝이']"
   ]
  },
  {
   "cell_type": "code",
   "execution_count": 87,
   "metadata": {},
   "outputs": [],
   "source": [
    "params_toy = {\n",
    "    \"listSize\": \"120\",\n",
    "    \"brand\": \"\",\n",
    "    \"offerCondition\": \"\",\n",
    "    \"filterType\": \"\",\n",
    "    \"isPriceRange\": \"false\",\n",
    "    \"minPrice\": \"\",\n",
    "    \"maxPrice\": \"\",\n",
    "    \"page\": \"1\",\n",
    "    \"channel\": \"user\",\n",
    "    \"fromComponent\": \"Y\",\n",
    "    \"selectedPlpKeepFilter\": \"\",\n",
    "    \"sorter\": \"bestAsc\",\n",
    "    \"filter\": \"\",\n",
    "    \"component\": \"\",\n",
    "    \"rating\": \"0\",\n",
    "}"
   ]
  },
  {
   "cell_type": "code",
   "execution_count": 88,
   "metadata": {},
   "outputs": [],
   "source": [
    "seed_toy_list = ['http://www.coupang.com/np/categories/349712',\n",
    "                 'http://www.coupang.com/np/categories/349704',\n",
    "                 'http://www.coupang.com/np/categories/349710',\n",
    "                 'http://www.coupang.com/np/categories/349687',\n",
    "                 'http://www.coupang.com/np/categories/349689',\n",
    "                 'http://www.coupang.com/np/categories/349690',\n",
    "                 'http://www.coupang.com/np/categories/349694']"
   ]
  },
  {
   "cell_type": "code",
   "execution_count": 89,
   "metadata": {},
   "outputs": [],
   "source": [
    "toyComponentList = [349612, 349604, 349610, 349587, 349589, 349590, 349594]"
   ]
  },
  {
   "cell_type": "code",
   "execution_count": 90,
   "metadata": {
    "scrolled": true
   },
   "outputs": [],
   "source": [
    "links_toy = {\n",
    "    categoryList_toy[0]: None,\n",
    "    categoryList_toy[1]: None,\n",
    "    categoryList_toy[2]: None,\n",
    "    categoryList_toy[3]: None,\n",
    "    categoryList_toy[4]: None,\n",
    "    categoryList_toy[5]: None,\n",
    "    categoryList_toy[6]: None\n",
    "}\n",
    "\n",
    "for i in range(7):\n",
    "    params_toy['component'] = toyComponentList[i]\n",
    "    temp = []\n",
    "    temp.extend(getURL(seed_toy_list[i], params_toy, select='ul.baby-product-list a.baby-product-link'))\n",
    "    temp = temp[:100]\n",
    "    links_toy[categoryList_toy[i]] = temp"
   ]
  },
  {
   "cell_type": "code",
   "execution_count": 91,
   "metadata": {
    "scrolled": false
   },
   "outputs": [
    {
     "name": "stdout",
     "output_type": "stream",
     "text": [
      "감각발달완구 100\n",
      "아기체육관/러닝홈 100\n",
      "아기걸음마 100\n",
      "모빌 100\n",
      "딸랑이 100\n",
      "치발기 100\n",
      "오뚝이 100\n"
     ]
    }
   ],
   "source": [
    "for (k, v) in links_toy.items():\n",
    "    print(k, len(v))"
   ]
  },
  {
   "cell_type": "code",
   "execution_count": 166,
   "metadata": {},
   "outputs": [],
   "source": [
    "toyList = []"
   ]
  },
  {
   "cell_type": "code",
   "execution_count": 167,
   "metadata": {},
   "outputs": [],
   "source": [
    "def getInfo_toy(url, category, num_retries=2):\n",
    "    html = requests.get(url, headers=headers)\n",
    "    \n",
    "    if 500<=html.status_code<600 and num_retries>0:\n",
    "        print(html.status_code, html.reason)\n",
    "        return getInfo_toy(seed, params, num_retries-1)\n",
    "    \n",
    "    dom = BeautifulSoup(html.text, 'lxml')\n",
    "    if len(dom.select('div.oos-label')) == 0 and int(dom.select('a.moveAnchor span.count')[0].get_text().replace('개 상품평', '').replace(',', '')) > 0:\n",
    "        link = html.url\n",
    "        img = 'http:' + dom.select('img.prod-image__detail')[0]['src']\n",
    "        category = category\n",
    "        title = dom.select('h2.prod-buy-header__title')[0].get_text()\n",
    "        # product = \n",
    "        price = int(dom.select('span.total-price strong')[0].get_text().replace('\\n', '').replace('원', '').replace(',', ''))\n",
    "        replyCount = int(dom.select('a.moveAnchor span.count')[0].get_text().replace('개 상품평', '').replace(',', ''))\n",
    "        \n",
    "        driver.get(url)\n",
    "        body = driver.find_element_by_tag_name('body')\n",
    "        while True:\n",
    "            try:\n",
    "                driver.find_element_by_css_selector('.sdp-review__average__total-star__info-gray div')\n",
    "                break\n",
    "            except NoSuchElementException:\n",
    "                body.send_keys(Keys.PAGE_DOWN)\n",
    "                driver.implicitly_wait(0.5)\n",
    "        \n",
    "        rating = driver.find_element_by_css_selector('.sdp-review__average__total-star__info-gray div')\n",
    "        rating = rating.get_attribute('data-rating')\n",
    "        replyResult = []\n",
    "        buttonList = []\n",
    "        buttonList.extend(driver.find_elements_by_css_selector('.sdp-review__article__page__num.js_reviewArticlePageBtn'))\n",
    "        \n",
    "        def getReply(pagenum):\n",
    "            try:\n",
    "                element = WebDriverWait(driver, 5).until(lambda x: x.find_elements_by_css_selector('.js_reviewArticleListContainer article div.sdp-review__article__list__review__content.js_reviewArticleContent')) \n",
    "                replyResult.extend(reply.text.replace('\\n', ' ') for reply in element)\n",
    "                time.sleep(1)\n",
    "            except TimeoutException:\n",
    "                return None\n",
    "            buttonList = []\n",
    "            while True:\n",
    "                try:\n",
    "                    buttonList.extend(driver.find_elements_by_css_selector('.sdp-review__article__page__num.js_reviewArticlePageBtn'))\n",
    "                    break\n",
    "                except WebDriverException:\n",
    "                    body.send_keys(Keys.PAGE_DOWN)\n",
    "                    driver.implicitly_wait(0.5)\n",
    "            if len(buttonList) > 0:\n",
    "                buttonList[pagenum].click()\n",
    "            else:\n",
    "                return None\n",
    "        \n",
    "        if len(buttonList) > 0:\n",
    "            end = len(buttonList)\n",
    "            if end > 5:\n",
    "                end = 5\n",
    "            for i in range(1, end):\n",
    "                getReply(i)\n",
    "                time.sleep(0.5)\n",
    "    \n",
    "        result = tuple([link, img, category, title, price, replyCount, rating, replyResult])\n",
    "        toyList.append(result)\n",
    "        return 1\n",
    "    \n",
    "    else:\n",
    "        return 0\n",
    "    \n",
    "    return None"
   ]
  },
  {
   "cell_type": "code",
   "execution_count": 168,
   "metadata": {
    "scrolled": false
   },
   "outputs": [],
   "source": [
    "for i in range(7):\n",
    "    for link in links_toy[categoryList_toy[i]]:\n",
    "        getInfo_toy(link, categoryList_toy[i])"
   ]
  },
  {
   "cell_type": "code",
   "execution_count": 169,
   "metadata": {
    "scrolled": true
   },
   "outputs": [
    {
     "data": {
      "text/plain": [
       "442"
      ]
     },
     "execution_count": 169,
     "metadata": {},
     "output_type": "execute_result"
    }
   ],
   "source": [
    "len(toyList)"
   ]
  },
  {
   "cell_type": "markdown",
   "metadata": {},
   "source": [
    "___"
   ]
  },
  {
   "cell_type": "markdown",
   "metadata": {},
   "source": [
    "## 기저귀\n",
    "1. link\n",
    "2. img\n",
    "3. brand\n",
    "4. origin: 원산지(국내 / 해외)\n",
    "5. title: 제품명(있는 그대로)\n",
    "6. product: 보여줄 제품명(브랜드 + 연령대 + 형태)\n",
    "7. stage: {“신생아”:1,  “소형”:2, “중형”:3, “대형”:4, “특대형”:5, “점보”:6}\n",
    "8. type: 밴드 / 팬티\n",
    "9. price: 가격(int)\n",
    "10. rating: 평점\n",
    "11. replyCount: 상품평 갯수\n",
    "12. reply: 20개"
   ]
  },
  {
   "cell_type": "code",
   "execution_count": 171,
   "metadata": {},
   "outputs": [],
   "source": [
    "size_filter_diaper = {\n",
    "    '신생아': '1%23attr_11880%244488%40DEFAULT',\n",
    "    '소형': '1%23attr_11880%244489%40DEFAULT',\n",
    "    '중형': '1%23attr_11880%244490%40DEFAULT',\n",
    "    '대형': '1%23attr_11880%244491%40DEFAULT',\n",
    "    '특대': '1%23attr_11880%244492%40DEFAULT',\n",
    "    '점보': '1%23attr_11880%244493%40DEFAULT'\n",
    "}"
   ]
  },
  {
   "cell_type": "code",
   "execution_count": 185,
   "metadata": {},
   "outputs": [],
   "source": [
    "sizeList_diaper = {'신생아': 1, '소형':2 , '중형': 3, '대형': 4, '특대': 5, '점보': 6}"
   ]
  },
  {
   "cell_type": "code",
   "execution_count": 180,
   "metadata": {},
   "outputs": [],
   "source": [
    "sizeCategory = ['신생아', '소형', '중형', '대형', '특대', '점보']"
   ]
  },
  {
   "cell_type": "code",
   "execution_count": 173,
   "metadata": {},
   "outputs": [],
   "source": [
    "params_diaper = {\n",
    "    \"listSize\": \"120\",\n",
    "    \"brand\": \"\",\n",
    "    \"offerCondition\": \"\",\n",
    "    \"filterType\": \"\",\n",
    "    \"isPriceRange\": \"false\",\n",
    "    \"minPrice\": \"\",\n",
    "    \"maxPrice\": \"\",\n",
    "    \"page\": \"\",\n",
    "    \"channel\": \"user\",\n",
    "    \"fromComponent\": \"N\",\n",
    "    \"selectedPlpKeepFilter\": \"\",\n",
    "    \"sorter\": \"bestAsc\",\n",
    "    \"filter\": \"\",\n",
    "    \"component\": \"221863\",\n",
    "    \"rating\": \"0\",\n",
    "}"
   ]
  },
  {
   "cell_type": "code",
   "execution_count": 174,
   "metadata": {},
   "outputs": [],
   "source": [
    "seed_diaper = 'http://www.coupang.com/np/categories/221963'"
   ]
  },
  {
   "cell_type": "code",
   "execution_count": 189,
   "metadata": {
    "scrolled": true
   },
   "outputs": [],
   "source": [
    "links_diaper = {\n",
    "    sizeList_diaper[sizeCategory[0]]: None,\n",
    "    sizeList_diaper[sizeCategory[1]]: None,\n",
    "    sizeList_diaper[sizeCategory[2]]: None,\n",
    "    sizeList_diaper[sizeCategory[3]]: None,\n",
    "    sizeList_diaper[sizeCategory[4]]: None,\n",
    "    sizeList_diaper[sizeCategory[5]]: None\n",
    "}\n",
    "\n",
    "for i in range(6):\n",
    "    params_diaper['filter'] = size_filter_diaper[sizeCategory[i]]\n",
    "    temp = []\n",
    "    temp.extend(getURL(seed_diaper, params_diaper, select='ul.baby-product-list a.baby-product-link'))\n",
    "    temp = temp[:100]\n",
    "    links_diaper[sizeList_diaper[sizeCategory[i]]] = temp"
   ]
  },
  {
   "cell_type": "code",
   "execution_count": 199,
   "metadata": {
    "scrolled": true
   },
   "outputs": [
    {
     "name": "stdout",
     "output_type": "stream",
     "text": [
      "1 100\n",
      "2 100\n",
      "3 100\n",
      "4 100\n",
      "5 100\n",
      "6 100\n"
     ]
    }
   ],
   "source": [
    "for (k, v) in links_diaper.items():\n",
    "    print(k, len(v))"
   ]
  },
  {
   "cell_type": "code",
   "execution_count": 200,
   "metadata": {},
   "outputs": [],
   "source": [
    "diaperList = []"
   ]
  },
  {
   "cell_type": "code",
   "execution_count": 192,
   "metadata": {},
   "outputs": [],
   "source": [
    "def getInfo_diaper(url, stage, num_retries=2):\n",
    "    html = requests.get(url, headers=headers)\n",
    "    \n",
    "    if 500<=html.status_code<600 and num_retries>0:\n",
    "        print(html.status_code, html.reason)\n",
    "        return getInfo_diaper(seed, params, num_retries-1)\n",
    "    \n",
    "    dom = BeautifulSoup(html.text, 'lxml')\n",
    "    if len(dom.select('div.oos-label')) == 0 and int(dom.select('a.moveAnchor span.count')[0].get_text().replace('개 상품평', '').replace(',', '')) > 0:\n",
    "        link = html.url\n",
    "        img = 'http:' + dom.select('img.prod-image__detail')[0]['src']\n",
    "        brand = dom.select('a.prod-brand-name')[0].get_text()\n",
    "        title = dom.select('h2.prod-buy-header__title')[0].get_text()\n",
    "        # product = \n",
    "        stage = stage\n",
    "        if '밴드형' in title:\n",
    "            diaperType = '밴드형'\n",
    "        elif '팬티형' in title:\n",
    "            diaperType = '팬티형'\n",
    "        elif '일자형' in title:\n",
    "            diaperType = '일자형'\n",
    "        else:\n",
    "            return 0\n",
    "        price = int(dom.select('span.total-price strong')[0].get_text().replace('\\n', '').replace('원', '').replace(',', ''))\n",
    "        replyCount = int(dom.select('a.moveAnchor span.count')[0].get_text().replace('개 상품평', '').replace(',', ''))\n",
    "        \n",
    "        driver.get(url)\n",
    "        body = driver.find_element_by_tag_name('body')\n",
    "        while True:\n",
    "            try:\n",
    "                driver.find_element_by_css_selector('.sdp-review__average__total-star__info-gray div')\n",
    "                break\n",
    "            except NoSuchElementException:\n",
    "                body.send_keys(Keys.PAGE_DOWN)\n",
    "                driver.implicitly_wait(0.5)\n",
    "        \n",
    "        rating = driver.find_element_by_css_selector('.sdp-review__average__total-star__info-gray div')\n",
    "        rating = rating.get_attribute('data-rating')\n",
    "        replyResult = []\n",
    "        buttonList = []\n",
    "        buttonList.extend(driver.find_elements_by_css_selector('.sdp-review__article__page__num.js_reviewArticlePageBtn'))\n",
    "        \n",
    "        def getReply(pagenum):\n",
    "            try:\n",
    "                element = WebDriverWait(driver, 5).until(lambda x: x.find_elements_by_css_selector('.js_reviewArticleListContainer article div.sdp-review__article__list__review__content.js_reviewArticleContent')) \n",
    "                replyResult.extend(reply.text.replace('\\n', ' ') for reply in element)\n",
    "                time.sleep(1)\n",
    "            except TimeoutException:\n",
    "                return None\n",
    "            buttonList = []\n",
    "            while True:\n",
    "                try:\n",
    "                    buttonList.extend(driver.find_elements_by_css_selector('.sdp-review__article__page__num.js_reviewArticlePageBtn'))\n",
    "                    break\n",
    "                except WebDriverException:\n",
    "                    body.send_keys(Keys.PAGE_DOWN)\n",
    "                    driver.implicitly_wait(0.5)\n",
    "            if len(buttonList) > 0:\n",
    "                buttonList[pagenum].click()\n",
    "            else:\n",
    "                return None\n",
    "        \n",
    "        if len(buttonList) > 0:\n",
    "            end = len(buttonList)\n",
    "            if end > 5:\n",
    "                end = 5\n",
    "            for i in range(1, end):\n",
    "                getReply(i)\n",
    "                time.sleep(0.5)\n",
    "                \n",
    "        origin = driver.find_elements_by_css_selector('.prod-delivery-return-policy-table.essential-info-table tbody tr td')[1].text\n",
    "    \n",
    "        result = tuple([link, img, brand, origin, title, stage, diaperType, price, rating, replyCount, replyResult])\n",
    "        diaperList.append(result)\n",
    "        return 1\n",
    "    \n",
    "    else:\n",
    "        return 0\n",
    "    \n",
    "    return None"
   ]
  },
  {
   "cell_type": "code",
   "execution_count": 202,
   "metadata": {
    "scrolled": true
   },
   "outputs": [],
   "source": [
    "for i in range(6):\n",
    "    for link in links_diaper[sizeList_diaper[sizeCategory[i]]]:\n",
    "        getInfo_diaper(link, sizeList_diaper[sizeCategory[i]])"
   ]
  },
  {
   "cell_type": "code",
   "execution_count": 203,
   "metadata": {
    "scrolled": true
   },
   "outputs": [
    {
     "data": {
      "text/plain": [
       "564"
      ]
     },
     "execution_count": 203,
     "metadata": {},
     "output_type": "execute_result"
    }
   ],
   "source": [
    "len(diaperList)"
   ]
  },
  {
   "cell_type": "markdown",
   "metadata": {},
   "source": [
    "___"
   ]
  },
  {
   "cell_type": "markdown",
   "metadata": {},
   "source": [
    "데이터 전부 가져왔음. DB에 어떻게 넣을지 결정되면 DB로 저장할것."
   ]
  },
  {
   "cell_type": "code",
   "execution_count": 227,
   "metadata": {},
   "outputs": [],
   "source": [
    "import sqlite3 as sql"
   ]
  },
  {
   "cell_type": "code",
   "execution_count": 230,
   "metadata": {},
   "outputs": [],
   "source": [
    "con = sql.connect('coupang-bulk.db')\n",
    "\n",
    "with con:\n",
    "    cur = con.cursor()\n",
    "    cur.execute(\"DROP TABLE IF EXISTS Snack\")\n",
    "    cur.execute(\"CREATE TABLE Snack(Brand TEXT, Name TEXT, Price INT, url TEXT, img TEXT, Monthinfo TEXT)\")\n",
    "    cur.executemany(\"INSERT INTO Snack VALUES (?, ?, ?, ?, ?, ?)\", snackList)\n",
    "    \n",
    "    cur.execute(\"DROP TABLE IF EXISTS Milkpowder\")\n",
    "    cur.execute(\"CREATE TABLE Milkpowder(Brand TEXT, Name TEXT, Price INT, url TEXT, img TEXT, Monthinfo TEXT)\")\n",
    "    cur.executemany(\"INSERT INTO Milkpowder VALUES (?, ?, ?, ?, ?, ?)\", milkPowderList)\n",
    "    \n",
    "    cur.execute(\"DROP TABLE IF EXISTS Clothes\")\n",
    "    cur.execute(\"CREATE TABLE Clothes(Name TEXT, Gender TEXT, Price INT, url TEXT, img TEXT, Monthinfo TEXT)\")\n",
    "    cur.executemany(\"INSERT INTO Clothes VALUES (?, ?, ?, ?, ?, ?)\", clothesList)\n",
    "    \n",
    "    cur.execute(\"DROP TABLE IF EXISTS Toy\")\n",
    "    cur.execute(\"CREATE TABLE Toy(Name TEXT, Gender TEXT, Price INT, url TEXT, img TEXT, Monthinfo TEXT)\")\n",
    "    cur.executemany(\"INSERT INTO Toy VALUES (?, ?, ?, ?, ?, ?)\", toyList)\n",
    "    \n",
    "    cur.execute(\"DROP TABLE IF EXISTS Diaper\")\n",
    "    cur.execute(\"CREATE TABLE Diaper(Name TEXT, Gender TEXT, Brand TEXT, Sizeinfo TEXT, Price INT, url TEXT, img TEXT)\")\n",
    "    cur.executemany(\"INSERT INTO Diaper VALUES (?, ?, ?, ?, ?, ?, ?)\", diaperList)"
   ]
  }
 ],
 "metadata": {
  "kernelspec": {
   "display_name": "Python 3",
   "language": "python",
   "name": "python3"
  },
  "language_info": {
   "codemirror_mode": {
    "name": "ipython",
    "version": 3
   },
   "file_extension": ".py",
   "mimetype": "text/x-python",
   "name": "python",
   "nbconvert_exporter": "python",
   "pygments_lexer": "ipython3",
   "version": "3.6.5"
  }
 },
 "nbformat": 4,
 "nbformat_minor": 2
}
