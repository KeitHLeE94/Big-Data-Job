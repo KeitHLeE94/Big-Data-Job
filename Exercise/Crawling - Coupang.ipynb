{
 "cells": [
  {
   "cell_type": "markdown",
   "metadata": {},
   "source": [
    "# 과자"
   ]
  },
  {
   "cell_type": "markdown",
   "metadata": {},
   "source": [
    "columns\n",
    "1. 제품명\n",
    "2. 브랜드\n",
    "3. 가격(int)\n",
    "4. url\n",
    "5. img\n",
    "6. 연령대"
   ]
  },
  {
   "cell_type": "code",
   "execution_count": 107,
   "metadata": {},
   "outputs": [],
   "source": [
    "import requests\n",
    "import bs4\n",
    "from bs4 import BeautifulSoup"
   ]
  },
  {
   "cell_type": "code",
   "execution_count": 3,
   "metadata": {},
   "outputs": [],
   "source": [
    "headers = {\n",
    "    \"user-agent\":\"Mozilla/5.0 (Macintosh; Intel Mac OS X 10_13_4) AppleWebKit/537.36 (KHTML, like Gecko) Chrome/67.0.3396.99 Safari/537.36\",\n",
    "    \"accept-encoding\":\"false\"\n",
    "}"
   ]
  },
  {
   "cell_type": "code",
   "execution_count": 134,
   "metadata": {},
   "outputs": [],
   "source": [
    "month_filter = {\n",
    "    '3개월 이하': '221915%23attr_11932%2413989%40DEFAULT',\n",
    "    '3개월 이상 7개월 이하': '221915%23attr_11932%2413990%40DEFAULT',\n",
    "    '7개월 이상 11개월 이하': '221915%23attr_11932%2413991%40DEFAULT',\n",
    "    '11개월 이상 23개월 이하': '221915%23attr_11932%2413992%40DEFAULT',\n",
    "    '23개월 이상 35개월 이하': '221915%23attr_11932%2413993%40DEFAULT',\n",
    "    '35개월 이상': '221915%23attr_11932%2413994%40DEFAULT'\n",
    "}"
   ]
  },
  {
   "cell_type": "code",
   "execution_count": 65,
   "metadata": {},
   "outputs": [],
   "source": [
    "monthList = ['3개월 이하', '3개월 이상 7개월 이하', '7개월 이상 11개월 이하', '11개월 이상 23개월 이하', '23개월 이상 35개월 이하', '35개월 이상']"
   ]
  },
  {
   "cell_type": "code",
   "execution_count": 156,
   "metadata": {},
   "outputs": [],
   "source": [
    "params = {\n",
    "    \"listSize\": \"60\",\n",
    "    \"brand\": \"\",\n",
    "    \"offerCondition\": \"\",\n",
    "    \"filterType\": \"\",\n",
    "    \"isPriceRange\": \"false\",\n",
    "    \"minPrice\": \"\",\n",
    "    \"maxPrice\": \"\",\n",
    "    \"page\": \"\",\n",
    "    \"channel\": \"user\",\n",
    "    \"fromComponent\": \"N\",\n",
    "    \"selectedPlpKeepFilter\": \"\",\n",
    "    \"sorter\": \"bestAsc\",\n",
    "    \"filter\": \"\",\n",
    "    \"component\": \"221915\",\n",
    "    \"rating\": \"0\",\n",
    "}"
   ]
  },
  {
   "cell_type": "markdown",
   "metadata": {},
   "source": [
    "page, filter만 건드리면됨."
   ]
  },
  {
   "cell_type": "code",
   "execution_count": 146,
   "metadata": {},
   "outputs": [],
   "source": [
    "def getURL(seed, params=None, select='a', num_retries=2):\n",
    "    html = requests.get(seed, params=params, headers=headers)\n",
    "    \n",
    "    if 500<=html.status_code<600 and num_retries>0:\n",
    "        print(html.status_code, html.reason)\n",
    "        return getURL(seed, params, num_retries-1)\n",
    "    \n",
    "    dom = BeautifulSoup(html.text, 'lxml')\n",
    "    links = dom.select(select)\n",
    "    \n",
    "    return ['http://www.coupang.com' + link['href'] for link in links if link.has_attr('href')]"
   ]
  },
  {
   "cell_type": "code",
   "execution_count": 100,
   "metadata": {},
   "outputs": [],
   "source": [
    "def getItemNum(url, params, num_retries=2):\n",
    "    params_str = \"&\".join(\"%s=%s\" % (k,v) for k,v in params.items())\n",
    "    html = requests.get(url, params=params_str, headers=headers)\n",
    "    print(html.url)\n",
    "    \n",
    "    if 500<=html.status_code<600 and num_retries>0:\n",
    "        print(html.status_code, html.reason)\n",
    "        return getURL(seed, params, num_retries-1)\n",
    "    \n",
    "    dom = BeautifulSoup(html.text, 'lxml')\n",
    "    result = dom.select('em.newcx-product-total-count')\n",
    "    \n",
    "    return result"
   ]
  },
  {
   "cell_type": "code",
   "execution_count": 132,
   "metadata": {
    "scrolled": true
   },
   "outputs": [
    {
     "name": "stdout",
     "output_type": "stream",
     "text": [
      "http://www.coupang.com/np/categories/222015?listSize=60&brand=&offerCondition=&filterType=&isPriceRange=false&minPrice=&maxPrice=&page=1&channel=user&fromComponent=N&selectedPlpKeepFilter=&sorter=bestAsc&filter=221915%23attr_11932%2413989%40DEFAULT&component=221915&rating=0\n"
     ]
    }
   ],
   "source": [
    "temp = getItemNum(seed, params)[0]"
   ]
  },
  {
   "cell_type": "code",
   "execution_count": 133,
   "metadata": {},
   "outputs": [
    {
     "data": {
      "text/plain": [
       "1"
      ]
     },
     "execution_count": 133,
     "metadata": {},
     "output_type": "execute_result"
    }
   ],
   "source": [
    "len(temp)"
   ]
  },
  {
   "cell_type": "code",
   "execution_count": 48,
   "metadata": {},
   "outputs": [],
   "source": [
    "seed = 'http://www.coupang.com/np/categories/222015'"
   ]
  },
  {
   "cell_type": "code",
   "execution_count": 171,
   "metadata": {
    "scrolled": true
   },
   "outputs": [
    {
     "ename": "KeyboardInterrupt",
     "evalue": "",
     "output_type": "error",
     "traceback": [
      "\u001b[0;31m---------------------------------------------------------------------------\u001b[0m",
      "\u001b[0;31mKeyboardInterrupt\u001b[0m                         Traceback (most recent call last)",
      "\u001b[0;32m<ipython-input-171-eb20b7457eef>\u001b[0m in \u001b[0;36m<module>\u001b[0;34m()\u001b[0m\n\u001b[1;32m     13\u001b[0m     \u001b[0;32mwhile\u001b[0m \u001b[0;32mTrue\u001b[0m\u001b[0;34m:\u001b[0m\u001b[0;34m\u001b[0m\u001b[0m\n\u001b[1;32m     14\u001b[0m         \u001b[0mparams\u001b[0m\u001b[0;34m[\u001b[0m\u001b[0;34m'page'\u001b[0m\u001b[0;34m]\u001b[0m \u001b[0;34m=\u001b[0m \u001b[0mstr\u001b[0m\u001b[0;34m(\u001b[0m\u001b[0mcurrentpage\u001b[0m\u001b[0;34m)\u001b[0m\u001b[0;34m\u001b[0m\u001b[0m\n\u001b[0;32m---> 15\u001b[0;31m         \u001b[0;32mif\u001b[0m \u001b[0mlen\u001b[0m\u001b[0;34m(\u001b[0m\u001b[0mgetItemNum\u001b[0m\u001b[0;34m(\u001b[0m\u001b[0mseed\u001b[0m\u001b[0;34m,\u001b[0m \u001b[0mparams\u001b[0m\u001b[0;34m)\u001b[0m\u001b[0;34m)\u001b[0m \u001b[0;34m==\u001b[0m \u001b[0;36m0\u001b[0m\u001b[0;34m:\u001b[0m\u001b[0;34m\u001b[0m\u001b[0m\n\u001b[0m\u001b[1;32m     16\u001b[0m             \u001b[0;32mbreak\u001b[0m\u001b[0;34m\u001b[0m\u001b[0m\n\u001b[1;32m     17\u001b[0m         \u001b[0mprint\u001b[0m\u001b[0;34m(\u001b[0m\u001b[0mparams\u001b[0m\u001b[0;34m[\u001b[0m\u001b[0;34m'page'\u001b[0m\u001b[0;34m]\u001b[0m\u001b[0;34m)\u001b[0m\u001b[0;34m\u001b[0m\u001b[0m\n",
      "\u001b[0;32m<ipython-input-100-747f0f3eaa35>\u001b[0m in \u001b[0;36mgetItemNum\u001b[0;34m(url, params, num_retries)\u001b[0m\n\u001b[1;32m      1\u001b[0m \u001b[0;32mdef\u001b[0m \u001b[0mgetItemNum\u001b[0m\u001b[0;34m(\u001b[0m\u001b[0murl\u001b[0m\u001b[0;34m,\u001b[0m \u001b[0mparams\u001b[0m\u001b[0;34m,\u001b[0m \u001b[0mnum_retries\u001b[0m\u001b[0;34m=\u001b[0m\u001b[0;36m2\u001b[0m\u001b[0;34m)\u001b[0m\u001b[0;34m:\u001b[0m\u001b[0;34m\u001b[0m\u001b[0m\n\u001b[1;32m      2\u001b[0m     \u001b[0mparams_str\u001b[0m \u001b[0;34m=\u001b[0m \u001b[0;34m\"&\"\u001b[0m\u001b[0;34m.\u001b[0m\u001b[0mjoin\u001b[0m\u001b[0;34m(\u001b[0m\u001b[0;34m\"%s=%s\"\u001b[0m \u001b[0;34m%\u001b[0m \u001b[0;34m(\u001b[0m\u001b[0mk\u001b[0m\u001b[0;34m,\u001b[0m\u001b[0mv\u001b[0m\u001b[0;34m)\u001b[0m \u001b[0;32mfor\u001b[0m \u001b[0mk\u001b[0m\u001b[0;34m,\u001b[0m\u001b[0mv\u001b[0m \u001b[0;32min\u001b[0m \u001b[0mparams\u001b[0m\u001b[0;34m.\u001b[0m\u001b[0mitems\u001b[0m\u001b[0;34m(\u001b[0m\u001b[0;34m)\u001b[0m\u001b[0;34m)\u001b[0m\u001b[0;34m\u001b[0m\u001b[0m\n\u001b[0;32m----> 3\u001b[0;31m     \u001b[0mhtml\u001b[0m \u001b[0;34m=\u001b[0m \u001b[0mrequests\u001b[0m\u001b[0;34m.\u001b[0m\u001b[0mget\u001b[0m\u001b[0;34m(\u001b[0m\u001b[0murl\u001b[0m\u001b[0;34m,\u001b[0m \u001b[0mparams\u001b[0m\u001b[0;34m=\u001b[0m\u001b[0mparams_str\u001b[0m\u001b[0;34m,\u001b[0m \u001b[0mheaders\u001b[0m\u001b[0;34m=\u001b[0m\u001b[0mheaders\u001b[0m\u001b[0;34m)\u001b[0m\u001b[0;34m\u001b[0m\u001b[0m\n\u001b[0m\u001b[1;32m      4\u001b[0m     \u001b[0mprint\u001b[0m\u001b[0;34m(\u001b[0m\u001b[0mhtml\u001b[0m\u001b[0;34m.\u001b[0m\u001b[0murl\u001b[0m\u001b[0;34m)\u001b[0m\u001b[0;34m\u001b[0m\u001b[0m\n\u001b[1;32m      5\u001b[0m \u001b[0;34m\u001b[0m\u001b[0m\n",
      "\u001b[0;32m~/anaconda3/lib/python3.6/site-packages/requests/api.py\u001b[0m in \u001b[0;36mget\u001b[0;34m(url, params, **kwargs)\u001b[0m\n\u001b[1;32m     70\u001b[0m \u001b[0;34m\u001b[0m\u001b[0m\n\u001b[1;32m     71\u001b[0m     \u001b[0mkwargs\u001b[0m\u001b[0;34m.\u001b[0m\u001b[0msetdefault\u001b[0m\u001b[0;34m(\u001b[0m\u001b[0;34m'allow_redirects'\u001b[0m\u001b[0;34m,\u001b[0m \u001b[0;32mTrue\u001b[0m\u001b[0;34m)\u001b[0m\u001b[0;34m\u001b[0m\u001b[0m\n\u001b[0;32m---> 72\u001b[0;31m     \u001b[0;32mreturn\u001b[0m \u001b[0mrequest\u001b[0m\u001b[0;34m(\u001b[0m\u001b[0;34m'get'\u001b[0m\u001b[0;34m,\u001b[0m \u001b[0murl\u001b[0m\u001b[0;34m,\u001b[0m \u001b[0mparams\u001b[0m\u001b[0;34m=\u001b[0m\u001b[0mparams\u001b[0m\u001b[0;34m,\u001b[0m \u001b[0;34m**\u001b[0m\u001b[0mkwargs\u001b[0m\u001b[0;34m)\u001b[0m\u001b[0;34m\u001b[0m\u001b[0m\n\u001b[0m\u001b[1;32m     73\u001b[0m \u001b[0;34m\u001b[0m\u001b[0m\n\u001b[1;32m     74\u001b[0m \u001b[0;34m\u001b[0m\u001b[0m\n",
      "\u001b[0;32m~/anaconda3/lib/python3.6/site-packages/requests/api.py\u001b[0m in \u001b[0;36mrequest\u001b[0;34m(method, url, **kwargs)\u001b[0m\n\u001b[1;32m     56\u001b[0m     \u001b[0;31m# cases, and look like a memory leak in others.\u001b[0m\u001b[0;34m\u001b[0m\u001b[0;34m\u001b[0m\u001b[0m\n\u001b[1;32m     57\u001b[0m     \u001b[0;32mwith\u001b[0m \u001b[0msessions\u001b[0m\u001b[0;34m.\u001b[0m\u001b[0mSession\u001b[0m\u001b[0;34m(\u001b[0m\u001b[0;34m)\u001b[0m \u001b[0;32mas\u001b[0m \u001b[0msession\u001b[0m\u001b[0;34m:\u001b[0m\u001b[0;34m\u001b[0m\u001b[0m\n\u001b[0;32m---> 58\u001b[0;31m         \u001b[0;32mreturn\u001b[0m \u001b[0msession\u001b[0m\u001b[0;34m.\u001b[0m\u001b[0mrequest\u001b[0m\u001b[0;34m(\u001b[0m\u001b[0mmethod\u001b[0m\u001b[0;34m=\u001b[0m\u001b[0mmethod\u001b[0m\u001b[0;34m,\u001b[0m \u001b[0murl\u001b[0m\u001b[0;34m=\u001b[0m\u001b[0murl\u001b[0m\u001b[0;34m,\u001b[0m \u001b[0;34m**\u001b[0m\u001b[0mkwargs\u001b[0m\u001b[0;34m)\u001b[0m\u001b[0;34m\u001b[0m\u001b[0m\n\u001b[0m\u001b[1;32m     59\u001b[0m \u001b[0;34m\u001b[0m\u001b[0m\n\u001b[1;32m     60\u001b[0m \u001b[0;34m\u001b[0m\u001b[0m\n",
      "\u001b[0;32m~/anaconda3/lib/python3.6/site-packages/requests/sessions.py\u001b[0m in \u001b[0;36mrequest\u001b[0;34m(self, method, url, params, data, headers, cookies, files, auth, timeout, allow_redirects, proxies, hooks, stream, verify, cert, json)\u001b[0m\n\u001b[1;32m    506\u001b[0m         }\n\u001b[1;32m    507\u001b[0m         \u001b[0msend_kwargs\u001b[0m\u001b[0;34m.\u001b[0m\u001b[0mupdate\u001b[0m\u001b[0;34m(\u001b[0m\u001b[0msettings\u001b[0m\u001b[0;34m)\u001b[0m\u001b[0;34m\u001b[0m\u001b[0m\n\u001b[0;32m--> 508\u001b[0;31m         \u001b[0mresp\u001b[0m \u001b[0;34m=\u001b[0m \u001b[0mself\u001b[0m\u001b[0;34m.\u001b[0m\u001b[0msend\u001b[0m\u001b[0;34m(\u001b[0m\u001b[0mprep\u001b[0m\u001b[0;34m,\u001b[0m \u001b[0;34m**\u001b[0m\u001b[0msend_kwargs\u001b[0m\u001b[0;34m)\u001b[0m\u001b[0;34m\u001b[0m\u001b[0m\n\u001b[0m\u001b[1;32m    509\u001b[0m \u001b[0;34m\u001b[0m\u001b[0m\n\u001b[1;32m    510\u001b[0m         \u001b[0;32mreturn\u001b[0m \u001b[0mresp\u001b[0m\u001b[0;34m\u001b[0m\u001b[0m\n",
      "\u001b[0;32m~/anaconda3/lib/python3.6/site-packages/requests/sessions.py\u001b[0m in \u001b[0;36msend\u001b[0;34m(self, request, **kwargs)\u001b[0m\n\u001b[1;32m    656\u001b[0m \u001b[0;34m\u001b[0m\u001b[0m\n\u001b[1;32m    657\u001b[0m         \u001b[0;32mif\u001b[0m \u001b[0;32mnot\u001b[0m \u001b[0mstream\u001b[0m\u001b[0;34m:\u001b[0m\u001b[0;34m\u001b[0m\u001b[0m\n\u001b[0;32m--> 658\u001b[0;31m             \u001b[0mr\u001b[0m\u001b[0;34m.\u001b[0m\u001b[0mcontent\u001b[0m\u001b[0;34m\u001b[0m\u001b[0m\n\u001b[0m\u001b[1;32m    659\u001b[0m \u001b[0;34m\u001b[0m\u001b[0m\n\u001b[1;32m    660\u001b[0m         \u001b[0;32mreturn\u001b[0m \u001b[0mr\u001b[0m\u001b[0;34m\u001b[0m\u001b[0m\n",
      "\u001b[0;32m~/anaconda3/lib/python3.6/site-packages/requests/models.py\u001b[0m in \u001b[0;36mcontent\u001b[0;34m(self)\u001b[0m\n\u001b[1;32m    821\u001b[0m                 \u001b[0mself\u001b[0m\u001b[0;34m.\u001b[0m\u001b[0m_content\u001b[0m \u001b[0;34m=\u001b[0m \u001b[0;32mNone\u001b[0m\u001b[0;34m\u001b[0m\u001b[0m\n\u001b[1;32m    822\u001b[0m             \u001b[0;32melse\u001b[0m\u001b[0;34m:\u001b[0m\u001b[0;34m\u001b[0m\u001b[0m\n\u001b[0;32m--> 823\u001b[0;31m                 \u001b[0mself\u001b[0m\u001b[0;34m.\u001b[0m\u001b[0m_content\u001b[0m \u001b[0;34m=\u001b[0m \u001b[0mbytes\u001b[0m\u001b[0;34m(\u001b[0m\u001b[0;34m)\u001b[0m\u001b[0;34m.\u001b[0m\u001b[0mjoin\u001b[0m\u001b[0;34m(\u001b[0m\u001b[0mself\u001b[0m\u001b[0;34m.\u001b[0m\u001b[0miter_content\u001b[0m\u001b[0;34m(\u001b[0m\u001b[0mCONTENT_CHUNK_SIZE\u001b[0m\u001b[0;34m)\u001b[0m\u001b[0;34m)\u001b[0m \u001b[0;32mor\u001b[0m \u001b[0mbytes\u001b[0m\u001b[0;34m(\u001b[0m\u001b[0;34m)\u001b[0m\u001b[0;34m\u001b[0m\u001b[0m\n\u001b[0m\u001b[1;32m    824\u001b[0m \u001b[0;34m\u001b[0m\u001b[0m\n\u001b[1;32m    825\u001b[0m         \u001b[0mself\u001b[0m\u001b[0;34m.\u001b[0m\u001b[0m_content_consumed\u001b[0m \u001b[0;34m=\u001b[0m \u001b[0;32mTrue\u001b[0m\u001b[0;34m\u001b[0m\u001b[0m\n",
      "\u001b[0;32m~/anaconda3/lib/python3.6/site-packages/requests/models.py\u001b[0m in \u001b[0;36mgenerate\u001b[0;34m()\u001b[0m\n\u001b[1;32m    743\u001b[0m             \u001b[0;32mif\u001b[0m \u001b[0mhasattr\u001b[0m\u001b[0;34m(\u001b[0m\u001b[0mself\u001b[0m\u001b[0;34m.\u001b[0m\u001b[0mraw\u001b[0m\u001b[0;34m,\u001b[0m \u001b[0;34m'stream'\u001b[0m\u001b[0;34m)\u001b[0m\u001b[0;34m:\u001b[0m\u001b[0;34m\u001b[0m\u001b[0m\n\u001b[1;32m    744\u001b[0m                 \u001b[0;32mtry\u001b[0m\u001b[0;34m:\u001b[0m\u001b[0;34m\u001b[0m\u001b[0m\n\u001b[0;32m--> 745\u001b[0;31m                     \u001b[0;32mfor\u001b[0m \u001b[0mchunk\u001b[0m \u001b[0;32min\u001b[0m \u001b[0mself\u001b[0m\u001b[0;34m.\u001b[0m\u001b[0mraw\u001b[0m\u001b[0;34m.\u001b[0m\u001b[0mstream\u001b[0m\u001b[0;34m(\u001b[0m\u001b[0mchunk_size\u001b[0m\u001b[0;34m,\u001b[0m \u001b[0mdecode_content\u001b[0m\u001b[0;34m=\u001b[0m\u001b[0;32mTrue\u001b[0m\u001b[0;34m)\u001b[0m\u001b[0;34m:\u001b[0m\u001b[0;34m\u001b[0m\u001b[0m\n\u001b[0m\u001b[1;32m    746\u001b[0m                         \u001b[0;32myield\u001b[0m \u001b[0mchunk\u001b[0m\u001b[0;34m\u001b[0m\u001b[0m\n\u001b[1;32m    747\u001b[0m                 \u001b[0;32mexcept\u001b[0m \u001b[0mProtocolError\u001b[0m \u001b[0;32mas\u001b[0m \u001b[0me\u001b[0m\u001b[0;34m:\u001b[0m\u001b[0;34m\u001b[0m\u001b[0m\n",
      "\u001b[0;32m~/anaconda3/lib/python3.6/site-packages/urllib3/response.py\u001b[0m in \u001b[0;36mstream\u001b[0;34m(self, amt, decode_content)\u001b[0m\n\u001b[1;32m    430\u001b[0m         \"\"\"\n\u001b[1;32m    431\u001b[0m         \u001b[0;32mif\u001b[0m \u001b[0mself\u001b[0m\u001b[0;34m.\u001b[0m\u001b[0mchunked\u001b[0m \u001b[0;32mand\u001b[0m \u001b[0mself\u001b[0m\u001b[0;34m.\u001b[0m\u001b[0msupports_chunked_reads\u001b[0m\u001b[0;34m(\u001b[0m\u001b[0;34m)\u001b[0m\u001b[0;34m:\u001b[0m\u001b[0;34m\u001b[0m\u001b[0m\n\u001b[0;32m--> 432\u001b[0;31m             \u001b[0;32mfor\u001b[0m \u001b[0mline\u001b[0m \u001b[0;32min\u001b[0m \u001b[0mself\u001b[0m\u001b[0;34m.\u001b[0m\u001b[0mread_chunked\u001b[0m\u001b[0;34m(\u001b[0m\u001b[0mamt\u001b[0m\u001b[0;34m,\u001b[0m \u001b[0mdecode_content\u001b[0m\u001b[0;34m=\u001b[0m\u001b[0mdecode_content\u001b[0m\u001b[0;34m)\u001b[0m\u001b[0;34m:\u001b[0m\u001b[0;34m\u001b[0m\u001b[0m\n\u001b[0m\u001b[1;32m    433\u001b[0m                 \u001b[0;32myield\u001b[0m \u001b[0mline\u001b[0m\u001b[0;34m\u001b[0m\u001b[0m\n\u001b[1;32m    434\u001b[0m         \u001b[0;32melse\u001b[0m\u001b[0;34m:\u001b[0m\u001b[0;34m\u001b[0m\u001b[0m\n",
      "\u001b[0;32m~/anaconda3/lib/python3.6/site-packages/urllib3/response.py\u001b[0m in \u001b[0;36mread_chunked\u001b[0;34m(self, amt, decode_content)\u001b[0m\n\u001b[1;32m    599\u001b[0m                 \u001b[0;32mif\u001b[0m \u001b[0mself\u001b[0m\u001b[0;34m.\u001b[0m\u001b[0mchunk_left\u001b[0m \u001b[0;34m==\u001b[0m \u001b[0;36m0\u001b[0m\u001b[0;34m:\u001b[0m\u001b[0;34m\u001b[0m\u001b[0m\n\u001b[1;32m    600\u001b[0m                     \u001b[0;32mbreak\u001b[0m\u001b[0;34m\u001b[0m\u001b[0m\n\u001b[0;32m--> 601\u001b[0;31m                 \u001b[0mchunk\u001b[0m \u001b[0;34m=\u001b[0m \u001b[0mself\u001b[0m\u001b[0;34m.\u001b[0m\u001b[0m_handle_chunk\u001b[0m\u001b[0;34m(\u001b[0m\u001b[0mamt\u001b[0m\u001b[0;34m)\u001b[0m\u001b[0;34m\u001b[0m\u001b[0m\n\u001b[0m\u001b[1;32m    602\u001b[0m                 decoded = self._decode(chunk, decode_content=decode_content,\n\u001b[1;32m    603\u001b[0m                                        flush_decoder=False)\n",
      "\u001b[0;32m~/anaconda3/lib/python3.6/site-packages/urllib3/response.py\u001b[0m in \u001b[0;36m_handle_chunk\u001b[0;34m(self, amt)\u001b[0m\n\u001b[1;32m    555\u001b[0m             \u001b[0mself\u001b[0m\u001b[0;34m.\u001b[0m\u001b[0mchunk_left\u001b[0m \u001b[0;34m=\u001b[0m \u001b[0;32mNone\u001b[0m\u001b[0;34m\u001b[0m\u001b[0m\n\u001b[1;32m    556\u001b[0m         \u001b[0;32melif\u001b[0m \u001b[0mamt\u001b[0m \u001b[0;34m<\u001b[0m \u001b[0mself\u001b[0m\u001b[0;34m.\u001b[0m\u001b[0mchunk_left\u001b[0m\u001b[0;34m:\u001b[0m\u001b[0;34m\u001b[0m\u001b[0m\n\u001b[0;32m--> 557\u001b[0;31m             \u001b[0mvalue\u001b[0m \u001b[0;34m=\u001b[0m \u001b[0mself\u001b[0m\u001b[0;34m.\u001b[0m\u001b[0m_fp\u001b[0m\u001b[0;34m.\u001b[0m\u001b[0m_safe_read\u001b[0m\u001b[0;34m(\u001b[0m\u001b[0mamt\u001b[0m\u001b[0;34m)\u001b[0m\u001b[0;34m\u001b[0m\u001b[0m\n\u001b[0m\u001b[1;32m    558\u001b[0m             \u001b[0mself\u001b[0m\u001b[0;34m.\u001b[0m\u001b[0mchunk_left\u001b[0m \u001b[0;34m=\u001b[0m \u001b[0mself\u001b[0m\u001b[0;34m.\u001b[0m\u001b[0mchunk_left\u001b[0m \u001b[0;34m-\u001b[0m \u001b[0mamt\u001b[0m\u001b[0;34m\u001b[0m\u001b[0m\n\u001b[1;32m    559\u001b[0m             \u001b[0mreturned_chunk\u001b[0m \u001b[0;34m=\u001b[0m \u001b[0mvalue\u001b[0m\u001b[0;34m\u001b[0m\u001b[0m\n",
      "\u001b[0;32m~/anaconda3/lib/python3.6/http/client.py\u001b[0m in \u001b[0;36m_safe_read\u001b[0;34m(self, amt)\u001b[0m\n\u001b[1;32m    610\u001b[0m         \u001b[0ms\u001b[0m \u001b[0;34m=\u001b[0m \u001b[0;34m[\u001b[0m\u001b[0;34m]\u001b[0m\u001b[0;34m\u001b[0m\u001b[0m\n\u001b[1;32m    611\u001b[0m         \u001b[0;32mwhile\u001b[0m \u001b[0mamt\u001b[0m \u001b[0;34m>\u001b[0m \u001b[0;36m0\u001b[0m\u001b[0;34m:\u001b[0m\u001b[0;34m\u001b[0m\u001b[0m\n\u001b[0;32m--> 612\u001b[0;31m             \u001b[0mchunk\u001b[0m \u001b[0;34m=\u001b[0m \u001b[0mself\u001b[0m\u001b[0;34m.\u001b[0m\u001b[0mfp\u001b[0m\u001b[0;34m.\u001b[0m\u001b[0mread\u001b[0m\u001b[0;34m(\u001b[0m\u001b[0mmin\u001b[0m\u001b[0;34m(\u001b[0m\u001b[0mamt\u001b[0m\u001b[0;34m,\u001b[0m \u001b[0mMAXAMOUNT\u001b[0m\u001b[0;34m)\u001b[0m\u001b[0;34m)\u001b[0m\u001b[0;34m\u001b[0m\u001b[0m\n\u001b[0m\u001b[1;32m    613\u001b[0m             \u001b[0;32mif\u001b[0m \u001b[0;32mnot\u001b[0m \u001b[0mchunk\u001b[0m\u001b[0;34m:\u001b[0m\u001b[0;34m\u001b[0m\u001b[0m\n\u001b[1;32m    614\u001b[0m                 \u001b[0;32mraise\u001b[0m \u001b[0mIncompleteRead\u001b[0m\u001b[0;34m(\u001b[0m\u001b[0;34mb''\u001b[0m\u001b[0;34m.\u001b[0m\u001b[0mjoin\u001b[0m\u001b[0;34m(\u001b[0m\u001b[0ms\u001b[0m\u001b[0;34m)\u001b[0m\u001b[0;34m,\u001b[0m \u001b[0mamt\u001b[0m\u001b[0;34m)\u001b[0m\u001b[0;34m\u001b[0m\u001b[0m\n",
      "\u001b[0;32m~/anaconda3/lib/python3.6/socket.py\u001b[0m in \u001b[0;36mreadinto\u001b[0;34m(self, b)\u001b[0m\n\u001b[1;32m    584\u001b[0m         \u001b[0;32mwhile\u001b[0m \u001b[0;32mTrue\u001b[0m\u001b[0;34m:\u001b[0m\u001b[0;34m\u001b[0m\u001b[0m\n\u001b[1;32m    585\u001b[0m             \u001b[0;32mtry\u001b[0m\u001b[0;34m:\u001b[0m\u001b[0;34m\u001b[0m\u001b[0m\n\u001b[0;32m--> 586\u001b[0;31m                 \u001b[0;32mreturn\u001b[0m \u001b[0mself\u001b[0m\u001b[0;34m.\u001b[0m\u001b[0m_sock\u001b[0m\u001b[0;34m.\u001b[0m\u001b[0mrecv_into\u001b[0m\u001b[0;34m(\u001b[0m\u001b[0mb\u001b[0m\u001b[0;34m)\u001b[0m\u001b[0;34m\u001b[0m\u001b[0m\n\u001b[0m\u001b[1;32m    587\u001b[0m             \u001b[0;32mexcept\u001b[0m \u001b[0mtimeout\u001b[0m\u001b[0;34m:\u001b[0m\u001b[0;34m\u001b[0m\u001b[0m\n\u001b[1;32m    588\u001b[0m                 \u001b[0mself\u001b[0m\u001b[0;34m.\u001b[0m\u001b[0m_timeout_occurred\u001b[0m \u001b[0;34m=\u001b[0m \u001b[0;32mTrue\u001b[0m\u001b[0;34m\u001b[0m\u001b[0m\n",
      "\u001b[0;31mKeyboardInterrupt\u001b[0m: "
     ]
    }
   ],
   "source": [
    "currentpage = 1\n",
    "result = {\n",
    "    monthList[0]: None,\n",
    "    monthList[1]: None,\n",
    "    monthList[2]: None,\n",
    "    monthList[3]: None,\n",
    "    monthList[4]: None,\n",
    "    monthList[5]: None\n",
    "}\n",
    "\n",
    "for i in range(6):\n",
    "    params['filter'] = monthList[i]\n",
    "    while True:\n",
    "        params['page'] = str(currentpage)\n",
    "        if len(getItemNum(seed, params)) == 0:\n",
    "            break\n",
    "        print(params['page'])\n",
    "        result[monthList[i]] = getURL(seed, params, select='ul.baby-product-list a.baby-product-link')\n",
    "        #result.extend(getURL(seed, params, select='ul.baby-product-list a.baby-product-link'))\n",
    "        currentpage += 1"
   ]
  },
  {
   "cell_type": "code",
   "execution_count": 167,
   "metadata": {
    "scrolled": true
   },
   "outputs": [
    {
     "name": "stdout",
     "output_type": "stream",
     "text": [
      "['http://www.coupang.com/vp/products/50196338?itemId=176873872&vendorItemId=3422932836', 'http://www.coupang.com/vp/products/8836662?itemId=38579399&vendorItemId=3689651555', 'http://www.coupang.com/vp/products/30510764?itemId=116203900&vendorItemId=3687343873', 'http://www.coupang.com/vp/products/9244613?itemId=40594187&vendorItemId=3671022997', 'http://www.coupang.com/vp/products/30299704?itemId=115393673&vendorItemId=3687383145', 'http://www.coupang.com/vp/products/17547738?itemId=70393853&vendorItemId=3113845594', 'http://www.coupang.com/vp/products/14219996?itemId=58638917&vendorItemId=3669047382', 'http://www.coupang.com/vp/products/93547568?itemId=289932429&vendorItemId=3713009197', 'http://www.coupang.com/vp/products/611206?itemId=62308&vendorItemId=3080077586', 'http://www.coupang.com/vp/products/28982637?itemId=110884167&vendorItemId=3687733769', 'http://www.coupang.com/vp/products/21980306?itemId=85668267&vendorItemId=3688964624', 'http://www.coupang.com/vp/products/17445543?itemId=70094905&vendorItemId=3689320285', 'http://www.coupang.com/vp/products/1601496?itemId=10737051&vendorItemId=3417931755', 'http://www.coupang.com/vp/products/641427?itemId=9030229&vendorItemId=3689667434', 'http://www.coupang.com/vp/products/17623951?itemId=70623831&vendorItemId=3114223531', 'http://www.coupang.com/vp/products/51796973?itemId=183303637&vendorItemId=3682273404', 'http://www.coupang.com/vp/products/395506?itemId=1018849&vendorItemId=3000944070', 'http://www.coupang.com/vp/products/8399524?itemId=127605&vendorItemId=3180839909', 'http://www.coupang.com/vp/products/1655355?itemId=420839&vendorItemId=3051294076', 'http://www.coupang.com/vp/products/9001689?itemId=1727287&vendorItemId=3001637159', 'http://www.coupang.com/vp/products/64228321?itemId=217776495&vendorItemId=3526107461', 'http://www.coupang.com/vp/products/50244819?itemId=177040854&vendorItemId=3423151625', 'http://www.coupang.com/vp/products/1049326?itemId=16138399&vendorItemId=3057514728', 'http://www.coupang.com/vp/products/10738872?itemId=46553452&vendorItemId=3051299677', 'http://www.coupang.com/vp/products/21980308?itemId=85668274&vendorItemId=3145566666', 'http://www.coupang.com/vp/products/14453475?itemId=59778256&vendorItemId=3093531952', 'http://www.coupang.com/vp/products/3362024?itemId=15720120&vendorItemId=3180739357', 'http://www.coupang.com/vp/products/16765559?itemId=389960&vendorItemId=3770065610', 'http://www.coupang.com/vp/products/203357?itemId=384333&vendorItemId=3018544508', 'http://www.coupang.com/vp/products/14469756?itemId=59844093&vendorItemId=3093632592', 'http://www.coupang.com/vp/products/42151531?itemId=153043522&vendorItemId=3353899249', 'http://www.coupang.com/vp/products/10832920?itemId=46838619&vendorItemId=3050935257', 'http://www.coupang.com/vp/products/6981990?itemId=30948691&vendorItemId=3045968240', 'http://www.coupang.com/vp/products/12373805?itemId=52579986&vendorItemId=3082119356', 'http://www.coupang.com/vp/products/538348?itemId=1727289&vendorItemId=3001637161', 'http://www.coupang.com/vp/products/5018136?itemId=22903788&vendorItemId=3690398543', 'http://www.coupang.com/vp/products/8043062?itemId=35186309&vendorItemId=3052046051', 'http://www.coupang.com/vp/products/5565005?itemId=25203806&vendorItemId=3037284804', 'http://www.coupang.com/vp/products/8039153?itemId=35170105&vendorItemId=3052024666', 'http://www.coupang.com/vp/products/9834702?itemId=43526218&vendorItemId=3689669680', 'http://www.coupang.com/vp/products/50715524?itemId=178697836&vendorItemId=3427703661', 'http://www.coupang.com/vp/products/109009180?itemId=329806082&vendorItemId=3828723620', 'http://www.coupang.com/vp/products/36807682?itemId=135730618&vendorItemId=3420363583', 'http://www.coupang.com/vp/products/13705765?itemId=57173218&vendorItemId=3089582979', 'http://www.coupang.com/vp/products/63460376?itemId=216153196&vendorItemId=3520952147', 'http://www.coupang.com/vp/products/1655363?itemId=7059874&vendorItemId=3699118894', 'http://www.coupang.com/vp/products/1082762?itemId=50030842&vendorItemId=3077891774', 'http://www.coupang.com/vp/products/18593685?itemId=74693554&vendorItemId=3123818466', 'http://www.coupang.com/vp/products/1471782?itemId=199497&vendorItemId=3000131787', 'http://www.coupang.com/vp/products/14786624?itemId=60985696&vendorItemId=3095407114', 'http://www.coupang.com/vp/products/4075834?itemId=19909235&vendorItemId=3067836389', 'http://www.coupang.com/vp/products/21569963?itemId=84202538&vendorItemId=3581651494', 'http://www.coupang.com/vp/products/45931?itemId=39155225&vendorItemId=3058623515', 'http://www.coupang.com/vp/products/679451?itemId=278977&vendorItemId=3000201185', 'http://www.coupang.com/vp/products/10584603?itemId=45948077&vendorItemId=3051699677', 'http://www.coupang.com/vp/products/183418?itemId=1060473&vendorItemId=3001003047', 'http://www.coupang.com/vp/products/9412342?itemId=41309878&vendorItemId=3063193702', 'http://www.coupang.com/vp/products/21959224?itemId=85564787&vendorItemId=3145431368', 'http://www.coupang.com/vp/products/83841448?itemId=266132333&vendorItemId=3644870119', 'http://www.coupang.com/vp/products/602883?itemId=199499&vendorItemId=3000131789', 'http://www.coupang.com/vp/products/2299174?itemId=334409&vendorItemId=3000244251', 'http://www.coupang.com/vp/products/24245569?itemId=167628273&vendorItemId=3167590805', 'http://www.coupang.com/vp/products/1471735?itemId=177073&vendorItemId=3000103795', 'http://www.coupang.com/vp/products/418499?itemId=41050054&vendorItemId=3062734775', 'http://www.coupang.com/vp/products/1210418?itemId=13099817&vendorItemId=3069469464', 'http://www.coupang.com/vp/products/4037293?itemId=19732213&vendorItemId=3028898780', 'http://www.coupang.com/vp/products/14531457?itemId=60060857&vendorItemId=3093971748', 'http://www.coupang.com/vp/products/11411660?itemId=49205026&vendorItemId=3498497485', 'http://www.coupang.com/vp/products/4012461?itemId=19616950&vendorItemId=3028722284', 'http://www.coupang.com/vp/products/18593679?itemId=74693509&vendorItemId=3123818470', 'http://www.coupang.com/vp/products/81762598?itemId=260454958&vendorItemId=3632689337', 'http://www.coupang.com/vp/products/324474?itemId=764742&vendorItemId=3143781359', 'http://www.coupang.com/vp/products/4926378?itemId=22488024&vendorItemId=3032868814', 'http://www.coupang.com/vp/products/1525577?itemId=49352743&vendorItemId=3076856247', 'http://www.coupang.com/vp/products/30319380?itemId=115464552&vendorItemId=3023820378', 'http://www.coupang.com/vp/products/6981978?itemId=30948674&vendorItemId=3045968222', 'http://www.coupang.com/vp/products/25777912?itemId=100357509&vendorItemId=3184639354', 'http://www.coupang.com/vp/products/66578562?itemId=223746016&vendorItemId=3543402747', 'http://www.coupang.com/vp/products/83066615?itemId=263501214&vendorItemId=3639450665', 'http://www.coupang.com/vp/products/12267942?itemId=39608147&vendorItemId=3059601752', 'http://www.coupang.com/vp/products/7039524?itemId=31204322&vendorItemId=3689769377', 'http://www.coupang.com/vp/products/9116761?itemId=40051903&vendorItemId=3123283463', 'http://www.coupang.com/vp/products/41000?itemId=107562&vendorItemId=3000053284', 'http://www.coupang.com/vp/products/18274522?itemId=73563189&vendorItemId=3120782803', 'http://www.coupang.com/vp/products/2404234?itemId=7234696&vendorItemId=3010626396', 'http://www.coupang.com/vp/products/1444127?itemId=38644945&vendorItemId=3057638330', 'http://www.coupang.com/vp/products/1435390?itemId=6243979&vendorItemId=3255718927', 'http://www.coupang.com/vp/products/63460374?itemId=216153188&vendorItemId=3520952141', 'http://www.coupang.com/vp/products/71902645?itemId=239686718&vendorItemId=3590285358', 'http://www.coupang.com/vp/products/25146958?itemId=97731393&vendorItemId=3630238412', 'http://www.coupang.com/vp/products/13767980?itemId=57297908&vendorItemId=3419006761', 'http://www.coupang.com/vp/products/44805680?itemId=160455286&vendorItemId=3174274626', 'http://www.coupang.com/vp/products/24070?itemId=331677&vendorItemId=3085800062', 'http://www.coupang.com/vp/products/58094478?itemId=201590460&vendorItemId=3478662556', 'http://www.coupang.com/vp/products/18583707?itemId=74655434&vendorItemId=3123740187', 'http://www.coupang.com/vp/products/50715531?itemId=178697865&vendorItemId=3427703668', 'http://www.coupang.com/vp/products/2699682?itemId=1313669&vendorItemId=3001260183', 'http://www.coupang.com/vp/products/21989566?itemId=85700507&vendorItemId=3145709375', 'http://www.coupang.com/vp/products/6981983?itemId=30948679&vendorItemId=3045968229', 'http://www.coupang.com/vp/products/108627503?itemId=328776133&vendorItemId=3050006228', 'http://www.coupang.com/vp/products/7660092?itemId=33511899&vendorItemId=3049502009', 'http://www.coupang.com/vp/products/468972?itemId=1017159&vendorItemId=3180787967', 'http://www.coupang.com/vp/products/26025931?itemId=101182852&vendorItemId=3576306825', 'http://www.coupang.com/vp/products/20962864?itemId=81861302&vendorItemId=3139329622', 'http://www.coupang.com/vp/products/16414191?itemId=66866982&vendorItemId=3106716967', 'http://www.coupang.com/vp/products/16833224?itemId=16694727&vendorItemId=3024921970', 'http://www.coupang.com/vp/products/23685030?itemId=92201275&vendorItemId=3824482480', 'http://www.coupang.com/vp/products/7695759?itemId=33682939&vendorItemId=3049808568', 'http://www.coupang.com/vp/products/14533548?itemId=60066188&vendorItemId=3093985035', 'http://www.coupang.com/vp/products/80998202?itemId=258566500&vendorItemId=3628525744', 'http://www.coupang.com/vp/products/13322012?itemId=55641517&vendorItemId=3087338796', 'http://www.coupang.com/vp/products/12373812?itemId=52579993&vendorItemId=3082118971', 'http://www.coupang.com/vp/products/71707628?itemId=239118851&vendorItemId=3588764270', 'http://www.coupang.com/vp/products/8043103?itemId=35186310&vendorItemId=3052050242', 'http://www.coupang.com/vp/products/18593675?itemId=74693489&vendorItemId=3123818471', 'http://www.coupang.com/vp/products/8043232?itemId=35189014&vendorItemId=3053436066', 'http://www.coupang.com/vp/products/3245759?itemId=7573025&vendorItemId=3069470173', 'http://www.coupang.com/vp/products/84427953?itemId=267641482&vendorItemId=3648335485', 'http://www.coupang.com/vp/products/7792660?itemId=34139371&vendorItemId=3050569739', 'http://www.coupang.com/vp/products/50715558?itemId=178697925&vendorItemId=3427703697', 'http://www.coupang.com/vp/products/6981981?itemId=30948677&vendorItemId=3045968226', 'http://www.coupang.com/vp/products/13705760?itemId=57173199&vendorItemId=3089582973', 'http://www.coupang.com/vp/products/205771?itemId=416550&vendorItemId=3051680363', 'http://www.coupang.com/vp/products/414282?itemId=39135257&vendorItemId=3058585847', 'http://www.coupang.com/vp/products/51756240?itemId=183191651&vendorItemId=3436265790', 'http://www.coupang.com/vp/products/18278346?itemId=73567457&vendorItemId=3121652889', 'http://www.coupang.com/vp/products/66578561?itemId=223746010&vendorItemId=3543402743', 'http://www.coupang.com/vp/products/8042464?itemId=35186308&vendorItemId=3052042969', 'http://www.coupang.com/vp/products/23716387?itemId=92351315&vendorItemId=3161576641', 'http://www.coupang.com/vp/products/2941116?itemId=13752540&vendorItemId=3021071265', 'http://www.coupang.com/vp/products/20962870?itemId=81861310&vendorItemId=3139329632', 'http://www.coupang.com/vp/products/35342158?itemId=131015314&vendorItemId=3275321743', 'http://www.coupang.com/vp/products/48126172?itemId=170431332&vendorItemId=3406475427', 'http://www.coupang.com/vp/products/27332568?itemId=105308491&vendorItemId=3201688101', 'http://www.coupang.com/vp/products/3497384?itemId=41047151&vendorItemId=3393040099', 'http://www.coupang.com/vp/products/25085?itemId=63496&vendorItemId=3085721758', 'http://www.coupang.com/vp/products/11455521?itemId=49352741&vendorItemId=3076856248', 'http://www.coupang.com/vp/products/4086506?itemId=16138396&vendorItemId=3810655686', 'http://www.coupang.com/vp/products/6981991?itemId=30948692&vendorItemId=3045968242', 'http://www.coupang.com/vp/products/12373806?itemId=52579988&vendorItemId=3082117296', 'http://www.coupang.com/vp/products/45403236?itemId=162249485&vendorItemId=3383283932', 'http://www.coupang.com/vp/products/25777862?itemId=100357337&vendorItemId=3184639306', 'http://www.coupang.com/vp/products/47907899?itemId=169690632&vendorItemId=3340323965', 'http://www.coupang.com/vp/products/5267107?itemId=23879663&vendorItemId=3285984087', 'http://www.coupang.com/vp/products/2299175?itemId=334361&vendorItemId=3000244250', 'http://www.coupang.com/vp/products/50244821?itemId=177040860&vendorItemId=3423151621', 'http://www.coupang.com/vp/products/4276509?itemId=20455405&vendorItemId=3278838615', 'http://www.coupang.com/vp/products/418492?itemId=39149430&vendorItemId=3618377916', 'http://www.coupang.com/vp/products/16444?itemId=13012349&vendorItemId=3085396028', 'http://www.coupang.com/vp/products/1267439?itemId=9076096&vendorItemId=3012961154', 'http://www.coupang.com/vp/products/71853319?itemId=239544534&vendorItemId=3635885163', 'http://www.coupang.com/vp/products/70226519?itemId=234792229&vendorItemId=3575072469', 'http://www.coupang.com/vp/products/324483?itemId=764765&vendorItemId=3143545046', 'http://www.coupang.com/vp/products/13417?itemId=38862&vendorItemId=3084702958', 'http://www.coupang.com/vp/products/94390742?itemId=292092284&vendorItemId=3629210343', 'http://www.coupang.com/vp/products/34539520?itemId=128956734&vendorItemId=3267999851', 'http://www.coupang.com/vp/products/11599?itemId=35167&vendorItemId=3084445708', 'http://www.coupang.com/vp/products/25777882?itemId=100357411&vendorItemId=3184639328', 'http://www.coupang.com/vp/products/6981979?itemId=30948675&vendorItemId=3045968224', 'http://www.coupang.com/vp/products/1217666?itemId=41041184&vendorItemId=3062710163', 'http://www.coupang.com/vp/products/16444591?itemId=66966281&vendorItemId=3106939246', 'http://www.coupang.com/vp/products/91607511?itemId=284969645&vendorItemId=3699008687', 'http://www.coupang.com/vp/products/101529745?itemId=309521097&vendorItemId=3762422797', 'http://www.coupang.com/vp/products/4218300?itemId=67661&vendorItemId=3278817828', 'http://www.coupang.com/vp/products/50715554?itemId=178697912&vendorItemId=3427703694', 'http://www.coupang.com/vp/products/16291873?itemId=66532970&vendorItemId=3106159756', 'http://www.coupang.com/vp/products/25777928?itemId=100357636&vendorItemId=3576431116', 'http://www.coupang.com/vp/products/29416146?itemId=112402782&vendorItemId=3221439907', 'http://www.coupang.com/vp/products/7082680?itemId=31369017&vendorItemId=3046560542', 'http://www.coupang.com/vp/products/18593682?itemId=74693527&vendorItemId=3123818468', 'http://www.coupang.com/vp/products/25146957?itemId=97731392&vendorItemId=3177808674', 'http://www.coupang.com/vp/products/81143401?itemId=258891523&vendorItemId=3629210391', 'http://www.coupang.com/vp/products/65737453?itemId=221824709&vendorItemId=3537508963', 'http://www.coupang.com/vp/products/44811475?itemId=160466930&vendorItemId=3021748382', 'http://www.coupang.com/vp/products/9281920?itemId=40750142&vendorItemId=3061944034', 'http://www.coupang.com/vp/products/13705756?itemId=57173184&vendorItemId=3089582963', 'http://www.coupang.com/vp/products/949516?itemId=63537&vendorItemId=3231288004', 'http://www.coupang.com/vp/products/16874616?itemId=68172762&vendorItemId=3184638421', 'http://www.coupang.com/vp/products/31995842?itemId=120604739&vendorItemId=3243902219', 'http://www.coupang.com/vp/products/14270745?itemId=58923871&vendorItemId=3092439473']\n"
     ]
    }
   ],
   "source": [
    "print(result)"
   ]
  },
  {
   "cell_type": "code",
   "execution_count": 168,
   "metadata": {},
   "outputs": [
    {
     "name": "stdout",
     "output_type": "stream",
     "text": [
      "180\n"
     ]
    }
   ],
   "source": [
    "print(len(result))"
   ]
  }
 ],
 "metadata": {
  "kernelspec": {
   "display_name": "Python 3",
   "language": "python",
   "name": "python3"
  },
  "language_info": {
   "codemirror_mode": {
    "name": "ipython",
    "version": 3
   },
   "file_extension": ".py",
   "mimetype": "text/x-python",
   "name": "python",
   "nbconvert_exporter": "python",
   "pygments_lexer": "ipython3",
   "version": "3.6.5"
  }
 },
 "nbformat": 4,
 "nbformat_minor": 2
}
