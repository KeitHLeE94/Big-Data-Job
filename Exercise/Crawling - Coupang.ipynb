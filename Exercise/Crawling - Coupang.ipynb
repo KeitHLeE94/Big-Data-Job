{
 "cells": [
  {
   "cell_type": "markdown",
   "metadata": {},
   "source": [
    "# 쿠팡 데이터 크롤링"
   ]
  },
  {
   "cell_type": "markdown",
   "metadata": {},
   "source": [
    "## 과자\n",
    "1. 제품명\n",
    "2. 브랜드\n",
    "3. 가격(int)\n",
    "4. url\n",
    "5. img\n",
    "6. 연령대"
   ]
  },
  {
   "cell_type": "markdown",
   "metadata": {},
   "source": [
    "## 분유\n",
    "1. 제품명\n",
    "2. 브랜드\n",
    "3. 가격(int)\n",
    "4. url\n",
    "5. img\n",
    "6. 연령대"
   ]
  },
  {
   "cell_type": "markdown",
   "metadata": {},
   "source": [
    "## 의류\n",
    "1. 제품명\n",
    "2. 성별\n",
    "3. 가격\n",
    "4. url\n",
    "5. img\n",
    "6. 연령대"
   ]
  },
  {
   "cell_type": "markdown",
   "metadata": {},
   "source": [
    "## 인형, 장난감\n",
    "1. 제품명\n",
    "2. 성별\n",
    "3. 가격\n",
    "4. url\n",
    "5. img\n",
    "6. 연령대"
   ]
  },
  {
   "cell_type": "markdown",
   "metadata": {},
   "source": [
    "## 기저귀\n",
    "1. 제품명\n",
    "2. 성별\n",
    "3. 브랜드\n",
    "4. 사이즈\n",
    "5. 가격\n",
    "6. url\n",
    "7. img"
   ]
  },
  {
   "cell_type": "markdown",
   "metadata": {},
   "source": [
    "___"
   ]
  },
  {
   "cell_type": "markdown",
   "metadata": {},
   "source": [
    "## Global functions, parameters"
   ]
  },
  {
   "cell_type": "code",
   "execution_count": 1,
   "metadata": {},
   "outputs": [],
   "source": [
    "import requests\n",
    "import bs4\n",
    "from bs4 import BeautifulSoup"
   ]
  },
  {
   "cell_type": "code",
   "execution_count": 2,
   "metadata": {},
   "outputs": [],
   "source": [
    "def getURL(seed, params=None, select='a', num_retries=2):\n",
    "    html = requests.get(seed, params=params, headers=headers)\n",
    "    \n",
    "    if 500<=html.status_code<600 and num_retries>0:\n",
    "        print(html.status_code, html.reason)\n",
    "        return getURL(seed, params, num_retries-1)\n",
    "    \n",
    "    dom = BeautifulSoup(html.text, 'lxml')\n",
    "    links = dom.select(select)\n",
    "    \n",
    "    return ['http://www.coupang.com' + link['href'] for link in links if link.has_attr('href')]"
   ]
  },
  {
   "cell_type": "code",
   "execution_count": 3,
   "metadata": {},
   "outputs": [],
   "source": [
    "def getItemNum(url, params, num_retries=2):\n",
    "    params_str = \"&\".join(\"%s=%s\" % (k,v) for k,v in params.items())\n",
    "    html = requests.get(url, params=params_str, headers=headers)\n",
    "    print(html.url)\n",
    "    \n",
    "    if 500<=html.status_code<600 and num_retries>0:\n",
    "        print(html.status_code, html.reason)\n",
    "        return getItemNum(seed, params, num_retries-1)\n",
    "    \n",
    "    dom = BeautifulSoup(html.text, 'lxml')\n",
    "    result = dom.select('em.newcx-product-total-count')\n",
    "    \n",
    "    return result"
   ]
  },
  {
   "cell_type": "code",
   "execution_count": 4,
   "metadata": {},
   "outputs": [],
   "source": [
    "headers = {\n",
    "    \"user-agent\":\"Mozilla/5.0 (Macintosh; Intel Mac OS X 10_13_4) AppleWebKit/537.36 (KHTML, like Gecko) Chrome/67.0.3396.99 Safari/537.36\",\n",
    "    \"accept-encoding\":\"false\"\n",
    "}"
   ]
  },
  {
   "cell_type": "markdown",
   "metadata": {},
   "source": [
    "___"
   ]
  },
  {
   "cell_type": "markdown",
   "metadata": {},
   "source": [
    "### 과자"
   ]
  },
  {
   "cell_type": "code",
   "execution_count": 5,
   "metadata": {},
   "outputs": [],
   "source": [
    "month_filter_snack = {\n",
    "    '3개월 이하': '221915%23attr_11932%2413989%40DEFAULT',\n",
    "    '3개월 이상 7개월 이하': '221915%23attr_11932%2413990%40DEFAULT',\n",
    "    '7개월 이상 11개월 이하': '221915%23attr_11932%2413991%40DEFAULT',\n",
    "    '11개월 이상 23개월 이하': '221915%23attr_11932%2413992%40DEFAULT',\n",
    "    '23개월 이상 35개월 이하': '221915%23attr_11932%2413993%40DEFAULT',\n",
    "    '35개월 이상': '221915%23attr_11932%2413994%40DEFAULT'\n",
    "}"
   ]
  },
  {
   "cell_type": "code",
   "execution_count": 6,
   "metadata": {},
   "outputs": [],
   "source": [
    "monthList_snack = ['3개월 이하', '3개월 이상 7개월 이하', '7개월 이상 11개월 이하', '11개월 이상 23개월 이하', '23개월 이상 35개월 이하', '35개월 이상']"
   ]
  },
  {
   "cell_type": "code",
   "execution_count": 7,
   "metadata": {},
   "outputs": [],
   "source": [
    "params_snack = {\n",
    "    \"listSize\": \"60\",\n",
    "    \"brand\": \"\",\n",
    "    \"offerCondition\": \"\",\n",
    "    \"filterType\": \"\",\n",
    "    \"isPriceRange\": \"false\",\n",
    "    \"minPrice\": \"\",\n",
    "    \"maxPrice\": \"\",\n",
    "    \"page\": \"\",\n",
    "    \"channel\": \"user\",\n",
    "    \"fromComponent\": \"N\",\n",
    "    \"selectedPlpKeepFilter\": \"\",\n",
    "    \"sorter\": \"bestAsc\",\n",
    "    \"filter\": \"\",\n",
    "    \"component\": \"221915\",\n",
    "    \"rating\": \"0\",\n",
    "}"
   ]
  },
  {
   "cell_type": "code",
   "execution_count": 8,
   "metadata": {},
   "outputs": [],
   "source": [
    "seed_snack = 'http://www.coupang.com/np/categories/222015'"
   ]
  },
  {
   "cell_type": "code",
   "execution_count": 11,
   "metadata": {
    "scrolled": true
   },
   "outputs": [
    {
     "name": "stdout",
     "output_type": "stream",
     "text": [
      "221915%23attr_11932%2413989%40DEFAULT\n",
      "http://www.coupang.com/np/categories/222015?listSize=60&brand=&offerCondition=&filterType=&isPriceRange=false&minPrice=&maxPrice=&page=1&channel=user&fromComponent=N&selectedPlpKeepFilter=&sorter=bestAsc&filter=221915%23attr_11932%2413989%40DEFAULT&component=221915&rating=0\n",
      "1\n",
      "221915%23attr_11932%2413989%40DEFAULT\n",
      "http://www.coupang.com/np/categories/222015?listSize=60&brand=&offerCondition=&filterType=&isPriceRange=false&minPrice=&maxPrice=&page=2&channel=user&fromComponent=N&selectedPlpKeepFilter=&sorter=bestAsc&filter=221915%23attr_11932%2413989%40DEFAULT&component=221915&rating=0\n",
      "2\n",
      "221915%23attr_11932%2413989%40DEFAULT\n",
      "http://www.coupang.com/np/categories/222015?listSize=60&brand=&offerCondition=&filterType=&isPriceRange=false&minPrice=&maxPrice=&page=3&channel=user&fromComponent=N&selectedPlpKeepFilter=&sorter=bestAsc&filter=221915%23attr_11932%2413989%40DEFAULT&component=221915&rating=0\n",
      "3\n",
      "221915%23attr_11932%2413989%40DEFAULT\n",
      "http://www.coupang.com/np/categories/222015?listSize=60&brand=&offerCondition=&filterType=&isPriceRange=false&minPrice=&maxPrice=&page=4&channel=user&fromComponent=N&selectedPlpKeepFilter=&sorter=bestAsc&filter=221915%23attr_11932%2413989%40DEFAULT&component=221915&rating=0\n",
      "221915%23attr_11932%2413990%40DEFAULT\n",
      "http://www.coupang.com/np/categories/222015?listSize=60&brand=&offerCondition=&filterType=&isPriceRange=false&minPrice=&maxPrice=&page=1&channel=user&fromComponent=N&selectedPlpKeepFilter=&sorter=bestAsc&filter=221915%23attr_11932%2413990%40DEFAULT&component=221915&rating=0\n",
      "1\n",
      "221915%23attr_11932%2413990%40DEFAULT\n",
      "http://www.coupang.com/np/categories/222015?listSize=60&brand=&offerCondition=&filterType=&isPriceRange=false&minPrice=&maxPrice=&page=2&channel=user&fromComponent=N&selectedPlpKeepFilter=&sorter=bestAsc&filter=221915%23attr_11932%2413990%40DEFAULT&component=221915&rating=0\n",
      "2\n",
      "221915%23attr_11932%2413990%40DEFAULT\n",
      "http://www.coupang.com/np/categories/222015?listSize=60&brand=&offerCondition=&filterType=&isPriceRange=false&minPrice=&maxPrice=&page=3&channel=user&fromComponent=N&selectedPlpKeepFilter=&sorter=bestAsc&filter=221915%23attr_11932%2413990%40DEFAULT&component=221915&rating=0\n",
      "3\n",
      "221915%23attr_11932%2413990%40DEFAULT\n",
      "http://www.coupang.com/np/categories/222015?listSize=60&brand=&offerCondition=&filterType=&isPriceRange=false&minPrice=&maxPrice=&page=4&channel=user&fromComponent=N&selectedPlpKeepFilter=&sorter=bestAsc&filter=221915%23attr_11932%2413990%40DEFAULT&component=221915&rating=0\n",
      "4\n",
      "221915%23attr_11932%2413990%40DEFAULT\n",
      "http://www.coupang.com/np/categories/222015?listSize=60&brand=&offerCondition=&filterType=&isPriceRange=false&minPrice=&maxPrice=&page=5&channel=user&fromComponent=N&selectedPlpKeepFilter=&sorter=bestAsc&filter=221915%23attr_11932%2413990%40DEFAULT&component=221915&rating=0\n",
      "5\n",
      "221915%23attr_11932%2413990%40DEFAULT\n",
      "http://www.coupang.com/np/categories/222015?listSize=60&brand=&offerCondition=&filterType=&isPriceRange=false&minPrice=&maxPrice=&page=6&channel=user&fromComponent=N&selectedPlpKeepFilter=&sorter=bestAsc&filter=221915%23attr_11932%2413990%40DEFAULT&component=221915&rating=0\n",
      "6\n",
      "221915%23attr_11932%2413990%40DEFAULT\n",
      "http://www.coupang.com/np/categories/222015?listSize=60&brand=&offerCondition=&filterType=&isPriceRange=false&minPrice=&maxPrice=&page=7&channel=user&fromComponent=N&selectedPlpKeepFilter=&sorter=bestAsc&filter=221915%23attr_11932%2413990%40DEFAULT&component=221915&rating=0\n",
      "7\n",
      "221915%23attr_11932%2413990%40DEFAULT\n",
      "http://www.coupang.com/np/categories/222015?listSize=60&brand=&offerCondition=&filterType=&isPriceRange=false&minPrice=&maxPrice=&page=8&channel=user&fromComponent=N&selectedPlpKeepFilter=&sorter=bestAsc&filter=221915%23attr_11932%2413990%40DEFAULT&component=221915&rating=0\n",
      "221915%23attr_11932%2413991%40DEFAULT\n",
      "http://www.coupang.com/np/categories/222015?listSize=60&brand=&offerCondition=&filterType=&isPriceRange=false&minPrice=&maxPrice=&page=1&channel=user&fromComponent=N&selectedPlpKeepFilter=&sorter=bestAsc&filter=221915%23attr_11932%2413991%40DEFAULT&component=221915&rating=0\n",
      "1\n",
      "221915%23attr_11932%2413991%40DEFAULT\n",
      "http://www.coupang.com/np/categories/222015?listSize=60&brand=&offerCondition=&filterType=&isPriceRange=false&minPrice=&maxPrice=&page=2&channel=user&fromComponent=N&selectedPlpKeepFilter=&sorter=bestAsc&filter=221915%23attr_11932%2413991%40DEFAULT&component=221915&rating=0\n",
      "2\n",
      "221915%23attr_11932%2413991%40DEFAULT\n",
      "http://www.coupang.com/np/categories/222015?listSize=60&brand=&offerCondition=&filterType=&isPriceRange=false&minPrice=&maxPrice=&page=3&channel=user&fromComponent=N&selectedPlpKeepFilter=&sorter=bestAsc&filter=221915%23attr_11932%2413991%40DEFAULT&component=221915&rating=0\n",
      "3\n",
      "221915%23attr_11932%2413991%40DEFAULT\n",
      "http://www.coupang.com/np/categories/222015?listSize=60&brand=&offerCondition=&filterType=&isPriceRange=false&minPrice=&maxPrice=&page=4&channel=user&fromComponent=N&selectedPlpKeepFilter=&sorter=bestAsc&filter=221915%23attr_11932%2413991%40DEFAULT&component=221915&rating=0\n",
      "4\n",
      "221915%23attr_11932%2413991%40DEFAULT\n",
      "http://www.coupang.com/np/categories/222015?listSize=60&brand=&offerCondition=&filterType=&isPriceRange=false&minPrice=&maxPrice=&page=5&channel=user&fromComponent=N&selectedPlpKeepFilter=&sorter=bestAsc&filter=221915%23attr_11932%2413991%40DEFAULT&component=221915&rating=0\n",
      "5\n",
      "221915%23attr_11932%2413991%40DEFAULT\n",
      "http://www.coupang.com/np/categories/222015?listSize=60&brand=&offerCondition=&filterType=&isPriceRange=false&minPrice=&maxPrice=&page=6&channel=user&fromComponent=N&selectedPlpKeepFilter=&sorter=bestAsc&filter=221915%23attr_11932%2413991%40DEFAULT&component=221915&rating=0\n",
      "221915%23attr_11932%2413992%40DEFAULT\n",
      "http://www.coupang.com/np/categories/222015?listSize=60&brand=&offerCondition=&filterType=&isPriceRange=false&minPrice=&maxPrice=&page=1&channel=user&fromComponent=N&selectedPlpKeepFilter=&sorter=bestAsc&filter=221915%23attr_11932%2413992%40DEFAULT&component=221915&rating=0\n",
      "1\n",
      "221915%23attr_11932%2413992%40DEFAULT\n",
      "http://www.coupang.com/np/categories/222015?listSize=60&brand=&offerCondition=&filterType=&isPriceRange=false&minPrice=&maxPrice=&page=2&channel=user&fromComponent=N&selectedPlpKeepFilter=&sorter=bestAsc&filter=221915%23attr_11932%2413992%40DEFAULT&component=221915&rating=0\n",
      "2\n",
      "221915%23attr_11932%2413992%40DEFAULT\n",
      "http://www.coupang.com/np/categories/222015?listSize=60&brand=&offerCondition=&filterType=&isPriceRange=false&minPrice=&maxPrice=&page=3&channel=user&fromComponent=N&selectedPlpKeepFilter=&sorter=bestAsc&filter=221915%23attr_11932%2413992%40DEFAULT&component=221915&rating=0\n",
      "3\n",
      "221915%23attr_11932%2413992%40DEFAULT\n",
      "http://www.coupang.com/np/categories/222015?listSize=60&brand=&offerCondition=&filterType=&isPriceRange=false&minPrice=&maxPrice=&page=4&channel=user&fromComponent=N&selectedPlpKeepFilter=&sorter=bestAsc&filter=221915%23attr_11932%2413992%40DEFAULT&component=221915&rating=0\n",
      "221915%23attr_11932%2413993%40DEFAULT\n",
      "http://www.coupang.com/np/categories/222015?listSize=60&brand=&offerCondition=&filterType=&isPriceRange=false&minPrice=&maxPrice=&page=1&channel=user&fromComponent=N&selectedPlpKeepFilter=&sorter=bestAsc&filter=221915%23attr_11932%2413993%40DEFAULT&component=221915&rating=0\n",
      "1\n",
      "221915%23attr_11932%2413993%40DEFAULT\n",
      "http://www.coupang.com/np/categories/222015?listSize=60&brand=&offerCondition=&filterType=&isPriceRange=false&minPrice=&maxPrice=&page=2&channel=user&fromComponent=N&selectedPlpKeepFilter=&sorter=bestAsc&filter=221915%23attr_11932%2413993%40DEFAULT&component=221915&rating=0\n",
      "221915%23attr_11932%2413994%40DEFAULT\n",
      "http://www.coupang.com/np/categories/222015?listSize=60&brand=&offerCondition=&filterType=&isPriceRange=false&minPrice=&maxPrice=&page=1&channel=user&fromComponent=N&selectedPlpKeepFilter=&sorter=bestAsc&filter=221915%23attr_11932%2413994%40DEFAULT&component=221915&rating=0\n",
      "1\n",
      "221915%23attr_11932%2413994%40DEFAULT\n",
      "http://www.coupang.com/np/categories/222015?listSize=60&brand=&offerCondition=&filterType=&isPriceRange=false&minPrice=&maxPrice=&page=2&channel=user&fromComponent=N&selectedPlpKeepFilter=&sorter=bestAsc&filter=221915%23attr_11932%2413994%40DEFAULT&component=221915&rating=0\n"
     ]
    }
   ],
   "source": [
    "result_snack = {\n",
    "    monthList_snack[0]: None,\n",
    "    monthList_snack[1]: None,\n",
    "    monthList_snack[2]: None,\n",
    "    monthList_snack[3]: None,\n",
    "    monthList_snack[4]: None,\n",
    "    monthList_snack[5]: None\n",
    "}\n",
    "\n",
    "for i in range(6):\n",
    "    currentpage = 1\n",
    "    params_snack['filter'] = month_filter_snack[monthList_snack[i]]\n",
    "    temp = []\n",
    "    \n",
    "    while True:\n",
    "        params_snack['page'] = str(currentpage)\n",
    "        print(params_snack['filter'])\n",
    "        if len(getItemNum(seed_snack, params_snack)) == 0:\n",
    "            break\n",
    "        print(params_snack['page'])\n",
    "        temp.extend(getURL(seed_snack, params_snack, select='ul.baby-product-list a.baby-product-link'))\n",
    "        currentpage += 1\n",
    "        \n",
    "    result_snack[monthList_snack[i]] = temp"
   ]
  },
  {
   "cell_type": "code",
   "execution_count": 12,
   "metadata": {
    "scrolled": true
   },
   "outputs": [
    {
     "name": "stdout",
     "output_type": "stream",
     "text": [
      "3개월 이하 180\n",
      "3개월 이상 7개월 이하 420\n",
      "7개월 이상 11개월 이하 300\n",
      "11개월 이상 23개월 이하 180\n",
      "23개월 이상 35개월 이하 60\n",
      "35개월 이상 60\n"
     ]
    }
   ],
   "source": [
    "for (k, v) in result_snack.items():\n",
    "    print(k, len(v))"
   ]
  },
  {
   "cell_type": "code",
   "execution_count": 27,
   "metadata": {},
   "outputs": [],
   "source": [
    "snackList = []"
   ]
  },
  {
   "cell_type": "code",
   "execution_count": 14,
   "metadata": {},
   "outputs": [],
   "source": [
    "def getInfo_snack(url, monthInfo, num_retries=2):\n",
    "    html = requests.get(url, headers=headers)\n",
    "    \n",
    "    if 500<=html.status_code<600 and num_retries>0:\n",
    "        print(html.status_code, html.reason)\n",
    "        return getInfo(seed, params, num_retries-1)\n",
    "    \n",
    "    dom = BeautifulSoup(html.text, 'lxml')\n",
    "    if len(dom.select('div.oos-label')) == 0:\n",
    "        brand = dom.select('a.prod-brand-name')[0].get_text()\n",
    "        name = dom.select('h2.prod-buy-header__title')[0].get_text()\n",
    "        price = int(dom.select('span.total-price strong')[0].get_text().replace('\\n', '').replace('원', '').replace(',', ''))\n",
    "        url = html.url\n",
    "        img = 'http:' + dom.select('img.prod-image__detail')[0]['src']\n",
    "        snackList.append(tuple([brand, name, price, url, img, monthInfo]))\n",
    "    \n",
    "    return None"
   ]
  },
  {
   "cell_type": "code",
   "execution_count": 28,
   "metadata": {},
   "outputs": [],
   "source": [
    "for i in range(6):\n",
    "    for url in result_snack[monthList_snack[i]]:\n",
    "        getInfo_snack(url, monthList_snack[i])"
   ]
  },
  {
   "cell_type": "code",
   "execution_count": 29,
   "metadata": {},
   "outputs": [
    {
     "data": {
      "text/plain": [
       "1190"
      ]
     },
     "execution_count": 29,
     "metadata": {},
     "output_type": "execute_result"
    }
   ],
   "source": [
    "len(snackList)"
   ]
  },
  {
   "cell_type": "markdown",
   "metadata": {},
   "source": [
    "___"
   ]
  },
  {
   "cell_type": "markdown",
   "metadata": {},
   "source": [
    "### 분유"
   ]
  },
  {
   "cell_type": "code",
   "execution_count": 20,
   "metadata": {},
   "outputs": [],
   "source": [
    "month_filter_milkPowder = {\n",
    "    '3개월 이하': '221895%23attr_11932%2413989%40DEFAULT',\n",
    "    '3개월 이상 7개월 이하': '221895%23attr_11932%2413990%40DEFAULT',\n",
    "    '7개월 이상 11개월 이하': '221895%23attr_11932%2413991%40DEFAULT',\n",
    "    '11개월 이상 23개월 이하': '221895%23attr_11932%2413992%40DEFAULT',\n",
    "    '23개월 이상 35개월 이하': '221895%23attr_11932%2413993%40DEFAULT',\n",
    "    '35개월 이상': '221895%23attr_11932%2413994%40DEFAULT'\n",
    "}"
   ]
  },
  {
   "cell_type": "code",
   "execution_count": 21,
   "metadata": {},
   "outputs": [],
   "source": [
    "monthList_milkPowder = ['3개월 이하', '3개월 이상 7개월 이하', '7개월 이상 11개월 이하', '11개월 이상 23개월 이하', '23개월 이상 35개월 이하', '35개월 이상']"
   ]
  },
  {
   "cell_type": "code",
   "execution_count": 18,
   "metadata": {},
   "outputs": [],
   "source": [
    "params_milkPowder = {\n",
    "    \"listSize\": \"60\",\n",
    "    \"brand\": \"\",\n",
    "    \"offerCondition\": \"\",\n",
    "    \"filterType\": \"\",\n",
    "    \"isPriceRange\": \"false\",\n",
    "    \"minPrice\": \"\",\n",
    "    \"maxPrice\": \"\",\n",
    "    \"page\": \"\",\n",
    "    \"channel\": \"user\",\n",
    "    \"fromComponent\": \"N\",\n",
    "    \"selectedPlpKeepFilter\": \"\",\n",
    "    \"sorter\": \"bestAsc\",\n",
    "    \"filter\": \"\",\n",
    "    \"component\": \"221895\",\n",
    "    \"rating\": \"0\",\n",
    "}"
   ]
  },
  {
   "cell_type": "code",
   "execution_count": 19,
   "metadata": {},
   "outputs": [],
   "source": [
    "seed_milkPowder = 'http://www.coupang.com/np/categories/221995'"
   ]
  },
  {
   "cell_type": "code",
   "execution_count": 22,
   "metadata": {},
   "outputs": [
    {
     "name": "stdout",
     "output_type": "stream",
     "text": [
      "221895%23attr_11932%2413989%40DEFAULT\n",
      "http://www.coupang.com/np/categories/221995?listSize=60&brand=&offerCondition=&filterType=&isPriceRange=false&minPrice=&maxPrice=&page=1&channel=user&fromComponent=N&selectedPlpKeepFilter=&sorter=bestAsc&filter=221895%23attr_11932%2413989%40DEFAULT&component=221895&rating=0\n",
      "1\n",
      "221895%23attr_11932%2413989%40DEFAULT\n",
      "http://www.coupang.com/np/categories/221995?listSize=60&brand=&offerCondition=&filterType=&isPriceRange=false&minPrice=&maxPrice=&page=2&channel=user&fromComponent=N&selectedPlpKeepFilter=&sorter=bestAsc&filter=221895%23attr_11932%2413989%40DEFAULT&component=221895&rating=0\n",
      "2\n",
      "221895%23attr_11932%2413989%40DEFAULT\n",
      "http://www.coupang.com/np/categories/221995?listSize=60&brand=&offerCondition=&filterType=&isPriceRange=false&minPrice=&maxPrice=&page=3&channel=user&fromComponent=N&selectedPlpKeepFilter=&sorter=bestAsc&filter=221895%23attr_11932%2413989%40DEFAULT&component=221895&rating=0\n",
      "3\n",
      "221895%23attr_11932%2413989%40DEFAULT\n",
      "http://www.coupang.com/np/categories/221995?listSize=60&brand=&offerCondition=&filterType=&isPriceRange=false&minPrice=&maxPrice=&page=4&channel=user&fromComponent=N&selectedPlpKeepFilter=&sorter=bestAsc&filter=221895%23attr_11932%2413989%40DEFAULT&component=221895&rating=0\n",
      "4\n",
      "221895%23attr_11932%2413989%40DEFAULT\n",
      "http://www.coupang.com/np/categories/221995?listSize=60&brand=&offerCondition=&filterType=&isPriceRange=false&minPrice=&maxPrice=&page=5&channel=user&fromComponent=N&selectedPlpKeepFilter=&sorter=bestAsc&filter=221895%23attr_11932%2413989%40DEFAULT&component=221895&rating=0\n",
      "5\n",
      "221895%23attr_11932%2413989%40DEFAULT\n",
      "http://www.coupang.com/np/categories/221995?listSize=60&brand=&offerCondition=&filterType=&isPriceRange=false&minPrice=&maxPrice=&page=6&channel=user&fromComponent=N&selectedPlpKeepFilter=&sorter=bestAsc&filter=221895%23attr_11932%2413989%40DEFAULT&component=221895&rating=0\n",
      "6\n",
      "221895%23attr_11932%2413989%40DEFAULT\n",
      "http://www.coupang.com/np/categories/221995?listSize=60&brand=&offerCondition=&filterType=&isPriceRange=false&minPrice=&maxPrice=&page=7&channel=user&fromComponent=N&selectedPlpKeepFilter=&sorter=bestAsc&filter=221895%23attr_11932%2413989%40DEFAULT&component=221895&rating=0\n",
      "7\n",
      "221895%23attr_11932%2413989%40DEFAULT\n",
      "http://www.coupang.com/np/categories/221995?listSize=60&brand=&offerCondition=&filterType=&isPriceRange=false&minPrice=&maxPrice=&page=8&channel=user&fromComponent=N&selectedPlpKeepFilter=&sorter=bestAsc&filter=221895%23attr_11932%2413989%40DEFAULT&component=221895&rating=0\n",
      "8\n",
      "221895%23attr_11932%2413989%40DEFAULT\n",
      "http://www.coupang.com/np/categories/221995?listSize=60&brand=&offerCondition=&filterType=&isPriceRange=false&minPrice=&maxPrice=&page=9&channel=user&fromComponent=N&selectedPlpKeepFilter=&sorter=bestAsc&filter=221895%23attr_11932%2413989%40DEFAULT&component=221895&rating=0\n",
      "9\n",
      "221895%23attr_11932%2413989%40DEFAULT\n",
      "http://www.coupang.com/np/categories/221995?listSize=60&brand=&offerCondition=&filterType=&isPriceRange=false&minPrice=&maxPrice=&page=10&channel=user&fromComponent=N&selectedPlpKeepFilter=&sorter=bestAsc&filter=221895%23attr_11932%2413989%40DEFAULT&component=221895&rating=0\n",
      "221895%23attr_11932%2413990%40DEFAULT\n",
      "http://www.coupang.com/np/categories/221995?listSize=60&brand=&offerCondition=&filterType=&isPriceRange=false&minPrice=&maxPrice=&page=1&channel=user&fromComponent=N&selectedPlpKeepFilter=&sorter=bestAsc&filter=221895%23attr_11932%2413990%40DEFAULT&component=221895&rating=0\n",
      "1\n",
      "221895%23attr_11932%2413990%40DEFAULT\n",
      "http://www.coupang.com/np/categories/221995?listSize=60&brand=&offerCondition=&filterType=&isPriceRange=false&minPrice=&maxPrice=&page=2&channel=user&fromComponent=N&selectedPlpKeepFilter=&sorter=bestAsc&filter=221895%23attr_11932%2413990%40DEFAULT&component=221895&rating=0\n",
      "2\n",
      "221895%23attr_11932%2413990%40DEFAULT\n",
      "http://www.coupang.com/np/categories/221995?listSize=60&brand=&offerCondition=&filterType=&isPriceRange=false&minPrice=&maxPrice=&page=3&channel=user&fromComponent=N&selectedPlpKeepFilter=&sorter=bestAsc&filter=221895%23attr_11932%2413990%40DEFAULT&component=221895&rating=0\n",
      "3\n",
      "221895%23attr_11932%2413990%40DEFAULT\n",
      "http://www.coupang.com/np/categories/221995?listSize=60&brand=&offerCondition=&filterType=&isPriceRange=false&minPrice=&maxPrice=&page=4&channel=user&fromComponent=N&selectedPlpKeepFilter=&sorter=bestAsc&filter=221895%23attr_11932%2413990%40DEFAULT&component=221895&rating=0\n",
      "4\n",
      "221895%23attr_11932%2413990%40DEFAULT\n",
      "http://www.coupang.com/np/categories/221995?listSize=60&brand=&offerCondition=&filterType=&isPriceRange=false&minPrice=&maxPrice=&page=5&channel=user&fromComponent=N&selectedPlpKeepFilter=&sorter=bestAsc&filter=221895%23attr_11932%2413990%40DEFAULT&component=221895&rating=0\n",
      "5\n",
      "221895%23attr_11932%2413990%40DEFAULT\n",
      "http://www.coupang.com/np/categories/221995?listSize=60&brand=&offerCondition=&filterType=&isPriceRange=false&minPrice=&maxPrice=&page=6&channel=user&fromComponent=N&selectedPlpKeepFilter=&sorter=bestAsc&filter=221895%23attr_11932%2413990%40DEFAULT&component=221895&rating=0\n",
      "6\n",
      "221895%23attr_11932%2413990%40DEFAULT\n",
      "http://www.coupang.com/np/categories/221995?listSize=60&brand=&offerCondition=&filterType=&isPriceRange=false&minPrice=&maxPrice=&page=7&channel=user&fromComponent=N&selectedPlpKeepFilter=&sorter=bestAsc&filter=221895%23attr_11932%2413990%40DEFAULT&component=221895&rating=0\n",
      "7\n",
      "221895%23attr_11932%2413990%40DEFAULT\n",
      "http://www.coupang.com/np/categories/221995?listSize=60&brand=&offerCondition=&filterType=&isPriceRange=false&minPrice=&maxPrice=&page=8&channel=user&fromComponent=N&selectedPlpKeepFilter=&sorter=bestAsc&filter=221895%23attr_11932%2413990%40DEFAULT&component=221895&rating=0\n",
      "8\n",
      "221895%23attr_11932%2413990%40DEFAULT\n",
      "http://www.coupang.com/np/categories/221995?listSize=60&brand=&offerCondition=&filterType=&isPriceRange=false&minPrice=&maxPrice=&page=9&channel=user&fromComponent=N&selectedPlpKeepFilter=&sorter=bestAsc&filter=221895%23attr_11932%2413990%40DEFAULT&component=221895&rating=0\n",
      "221895%23attr_11932%2413991%40DEFAULT\n",
      "http://www.coupang.com/np/categories/221995?listSize=60&brand=&offerCondition=&filterType=&isPriceRange=false&minPrice=&maxPrice=&page=1&channel=user&fromComponent=N&selectedPlpKeepFilter=&sorter=bestAsc&filter=221895%23attr_11932%2413991%40DEFAULT&component=221895&rating=0\n",
      "1\n",
      "221895%23attr_11932%2413991%40DEFAULT\n",
      "http://www.coupang.com/np/categories/221995?listSize=60&brand=&offerCondition=&filterType=&isPriceRange=false&minPrice=&maxPrice=&page=2&channel=user&fromComponent=N&selectedPlpKeepFilter=&sorter=bestAsc&filter=221895%23attr_11932%2413991%40DEFAULT&component=221895&rating=0\n",
      "221895%23attr_11932%2413992%40DEFAULT\n",
      "http://www.coupang.com/np/categories/221995?listSize=60&brand=&offerCondition=&filterType=&isPriceRange=false&minPrice=&maxPrice=&page=1&channel=user&fromComponent=N&selectedPlpKeepFilter=&sorter=bestAsc&filter=221895%23attr_11932%2413992%40DEFAULT&component=221895&rating=0\n",
      "1\n",
      "221895%23attr_11932%2413992%40DEFAULT\n",
      "http://www.coupang.com/np/categories/221995?listSize=60&brand=&offerCondition=&filterType=&isPriceRange=false&minPrice=&maxPrice=&page=2&channel=user&fromComponent=N&selectedPlpKeepFilter=&sorter=bestAsc&filter=221895%23attr_11932%2413992%40DEFAULT&component=221895&rating=0\n",
      "2\n",
      "221895%23attr_11932%2413992%40DEFAULT\n",
      "http://www.coupang.com/np/categories/221995?listSize=60&brand=&offerCondition=&filterType=&isPriceRange=false&minPrice=&maxPrice=&page=3&channel=user&fromComponent=N&selectedPlpKeepFilter=&sorter=bestAsc&filter=221895%23attr_11932%2413992%40DEFAULT&component=221895&rating=0\n",
      "3\n",
      "221895%23attr_11932%2413992%40DEFAULT\n",
      "http://www.coupang.com/np/categories/221995?listSize=60&brand=&offerCondition=&filterType=&isPriceRange=false&minPrice=&maxPrice=&page=4&channel=user&fromComponent=N&selectedPlpKeepFilter=&sorter=bestAsc&filter=221895%23attr_11932%2413992%40DEFAULT&component=221895&rating=0\n",
      "4\n",
      "221895%23attr_11932%2413992%40DEFAULT\n",
      "http://www.coupang.com/np/categories/221995?listSize=60&brand=&offerCondition=&filterType=&isPriceRange=false&minPrice=&maxPrice=&page=5&channel=user&fromComponent=N&selectedPlpKeepFilter=&sorter=bestAsc&filter=221895%23attr_11932%2413992%40DEFAULT&component=221895&rating=0\n",
      "5\n",
      "221895%23attr_11932%2413992%40DEFAULT\n"
     ]
    },
    {
     "name": "stdout",
     "output_type": "stream",
     "text": [
      "http://www.coupang.com/np/categories/221995?listSize=60&brand=&offerCondition=&filterType=&isPriceRange=false&minPrice=&maxPrice=&page=6&channel=user&fromComponent=N&selectedPlpKeepFilter=&sorter=bestAsc&filter=221895%23attr_11932%2413992%40DEFAULT&component=221895&rating=0\n",
      "221895%23attr_11932%2413993%40DEFAULT\n",
      "http://www.coupang.com/np/categories/221995?listSize=60&brand=&offerCondition=&filterType=&isPriceRange=false&minPrice=&maxPrice=&page=1&channel=user&fromComponent=N&selectedPlpKeepFilter=&sorter=bestAsc&filter=221895%23attr_11932%2413993%40DEFAULT&component=221895&rating=0\n",
      "1\n",
      "221895%23attr_11932%2413993%40DEFAULT\n",
      "http://www.coupang.com/np/categories/221995?listSize=60&brand=&offerCondition=&filterType=&isPriceRange=false&minPrice=&maxPrice=&page=2&channel=user&fromComponent=N&selectedPlpKeepFilter=&sorter=bestAsc&filter=221895%23attr_11932%2413993%40DEFAULT&component=221895&rating=0\n",
      "221895%23attr_11932%2413994%40DEFAULT\n",
      "http://www.coupang.com/np/categories/221995?listSize=60&brand=&offerCondition=&filterType=&isPriceRange=false&minPrice=&maxPrice=&page=1&channel=user&fromComponent=N&selectedPlpKeepFilter=&sorter=bestAsc&filter=221895%23attr_11932%2413994%40DEFAULT&component=221895&rating=0\n",
      "1\n",
      "221895%23attr_11932%2413994%40DEFAULT\n",
      "http://www.coupang.com/np/categories/221995?listSize=60&brand=&offerCondition=&filterType=&isPriceRange=false&minPrice=&maxPrice=&page=2&channel=user&fromComponent=N&selectedPlpKeepFilter=&sorter=bestAsc&filter=221895%23attr_11932%2413994%40DEFAULT&component=221895&rating=0\n"
     ]
    }
   ],
   "source": [
    "result_milkPowder = {\n",
    "    monthList_milkPowder[0]: None,\n",
    "    monthList_milkPowder[1]: None,\n",
    "    monthList_milkPowder[2]: None,\n",
    "    monthList_milkPowder[3]: None,\n",
    "    monthList_milkPowder[4]: None,\n",
    "    monthList_milkPowder[5]: None\n",
    "}\n",
    "\n",
    "for i in range(6):\n",
    "    currentpage = 1\n",
    "    params_milkPowder['filter'] = month_filter_milkPowder[monthList_milkPowder[i]]\n",
    "    temp = []\n",
    "    \n",
    "    while True:\n",
    "        params_milkPowder['page'] = str(currentpage)\n",
    "        print(params_milkPowder['filter'])\n",
    "        if len(getItemNum(seed_milkPowder, params_milkPowder)) == 0:\n",
    "            break\n",
    "        print(params_milkPowder['page'])\n",
    "        temp.extend(getURL(seed_milkPowder, params_milkPowder, select='ul.baby-product-list a.baby-product-link'))\n",
    "        currentpage += 1\n",
    "        \n",
    "    result_milkPowder[monthList_milkPowder[i]] = temp"
   ]
  },
  {
   "cell_type": "code",
   "execution_count": 24,
   "metadata": {},
   "outputs": [
    {
     "name": "stdout",
     "output_type": "stream",
     "text": [
      "3개월 이하 540\n",
      "3개월 이상 7개월 이하 480\n",
      "7개월 이상 11개월 이하 60\n",
      "11개월 이상 23개월 이하 300\n",
      "23개월 이상 35개월 이하 60\n",
      "35개월 이상 60\n"
     ]
    }
   ],
   "source": [
    "for (k, v) in result_milkPowder.items():\n",
    "    print(k, len(v))"
   ]
  },
  {
   "cell_type": "code",
   "execution_count": 25,
   "metadata": {},
   "outputs": [],
   "source": [
    "milkPowderList = []"
   ]
  },
  {
   "cell_type": "code",
   "execution_count": 26,
   "metadata": {},
   "outputs": [],
   "source": [
    "def getInfo_milkPowder(url, monthInfo, num_retries=2):\n",
    "    html = requests.get(url, headers=headers)\n",
    "    \n",
    "    if 500<=html.status_code<600 and num_retries>0:\n",
    "        print(html.status_code, html.reason)\n",
    "        return getInfo(seed, params, num_retries-1)\n",
    "    \n",
    "    dom = BeautifulSoup(html.text, 'lxml')\n",
    "    if len(dom.select('div.oos-label')) == 0:\n",
    "        brand = dom.select('a.prod-brand-name')[0].get_text()\n",
    "        name = dom.select('h2.prod-buy-header__title')[0].get_text()\n",
    "        price = int(dom.select('span.total-price strong')[0].get_text().replace('\\n', '').replace('원', '').replace(',', ''))\n",
    "        url = html.url\n",
    "        img = 'http:' + dom.select('img.prod-image__detail')[0]['src']\n",
    "        milkPowderList.append(tuple([brand, name, price, url, img, monthInfo]))\n",
    "    \n",
    "    return None"
   ]
  },
  {
   "cell_type": "code",
   "execution_count": 30,
   "metadata": {},
   "outputs": [],
   "source": [
    "for i in range(6):\n",
    "    for url in result_milkPowder[monthList_milkPowder[i]]:\n",
    "        getInfo_milkPowder(url, monthList_milkPowder[i])"
   ]
  },
  {
   "cell_type": "code",
   "execution_count": 31,
   "metadata": {},
   "outputs": [
    {
     "data": {
      "text/plain": [
       "1487"
      ]
     },
     "execution_count": 31,
     "metadata": {},
     "output_type": "execute_result"
    }
   ],
   "source": [
    "len(milkPowderList)"
   ]
  },
  {
   "cell_type": "markdown",
   "metadata": {},
   "source": [
    "___"
   ]
  },
  {
   "cell_type": "code",
   "execution_count": null,
   "metadata": {},
   "outputs": [],
   "source": []
  }
 ],
 "metadata": {
  "kernelspec": {
   "display_name": "Python 3",
   "language": "python",
   "name": "python3"
  },
  "language_info": {
   "codemirror_mode": {
    "name": "ipython",
    "version": 3
   },
   "file_extension": ".py",
   "mimetype": "text/x-python",
   "name": "python",
   "nbconvert_exporter": "python",
   "pygments_lexer": "ipython3",
   "version": "3.6.5"
  }
 },
 "nbformat": 4,
 "nbformat_minor": 2
}
