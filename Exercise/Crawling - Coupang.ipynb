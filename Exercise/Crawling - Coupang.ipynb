{
 "cells": [
  {
   "cell_type": "markdown",
   "metadata": {},
   "source": [
    "# 과자"
   ]
  },
  {
   "cell_type": "markdown",
   "metadata": {},
   "source": [
    "columns\n",
    "1. 제품명\n",
    "2. 브랜드\n",
    "3. 가격(int)\n",
    "4. url\n",
    "5. img\n",
    "6. 연령대"
   ]
  },
  {
   "cell_type": "code",
   "execution_count": 107,
   "metadata": {},
   "outputs": [],
   "source": [
    "import requests\n",
    "import bs4\n",
    "from bs4 import BeautifulSoup"
   ]
  },
  {
   "cell_type": "code",
   "execution_count": 3,
   "metadata": {},
   "outputs": [],
   "source": [
    "headers = {\n",
    "    \"user-agent\":\"Mozilla/5.0 (Macintosh; Intel Mac OS X 10_13_4) AppleWebKit/537.36 (KHTML, like Gecko) Chrome/67.0.3396.99 Safari/537.36\",\n",
    "    \"accept-encoding\":\"false\"\n",
    "}"
   ]
  },
  {
   "cell_type": "code",
   "execution_count": 134,
   "metadata": {},
   "outputs": [],
   "source": [
    "month_filter = {\n",
    "    '3개월 이하': '221915%23attr_11932%2413989%40DEFAULT',\n",
    "    '3개월 이상 7개월 이하': '221915%23attr_11932%2413990%40DEFAULT',\n",
    "    '7개월 이상 11개월 이하': '221915%23attr_11932%2413991%40DEFAULT',\n",
    "    '11개월 이상 23개월 이하': '221915%23attr_11932%2413992%40DEFAULT',\n",
    "    '23개월 이상 35개월 이하': '221915%23attr_11932%2413993%40DEFAULT',\n",
    "    '35개월 이상': '221915%23attr_11932%2413994%40DEFAULT'\n",
    "}"
   ]
  },
  {
   "cell_type": "code",
   "execution_count": 65,
   "metadata": {},
   "outputs": [],
   "source": [
    "monthList = ['3개월 이하', '3개월 이상 7개월 이하', '7개월 이상 11개월 이하', '11개월 이상 23개월 이하', '23개월 이상 35개월 이하', '35개월 이상']"
   ]
  },
  {
   "cell_type": "code",
   "execution_count": 156,
   "metadata": {},
   "outputs": [],
   "source": [
    "params = {\n",
    "    \"listSize\": \"60\",\n",
    "    \"brand\": \"\",\n",
    "    \"offerCondition\": \"\",\n",
    "    \"filterType\": \"\",\n",
    "    \"isPriceRange\": \"false\",\n",
    "    \"minPrice\": \"\",\n",
    "    \"maxPrice\": \"\",\n",
    "    \"page\": \"\",\n",
    "    \"channel\": \"user\",\n",
    "    \"fromComponent\": \"N\",\n",
    "    \"selectedPlpKeepFilter\": \"\",\n",
    "    \"sorter\": \"bestAsc\",\n",
    "    \"filter\": \"\",\n",
    "    \"component\": \"221915\",\n",
    "    \"rating\": \"0\",\n",
    "}"
   ]
  },
  {
   "cell_type": "markdown",
   "metadata": {},
   "source": [
    "page, filter만 건드리면됨."
   ]
  },
  {
   "cell_type": "code",
   "execution_count": 146,
   "metadata": {},
   "outputs": [],
   "source": [
    "def getURL(seed, params=None, select='a', num_retries=2):\n",
    "    html = requests.get(seed, params=params, headers=headers)\n",
    "    \n",
    "    if 500<=html.status_code<600 and num_retries>0:\n",
    "        print(html.status_code, html.reason)\n",
    "        return getURL(seed, params, num_retries-1)\n",
    "    \n",
    "    dom = BeautifulSoup(html.text, 'lxml')\n",
    "    links = dom.select(select)\n",
    "    \n",
    "    return ['http://www.coupang.com' + link['href'] for link in links if link.has_attr('href')]"
   ]
  },
  {
   "cell_type": "code",
   "execution_count": 100,
   "metadata": {},
   "outputs": [],
   "source": [
    "def getItemNum(url, params, num_retries=2):\n",
    "    params_str = \"&\".join(\"%s=%s\" % (k,v) for k,v in params.items())\n",
    "    html = requests.get(url, params=params_str, headers=headers)\n",
    "    print(html.url)\n",
    "    \n",
    "    if 500<=html.status_code<600 and num_retries>0:\n",
    "        print(html.status_code, html.reason)\n",
    "        return getURL(seed, params, num_retries-1)\n",
    "    \n",
    "    dom = BeautifulSoup(html.text, 'lxml')\n",
    "    result = dom.select('em.newcx-product-total-count')\n",
    "    \n",
    "    return result"
   ]
  },
  {
   "cell_type": "code",
   "execution_count": 132,
   "metadata": {
    "scrolled": true
   },
   "outputs": [
    {
     "name": "stdout",
     "output_type": "stream",
     "text": [
      "http://www.coupang.com/np/categories/222015?listSize=60&brand=&offerCondition=&filterType=&isPriceRange=false&minPrice=&maxPrice=&page=1&channel=user&fromComponent=N&selectedPlpKeepFilter=&sorter=bestAsc&filter=221915%23attr_11932%2413989%40DEFAULT&component=221915&rating=0\n"
     ]
    }
   ],
   "source": [
    "temp = getItemNum(seed, params)[0]"
   ]
  },
  {
   "cell_type": "code",
   "execution_count": 133,
   "metadata": {},
   "outputs": [
    {
     "data": {
      "text/plain": [
       "1"
      ]
     },
     "execution_count": 133,
     "metadata": {},
     "output_type": "execute_result"
    }
   ],
   "source": [
    "len(temp)"
   ]
  },
  {
   "cell_type": "code",
   "execution_count": 48,
   "metadata": {},
   "outputs": [],
   "source": [
    "seed = 'http://www.coupang.com/np/categories/222015'"
   ]
  },
  {
   "cell_type": "code",
   "execution_count": 192,
   "metadata": {
    "scrolled": true
   },
   "outputs": [
    {
     "name": "stdout",
     "output_type": "stream",
     "text": [
      "221915%23attr_11932%2413989%40DEFAULT\n",
      "http://www.coupang.com/np/categories/222015?listSize=60&brand=&offerCondition=&filterType=&isPriceRange=false&minPrice=&maxPrice=&page=1&channel=user&fromComponent=N&selectedPlpKeepFilter=&sorter=bestAsc&filter=221915%23attr_11932%2413989%40DEFAULT&component=221915&rating=0\n",
      "1\n",
      "221915%23attr_11932%2413989%40DEFAULT\n",
      "http://www.coupang.com/np/categories/222015?listSize=60&brand=&offerCondition=&filterType=&isPriceRange=false&minPrice=&maxPrice=&page=2&channel=user&fromComponent=N&selectedPlpKeepFilter=&sorter=bestAsc&filter=221915%23attr_11932%2413989%40DEFAULT&component=221915&rating=0\n",
      "2\n",
      "221915%23attr_11932%2413989%40DEFAULT\n",
      "http://www.coupang.com/np/categories/222015?listSize=60&brand=&offerCondition=&filterType=&isPriceRange=false&minPrice=&maxPrice=&page=3&channel=user&fromComponent=N&selectedPlpKeepFilter=&sorter=bestAsc&filter=221915%23attr_11932%2413989%40DEFAULT&component=221915&rating=0\n",
      "3\n",
      "221915%23attr_11932%2413989%40DEFAULT\n",
      "http://www.coupang.com/np/categories/222015?listSize=60&brand=&offerCondition=&filterType=&isPriceRange=false&minPrice=&maxPrice=&page=4&channel=user&fromComponent=N&selectedPlpKeepFilter=&sorter=bestAsc&filter=221915%23attr_11932%2413989%40DEFAULT&component=221915&rating=0\n",
      "221915%23attr_11932%2413990%40DEFAULT\n",
      "http://www.coupang.com/np/categories/222015?listSize=60&brand=&offerCondition=&filterType=&isPriceRange=false&minPrice=&maxPrice=&page=1&channel=user&fromComponent=N&selectedPlpKeepFilter=&sorter=bestAsc&filter=221915%23attr_11932%2413990%40DEFAULT&component=221915&rating=0\n",
      "1\n",
      "221915%23attr_11932%2413990%40DEFAULT\n",
      "http://www.coupang.com/np/categories/222015?listSize=60&brand=&offerCondition=&filterType=&isPriceRange=false&minPrice=&maxPrice=&page=2&channel=user&fromComponent=N&selectedPlpKeepFilter=&sorter=bestAsc&filter=221915%23attr_11932%2413990%40DEFAULT&component=221915&rating=0\n",
      "2\n",
      "221915%23attr_11932%2413990%40DEFAULT\n",
      "http://www.coupang.com/np/categories/222015?listSize=60&brand=&offerCondition=&filterType=&isPriceRange=false&minPrice=&maxPrice=&page=3&channel=user&fromComponent=N&selectedPlpKeepFilter=&sorter=bestAsc&filter=221915%23attr_11932%2413990%40DEFAULT&component=221915&rating=0\n",
      "3\n",
      "221915%23attr_11932%2413990%40DEFAULT\n",
      "http://www.coupang.com/np/categories/222015?listSize=60&brand=&offerCondition=&filterType=&isPriceRange=false&minPrice=&maxPrice=&page=4&channel=user&fromComponent=N&selectedPlpKeepFilter=&sorter=bestAsc&filter=221915%23attr_11932%2413990%40DEFAULT&component=221915&rating=0\n",
      "4\n",
      "221915%23attr_11932%2413990%40DEFAULT\n",
      "http://www.coupang.com/np/categories/222015?listSize=60&brand=&offerCondition=&filterType=&isPriceRange=false&minPrice=&maxPrice=&page=5&channel=user&fromComponent=N&selectedPlpKeepFilter=&sorter=bestAsc&filter=221915%23attr_11932%2413990%40DEFAULT&component=221915&rating=0\n",
      "5\n",
      "221915%23attr_11932%2413990%40DEFAULT\n",
      "http://www.coupang.com/np/categories/222015?listSize=60&brand=&offerCondition=&filterType=&isPriceRange=false&minPrice=&maxPrice=&page=6&channel=user&fromComponent=N&selectedPlpKeepFilter=&sorter=bestAsc&filter=221915%23attr_11932%2413990%40DEFAULT&component=221915&rating=0\n",
      "6\n",
      "221915%23attr_11932%2413990%40DEFAULT\n",
      "http://www.coupang.com/np/categories/222015?listSize=60&brand=&offerCondition=&filterType=&isPriceRange=false&minPrice=&maxPrice=&page=7&channel=user&fromComponent=N&selectedPlpKeepFilter=&sorter=bestAsc&filter=221915%23attr_11932%2413990%40DEFAULT&component=221915&rating=0\n",
      "7\n",
      "221915%23attr_11932%2413990%40DEFAULT\n",
      "http://www.coupang.com/np/categories/222015?listSize=60&brand=&offerCondition=&filterType=&isPriceRange=false&minPrice=&maxPrice=&page=8&channel=user&fromComponent=N&selectedPlpKeepFilter=&sorter=bestAsc&filter=221915%23attr_11932%2413990%40DEFAULT&component=221915&rating=0\n",
      "221915%23attr_11932%2413991%40DEFAULT\n",
      "http://www.coupang.com/np/categories/222015?listSize=60&brand=&offerCondition=&filterType=&isPriceRange=false&minPrice=&maxPrice=&page=1&channel=user&fromComponent=N&selectedPlpKeepFilter=&sorter=bestAsc&filter=221915%23attr_11932%2413991%40DEFAULT&component=221915&rating=0\n",
      "1\n",
      "221915%23attr_11932%2413991%40DEFAULT\n",
      "http://www.coupang.com/np/categories/222015?listSize=60&brand=&offerCondition=&filterType=&isPriceRange=false&minPrice=&maxPrice=&page=2&channel=user&fromComponent=N&selectedPlpKeepFilter=&sorter=bestAsc&filter=221915%23attr_11932%2413991%40DEFAULT&component=221915&rating=0\n",
      "2\n",
      "221915%23attr_11932%2413991%40DEFAULT\n",
      "http://www.coupang.com/np/categories/222015?listSize=60&brand=&offerCondition=&filterType=&isPriceRange=false&minPrice=&maxPrice=&page=3&channel=user&fromComponent=N&selectedPlpKeepFilter=&sorter=bestAsc&filter=221915%23attr_11932%2413991%40DEFAULT&component=221915&rating=0\n",
      "3\n",
      "221915%23attr_11932%2413991%40DEFAULT\n",
      "http://www.coupang.com/np/categories/222015?listSize=60&brand=&offerCondition=&filterType=&isPriceRange=false&minPrice=&maxPrice=&page=4&channel=user&fromComponent=N&selectedPlpKeepFilter=&sorter=bestAsc&filter=221915%23attr_11932%2413991%40DEFAULT&component=221915&rating=0\n",
      "4\n",
      "221915%23attr_11932%2413991%40DEFAULT\n",
      "http://www.coupang.com/np/categories/222015?listSize=60&brand=&offerCondition=&filterType=&isPriceRange=false&minPrice=&maxPrice=&page=5&channel=user&fromComponent=N&selectedPlpKeepFilter=&sorter=bestAsc&filter=221915%23attr_11932%2413991%40DEFAULT&component=221915&rating=0\n",
      "5\n",
      "221915%23attr_11932%2413991%40DEFAULT\n",
      "http://www.coupang.com/np/categories/222015?listSize=60&brand=&offerCondition=&filterType=&isPriceRange=false&minPrice=&maxPrice=&page=6&channel=user&fromComponent=N&selectedPlpKeepFilter=&sorter=bestAsc&filter=221915%23attr_11932%2413991%40DEFAULT&component=221915&rating=0\n",
      "221915%23attr_11932%2413992%40DEFAULT\n",
      "http://www.coupang.com/np/categories/222015?listSize=60&brand=&offerCondition=&filterType=&isPriceRange=false&minPrice=&maxPrice=&page=1&channel=user&fromComponent=N&selectedPlpKeepFilter=&sorter=bestAsc&filter=221915%23attr_11932%2413992%40DEFAULT&component=221915&rating=0\n",
      "1\n",
      "221915%23attr_11932%2413992%40DEFAULT\n",
      "http://www.coupang.com/np/categories/222015?listSize=60&brand=&offerCondition=&filterType=&isPriceRange=false&minPrice=&maxPrice=&page=2&channel=user&fromComponent=N&selectedPlpKeepFilter=&sorter=bestAsc&filter=221915%23attr_11932%2413992%40DEFAULT&component=221915&rating=0\n",
      "2\n",
      "221915%23attr_11932%2413992%40DEFAULT\n",
      "http://www.coupang.com/np/categories/222015?listSize=60&brand=&offerCondition=&filterType=&isPriceRange=false&minPrice=&maxPrice=&page=3&channel=user&fromComponent=N&selectedPlpKeepFilter=&sorter=bestAsc&filter=221915%23attr_11932%2413992%40DEFAULT&component=221915&rating=0\n",
      "3\n",
      "221915%23attr_11932%2413992%40DEFAULT\n",
      "http://www.coupang.com/np/categories/222015?listSize=60&brand=&offerCondition=&filterType=&isPriceRange=false&minPrice=&maxPrice=&page=4&channel=user&fromComponent=N&selectedPlpKeepFilter=&sorter=bestAsc&filter=221915%23attr_11932%2413992%40DEFAULT&component=221915&rating=0\n",
      "221915%23attr_11932%2413993%40DEFAULT\n",
      "http://www.coupang.com/np/categories/222015?listSize=60&brand=&offerCondition=&filterType=&isPriceRange=false&minPrice=&maxPrice=&page=1&channel=user&fromComponent=N&selectedPlpKeepFilter=&sorter=bestAsc&filter=221915%23attr_11932%2413993%40DEFAULT&component=221915&rating=0\n",
      "1\n",
      "221915%23attr_11932%2413993%40DEFAULT\n",
      "http://www.coupang.com/np/categories/222015?listSize=60&brand=&offerCondition=&filterType=&isPriceRange=false&minPrice=&maxPrice=&page=2&channel=user&fromComponent=N&selectedPlpKeepFilter=&sorter=bestAsc&filter=221915%23attr_11932%2413993%40DEFAULT&component=221915&rating=0\n",
      "221915%23attr_11932%2413994%40DEFAULT\n",
      "http://www.coupang.com/np/categories/222015?listSize=60&brand=&offerCondition=&filterType=&isPriceRange=false&minPrice=&maxPrice=&page=1&channel=user&fromComponent=N&selectedPlpKeepFilter=&sorter=bestAsc&filter=221915%23attr_11932%2413994%40DEFAULT&component=221915&rating=0\n",
      "1\n",
      "221915%23attr_11932%2413994%40DEFAULT\n",
      "http://www.coupang.com/np/categories/222015?listSize=60&brand=&offerCondition=&filterType=&isPriceRange=false&minPrice=&maxPrice=&page=2&channel=user&fromComponent=N&selectedPlpKeepFilter=&sorter=bestAsc&filter=221915%23attr_11932%2413994%40DEFAULT&component=221915&rating=0\n"
     ]
    }
   ],
   "source": [
    "result = {\n",
    "    monthList[0]: None,\n",
    "    monthList[1]: None,\n",
    "    monthList[2]: None,\n",
    "    monthList[3]: None,\n",
    "    monthList[4]: None,\n",
    "    monthList[5]: None\n",
    "}\n",
    "\n",
    "for i in range(6):\n",
    "    currentpage = 1\n",
    "    params['filter'] = month_filter[monthList[i]]\n",
    "    temp = []\n",
    "    \n",
    "    while True:\n",
    "        params['page'] = str(currentpage)\n",
    "        print(params['filter'])\n",
    "        if len(getItemNum(seed, params)) == 0:\n",
    "            break\n",
    "        print(params['page'])\n",
    "        temp.extend(getURL(seed, params, select='ul.baby-product-list a.baby-product-link'))\n",
    "        currentpage += 1\n",
    "        \n",
    "    result[monthList[i]] = temp"
   ]
  },
  {
   "cell_type": "code",
   "execution_count": 194,
   "metadata": {
    "scrolled": false
   },
   "outputs": [
    {
     "name": "stdout",
     "output_type": "stream",
     "text": [
      "3개월 이하 180\n",
      "3개월 이상 7개월 이하 420\n",
      "7개월 이상 11개월 이하 300\n",
      "11개월 이상 23개월 이하 180\n",
      "23개월 이상 35개월 이하 60\n",
      "35개월 이상 60\n"
     ]
    }
   ],
   "source": [
    "for (k, v) in result.items():\n",
    "    print(k, len(v))"
   ]
  },
  {
   "cell_type": "code",
   "execution_count": 168,
   "metadata": {},
   "outputs": [
    {
     "name": "stdout",
     "output_type": "stream",
     "text": [
      "180\n"
     ]
    }
   ],
   "source": [
    "print(len(result))"
   ]
  }
 ],
 "metadata": {
  "kernelspec": {
   "display_name": "Python 3",
   "language": "python",
   "name": "python3"
  },
  "language_info": {
   "codemirror_mode": {
    "name": "ipython",
    "version": 3
   },
   "file_extension": ".py",
   "mimetype": "text/x-python",
   "name": "python",
   "nbconvert_exporter": "python",
   "pygments_lexer": "ipython3",
   "version": "3.6.5"
  }
 },
 "nbformat": 4,
 "nbformat_minor": 2
}
